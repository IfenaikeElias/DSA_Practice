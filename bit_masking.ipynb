{
 "cells": [
  {
   "cell_type": "markdown",
   "id": "3a947e47",
   "metadata": {},
   "source": [
    "### **Bit Masking**\n",
    "\n",
    "A bit mask is just an integer whose bits you use to “filter” or “control” specific bits of another integer.\n",
    "You combine them with bitwise operators like <<, >>, ~, &, |, ^"
   ]
  },
  {
   "cell_type": "markdown",
   "id": "cf57ad1c",
   "metadata": {},
   "source": [
    "say we have a binary number 11011 and we want to turn on the 3rd bit of the number (counting from right) and turn of the rest we can simply AND the bianry number with a bit mask 00100.\n",
    "\n",
    "and 11011 & 00100 = 00100, the third bit is on."
   ]
  },
  {
   "cell_type": "markdown",
   "id": "972b4ea5",
   "metadata": {},
   "source": [
    "We don't write masks like 00100 directly, because we might want to mask each number differently in different cases so we can create a bit mask by utikising bit shifting. to get the kth mask (from the right) we do 1 << k (for 0th based index form the right, like for 10001 the indexes are 4 ,3 ,2 ,1 , 0) and to mask the kth element (where k is index) we simply do 1 << k, so to mask the 2th element we do 1 << 2 = 100, to mask 0th element 1 << 0 = 1."
   ]
  },
  {
   "cell_type": "markdown",
   "id": "3d74cd17",
   "metadata": {},
   "source": [
    "1 << 2 = 100 = 4 = 2^2\n",
    "\n",
    "so 1 << N (1 left shift N) = 2^N"
   ]
  },
  {
   "cell_type": "code",
   "execution_count": 1,
   "id": "ea66e1d3",
   "metadata": {},
   "outputs": [
    {
     "name": "stdout",
     "output_type": "stream",
     "text": [
      "4\n"
     ]
    }
   ],
   "source": [
    "print(1 << 2)"
   ]
  },
  {
   "cell_type": "code",
   "execution_count": 4,
   "id": "0f999bc2",
   "metadata": {},
   "outputs": [
    {
     "name": "stdout",
     "output_type": "stream",
     "text": [
      "32\n"
     ]
    }
   ],
   "source": [
    "print(1 << 5)"
   ]
  },
  {
   "cell_type": "markdown",
   "id": "f6895fb5",
   "metadata": {},
   "source": [
    "How do we use bit masks and logic operators together?\n",
    "\n",
    "1. We use AND (&) to check if a bit is ON. for example say we have  a mask 01000 = 1 << 3, if we do mask & 11000 we are turning off all bit and turning on only the 3rd bit (indexed 0). so we should have 01000 has our result, this signifies that the third bit was 1 in the first place. If it was to be 0 (1 & 0 at third bit position will return 0) we would have 00000 meaning the third bit was off initially\n",
    "\n"
   ]
  },
  {
   "cell_type": "code",
   "execution_count": 14,
   "id": "22e794bb",
   "metadata": {},
   "outputs": [
    {
     "name": "stdout",
     "output_type": "stream",
     "text": [
      "3rd bit was ON\n"
     ]
    }
   ],
   "source": [
    "val = 13 & (1 << 3)\n",
    "\n",
    "if val:\n",
    "    print(\"3rd bit was ON\")\n",
    "else:\n",
    "    print(\"3rd bit was OFF\") "
   ]
  },
  {
   "cell_type": "markdown",
   "id": "d95d4275",
   "metadata": {},
   "source": [
    "2. OR (|) is used to turn a bit ON if it was OFF before, else it remains thesame."
   ]
  },
  {
   "cell_type": "code",
   "execution_count": 39,
   "id": "af86f448",
   "metadata": {},
   "outputs": [
    {
     "name": "stdout",
     "output_type": "stream",
     "text": [
      "11\n"
     ]
    }
   ],
   "source": [
    "x = 9        # 1001\n",
    "mask = 1 << 1  # 0010\n",
    "x = x | mask   # or x |= mask\n",
    "# result: 1011 == 11 (eleven) (now bit 1 is ON)\n",
    "print(x)"
   ]
  },
  {
   "cell_type": "markdown",
   "id": "6eb6c943",
   "metadata": {},
   "source": [
    "Be aware that OR would change the bit so you might be careful while using that."
   ]
  },
  {
   "cell_type": "markdown",
   "id": "b1164052",
   "metadata": {},
   "source": [
    "3. AND with NOT is used to turn off a bit.  "
   ]
  },
  {
   "cell_type": "code",
   "execution_count": 12,
   "id": "5478a7f5",
   "metadata": {},
   "outputs": [
    {
     "name": "stdout",
     "output_type": "stream",
     "text": [
      "9\n"
     ]
    }
   ],
   "source": [
    "x = 13        # 1101\n",
    "mask = 1 << 2  # 0100\n",
    "x = x & ~mask  # or x &= ~mask\n",
    "# result: 1001 = 9 (bit 2 cleared)\n",
    "print(x)"
   ]
  },
  {
   "cell_type": "markdown",
   "id": "1c5ee216",
   "metadata": {},
   "source": [
    "4. XOR is used to toggle a bit."
   ]
  },
  {
   "cell_type": "code",
   "execution_count": 13,
   "id": "72474129",
   "metadata": {},
   "outputs": [
    {
     "name": "stdout",
     "output_type": "stream",
     "text": [
      "9\n"
     ]
    }
   ],
   "source": [
    "x = 13       # 1101\n",
    "mask = 1 << 2  # 0100\n",
    "x = x ^ mask   # or x ^= mask\n",
    "# result: 1001 == 9 (bit 2 flipped)\n",
    "print(x)"
   ]
  },
  {
   "cell_type": "markdown",
   "id": "661330f8",
   "metadata": {},
   "source": [
    "#### **Finding all subsets with bit masking**\n",
    "\n",
    "given a set [1, 2, 3, 5]\n",
    "to find all 2^4 = 16 subset\n",
    "we can use masks from 0 to 16 \n",
    "then iterate over every index as masks. This tells us what to start start from and what we may consider in our selections (when the masks overlap)\n",
    "index mask 0000 means return []\n",
    "\n",
    "0001 [5]\n",
    "\n",
    "0010 [3]\n",
    "\n",
    "0011 [3, 5]\n",
    "\n",
    "0100 [2]\n",
    "\n",
    "0101 [2, 5]\n"
   ]
  },
  {
   "cell_type": "code",
   "execution_count": null,
   "id": "bfd1f00e",
   "metadata": {},
   "outputs": [
    {
     "data": {
      "text/plain": [
       "[[],\n",
       " [1],\n",
       " [2],\n",
       " [1, 2],\n",
       " [3],\n",
       " [1, 3],\n",
       " [2, 3],\n",
       " [1, 2, 3],\n",
       " [5],\n",
       " [1, 5],\n",
       " [2, 5],\n",
       " [1, 2, 5],\n",
       " [3, 5],\n",
       " [1, 3, 5],\n",
       " [2, 3, 5],\n",
       " [1, 2, 3, 5]]"
      ]
     },
     "execution_count": 17,
     "metadata": {},
     "output_type": "execute_result"
    }
   ],
   "source": [
    "def subset(arr):\n",
    "    n = len(arr)\n",
    "    res = []\n",
    "    for mask in range(1<<n): # goes over 2^n bits\n",
    "        subset = []\n",
    "        for j in range(n):\n",
    "            if mask & 1 << j: # check if the j-th bit is on\n",
    "                subset.append(arr[j])\n",
    "        res.append(subset)\n",
    "    return res\n",
    "\n",
    "subset([1, 2, 3, 5])"
   ]
  },
  {
   "cell_type": "markdown",
   "id": "2846d0f3",
   "metadata": {},
   "source": [
    "#### **Subset II**\n",
    "\n",
    "The given array contains duplicates"
   ]
  },
  {
   "cell_type": "code",
   "execution_count": 26,
   "id": "a74e5791",
   "metadata": {},
   "outputs": [
    {
     "data": {
      "text/plain": [
       "[[2, 2, 3],\n",
       " [1, 3],\n",
       " [1, 2],\n",
       " [2],\n",
       " [1, 2, 3],\n",
       " [1, 2, 2, 3],\n",
       " [2, 3],\n",
       " [1],\n",
       " [1, 2, 2],\n",
       " [2, 2],\n",
       " [],\n",
       " [3]]"
      ]
     },
     "execution_count": 26,
     "metadata": {},
     "output_type": "execute_result"
    }
   ],
   "source": [
    "def subsetII(arr):\n",
    "    n = len(arr)\n",
    "    res = set()\n",
    "\n",
    "    for mask in range(1<<n):\n",
    "        subset = []\n",
    "        for j in range(n):\n",
    "            if mask & (1 << j):\n",
    "                subset.append(arr[j])\n",
    "        res.add(tuple((subset)))\n",
    "    return [list(each) for each in res]\n",
    "\n",
    "\n",
    "\n",
    "subsetII([1, 2, 2, 3])"
   ]
  },
  {
   "cell_type": "code",
   "execution_count": 28,
   "id": "df5811d5",
   "metadata": {},
   "outputs": [
    {
     "data": {
      "text/plain": [
       "[[], [1], [2], [1, 2], [2, 2], [1, 2, 2]]"
      ]
     },
     "execution_count": 28,
     "metadata": {},
     "output_type": "execute_result"
    }
   ],
   "source": [
    "# without using set()\n",
    "\n",
    "def subsetII_no_set(nums):\n",
    "    nums.sort()\n",
    "    res = []\n",
    "\n",
    "    for mask in range(1 << len(nums)):\n",
    "        subset = []\n",
    "        for j in range(len(nums)):\n",
    "            if mask & (1 << j):\n",
    "                subset.append(nums[j])\n",
    "\n",
    "        # add subset if not already in results\n",
    "        if subset not in res:\n",
    "            res.append(subset)\n",
    "\n",
    "    return res\n",
    "\n",
    "subsetII_no_set([1, 2, 2])"
   ]
  },
  {
   "cell_type": "markdown",
   "id": "58d82072",
   "metadata": {},
   "source": [
    "#### **Subset_III** \n",
    "\n",
    "the result must not contain duplicates and every subset in the results must no also contain duplicates\n",
    "\n"
   ]
  },
  {
   "cell_type": "code",
   "execution_count": 29,
   "id": "2788316f",
   "metadata": {},
   "outputs": [
    {
     "data": {
      "text/plain": [
       "[[], [1], [2], [1, 2]]"
      ]
     },
     "execution_count": 29,
     "metadata": {},
     "output_type": "execute_result"
    }
   ],
   "source": [
    "def subsetII_no_set(nums):\n",
    "    nums.sort()\n",
    "    res = []\n",
    "\n",
    "    for mask in range(1 << len(nums)):\n",
    "        subset = []\n",
    "        for j in range(len(nums)):\n",
    "            if mask & (1 << j):\n",
    "                # only add if not already in subset\n",
    "                if nums[j] not in subset:\n",
    "                    subset.append(nums[j])\n",
    "\n",
    "        # add subset if not already in results\n",
    "        if subset not in res:\n",
    "            res.append(subset)\n",
    "\n",
    "    return res\n",
    "\n",
    "subsetII_no_set([1, 2, 2])"
   ]
  },
  {
   "cell_type": "markdown",
   "id": "b9520829",
   "metadata": {},
   "source": [
    "#### **Count unique subsets**"
   ]
  },
  {
   "cell_type": "code",
   "execution_count": null,
   "id": "b83ff06c",
   "metadata": {},
   "outputs": [
    {
     "data": {
      "text/plain": [
       "(6, {(), (1,), (1, 2), (1, 2, 2), (2,), (2, 2)})"
      ]
     },
     "execution_count": 32,
     "metadata": {},
     "output_type": "execute_result"
    }
   ],
   "source": [
    "def count_unique_subset(arr):\n",
    "    n = len(arr)\n",
    "    seen = set()\n",
    "    for mask in range(1<<n):\n",
    "        subset = []\n",
    "        for j in range(n):\n",
    "            if mask & (1 << j):\n",
    "                subset.append(arr[j])\n",
    "            \n",
    "        seen.add(tuple(sorted(subset)))\n",
    "    return len(seen)\n",
    "                     \n",
    "count_unique_subset([1, 2, 2])\n"
   ]
  },
  {
   "cell_type": "code",
   "execution_count": 33,
   "id": "dca8210f",
   "metadata": {},
   "outputs": [
    {
     "data": {
      "text/plain": [
       "6"
      ]
     },
     "execution_count": 33,
     "metadata": {},
     "output_type": "execute_result"
    }
   ],
   "source": [
    "# wuthout using set\n",
    "def count_unique_subset(arr):\n",
    "    n = len(arr)\n",
    "    seen = []\n",
    "    for mask in range(1<<n):\n",
    "        subset = []\n",
    "        for j in range(n):\n",
    "            if mask & (1 << j):\n",
    "                subset.append(arr[j])\n",
    "        \n",
    "        if subset not in seen:\n",
    "            seen.append(subset)\n",
    "    return len(seen)\n",
    "                     \n",
    "count_unique_subset([1, 2, 2])\n"
   ]
  },
  {
   "cell_type": "markdown",
   "id": "6634ba8d",
   "metadata": {},
   "source": [
    "#### **Count unique subset with unique elements**"
   ]
  },
  {
   "cell_type": "code",
   "execution_count": 37,
   "id": "a4a45473",
   "metadata": {},
   "outputs": [
    {
     "data": {
      "text/plain": [
       "4"
      ]
     },
     "execution_count": 37,
     "metadata": {},
     "output_type": "execute_result"
    }
   ],
   "source": [
    "def count_unique_subsetII(arr):\n",
    "    n = len(arr)\n",
    "    seen = []\n",
    "\n",
    "    for mask in range(1<<n):\n",
    "        subset = []\n",
    "        for j in range(n):\n",
    "            if mask & (1 << j):\n",
    "                if arr[j] not in subset:\n",
    "                    subset.append(arr[j])\n",
    "        \n",
    "        if subset not in seen:\n",
    "            seen.append(subset)\n",
    "    return len(seen)\n",
    "\n",
    "count_unique_subsetII([1, 2, 2])\n"
   ]
  },
  {
   "cell_type": "markdown",
   "id": "2ffca9a8",
   "metadata": {},
   "source": [
    "### **Building complex Flags with bits**\n",
    "\n",
    "Flags are just bits that each represent an independent true/false setting inside a single integer.\n",
    "\n",
    "For example, imagine you have a file system where each file can have:\n",
    "\n",
    "1st bit: readable\n",
    "\n",
    "2nd bit: writable\n",
    "\n",
    "3rd bit: executable\n",
    "\n",
    "That means a single number like 0b101 (which is 5) could represent a file that is readable and executable, but not writable.\n",
    "\n",
    "You can pack multiple boolean values into one integer instead of using multiple variables.\n",
    "It’s:\n",
    "\n",
    "1. space-efficient (uses bits instead of bytes),\n",
    "\n",
    "2. fast (bitwise operations are constant time),\n",
    "\n",
    "3. compact (useful for permissions, state tracking, etc.).\n",
    "\n",
    "\n",
    "Basically we can apply what we learnt earlier:\n",
    "set a flag: `flags = (1 << k)`\n",
    "\n",
    "clear a flag (turn bit k off) `flags &= ~(1 << k)`\n",
    "\n",
    "Toggle a flag (flip bit k) `flags ^= (1 << k)`\n",
    "\n",
    "Check a flag (is bit k on ?) `flags & (1 << k)`\n",
    "\n",
    "\n",
    "for example in a system:\n",
    "\n",
    "```python\n",
    "READ = 0   # bit 0\n",
    "WRITE = 1  # bit 1\n",
    "EXECUTE = 2 # bit 2\n",
    "```\n",
    "and we do: \n",
    "\n",
    "```python\n",
    "\n",
    "flags = 0\n",
    "flags |= (1 << READ)     # add read, it becomes 1 = 1\n",
    "flags |= (1 << EXECUTE)  # add execute, it becomes 1 | 4 == 001 | 100 = 101 = 5\n",
    "\n",
    "```\n",
    "Now flags is 0b101 (i.e., 5).\n",
    "\n",
    "```python\n",
    "\n",
    "bool(flags & (1 << WRITE))   # → False\n",
    "bool(flags & (1 << EXECUTE)) # → True\n",
    "\n",
    "\n",
    "```"
   ]
  },
  {
   "cell_type": "code",
   "execution_count": 40,
   "id": "09d64ea1",
   "metadata": {},
   "outputs": [
    {
     "name": "stdout",
     "output_type": "stream",
     "text": [
      "1 0b1\n",
      "5 0b101\n",
      "False\n",
      "True\n"
     ]
    }
   ],
   "source": [
    "\n",
    "READ = 0   # bit 0\n",
    "WRITE = 1  # bit 1\n",
    "EXECUTE = 2 # bit 2\n",
    "\n",
    "flags = 0\n",
    "flags |= (1 << READ)\n",
    "print(flags, bin(flags))     # add read, it becomes 1 = 1\n",
    "flags |= (1 << EXECUTE)\n",
    "print(flags, bin(flags))  # add execute, it becomes 1 | 4 == 001 | 100 = 101 = 5\n",
    "\n",
    "\n",
    "print(bool(flags & (1 << WRITE)))   # False\n",
    "print(bool(flags & (1 << EXECUTE))) # True\n",
    "\n",
    "\n"
   ]
  },
  {
   "cell_type": "code",
   "execution_count": null,
   "id": "58eab429",
   "metadata": {},
   "outputs": [],
   "source": []
  }
 ],
 "metadata": {
  "kernelspec": {
   "display_name": ".venv",
   "language": "python",
   "name": "python3"
  },
  "language_info": {
   "codemirror_mode": {
    "name": "ipython",
    "version": 3
   },
   "file_extension": ".py",
   "mimetype": "text/x-python",
   "name": "python",
   "nbconvert_exporter": "python",
   "pygments_lexer": "ipython3",
   "version": "3.13.3"
  }
 },
 "nbformat": 4,
 "nbformat_minor": 5
}
