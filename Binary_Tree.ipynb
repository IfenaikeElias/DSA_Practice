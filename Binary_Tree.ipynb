{
 "cells": [
  {
   "cell_type": "markdown",
   "id": "37183aeb",
   "metadata": {},
   "source": [
    "Trees are heirachical data structures, It consist of nodeds, a node can be a parent or child. The first at the top of the treeis the root of the tree and every node  (root, parent or child) may be connected to a maximimum of two nodes called it's childrens. A node that does not have children is called a leaf node. \n",
    "\n",
    "A subtree is the tree formed when a non root node is considered to be a root. The parent and parent of the parents of a node is called the ancestor of that node.\n",
    "\n",
    "\n",
    "**Types of Binary three**\n",
    "\n",
    "1. Full binary tree: This is one were every node will either have 0 or 2 children. \n",
    "\n",
    "2. Complete binary tree: Is one in which all levels are completely filled, maybe except the last level is not completely fill  but the incomplete parts should be on the left. \n",
    "\n",
    "3. Perfect binary tree: is one in which all the leaf node are on the same level. \n",
    "\n",
    "4. Balanced binary tree: is one where the height of a binary tree is log (No of nodes) base 2.\n",
    "\n",
    "5. A degenerate Tree: is a Linkedlist. Every node has a single child. \n",
    "\n",
    "6. Binary Search Tree: all Nodes on the left of a node is smaller and all nodes on the right of a node is bigger than it. To look up  a binary tree, that's is O(logn) (assuming the tree is height balanced) since we can eliminate halves (just like binary searchs) based on conditions."
   ]
  },
  {
   "cell_type": "markdown",
   "id": "f13dda36",
   "metadata": {},
   "source": [
    "**Transversing A Tree**\n",
    "\n",
    "**DFS based transversals** implemented using a stack or recursion\n",
    "1. PreOrder Transversal: Process a node, then left, then right. Basically lefts is/are done first before right.\n",
    "2. InOrder Transversal: Process Left , then Node, then right. \n",
    "3. PostOrder Transversal: Left, to right, to Node. \n",
    "\n",
    "**BFS based Transversals** implemented using a queue\n",
    "1. Level Order Transversal: Visit the tree, level by level.\n"
   ]
  },
  {
   "cell_type": "markdown",
   "id": "6fd982af",
   "metadata": {},
   "source": [
    "In order transversal are very important for Binary search tree, (draw it you'll see.)"
   ]
  },
  {
   "cell_type": "code",
   "execution_count": null,
   "id": "1899ac9c",
   "metadata": {},
   "outputs": [],
   "source": [
    "# binary tree Node rep class\n",
    "\n",
    "class TreeNode:\n",
    "    def __init__(self, val, left= None, right= None):\n",
    "        self.val = val\n",
    "        self.left = left\n",
    "        self.right = right\n",
    "\n",
    "    def __str__(self):\n",
    "        return str(self.val)"
   ]
  },
  {
   "cell_type": "markdown",
   "id": "56bc6224",
   "metadata": {},
   "source": [
    "#### **Recursive/DFS based transversal of a Tree**"
   ]
  },
  {
   "cell_type": "code",
   "execution_count": null,
   "id": "02c67fd5",
   "metadata": {},
   "outputs": [],
   "source": [
    "# recursive pre-order transversal (TC: O(N) and SC: O(N))\n",
    "\n",
    "# from node to left to right\n",
    "# res as a flat list\n",
    "def pre_order(node):\n",
    "    # if no left or right\n",
    "    elements = []\n",
    "    if not node:\n",
    "        return elements \n",
    "    elements.append(node.val)\n",
    "    elements += pre_order(node.left)\n",
    "    elements += pre_order(node.right)\n",
    "\n",
    "    return elements\n",
    "\n",
    "# res as a list of lists\n",
    "def pre_order_II(node):\n",
    "    if not node:\n",
    "        return []\n",
    "    return [node.val, pre_order_II(node.left), pre_order_II(node.right)]\n",
    "\n",
    "# In order transversal, left -> node -> right\n",
    "def In_order(node):\n",
    "    elements = []\n",
    "    if not node:\n",
    "        return elements\n",
    "    \n",
    "    elements += In_order(node.left)\n",
    "    elements.append(node.val)\n",
    "    elements += In_order(node.right)\n",
    "\n",
    "    return elements\n",
    "\n",
    "# as list of list\n",
    "def In_order_II(node):\n",
    "    if not node:\n",
    "        return []\n",
    "    return [In_order_II(node.left), node.val, In_order_II(node.right)]\n",
    "\n",
    "\n",
    "# Post Order transversal: left -> right -> node\n",
    "def Post_order(node):\n",
    "    elements = []\n",
    "    if not node:\n",
    "        return []\n",
    "    \n",
    "    elements += Post_order(node.left)\n",
    "    elements += Post_order(node.right)\n",
    "    elements.append(node.val)\n",
    "\n",
    "    return elements\n",
    "\n",
    "def Post_order_II(node):\n",
    "    if not node:\n",
    "        return []\n",
    "    return [Post_order_II(node.left), Post_order_II(node.right), node.val]    \n"
   ]
  },
  {
   "cell_type": "code",
   "execution_count": 7,
   "id": "a26824ee",
   "metadata": {},
   "outputs": [
    {
     "name": "stdout",
     "output_type": "stream",
     "text": [
      "Pre-order: [1, 2, 4, 5, 3]\n",
      "In-order: [4, 2, 5, 1, 3]\n",
      "Post-order: [4, 5, 2, 3, 1]\n"
     ]
    }
   ],
   "source": [
    "class Node:\n",
    "    def __init__(self, val, left=None, right=None):\n",
    "        self.val = val\n",
    "        self.left = left\n",
    "        self.right = right\n",
    "\n",
    "root = Node(1, Node(2, Node(4), Node(5)), Node(3))\n",
    "\n",
    "\"\"\"\n",
    "        1\n",
    "       / \\\n",
    "      2   3\n",
    "     / \\\n",
    "    4   5\n",
    "\n",
    "\"\"\"\n",
    "print(\"Pre-order:\", pre_order(root))       # [1, 2, 4, 5, 3]\n",
    "print(\"In-order:\", in_order(root))         # [4, 2, 5, 1, 3]\n",
    "print(\"Post-order:\", post_order(root))     # [4, 5, 2, 3, 1]\n",
    "\n"
   ]
  },
  {
   "cell_type": "markdown",
   "id": "24057e7a",
   "metadata": {},
   "source": [
    "#### **Iterative Approach**"
   ]
  },
  {
   "cell_type": "code",
   "execution_count": null,
   "id": "7c893835",
   "metadata": {},
   "outputs": [],
   "source": []
  }
 ],
 "metadata": {
  "kernelspec": {
   "display_name": ".venv",
   "language": "python",
   "name": "python3"
  },
  "language_info": {
   "codemirror_mode": {
    "name": "ipython",
    "version": 3
   },
   "file_extension": ".py",
   "mimetype": "text/x-python",
   "name": "python",
   "nbconvert_exporter": "python",
   "pygments_lexer": "ipython3",
   "version": "3.13.3"
  }
 },
 "nbformat": 4,
 "nbformat_minor": 5
}
