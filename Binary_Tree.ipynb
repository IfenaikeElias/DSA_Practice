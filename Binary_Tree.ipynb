{
 "cells": [
  {
   "cell_type": "markdown",
   "id": "37183aeb",
   "metadata": {},
   "source": [
    "Trees are heirachical data structures, It consist of nodeds, a node can be a parent or child. The first at the top of the treeis the root of the tree and every node  (root, parent or child) may be connected to a maximimum of two nodes called it's childrens. A node that does not have children is called a leaf node. \n",
    "\n",
    "A subtree is the tree formed when a non root node is considered to be a root. The parent and parent of the parents of a node is called the ancestor of that node.\n",
    "\n",
    "\n",
    "**Types of Binary three**\n",
    "\n",
    "1. Full binary tree: This is one were every node will either have 0 or 2 children. \n",
    "\n",
    "2. Complete binary tree: Is one in which all levels are completely filled, maybe except the last level is not completely fill  but the incomplete parts should be on the left. \n",
    "\n",
    "3. Perfect binary tree: is one in which all the leaf node are on the same level. \n",
    "\n",
    "4. Balanced binary tree: is one where the height of a binary tree is log (No of nodes) base 2.\n",
    "\n",
    "5. A degenerate Tree: is a Linkedlist. Every node has a single child. \n",
    "\n",
    "6. Binary Search Tree: all Nodes on the left of a node is smaller and all nodes on the right of a node is bigger than it. To look up  a binary tree, that's is O(logn) (assuming the tree is height balanced) since we can eliminate halves (just like binary searchs) based on conditions."
   ]
  },
  {
   "cell_type": "markdown",
   "id": "f13dda36",
   "metadata": {},
   "source": [
    "**Transversing A Tree**\n",
    "\n",
    "**DFS based transversals** implemented using a stack or recursion\n",
    "1. PreOrder Transversal: Process a node, then left, then right. Basically lefts is/are done first before right.\n",
    "2. InOrder Transversal: Process Left , then Node, then right. \n",
    "3. PostOrder Transversal: Left, to right, to Node. \n",
    "\n",
    "**BFS based Transversals** implemented using a queue\n",
    "1. Level Order Transversal: Visit the tree, level by level.\n"
   ]
  },
  {
   "cell_type": "markdown",
   "id": "6fd982af",
   "metadata": {},
   "source": [
    "In order transversal are very important for Binary search tree, (draw it you'll see.)"
   ]
  },
  {
   "cell_type": "code",
   "execution_count": null,
   "id": "1899ac9c",
   "metadata": {},
   "outputs": [],
   "source": [
    "# binary tree Node rep class\n",
    "\n",
    "class TreeNode:\n",
    "    def __init__(self, val, left= None, right= None):\n",
    "        self.val = val\n",
    "        self.left = left\n",
    "        self.right = right\n",
    "\n",
    "    def __str__(self):\n",
    "        return str(self.val)"
   ]
  },
  {
   "cell_type": "markdown",
   "id": "56bc6224",
   "metadata": {},
   "source": [
    "#### **Recursive/DFS based transversal of a Tree**"
   ]
  },
  {
   "cell_type": "code",
   "execution_count": null,
   "id": "02c67fd5",
   "metadata": {},
   "outputs": [],
   "source": [
    "# recursive pre-order transversal (TC: O(N) and SC: O(N))\n",
    "\n",
    "# from node -> left -> right\n",
    "# res as a flat list\n",
    "def pre_order(node):\n",
    "    # if no left or right\n",
    "    elements = []\n",
    "    if not node:\n",
    "        return elements \n",
    "    elements.append(node.val)\n",
    "    elements += pre_order(node.left)\n",
    "    elements += pre_order(node.right)\n",
    "\n",
    "    return elements\n",
    "\n",
    "# res as a list of lists\n",
    "def pre_order_II(node):\n",
    "    if not node:\n",
    "        return []\n",
    "    return [node.val, pre_order_II(node.left), pre_order_II(node.right)]\n",
    "\n",
    "# In order transversal, left -> node -> right\n",
    "def In_order(node):\n",
    "    elements = []\n",
    "    if not node:\n",
    "        return elements\n",
    "    \n",
    "    elements += In_order(node.left)\n",
    "    elements.append(node.val)\n",
    "    elements += In_order(node.right)\n",
    "\n",
    "    return elements\n",
    "\n",
    "# as list of list\n",
    "def In_order_II(node):\n",
    "    if not node:\n",
    "        return []\n",
    "    return [In_order_II(node.left), node.val, In_order_II(node.right)]\n",
    "\n",
    "\n",
    "# Post Order transversal: left -> right -> node\n",
    "def Post_order(node):\n",
    "    elements = []\n",
    "    if not node:\n",
    "        return []\n",
    "    \n",
    "    elements += Post_order(node.left)\n",
    "    elements += Post_order(node.right)\n",
    "    elements.append(node.val)\n",
    "\n",
    "    return elements\n",
    "\n",
    "def Post_order_II(node):\n",
    "    if not node:\n",
    "        return []\n",
    "    return [Post_order_II(node.left), Post_order_II(node.right), node.val]    \n"
   ]
  },
  {
   "cell_type": "code",
   "execution_count": null,
   "id": "a26824ee",
   "metadata": {},
   "outputs": [
    {
     "name": "stdout",
     "output_type": "stream",
     "text": [
      "Pre-order: [1, 2, 4, 5, 3]\n",
      "In-order: [4, 2, 5, 1, 3]\n",
      "Post-order: [4, 5, 2, 3, 1]\n"
     ]
    }
   ],
   "source": [
    "class Node:\n",
    "    def __init__(self, val, left=None, right=None):\n",
    "        self.val = val\n",
    "        self.left = left\n",
    "        self.right = right\n",
    "\n",
    "root = Node(1, Node(2, Node(4), Node(5)), Node(3))\n",
    "\n",
    "\"\"\"\n",
    "        1\n",
    "       / \\\n",
    "      2   3\n",
    "     / \\\n",
    "    4   5\n",
    "\n",
    "\n",
    "\"\"\"\n",
    "print(\"Pre-order:\", pre_order(root))       # [1, 2, 4, 5, 3]\n",
    "print(\"In-order:\", In_order(root))         # [4, 2, 5, 1, 3]\n",
    "print(\"Post-order:\", Post_order(root))     # [4, 5, 2, 3, 1]\n",
    "\n"
   ]
  },
  {
   "cell_type": "code",
   "execution_count": null,
   "id": "0a2ac169",
   "metadata": {},
   "outputs": [],
   "source": [
    "def transverTree(root):\n",
    "    elements = []\n",
    "    # left -> node -> right\n",
    "    def in_order(node):\n",
    "        if not node:\n",
    "            return []\n",
    "        in_order(node.left)\n",
    "        elements.append(node.val)\n",
    "        in_order(node.right)\n",
    "    \n",
    "    in_order(root)\n",
    "    return elements\n",
    "\n",
    "def transverseTree(root):\n",
    "    elements = []\n",
    "    # node -> left -> right\n",
    "    def pre_order(node):\n",
    "        if not node:\n",
    "            return []\n",
    "        elements.append(node.val)\n",
    "        pre_order(node.left)\n",
    "        pre_order(node.right)\n",
    "    \n",
    "    pre_order(root)\n",
    "    return elements\n",
    "\n"
   ]
  },
  {
   "cell_type": "markdown",
   "id": "24057e7a",
   "metadata": {},
   "source": [
    "#### **Iterative Approach**"
   ]
  },
  {
   "cell_type": "code",
   "execution_count": null,
   "id": "7c893835",
   "metadata": {},
   "outputs": [],
   "source": [
    "def pre_order_itr(root):\n",
    "\n",
    "    if not root:\n",
    "        return []\n",
    "    stack = [root]\n",
    "    res = []\n",
    "\n",
    "    while stack:\n",
    "        curr = stack.pop()\n",
    "        res.append(curr.val)\n",
    "        if curr.right:\n",
    "            stack.append(curr.right)\n",
    "        if curr.left:\n",
    "            stack.append(curr.left)\n",
    "    return res "
   ]
  },
  {
   "cell_type": "code",
   "execution_count": null,
   "id": "a8e452a4",
   "metadata": {},
   "outputs": [],
   "source": [
    "def pre_order_itr(root):\n",
    "    if not root:\n",
    "        return []\n",
    "    \n",
    "    stack = [root]\n",
    "    res = []\n",
    "    while stack:\n",
    "        curr = stack.pop()\n",
    "        res.append(curr.val)\n",
    "        if curr.right:\n",
    "            stack.append(curr.right)\n",
    "        if curr.left:\n",
    "            stack.append(curr.left)\n",
    "    return res"
   ]
  },
  {
   "cell_type": "code",
   "execution_count": null,
   "id": "50084e0f",
   "metadata": {},
   "outputs": [],
   "source": [
    "def In_order_itr(root): # left -> node -> right\n",
    "    if not root:\n",
    "        return []\n",
    "    \n",
    "    res = []\n",
    "    stack = []\n",
    "    curr = root\n",
    "    \n",
    "    while curr or stack:\n",
    "        if curr:\n",
    "            stack.append(curr)\n",
    "            curr = curr.left\n",
    "        else:\n",
    "            curr = stack.pop()\n",
    "            res.append(curr.val)\n",
    "            curr = curr.right\n",
    "    return res"
   ]
  },
  {
   "cell_type": "code",
   "execution_count": null,
   "id": "cdcb55ac",
   "metadata": {},
   "outputs": [],
   "source": [
    "def itr_pre_order(root):\n",
    "\n",
    "    if not root:\n",
    "        return []\n",
    "    stack = [root]\n",
    "    res = []\n",
    "    \n",
    "    while stack:\n",
    "        \n",
    "        curr = stack.pop()\n",
    "        res.append(curr.val)\n",
    "        if curr.right:\n",
    "            stack.append(curr.right)\n",
    "        if curr.left:\n",
    "            stack.append(curr.left)\n",
    "\n",
    "    return res"
   ]
  },
  {
   "cell_type": "code",
   "execution_count": null,
   "id": "9f4e28ea",
   "metadata": {},
   "outputs": [],
   "source": [
    "\"\"\"\n",
    "         1\n",
    "       /   \\\n",
    "      2     6\n",
    "    /   \\   | \\    expected res = [4, 3, 8, 5, 2, 7, 6, 1]\n",
    "   3     5 null 7\n",
    "  /  \\   /      |\n",
    " 4  null 8     null\n",
    " |       |\n",
    " null   null \n",
    "          \n",
    "res = [4, 3, 8, 5, 2, 7, 6, 1]\n",
    "stack =  []\n",
    "parent = 1\n",
    "curr = 1\n",
    "lastSeen = 1\n",
    "\"\"\"\n",
    "def IterPostOrder(root):\n",
    "    if not root:\n",
    "        return None\n",
    "    res = []\n",
    "    stack = []\n",
    "    lastSeen = None # prev node but we'll se it inmpact when it's a parent node with complete children\n",
    "    curr = root\n",
    "    while curr or stack:\n",
    "        if curr:\n",
    "            stack.append(curr)\n",
    "            curr = curr.left\n",
    "        else:       \n",
    "            parent = stack[-1]\n",
    "            if parent.right and parent.right != lastSeen:\n",
    "                curr =  parent.right\n",
    "            else:\n",
    "                res.append(parent.val)\n",
    "                lastSeen =  stack.pop()\n",
    "    return res \n"
   ]
  },
  {
   "cell_type": "markdown",
   "id": "b586d6d7",
   "metadata": {},
   "source": [
    "#### **Level order transversal**"
   ]
  },
  {
   "cell_type": "code",
   "execution_count": null,
   "id": "1122334f",
   "metadata": {},
   "outputs": [],
   "source": [
    "from collections import deque\n",
    "def levelOrderTransversal(root):\n",
    "    res = []\n",
    "\n",
    "    if not root:\n",
    "        return res\n",
    "    queue = deque([root])\n",
    "\n",
    "    while queue:\n",
    "        qlen = len(queue)\n",
    "        level = []\n",
    "\n",
    "        for _ in range(qlen):\n",
    "            node = queue.popleft()\n",
    "            level.append(node.val)\n",
    "            if node.left:\n",
    "                queue.append(node.left)\n",
    "            if node.right:\n",
    "                queue.append(node.right)\n",
    "                \n",
    "        res.append(level)\n",
    "    return res"
   ]
  },
  {
   "cell_type": "markdown",
   "id": "a0c4bca9",
   "metadata": {},
   "source": [
    "#### **Vertical order transversal**"
   ]
  },
  {
   "cell_type": "code",
   "execution_count": null,
   "id": "dab67cdb",
   "metadata": {},
   "outputs": [],
   "source": []
  },
  {
   "cell_type": "markdown",
   "id": "b0d5fccc",
   "metadata": {},
   "source": [
    "#### **Vertical order transversal II**"
   ]
  },
  {
   "cell_type": "code",
   "execution_count": null,
   "id": "e23bac96",
   "metadata": {},
   "outputs": [],
   "source": []
  },
  {
   "cell_type": "markdown",
   "id": "7579c45c",
   "metadata": {},
   "source": [
    "#### **Validate binary search tree**"
   ]
  },
  {
   "cell_type": "code",
   "execution_count": null,
   "id": "213cb328",
   "metadata": {},
   "outputs": [],
   "source": [
    "\"\"\"    root\n",
    "         8 \n",
    "       /   \\\n",
    "      7     9\n",
    "    /    \\       \n",
    "   5      10  \n",
    "  /  \\   /  \\ \n",
    " 4    6 3    11\n",
    " \n",
    "\n",
    "\"\"\"\n",
    "def isValidBST(root):\n",
    "    def isValidNode(node, left, right):\n",
    "        if not node:\n",
    "            return True\n",
    "        if not (left < node.val and right > node.val):\n",
    "            return False\n",
    "        return isValidNode(node.left, left, node.val) and isValidNode(node.right, node.val, node.right)"
   ]
  },
  {
   "cell_type": "markdown",
   "id": "d3098d88",
   "metadata": {},
   "source": [
    "#### **Binary Tree right side view**"
   ]
  },
  {
   "cell_type": "code",
   "execution_count": null,
   "id": "cccb02e5",
   "metadata": {},
   "outputs": [],
   "source": [
    "from collections import deque\n",
    "def BinaryTreeRightSideView(root):\n",
    "    if not root:\n",
    "        return []\n",
    "    # perform bfs\n",
    "    queue = deque([root])\n",
    "    res = []\n",
    "    while queue:\n",
    "        qlen = len(queue)\n",
    "        for i in range(qlen):\n",
    "            node = queue.popleft()\n",
    "            if node.left:\n",
    "                queue.append(node.left)\n",
    "            if node.right:\n",
    "                queue.append(node.right)\n",
    "            if i == qlen - 1:\n",
    "                res.append(node.val)\n",
    "    return res"
   ]
  },
  {
   "cell_type": "markdown",
   "id": "00c3f1c3",
   "metadata": {},
   "source": [
    "#### **Path sum II**\n",
    "\n",
    "return every paths with a sum k"
   ]
  },
  {
   "cell_type": "code",
   "execution_count": null,
   "id": "7af38fa1",
   "metadata": {},
   "outputs": [],
   "source": [
    "def PathSumII(root, k):\n",
    "    res = []\n",
    "    if not root:\n",
    "        return res\n",
    "    \n",
    "    def dfs(node, curr_sum, path):\n",
    "        if not node:\n",
    "            return \n",
    "        \n",
    "        curr_sum += node.val\n",
    "        path.append(node.val)\n",
    "\n",
    "        if not (node.left) and not (node.right) and curr_sum == k:\n",
    "            res.append(path.copy())\n",
    "\n",
    "        dfs(node.left, curr_sum, path)\n",
    "        dfs(node.right, curr_sum, path)\n",
    "\n",
    "        path.pop()\n",
    "\n",
    "    dfs(root, 0, [])\n",
    "\n",
    "    return res\n",
    "\n",
    "\n",
    "def PathSumII(root, k):\n",
    "    res = []\n",
    "    if not root:\n",
    "        return res\n",
    "    \n",
    "    def dfs(node, curr_sum, path):\n",
    "        if not node:\n",
    "            return \n",
    "        \n",
    "        curr_sum += node.val\n",
    "        path.append(node.val)\n",
    "\n",
    "        if not (node.left) and not (node.right) and curr_sum == k:\n",
    "            res.append(path.copy())\n",
    "        \n",
    "        dfs(node.left, curr_sum, path)\n",
    "        dfs(node.right, curr_sum, path)\n",
    "\n",
    "        path.pop()\n",
    "    dfs(root, 0, [])\n",
    "\n",
    "    return res\n",
    "\n",
    "        \n"
   ]
  },
  {
   "cell_type": "markdown",
   "id": "6c29be56",
   "metadata": {},
   "source": [
    "#### **Height of a binary Tree**"
   ]
  },
  {
   "cell_type": "code",
   "execution_count": null,
   "id": "8512eca4",
   "metadata": {},
   "outputs": [],
   "source": [
    "def Height(root):\n",
    "    if not root:\n",
    "        return 0\n",
    "    return "
   ]
  },
  {
   "cell_type": "markdown",
   "id": "a69244d2",
   "metadata": {},
   "source": [
    "#### **Max depth of a binary Tree**"
   ]
  },
  {
   "cell_type": "code",
   "execution_count": null,
   "id": "e63a584a",
   "metadata": {},
   "outputs": [],
   "source": []
  },
  {
   "cell_type": "markdown",
   "id": "e851a52f",
   "metadata": {},
   "source": [
    "#### **Diameter of a Binary Tree**"
   ]
  },
  {
   "cell_type": "code",
   "execution_count": null,
   "id": "3918f70d",
   "metadata": {},
   "outputs": [],
   "source": []
  },
  {
   "cell_type": "markdown",
   "id": "36aa49f6",
   "metadata": {},
   "source": [
    "#### **Least Common ancestors**"
   ]
  },
  {
   "cell_type": "code",
   "execution_count": null,
   "id": "dcbde508",
   "metadata": {},
   "outputs": [],
   "source": []
  },
  {
   "cell_type": "markdown",
   "id": "8b4c72a8",
   "metadata": {},
   "source": [
    "#### **Diameter of a Binary tree**"
   ]
  },
  {
   "cell_type": "code",
   "execution_count": null,
   "id": "e12addd5",
   "metadata": {},
   "outputs": [],
   "source": []
  },
  {
   "cell_type": "markdown",
   "id": "c248f789",
   "metadata": {},
   "source": [
    "#### **Check if two trees are identical or not**"
   ]
  },
  {
   "cell_type": "code",
   "execution_count": null,
   "id": "5b0683d8",
   "metadata": {},
   "outputs": [],
   "source": []
  },
  {
   "cell_type": "markdown",
   "id": "c305b9a0",
   "metadata": {},
   "source": [
    "#### **Top Veiw of a binary Tree**"
   ]
  },
  {
   "cell_type": "code",
   "execution_count": null,
   "id": "5d426a1a",
   "metadata": {},
   "outputs": [],
   "source": []
  },
  {
   "cell_type": "markdown",
   "id": "1a7bc6a3",
   "metadata": {},
   "source": [
    "#### **Bottom view of a binary Tree**"
   ]
  },
  {
   "cell_type": "code",
   "execution_count": null,
   "id": "00ca9cc6",
   "metadata": {},
   "outputs": [],
   "source": []
  },
  {
   "cell_type": "markdown",
   "id": "7ee1094a",
   "metadata": {},
   "source": [
    "#### **Check for symmetrical Binary Trees**"
   ]
  },
  {
   "cell_type": "code",
   "execution_count": null,
   "id": "eb8e73e5",
   "metadata": {},
   "outputs": [],
   "source": []
  },
  {
   "cell_type": "markdown",
   "id": "0a540481",
   "metadata": {},
   "source": [
    "#### **Maximum width of a binary tree**"
   ]
  },
  {
   "cell_type": "code",
   "execution_count": null,
   "id": "cdae2437",
   "metadata": {},
   "outputs": [],
   "source": []
  },
  {
   "cell_type": "markdown",
   "id": "93b7dc25",
   "metadata": {},
   "source": [
    "#### **Serialize and Deserialize a binary Tree**"
   ]
  },
  {
   "cell_type": "code",
   "execution_count": null,
   "id": "871db00c",
   "metadata": {},
   "outputs": [],
   "source": []
  },
  {
   "cell_type": "markdown",
   "id": "a739be0e",
   "metadata": {},
   "source": [
    "#### **Morris Transversal**"
   ]
  },
  {
   "cell_type": "code",
   "execution_count": null,
   "id": "6c9966b3",
   "metadata": {},
   "outputs": [],
   "source": []
  },
  {
   "cell_type": "markdown",
   "id": "c787d58d",
   "metadata": {},
   "source": [
    "#### **Flatten a BInary Tree to a linkedlist**"
   ]
  },
  {
   "cell_type": "code",
   "execution_count": null,
   "id": "ac045c42",
   "metadata": {},
   "outputs": [],
   "source": []
  },
  {
   "cell_type": "markdown",
   "id": "ba4919d2",
   "metadata": {},
   "source": [
    "#### **Search in a binary search tree**"
   ]
  },
  {
   "cell_type": "code",
   "execution_count": null,
   "id": "4e4f8a96",
   "metadata": {},
   "outputs": [],
   "source": []
  },
  {
   "cell_type": "markdown",
   "id": "bd10b658",
   "metadata": {},
   "source": [
    "#### **FLoor and Ceil in a Binary search tree**"
   ]
  },
  {
   "cell_type": "code",
   "execution_count": null,
   "id": "0be409eb",
   "metadata": {},
   "outputs": [],
   "source": []
  },
  {
   "cell_type": "markdown",
   "id": "2562a9e8",
   "metadata": {},
   "source": [
    "##### **Insert and Delete Node in a Binary Search Tree**"
   ]
  },
  {
   "cell_type": "code",
   "execution_count": null,
   "id": "961646b9",
   "metadata": {},
   "outputs": [],
   "source": []
  },
  {
   "cell_type": "markdown",
   "id": "5cde5c11",
   "metadata": {},
   "source": [
    "#### **Kth Smallest/largest Element in a BST**"
   ]
  },
  {
   "cell_type": "code",
   "execution_count": null,
   "id": "567b5908",
   "metadata": {},
   "outputs": [],
   "source": []
  },
  {
   "cell_type": "markdown",
   "id": "e6b1d4c1",
   "metadata": {},
   "source": [
    "#### **Lowest Common Ancestor of a BST**"
   ]
  },
  {
   "cell_type": "code",
   "execution_count": null,
   "id": "0cea8556",
   "metadata": {},
   "outputs": [],
   "source": []
  },
  {
   "cell_type": "markdown",
   "id": "65555fcc",
   "metadata": {},
   "source": [
    "#### **InOrder and preOrder successor in BST**"
   ]
  },
  {
   "cell_type": "code",
   "execution_count": null,
   "id": "2c47caf4",
   "metadata": {},
   "outputs": [],
   "source": []
  },
  {
   "cell_type": "markdown",
   "id": "111ed495",
   "metadata": {},
   "source": [
    "#### **BST Iterator**"
   ]
  },
  {
   "cell_type": "code",
   "execution_count": null,
   "id": "c8de3d3b",
   "metadata": {},
   "outputs": [],
   "source": []
  },
  {
   "cell_type": "markdown",
   "id": "894e3f41",
   "metadata": {},
   "source": [
    "#### **Two sum in BST**"
   ]
  },
  {
   "cell_type": "code",
   "execution_count": null,
   "id": "c3fd49a8",
   "metadata": {},
   "outputs": [],
   "source": []
  },
  {
   "cell_type": "markdown",
   "id": "a31496e8",
   "metadata": {},
   "source": [
    "#### **Recover BST** "
   ]
  },
  {
   "cell_type": "code",
   "execution_count": null,
   "id": "55aa0cfb",
   "metadata": {},
   "outputs": [],
   "source": []
  },
  {
   "cell_type": "markdown",
   "id": "58a9f531",
   "metadata": {},
   "source": [
    "#### **Largest BST in Binary Tree**"
   ]
  },
  {
   "cell_type": "code",
   "execution_count": null,
   "id": "cc0fac24",
   "metadata": {},
   "outputs": [],
   "source": []
  }
 ],
 "metadata": {
  "kernelspec": {
   "display_name": ".venv",
   "language": "python",
   "name": "python3"
  },
  "language_info": {
   "codemirror_mode": {
    "name": "ipython",
    "version": 3
   },
   "file_extension": ".py",
   "mimetype": "text/x-python",
   "name": "python",
   "nbconvert_exporter": "python",
   "pygments_lexer": "ipython3",
   "version": "3.13.3"
  }
 },
 "nbformat": 4,
 "nbformat_minor": 5
}
