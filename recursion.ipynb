{
 "cells": [
  {
   "cell_type": "markdown",
   "id": "e423a584",
   "metadata": {},
   "source": [
    "#### **Print name using recursion N times**"
   ]
  },
  {
   "cell_type": "code",
   "execution_count": 7,
   "id": "3d378a36",
   "metadata": {},
   "outputs": [
    {
     "name": "stdout",
     "output_type": "stream",
     "text": [
      "Elias_1\n",
      "Elias_2\n",
      "Elias_3\n",
      "Elias_4\n",
      "Elias_5\n"
     ]
    }
   ],
   "source": [
    "def print_name(i, n):\n",
    "    if i > n:\n",
    "        return\n",
    "    print(f\"Elias_{i}\")\n",
    "    print_name(i + 1, n)\n",
    "\n",
    "print_name(1, 5) "
   ]
  },
  {
   "cell_type": "code",
   "execution_count": null,
   "id": "bca1ce94",
   "metadata": {},
   "outputs": [
    {
     "name": "stdout",
     "output_type": "stream",
     "text": [
      "Elias_5\n",
      "Elias_4\n",
      "Elias_3\n",
      "Elias_2\n",
      "Elias_1\n"
     ]
    }
   ],
   "source": [
    "# this is to demontrate that the computer uses a call stack for tracking function calls and completions and it uses a LIFO order for excecutions. \n",
    "# this is a very useful concept in backtracking and recursion.\n",
    "\n",
    "def print_name(i, n):\n",
    "    if i > n:\n",
    "        return\n",
    "    print_name(i + 1, n)\n",
    "    print(f\"Elias_{i}\")\n",
    "\n",
    "\n",
    "print_name(1, 5) "
   ]
  },
  {
   "cell_type": "markdown",
   "id": "98f1819f",
   "metadata": {},
   "source": [
    "#### **Print 1 - N**"
   ]
  },
  {
   "cell_type": "code",
   "execution_count": 13,
   "id": "7c78684d",
   "metadata": {},
   "outputs": [
    {
     "name": "stdout",
     "output_type": "stream",
     "text": [
      "1\n",
      "2\n",
      "3\n",
      "4\n",
      "5\n"
     ]
    }
   ],
   "source": [
    "def print1_N(i, n):\n",
    "    if i > n:\n",
    "        return \n",
    "    print(i)\n",
    "    print1_N(i + 1, n)\n",
    "\n",
    "print1_N(1, 5)\n"
   ]
  },
  {
   "cell_type": "markdown",
   "id": "656cefe2",
   "metadata": {},
   "source": [
    "#### **Print N - 1**"
   ]
  },
  {
   "cell_type": "code",
   "execution_count": 15,
   "id": "fdfd0a53",
   "metadata": {},
   "outputs": [
    {
     "name": "stdout",
     "output_type": "stream",
     "text": [
      "5\n",
      "4\n",
      "3\n",
      "2\n",
      "1\n"
     ]
    }
   ],
   "source": [
    "def printN_1(i, n):\n",
    "    if i > n:\n",
    "        return \n",
    "    printN_1(i + 1, n)\n",
    "    print(i)\n",
    "\n",
    "printN_1(1, 5)"
   ]
  },
  {
   "cell_type": "code",
   "execution_count": 16,
   "id": "3b78bf30",
   "metadata": {},
   "outputs": [
    {
     "name": "stdout",
     "output_type": "stream",
     "text": [
      "5\n",
      "4\n",
      "3\n",
      "2\n",
      "1\n"
     ]
    }
   ],
   "source": [
    "def printN_1(i, n):\n",
    "    if i < 1:\n",
    "        return\n",
    "    print(i)\n",
    "    printN_1(i - 1, n)\n",
    "\n",
    "printN_1(5, 5)"
   ]
  },
  {
   "cell_type": "markdown",
   "id": "6c4959c4",
   "metadata": {},
   "source": [
    "### **Parameterized recursion and function-based recursion**\n",
    "\n"
   ]
  },
  {
   "cell_type": "markdown",
   "id": "05d4a53d",
   "metadata": {},
   "source": [
    "#### **Summation from 1 to n**"
   ]
  },
  {
   "cell_type": "code",
   "execution_count": 22,
   "id": "b575c48b",
   "metadata": {},
   "outputs": [
    {
     "name": "stdout",
     "output_type": "stream",
     "text": [
      "15\n"
     ]
    }
   ],
   "source": [
    "# parameter based approach\n",
    "def sum_1_N(i, sum_):\n",
    "    if i < 1:\n",
    "        print(sum_)\n",
    "        return\n",
    "    sum_1_N(i-1, sum_ + i)\n",
    "sum_1_N(5, 0)"
   ]
  },
  {
   "cell_type": "code",
   "execution_count": 23,
   "id": "40c9745e",
   "metadata": {},
   "outputs": [
    {
     "data": {
      "text/plain": [
       "15"
      ]
     },
     "execution_count": 23,
     "metadata": {},
     "output_type": "execute_result"
    }
   ],
   "source": [
    "# function based approach\n",
    "\n",
    "def sum_to_N(n):\n",
    "    if n == 0:\n",
    "        return 0\n",
    "    return n + sum_to_N(n - 1)\n",
    "\n",
    "sum_to_N(5)"
   ]
  },
  {
   "cell_type": "markdown",
   "id": "32fa7f01",
   "metadata": {},
   "source": [
    "#### **Factorial of N**"
   ]
  },
  {
   "cell_type": "code",
   "execution_count": 2,
   "id": "9f24a76c",
   "metadata": {},
   "outputs": [
    {
     "name": "stdout",
     "output_type": "stream",
     "text": [
      "120\n"
     ]
    }
   ],
   "source": [
    "# parameter based approach\n",
    "\n",
    "def factorial(i, res):\n",
    "    if i < 1:\n",
    "        print(res)\n",
    "        return\n",
    "    if i == 0:\n",
    "        return 1\n",
    "    factorial(i - 1, res * i)\n",
    "\n",
    "factorial(5, 1)\n"
   ]
  },
  {
   "cell_type": "code",
   "execution_count": null,
   "id": "77d7aa1c",
   "metadata": {},
   "outputs": [
    {
     "data": {
      "text/plain": [
       "120"
      ]
     },
     "execution_count": 25,
     "metadata": {},
     "output_type": "execute_result"
    }
   ],
   "source": [
    "# function based approach\n",
    "\n",
    "def factorial(n):\n",
    "    if n == 0:\n",
    "        return 1\n",
    "    return n * factorial(n - 1)\n",
    "\n",
    "factorial(5)"
   ]
  },
  {
   "cell_type": "markdown",
   "id": "05e7fd5e",
   "metadata": {},
   "source": [
    "### **checking palidrome recursively**"
   ]
  },
  {
   "cell_type": "code",
   "execution_count": 3,
   "id": "66afe5b7",
   "metadata": {},
   "outputs": [
    {
     "data": {
      "text/plain": [
       "False"
      ]
     },
     "execution_count": 3,
     "metadata": {},
     "output_type": "execute_result"
    }
   ],
   "source": [
    "def is_pali(s):\n",
    "    n = len(s)\n",
    "    def checker(i):\n",
    "        if i == n//2:\n",
    "            return True\n",
    "        if s[i] != s[n - 1 - i]:\n",
    "            return False\n",
    "        return checker(i+1)\n",
    "    return checker(0)\n",
    "\n",
    "is_pali(\"car\")"
   ]
  },
  {
   "cell_type": "markdown",
   "id": "c7901fc2",
   "metadata": {},
   "source": [
    "#### **Fibonacci number**"
   ]
  },
  {
   "cell_type": "code",
   "execution_count": 5,
   "id": "863a53b5",
   "metadata": {},
   "outputs": [
    {
     "data": {
      "text/plain": [
       "3"
      ]
     },
     "execution_count": 5,
     "metadata": {},
     "output_type": "execute_result"
    }
   ],
   "source": [
    "def fib(n):\n",
    "    if n <= 1:\n",
    "        return n\n",
    "    return fib(n - 1) + fib(n - 2)\n",
    "\n",
    "fib(4) # TC is 2**n because every recursion call is call * 2 function so n recursive call is (2 * 2 * 2 * ... * 2) n times."
   ]
  },
  {
   "cell_type": "code",
   "execution_count": null,
   "id": "3755a118",
   "metadata": {},
   "outputs": [
    {
     "data": {
      "text/plain": [
       "8"
      ]
     },
     "execution_count": 4,
     "metadata": {},
     "output_type": "execute_result"
    }
   ],
   "source": [
    "# iterative approach\n",
    "\n",
    "def fib(n):\n",
    "    curr, next_num = 0, 1\n",
    "    for _ in range(1, n):\n",
    "        next_num, curr = next_num + curr, next_num\n",
    "    return next_num\n"
   ]
  },
  {
   "cell_type": "markdown",
   "id": "c89a13d1",
   "metadata": {},
   "source": [
    "#### **Fibonacci Sum**\n",
    "\n"
   ]
  },
  {
   "cell_type": "code",
   "execution_count": 1,
   "id": "0e883d7e",
   "metadata": {},
   "outputs": [
    {
     "data": {
      "text/plain": [
       "12"
      ]
     },
     "execution_count": 1,
     "metadata": {},
     "output_type": "execute_result"
    }
   ],
   "source": [
    "def fib(n):\n",
    "        if n <= 1:\n",
    "            return n\n",
    "        else:\n",
    "            return fib(n - 1) + fib(n - 2)\n",
    "        \n",
    "def fib_sum(n):\n",
    "    if n == 0:\n",
    "        return fib(0)\n",
    "    return fib_sum(n - 1) + fib(n)\n",
    "\n",
    "fib_sum(5)"
   ]
  },
  {
   "cell_type": "markdown",
   "id": "ef5b209b",
   "metadata": {},
   "source": [
    "#### **Memoised FIbinacci**"
   ]
  },
  {
   "cell_type": "code",
   "execution_count": null,
   "id": "77040de2",
   "metadata": {},
   "outputs": [],
   "source": [
    "memo = {}\n",
    "def fib(n):\n",
    "    if n in memo:\n",
    "        return memo[n]\n",
    "    if n <= 1:\n",
    "        memo[n] = n\n",
    "    else:\n",
    "        memo[n] = fib(n - 1) + fib(n - 2)\n",
    "    return memo[0]"
   ]
  },
  {
   "cell_type": "markdown",
   "id": "8f4072d2",
   "metadata": {},
   "source": [
    "#### **Memoised FIbinacci Sum**\n"
   ]
  },
  {
   "cell_type": "code",
   "execution_count": 3,
   "id": "818facfc",
   "metadata": {},
   "outputs": [],
   "source": [
    "sum_memo = {}\n",
    "memo = {}\n",
    "\n",
    "def fib(n):\n",
    "        if n in memo:\n",
    "            return memo[n]\n",
    "        if n <= 1:\n",
    "            memo[n] = n\n",
    "        else:\n",
    "            memo[n] = fib(n - 1) + fib(n - 2)\n",
    "        return memo[n]\n",
    "\n",
    "def fib_sum(n):\n",
    "    if n in sum_memo:\n",
    "        return sum_memo[n]    \n",
    "    if n == 0:\n",
    "        sum_memo[0] = fib(0)\n",
    "    else:\n",
    "        sum_memo[n] = fib_sum(n - 1) + fib(n)  \n",
    "    return sum_memo[n]\n",
    "\n",
    "### OR\n",
    "\n",
    "def fib_sum(n):\n",
    "    return fib(n + 2) - 1"
   ]
  },
  {
   "cell_type": "markdown",
   "id": "ff6e0414",
   "metadata": {},
   "source": [
    "#### **Print all subsequences**\n",
    "\n",
    "This is a contigous or non-contiguos sequence from an array where order is maintained\n",
    "a subsequence is basically a powerset of a set (or array). "
   ]
  },
  {
   "cell_type": "markdown",
   "id": "23c0fa2f",
   "metadata": {},
   "source": [
    "One things to always put in mind is every function in the call stack has it own local namespace. "
   ]
  },
  {
   "cell_type": "code",
   "execution_count": null,
   "id": "b46a5db3",
   "metadata": {},
   "outputs": [
    {
     "data": {
      "text/plain": [
       "[[5, 3, 4], [5, 3], [5, 4], [5], [3, 4], [3], [4], []]"
      ]
     },
     "execution_count": 2,
     "metadata": {},
     "output_type": "execute_result"
    }
   ],
   "source": [
    "def get_all_subsequence(arr):\n",
    "    res = []\n",
    "    n = len(arr)\n",
    "    curr = []\n",
    "    def backtrack(idx):\n",
    "        if idx >= n:\n",
    "            res.append(curr[:])\n",
    "            return\n",
    "        #include\n",
    "        curr.append(arr[idx])\n",
    "        backtrack(idx + 1)\n",
    "\n",
    "        #remove\n",
    "        curr.pop()\n",
    "\n",
    "        #exclude\n",
    "        backtrack(idx + 1)\n",
    "        \n",
    "    backtrack(0)\n",
    "    return res\n",
    "\n",
    "get_all_subsequence([5, 3, 4])"
   ]
  },
  {
   "cell_type": "code",
   "execution_count": 1,
   "id": "f45ba988",
   "metadata": {},
   "outputs": [
    {
     "data": {
      "text/plain": [
       "[[1, 2, 3, 4],\n",
       " [1, 2, 3],\n",
       " [1, 2, 4],\n",
       " [1, 2],\n",
       " [1, 3, 4],\n",
       " [1, 3],\n",
       " [1, 4],\n",
       " [1],\n",
       " [2, 3, 4],\n",
       " [2, 3],\n",
       " [2, 4],\n",
       " [2],\n",
       " [3, 4],\n",
       " [3],\n",
       " [4],\n",
       " []]"
      ]
     },
     "execution_count": 1,
     "metadata": {},
     "output_type": "execute_result"
    }
   ],
   "source": [
    "def get_all_subsequence(arr):\n",
    "    res= []\n",
    "    n= len(arr)\n",
    "    curr= []\n",
    "    def backtrack(idx):\n",
    "        # base case\n",
    "        if idx >= n:\n",
    "            res.append(curr.copy())\n",
    "            return\n",
    "        # include\n",
    "        curr.append(arr[idx])\n",
    "        backtrack(idx + 1)\n",
    "        \n",
    "        # remove\n",
    "        curr.pop()\n",
    "        \n",
    "        # exclude\n",
    "        backtrack(idx + 1)\n",
    "\n",
    "    backtrack(0)\n",
    "    return res\n",
    "\n",
    "get_all_subsequence([1, 2, 3, 4])\n",
    "\n",
    "        "
   ]
  },
  {
   "cell_type": "markdown",
   "id": "ef8d89ca",
   "metadata": {},
   "source": [
    "**recall**: `idx` has different value for each function in the call stack, since they exist in different local namespace. "
   ]
  },
  {
   "cell_type": "markdown",
   "id": "cd8dba83",
   "metadata": {},
   "source": [
    "#### **Subsequence with sum k**"
   ]
  },
  {
   "cell_type": "code",
   "execution_count": null,
   "id": "6e91167b",
   "metadata": {},
   "outputs": [
    {
     "data": {
      "text/plain": [
       "[[1, 3, 1],\n",
       " [1, 2, 2],\n",
       " [1, 3, 1],\n",
       " [3, 2],\n",
       " [3, 2],\n",
       " [2, 3],\n",
       " [2, 2, 1],\n",
       " [5],\n",
       " [3, 2]]"
      ]
     },
     "execution_count": 13,
     "metadata": {},
     "output_type": "execute_result"
    }
   ],
   "source": [
    "def subsequence_with_sum_k(arr, k):\n",
    "    res = []\n",
    "    n = len(arr)\n",
    "    curr = []\n",
    "    \n",
    "\n",
    "    def backtrack(idx, curr_sum):\n",
    "        if idx >= n:\n",
    "            if curr_sum == k:\n",
    "                res.append(curr[:])\n",
    "            return\n",
    "                \n",
    "        curr.append(arr[idx])\n",
    "        curr_sum += arr[idx]\n",
    "        backtrack(idx + 1, curr_sum)\n",
    "\n",
    "        curr.pop()\n",
    "        curr_sum -= arr[idx]\n",
    "\n",
    "        backtrack(idx + 1, curr_sum)\n",
    "    \n",
    "    backtrack(0, 0)\n",
    "\n",
    "    return res\n",
    "\n",
    "subsequence_with_sum_k([1, 3, 2, 5, 3, 2, 1], 5)\n",
    "\n",
    "\n"
   ]
  },
  {
   "cell_type": "code",
   "execution_count": 1,
   "id": "3fa39d7f",
   "metadata": {},
   "outputs": [
    {
     "name": "stdout",
     "output_type": "stream",
     "text": [
      "[[1, 3, 1], [1, 2, 2], [1, 3, 1], [3, 2], [3, 2], [2, 3], [2, 2, 1], [5], [3, 2]]\n"
     ]
    }
   ],
   "source": [
    "def subsequence_with_sum_k(arr, k):\n",
    "    res = []\n",
    "    n = len(arr)\n",
    "    curr = []\n",
    "\n",
    "    def backtrack(idx, curr_sum):\n",
    "        if idx >= n:\n",
    "            if curr_sum == k:\n",
    "                res.append(curr.copy())\n",
    "            return\n",
    "\n",
    "        # include arr[idx]\n",
    "        curr.append(arr[idx])\n",
    "        curr_sum += arr[idx]\n",
    "        backtrack(idx + 1, curr_sum)\n",
    "        curr.pop()\n",
    "\n",
    "        # exclude arr[idx]\n",
    "        curr_sum -= arr[idx]\n",
    "        backtrack(idx + 1, curr_sum)\n",
    "\n",
    "    backtrack(0, 0)\n",
    "    return res\n",
    "\n",
    "print(subsequence_with_sum_k([1, 3, 2, 5, 3, 2, 1], 5))\n"
   ]
  },
  {
   "cell_type": "code",
   "execution_count": 2,
   "id": "7bd29a37",
   "metadata": {},
   "outputs": [
    {
     "name": "stdout",
     "output_type": "stream",
     "text": [
      "[[1, 1, 1, 1, 1], [1, 1, 1, 1, 1], [1, 1, 1, 2], [1, 1, 1, 2], [1, 1, 1, 1, 1], [1, 1, 3], [1, 1, 2, 1], [1, 1, 3], [1, 1, 2, 1], [1, 1, 1, 1, 1], [1, 3, 1], [1, 2, 2], [1, 2, 2], [1, 2, 1, 1], [1, 3, 1], [1, 2, 2], [1, 2, 1, 1], [1, 1, 1, 1, 1], [3, 2], [3, 2], [3, 1, 1], [2, 2, 1], [2, 3], [2, 2, 1], [2, 1, 1, 1], [5], [3, 2], [3, 1, 1], [2, 2, 1], [2, 1, 1, 1], [1, 1, 1, 1, 1]]\n"
     ]
    }
   ],
   "source": [
    "def combination_sum_I(arr, target):\n",
    "    res = []\n",
    "    n = len(arr)\n",
    "    def backtrack(idx, curr, total):\n",
    "        if total == target:\n",
    "            res.append(curr[:])\n",
    "            return\n",
    "        if idx >= n or total > target:\n",
    "            return\n",
    "        \n",
    "        curr.append(arr[idx])\n",
    "        total += arr[idx]\n",
    "        backtrack(idx, curr, total)\n",
    "        curr.pop()\n",
    "        \n",
    "        total -= arr[idx]\n",
    "        backtrack(idx + 1, curr, total)\n",
    "\n",
    "    backtrack(0, [], 0)\n",
    "    return res\n",
    "\n",
    "print(combination_sum_I([1, 3, 2, 5, 3, 2, 1], 5))\n",
    "\n",
    "\n"
   ]
  },
  {
   "cell_type": "markdown",
   "id": "6ea7fe15",
   "metadata": {},
   "source": [
    "#### **Combination Sum II**"
   ]
  },
  {
   "cell_type": "code",
   "execution_count": null,
   "id": "b6185461",
   "metadata": {},
   "outputs": [],
   "source": []
  },
  {
   "cell_type": "markdown",
   "id": "75721600",
   "metadata": {},
   "source": [
    "#### **Collatz Conjecture (iterative approach)**"
   ]
  },
  {
   "cell_type": "code",
   "execution_count": null,
   "id": "6e5d4ab2",
   "metadata": {},
   "outputs": [],
   "source": []
  },
  {
   "cell_type": "markdown",
   "id": "acceb22f",
   "metadata": {},
   "source": [
    "#### **Collatz Conjecture (recursive approach)**"
   ]
  },
  {
   "cell_type": "code",
   "execution_count": null,
   "id": "bea70281",
   "metadata": {},
   "outputs": [],
   "source": []
  },
  {
   "cell_type": "markdown",
   "id": "b40d163c",
   "metadata": {},
   "source": [
    "#### **Collatz Conjecture (recursive approach with memoisation)**"
   ]
  },
  {
   "cell_type": "code",
   "execution_count": null,
   "id": "6136c452",
   "metadata": {},
   "outputs": [],
   "source": []
  },
  {
   "cell_type": "markdown",
   "id": "74b2b8b0",
   "metadata": {},
   "source": [
    "#### **Collatz Conjecture (Using hair and totoise appraoch (fast and slow pointer))**"
   ]
  },
  {
   "cell_type": "code",
   "execution_count": null,
   "id": "6acbbc2a",
   "metadata": {},
   "outputs": [],
   "source": []
  },
  {
   "cell_type": "markdown",
   "id": "d7f355a2",
   "metadata": {},
   "source": [
    "#### **Sudoku Solver**"
   ]
  },
  {
   "cell_type": "code",
   "execution_count": null,
   "id": "4be433e0",
   "metadata": {},
   "outputs": [],
   "source": []
  },
  {
   "cell_type": "markdown",
   "id": "f6b64fdb",
   "metadata": {},
   "source": [
    "#### **Palindrom Partitioning**"
   ]
  },
  {
   "cell_type": "code",
   "execution_count": null,
   "id": "ed8c90ec",
   "metadata": {},
   "outputs": [],
   "source": []
  },
  {
   "cell_type": "markdown",
   "id": "44f09597",
   "metadata": {},
   "source": [
    "#### **Word break**"
   ]
  },
  {
   "cell_type": "code",
   "execution_count": null,
   "id": "f9a01f4a",
   "metadata": {},
   "outputs": [],
   "source": []
  },
  {
   "cell_type": "markdown",
   "id": "2371292b",
   "metadata": {},
   "source": [
    "#### **Word Break II**"
   ]
  },
  {
   "cell_type": "code",
   "execution_count": null,
   "id": "2dc827c3",
   "metadata": {},
   "outputs": [],
   "source": []
  },
  {
   "cell_type": "markdown",
   "id": "5a922e48",
   "metadata": {},
   "source": [
    "#### **Word Break II (return only one setence)**"
   ]
  },
  {
   "cell_type": "code",
   "execution_count": null,
   "id": "58350c9f",
   "metadata": {},
   "outputs": [],
   "source": []
  }
 ],
 "metadata": {
  "kernelspec": {
   "display_name": ".venv",
   "language": "python",
   "name": "python3"
  },
  "language_info": {
   "codemirror_mode": {
    "name": "ipython",
    "version": 3
   },
   "file_extension": ".py",
   "mimetype": "text/x-python",
   "name": "python",
   "nbconvert_exporter": "python",
   "pygments_lexer": "ipython3",
   "version": "3.13.3"
  }
 },
 "nbformat": 4,
 "nbformat_minor": 5
}
