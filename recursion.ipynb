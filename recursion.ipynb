{
 "cells": [
  {
   "cell_type": "markdown",
   "id": "e423a584",
   "metadata": {},
   "source": [
    "#### **Print name using recursion N times**"
   ]
  },
  {
   "cell_type": "code",
   "execution_count": 7,
   "id": "3d378a36",
   "metadata": {},
   "outputs": [
    {
     "name": "stdout",
     "output_type": "stream",
     "text": [
      "Elias_1\n",
      "Elias_2\n",
      "Elias_3\n",
      "Elias_4\n",
      "Elias_5\n"
     ]
    }
   ],
   "source": [
    "def print_name(i, n):\n",
    "    if i > n:\n",
    "        return\n",
    "    print(f\"Elias_{i}\")\n",
    "    print_name(i + 1, n)\n",
    "\n",
    "print_name(1, 5) "
   ]
  },
  {
   "cell_type": "code",
   "execution_count": null,
   "id": "bca1ce94",
   "metadata": {},
   "outputs": [
    {
     "name": "stdout",
     "output_type": "stream",
     "text": [
      "Elias_5\n",
      "Elias_4\n",
      "Elias_3\n",
      "Elias_2\n",
      "Elias_1\n"
     ]
    }
   ],
   "source": [
    "# this is to demontrate that the computer uses a call stack for tracking function calls and completions and it uses a LIFO order for excecutions. \n",
    "# this is a very useful concept in backtracking and recursion.\n",
    "\n",
    "def print_name(i, n):\n",
    "    if i > n:\n",
    "        return\n",
    "    print_name(i + 1, n)\n",
    "    print(f\"Elias_{i}\")\n",
    "\n",
    "\n",
    "print_name(1, 5) "
   ]
  },
  {
   "cell_type": "markdown",
   "id": "98f1819f",
   "metadata": {},
   "source": [
    "#### **Print 1 - N**"
   ]
  },
  {
   "cell_type": "code",
   "execution_count": 13,
   "id": "7c78684d",
   "metadata": {},
   "outputs": [
    {
     "name": "stdout",
     "output_type": "stream",
     "text": [
      "1\n",
      "2\n",
      "3\n",
      "4\n",
      "5\n"
     ]
    }
   ],
   "source": [
    "def print1_N(i, n):\n",
    "    if i > n:\n",
    "        return \n",
    "    print(i)\n",
    "    print1_N(i + 1, n)\n",
    "\n",
    "print1_N(1, 5)\n"
   ]
  },
  {
   "cell_type": "markdown",
   "id": "656cefe2",
   "metadata": {},
   "source": [
    "#### **Print N - 1**"
   ]
  },
  {
   "cell_type": "code",
   "execution_count": 15,
   "id": "fdfd0a53",
   "metadata": {},
   "outputs": [
    {
     "name": "stdout",
     "output_type": "stream",
     "text": [
      "5\n",
      "4\n",
      "3\n",
      "2\n",
      "1\n"
     ]
    }
   ],
   "source": [
    "def printN_1(i, n):\n",
    "    if i > n:\n",
    "        return \n",
    "    printN_1(i + 1, n)\n",
    "    print(i)\n",
    "\n",
    "printN_1(1, 5)"
   ]
  },
  {
   "cell_type": "code",
   "execution_count": 16,
   "id": "3b78bf30",
   "metadata": {},
   "outputs": [
    {
     "name": "stdout",
     "output_type": "stream",
     "text": [
      "5\n",
      "4\n",
      "3\n",
      "2\n",
      "1\n"
     ]
    }
   ],
   "source": [
    "def printN_1(i, n):\n",
    "    if i < 1:\n",
    "        return\n",
    "    print(i)\n",
    "    printN_1(i - 1, n)\n",
    "\n",
    "printN_1(5, 5)"
   ]
  },
  {
   "cell_type": "markdown",
   "id": "6c4959c4",
   "metadata": {},
   "source": [
    "### **Parameterized recursion and function-based recursion**\n",
    "\n"
   ]
  },
  {
   "cell_type": "markdown",
   "id": "05d4a53d",
   "metadata": {},
   "source": [
    "#### **Summation from 1 to n**"
   ]
  },
  {
   "cell_type": "code",
   "execution_count": 22,
   "id": "b575c48b",
   "metadata": {},
   "outputs": [
    {
     "name": "stdout",
     "output_type": "stream",
     "text": [
      "15\n"
     ]
    }
   ],
   "source": [
    "# parameter based approach\n",
    "def sum_1_N(i, sum_):\n",
    "    if i < 1:\n",
    "        print(sum_)\n",
    "        return\n",
    "    sum_1_N(i-1, sum_ + i)\n",
    "sum_1_N(5, 0)"
   ]
  },
  {
   "cell_type": "code",
   "execution_count": 23,
   "id": "40c9745e",
   "metadata": {},
   "outputs": [
    {
     "data": {
      "text/plain": [
       "15"
      ]
     },
     "execution_count": 23,
     "metadata": {},
     "output_type": "execute_result"
    }
   ],
   "source": [
    "# function based approach\n",
    "\n",
    "def sum_to_N(n):\n",
    "    if n == 0:\n",
    "        return 0\n",
    "    return n + sum_to_N(n - 1)\n",
    "\n",
    "sum_to_N(5)"
   ]
  },
  {
   "cell_type": "markdown",
   "id": "32fa7f01",
   "metadata": {},
   "source": [
    "#### **Factorial of N**"
   ]
  },
  {
   "cell_type": "code",
   "execution_count": 2,
   "id": "9f24a76c",
   "metadata": {},
   "outputs": [
    {
     "name": "stdout",
     "output_type": "stream",
     "text": [
      "120\n"
     ]
    }
   ],
   "source": [
    "# parameter based approach\n",
    "\n",
    "def factorial(i, res):\n",
    "    if i < 1:\n",
    "        print(res)\n",
    "        return\n",
    "    if i == 0:\n",
    "        return 1\n",
    "    factorial(i - 1, res * i)\n",
    "\n",
    "factorial(5, 1)\n"
   ]
  },
  {
   "cell_type": "code",
   "execution_count": null,
   "id": "77d7aa1c",
   "metadata": {},
   "outputs": [
    {
     "data": {
      "text/plain": [
       "120"
      ]
     },
     "execution_count": 25,
     "metadata": {},
     "output_type": "execute_result"
    }
   ],
   "source": [
    "# function based approach\n",
    "\n",
    "def factorial(n):\n",
    "    if n == 0:\n",
    "        return 1\n",
    "    return n * factorial(n - 1)\n",
    "\n",
    "factorial(5)"
   ]
  },
  {
   "cell_type": "markdown",
   "id": "05e7fd5e",
   "metadata": {},
   "source": [
    "### **checking palidrome recursively**"
   ]
  },
  {
   "cell_type": "code",
   "execution_count": 3,
   "id": "66afe5b7",
   "metadata": {},
   "outputs": [
    {
     "data": {
      "text/plain": [
       "False"
      ]
     },
     "execution_count": 3,
     "metadata": {},
     "output_type": "execute_result"
    }
   ],
   "source": [
    "def is_pali(s):\n",
    "    n = len(s)\n",
    "    def checker(i):\n",
    "        if i == n//2:\n",
    "            return True\n",
    "        if s[i] != s[n - 1 - i]:\n",
    "            return False\n",
    "        return checker(i+1)\n",
    "    return checker(0)\n",
    "\n",
    "is_pali(\"car\")"
   ]
  },
  {
   "cell_type": "markdown",
   "id": "c7901fc2",
   "metadata": {},
   "source": [
    "#### **Fibonacci number**"
   ]
  },
  {
   "cell_type": "code",
   "execution_count": 5,
   "id": "863a53b5",
   "metadata": {},
   "outputs": [
    {
     "data": {
      "text/plain": [
       "3"
      ]
     },
     "execution_count": 5,
     "metadata": {},
     "output_type": "execute_result"
    }
   ],
   "source": [
    "def fib(n):\n",
    "    if n <= 1:\n",
    "        return n\n",
    "    return fib(n - 1) + fib(n - 2)\n",
    "\n",
    "fib(4) # TC is 2**n because every recursion call is call * 2 function so n recursive call is (2 * 2 * 2 * ... * 2) n times."
   ]
  },
  {
   "cell_type": "code",
   "execution_count": null,
   "id": "3755a118",
   "metadata": {},
   "outputs": [
    {
     "data": {
      "text/plain": [
       "8"
      ]
     },
     "execution_count": 4,
     "metadata": {},
     "output_type": "execute_result"
    }
   ],
   "source": [
    "# iterative approach\n",
    "\n",
    "def fib(n):\n",
    "    curr, next_num = 0, 1\n",
    "    for _ in range(1, n):\n",
    "        next_num, curr = next_num + curr, next_num\n",
    "    return next_num\n"
   ]
  },
  {
   "cell_type": "markdown",
   "id": "c89a13d1",
   "metadata": {},
   "source": [
    "#### **Fibonacci Sum**\n",
    "\n"
   ]
  },
  {
   "cell_type": "code",
   "execution_count": 1,
   "id": "0e883d7e",
   "metadata": {},
   "outputs": [
    {
     "data": {
      "text/plain": [
       "12"
      ]
     },
     "execution_count": 1,
     "metadata": {},
     "output_type": "execute_result"
    }
   ],
   "source": [
    "def fib(n):\n",
    "        if n <= 1:\n",
    "            return n\n",
    "        else:\n",
    "            return fib(n - 1) + fib(n - 2)\n",
    "        \n",
    "def fib_sum(n):\n",
    "    if n == 0:\n",
    "        return fib(0)\n",
    "    return fib_sum(n - 1) + fib(n)\n",
    "\n",
    "fib_sum(5)"
   ]
  },
  {
   "cell_type": "markdown",
   "id": "ef5b209b",
   "metadata": {},
   "source": [
    "#### **Memoised FIbinacci**"
   ]
  },
  {
   "cell_type": "code",
   "execution_count": null,
   "id": "77040de2",
   "metadata": {},
   "outputs": [],
   "source": [
    "memo = {}\n",
    "def fib(n):\n",
    "    if n in memo:\n",
    "        return memo[n]\n",
    "    if n <= 1:\n",
    "        memo[n] = n\n",
    "    else:\n",
    "        memo[n] = fib(n - 1) + fib(n - 2)\n",
    "    return memo[0]"
   ]
  },
  {
   "cell_type": "markdown",
   "id": "8f4072d2",
   "metadata": {},
   "source": [
    "#### **Memoised FIbinacci Sum**\n"
   ]
  },
  {
   "cell_type": "code",
   "execution_count": 3,
   "id": "818facfc",
   "metadata": {},
   "outputs": [],
   "source": [
    "sum_memo = {}\n",
    "memo = {}\n",
    "\n",
    "def fib(n):\n",
    "        if n in memo:\n",
    "            return memo[n]\n",
    "        if n <= 1:\n",
    "            memo[n] = n\n",
    "        else:\n",
    "            memo[n] = fib(n - 1) + fib(n - 2)\n",
    "        return memo[n]\n",
    "\n",
    "def fib_sum(n):\n",
    "    if n in sum_memo:\n",
    "        return sum_memo[n]    \n",
    "    if n == 0:\n",
    "        sum_memo[0] = fib(0)\n",
    "    else:\n",
    "        sum_memo[n] = fib_sum(n - 1) + fib(n)  \n",
    "    return sum_memo[n]\n",
    "\n",
    "### OR\n",
    "\n",
    "def fib_sum(n):\n",
    "    return fib(n + 2) - 1"
   ]
  },
  {
   "cell_type": "markdown",
   "id": "ff6e0414",
   "metadata": {},
   "source": [
    "#### **Print all subsequences**\n",
    "\n",
    "This is a contigous or non-contiguos sequence from an array where order is maintained\n",
    "a subsequence is basically a powerset of a set (or array). "
   ]
  },
  {
   "cell_type": "markdown",
   "id": "23c0fa2f",
   "metadata": {},
   "source": [
    "One things to always put in mind is every function in the call stack has it own local namespace. "
   ]
  },
  {
   "cell_type": "code",
   "execution_count": 1,
   "id": "b46a5db3",
   "metadata": {},
   "outputs": [
    {
     "data": {
      "text/plain": [
       "[[], [5], [5, 3], [5, 3, 4], [5, 4], [3], [3, 4], [4]]"
      ]
     },
     "execution_count": 1,
     "metadata": {},
     "output_type": "execute_result"
    }
   ],
   "source": [
    "def get_all_subsequence(arr):\n",
    "    res = []\n",
    "\n",
    "    def backtrack(start, path):\n",
    "        res.append(path[:])\n",
    "        for i in range(start, len(arr)):\n",
    "            path.append(arr[i])\n",
    "            backtrack(i + 1, path)\n",
    "            path.pop()\n",
    "    backtrack(0, [])\n",
    "    return res\n",
    "\n",
    "get_all_subsequence([5, 3, 4])"
   ]
  },
  {
   "cell_type": "markdown",
   "id": "cd8dba83",
   "metadata": {},
   "source": [
    "#### **Subsequence with sum k**"
   ]
  },
  {
   "cell_type": "code",
   "execution_count": null,
   "id": "6e91167b",
   "metadata": {},
   "outputs": [
    {
     "data": {
      "text/plain": [
       "[[1, 3, 1],\n",
       " [1, 2, 2],\n",
       " [1, 3, 1],\n",
       " [3, 2],\n",
       " [3, 2],\n",
       " [2, 3],\n",
       " [2, 2, 1],\n",
       " [5],\n",
       " [3, 2]]"
      ]
     },
     "execution_count": 2,
     "metadata": {},
     "output_type": "execute_result"
    }
   ],
   "source": [
    "def subsequence_with_sum_k(arr, k):\n",
    "    res = []\n",
    "    \n",
    "    def backtrack(start, path, curr_sum):\n",
    "        if curr_sum == k:\n",
    "            res.append(path[:])\n",
    "            return \n",
    "        for i in range(start, len(arr)):\n",
    "            path.append(arr[i])\n",
    "            backtrack(i + 1, path, curr_sum + arr[i])\n",
    "            path.pop()\n",
    "    backtrack(0, [], 0)\n",
    "    return res\n",
    "subsequence_with_sum_k([1, 3, 2, 5, 3, 2, 1], 5)"
   ]
  },
  {
   "cell_type": "code",
   "execution_count": 4,
   "id": "7bd29a37",
   "metadata": {},
   "outputs": [
    {
     "name": "stdout",
     "output_type": "stream",
     "text": [
      "[[1, 1, 1, 1, 1], [1, 1, 1, 1, 1], [1, 1, 1, 2], [1, 1, 1, 2], [1, 1, 1, 1, 1], [1, 1, 3], [1, 1, 2, 1], [1, 1, 3], [1, 1, 2, 1], [1, 1, 1, 1, 1], [1, 3, 1], [1, 2, 2], [1, 2, 2], [1, 2, 1, 1], [1, 3, 1], [1, 2, 2], [1, 2, 1, 1], [1, 1, 1, 1, 1], [3, 2], [3, 2], [3, 1, 1], [2, 2, 1], [2, 3], [2, 2, 1], [2, 1, 1, 1], [5], [3, 2], [3, 1, 1], [2, 2, 1], [2, 1, 1, 1], [1, 1, 1, 1, 1]]\n"
     ]
    }
   ],
   "source": [
    "def combination_sum_I(arr, target):\n",
    "    res = []\n",
    "    \n",
    "    def backtrack(start, path, curr_sum):\n",
    "        if curr_sum == target:\n",
    "            res.append(path[:])\n",
    "        if curr_sum > target:\n",
    "            return \n",
    "        for i in range(start, len(arr)):\n",
    "            path.append(arr[i])\n",
    "            backtrack(i, path, curr_sum + arr[i])\n",
    "            path.pop()\n",
    "    backtrack(0, [], 0)\n",
    "    return res\n",
    "\n",
    "print(combination_sum_I([1, 3, 2, 5, 3, 2, 1], 5))\n",
    "\n",
    "\n"
   ]
  },
  {
   "cell_type": "markdown",
   "id": "6ea7fe15",
   "metadata": {},
   "source": [
    "#### **Combination Sum II**"
   ]
  },
  {
   "cell_type": "code",
   "execution_count": 5,
   "id": "b6185461",
   "metadata": {},
   "outputs": [
    {
     "name": "stdout",
     "output_type": "stream",
     "text": [
      "[[1, 1, 3], [1, 2, 2], [2, 3], [5]]\n"
     ]
    }
   ],
   "source": [
    "def Combination_sum_II(arr, k):\n",
    "    res = []\n",
    "    \n",
    "    arr.sort()\n",
    "    def backtrack(start, path, curr_sum):\n",
    "        if curr_sum == k:\n",
    "            res.append(path[:])\n",
    "        if curr_sum > k:\n",
    "            return\n",
    "        for i in range(start, len(arr)):\n",
    "            if i > start and arr[i] == arr[i - 1]:\n",
    "                continue\n",
    "            path.append(arr[i])\n",
    "            backtrack(i + 1, path, curr_sum + arr[i])\n",
    "            path.pop()\n",
    "    backtrack(0, [], 0)\n",
    "    return res\n",
    "\n",
    "print(Combination_sum_II([1, 3, 2, 5, 3, 2, 1], 5))\n"
   ]
  },
  {
   "cell_type": "markdown",
   "id": "0ba9ceda",
   "metadata": {},
   "source": [
    "#### **Phone Letter combination**"
   ]
  },
  {
   "cell_type": "code",
   "execution_count": 10,
   "id": "edecfebd",
   "metadata": {},
   "outputs": [
    {
     "data": {
      "text/plain": [
       "['ad', 'ae', 'af', 'bd', 'be', 'bf', 'cd', 'ce', 'cf']"
      ]
     },
     "execution_count": 10,
     "metadata": {},
     "output_type": "execute_result"
    }
   ],
   "source": [
    "def Letter_combination(digits):\n",
    "    res = []\n",
    "    if not digits:\n",
    "        return res\n",
    "    phone = {\n",
    "        '2': 'abc', '3': 'def', '4': 'ghi', '5': 'jkl',\n",
    "        '6': 'mno', '7': 'pqrs', '8': 'tuv', '9': 'wxyz'\n",
    "    }\n",
    "    def backtrack(idx, path):\n",
    "        if idx == len(digits):\n",
    "            res.append(\"\".join(path))\n",
    "            return\n",
    "        for letter in phone[digits[idx]]:\n",
    "            path.append(letter)\n",
    "            backtrack(idx + 1, path)\n",
    "            path.pop()\n",
    "    backtrack(0, [])\n",
    "    return res\n",
    "\n",
    "Letter_combination(\"23\")\n"
   ]
  },
  {
   "cell_type": "markdown",
   "id": "75721600",
   "metadata": {},
   "source": [
    "#### **Collatz Conjecture (iterative approach)**"
   ]
  },
  {
   "cell_type": "code",
   "execution_count": null,
   "id": "6e5d4ab2",
   "metadata": {},
   "outputs": [],
   "source": [
    "def collatz_length_iterative(n):\n",
    "    steps = 0\n",
    "    while n != 1:\n",
    "        if n % 2 == 0:\n",
    "            n =  n//2\n",
    "        else:\n",
    "            n = 3*n + 1\n",
    "        steps += 1\n",
    "    return steps"
   ]
  },
  {
   "cell_type": "markdown",
   "id": "acceb22f",
   "metadata": {},
   "source": [
    "#### **Collatz Conjecture (recursive approach)**"
   ]
  },
  {
   "cell_type": "code",
   "execution_count": 15,
   "id": "bea70281",
   "metadata": {},
   "outputs": [],
   "source": [
    "def collatz_length_recursive(n):\n",
    "    if n == 0:\n",
    "        return 0\n",
    "    if n % 2 == 0:\n",
    "        return  1 + collatz_length_recursive(n//2)\n",
    "    else:\n",
    "        return 1  + collatz_length_recursive(3*n + 1)"
   ]
  },
  {
   "cell_type": "markdown",
   "id": "b40d163c",
   "metadata": {},
   "source": [
    "#### **Collatz Conjecture (recursive approach with memoisation)**"
   ]
  },
  {
   "cell_type": "code",
   "execution_count": 16,
   "id": "6136c452",
   "metadata": {},
   "outputs": [],
   "source": [
    "class CollatzSolver:\n",
    "    def __init__(self):\n",
    "        self.memo = {1: 0}\n",
    "\n",
    "    def length(self, n):\n",
    "        if n in memo:\n",
    "            return memo[n]\n",
    "        if n % 2 == 0:\n",
    "            result =  1 + self.length(n//2)\n",
    "        else:\n",
    "            result = 1 + self.length(3*n + 1)    \n",
    "        \n",
    "        self.memo[n] = result\n",
    "        return result"
   ]
  },
  {
   "cell_type": "code",
   "execution_count": 17,
   "id": "c2e7a03b",
   "metadata": {},
   "outputs": [],
   "source": [
    "def collactz_conjecture_rec_memoised(n, memo = None):\n",
    "    if memo is None:\n",
    "        memo = {}\n",
    "    if n == 1:\n",
    "        memo[n] = 0\n",
    "    if n % 2 == 0:\n",
    "        res = 1 + collactz_conjecture_rec_memoised(n//2)\n",
    "    else:\n",
    "        res = 1 + collactz_conjecture_rec_memoised(3*n + 1)\n",
    "    memo[n] = res\n",
    "    return res    "
   ]
  },
  {
   "cell_type": "markdown",
   "id": "d7f355a2",
   "metadata": {},
   "source": [
    "#### **Sudoku Solver**"
   ]
  },
  {
   "cell_type": "code",
   "execution_count": null,
   "id": "4be433e0",
   "metadata": {},
   "outputs": [],
   "source": [
    "\n",
    "def solveSudoku(self, board) -> None:\n",
    "    \"\"\"\n",
    "    Do not return anything, modify board in-place instead.\n",
    "    \"\"\"\n",
    "    rows_hash = [set() for _ in range(9)]\n",
    "    cols_hash = [set() for _ in range(9)]\n",
    "    subgrid_hash = [set() for _ in range(9)]\n",
    "    \n",
    "    # precomputed the hashset of all rows, cols and subgrids\n",
    "    for row in range(9):\n",
    "        for col in range(9):\n",
    "            subgrid_idx = (row//3)*3 + (col//3)\n",
    "            digit = board[row][col]\n",
    "            if digit == \".\":\n",
    "                continue\n",
    "            rows_hash[row].add(digit)\n",
    "            cols_hash[col].add(digit)\n",
    "            subgrid_hash[subgrid_idx].add(digit)\n",
    "    def dfs(row, col):\n",
    "        # if we finished the cell, means sudoku was solved.  \n",
    "        if row == 9:\n",
    "            return True\n",
    "\n",
    "        # get next row and col to move to\n",
    "        next_row, next_col = (row, col + 1) if col < 8 else (row + 1, 0)\n",
    "\n",
    "        # recursively move to the next cell\n",
    "        if board[row][col] != \".\":\n",
    "            return dfs(next_row, next_col)\n",
    "\n",
    "        # when backtracking for the first time compute the subgrid_idx\n",
    "        subgrid_idx = (row//3)*3 +(col//3)\n",
    "        \n",
    "        # go over possible answers\n",
    "        for num in \"123456789\":\n",
    "            # check if answer is valid\n",
    "            if num not in rows_hash[row] and num not in cols_hash[col] and num not in subgrid_hash[subgrid_idx]:\n",
    "                # if it is:\n",
    "                # place the digit\n",
    "                board[row][col] = num\n",
    "                rows_hash[row].add(num)\n",
    "                cols_hash[col].add(num)\n",
    "                subgrid_hash[subgrid_idx].add(num)\n",
    "                \n",
    "                # after filling up recurse to next cell untill we finish the sudoku or\n",
    "                # we realise we've gone down the wrong solution path.\n",
    "                # recurse to next cell\n",
    "                if dfs(next_row, next_col):\n",
    "                    return True\n",
    "\n",
    "                # backtrack incase we went down the wrong path\n",
    "                # simple just reverse the cells\n",
    "                board[row][col] = \".\"\n",
    "                rows_hash[row].remove(num)\n",
    "                cols_hash[col].remove(num)\n",
    "                subgrid_hash[subgrid_idx].remove(num)\n",
    "        # No valid digit found for this cell\n",
    "        return False\n",
    "        \n",
    "    # start solving\n",
    "    return dfs(0, 0)        "
   ]
  },
  {
   "cell_type": "markdown",
   "id": "f6b64fdb",
   "metadata": {},
   "source": [
    "#### **Palindrom Partitioning**"
   ]
  },
  {
   "cell_type": "code",
   "execution_count": 13,
   "id": "ed8c90ec",
   "metadata": {},
   "outputs": [
    {
     "name": "stdout",
     "output_type": "stream",
     "text": [
      "[['a', 'a', 'b', 'a'], ['a', 'aba', 'b', 'a'], ['aa', 'a', 'b', 'a'], ['aa', 'aba', 'b', 'a']]\n"
     ]
    }
   ],
   "source": [
    "def partitionPalindrome(s):\n",
    "    res = []\n",
    "\n",
    "    def isPalindrome(s):\n",
    "        l, r = 0, len(s) - 1\n",
    "        while l <= r:\n",
    "            if s[l] != s[r]:\n",
    "                return False\n",
    "            l += 1\n",
    "            r -= 1\n",
    "        return True    \n",
    "\n",
    "    def backtrack(start, path):\n",
    "        if start == len(s):\n",
    "            res.append(path[:])\n",
    "            return \n",
    "        \n",
    "        for end in range(start + 1, len(s) + 1):\n",
    "            substring = s[start: end]\n",
    "            if isPalindrome(substring):\n",
    "                path.append(substring)\n",
    "                backtrack(start + 1, path)\n",
    "                path.pop()\n",
    "        \n",
    "    backtrack(0, [])\n",
    "    return res\n",
    "    \n",
    "print(partitionPalindrome(\"aaba\"))\n"
   ]
  },
  {
   "cell_type": "markdown",
   "id": "44f09597",
   "metadata": {},
   "source": [
    "#### **Word break** (without Memoisation (This will TLE))"
   ]
  },
  {
   "cell_type": "code",
   "execution_count": null,
   "id": "f9a01f4a",
   "metadata": {},
   "outputs": [],
   "source": [
    "def wordBreak(s, worddict):\n",
    "    wordSet = set(worddict)\n",
    "\n",
    "    def backtrack(start):\n",
    "        if start == len(s):\n",
    "            return True\n",
    "        \n",
    "        for end in range(start + 1, len(s) + 1):\n",
    "            substring = s[start:end]\n",
    "            if substring in wordSet:\n",
    "                if backtrack(end):\n",
    "                    return True\n",
    "        return False\n",
    "    return backtrack(0)\n",
    "            "
   ]
  },
  {
   "cell_type": "markdown",
   "id": "42fe9212",
   "metadata": {},
   "source": [
    "#### **Word break** (with Memoisation)"
   ]
  },
  {
   "cell_type": "code",
   "execution_count": 18,
   "id": "10bfae17",
   "metadata": {},
   "outputs": [],
   "source": [
    "def wordBreak(s, worddict):\n",
    "    wordSet = set(worddict)\n",
    "    memo = {} # start idx -> a word in dict can be formed starting from there\n",
    "\n",
    "    def backtrack(start):\n",
    "        if start == len(s):\n",
    "            return True\n",
    "        if memo[start]:\n",
    "            return True\n",
    "        for end in range(start + 1, len(s) + 1):\n",
    "            substring =  s[start:end]\n",
    "            if substring in wordSet:\n",
    "                if backtrack(end):\n",
    "                    memo[start] = True\n",
    "                    return True\n",
    "        memo[start] = False\n",
    "        return False"
   ]
  },
  {
   "cell_type": "markdown",
   "id": "2371292b",
   "metadata": {},
   "source": [
    "#### **Word Break II**"
   ]
  },
  {
   "cell_type": "code",
   "execution_count": null,
   "id": "0bcb92c5",
   "metadata": {},
   "outputs": [],
   "source": [
    "# here we are to return a list containing all possible sentence (just the list of different partitions)\n",
    "def wordBreakII(s, worddict):\n",
    "    wordSet = set(worddict)\n",
    "    res = []\n",
    "\n",
    "    def backtrack(start, path):\n",
    "        if start == len(s):\n",
    "            res.append(\" \".join(path[:]))\n",
    "            return\n",
    "        for end in range(start + 1, len(s) + 1):\n",
    "            substring = s[start:end]\n",
    "            if substring in wordSet:\n",
    "                path.append(substring)\n",
    "                backtrack(end, path)\n",
    "                path.pop()\n",
    "        \n",
    "        backtrack(0, [])\n",
    "        return res\n"
   ]
  },
  {
   "cell_type": "markdown",
   "id": "5a922e48",
   "metadata": {},
   "source": [
    "#### **Word Break II (return only one setence)**"
   ]
  },
  {
   "cell_type": "code",
   "execution_count": null,
   "id": "58350c9f",
   "metadata": {},
   "outputs": [],
   "source": [
    "def wordBreakIIv2(s, wordDict):\n",
    "    word_set = set(wordDict)\n",
    "\n",
    "    def backtrack(start, path):\n",
    "        if start == len(s):\n",
    "            return path[:]\n",
    "        \n",
    "        for end in range(start + 1, len(s) + 1):\n",
    "            substring = s[start:end]\n",
    "            if substring in word_set:\n",
    "                path.append(substring)\n",
    "                result = backtrack(end, path)\n",
    "\n",
    "                if result is not None: # found a valid sentence\n",
    "                    return result\n",
    "                \n",
    "                path.pop()\n",
    "        return None\n",
    "\n",
    "    result = backtrack(0, [])\n",
    "    return \" \".join(result) if result else \"\""
   ]
  },
  {
   "cell_type": "markdown",
   "id": "53699c34",
   "metadata": {},
   "source": [
    "#### **Wprdbreak II (return only one setence)** (with memoisation)"
   ]
  },
  {
   "cell_type": "code",
   "execution_count": null,
   "id": "db3b9a2b",
   "metadata": {},
   "outputs": [],
   "source": [
    "def wordBreakIIv2(s, wordDict):\n",
    "    wordSet = set(wordDict)\n",
    "    memo = {} # cahe failed path so we don't take those path anymore\n",
    "\n",
    "    def backtrack(start, path):\n",
    "        if start == len(s):\n",
    "            return path[:]\n",
    "        if start in memo:\n",
    "            return None\n",
    "        \n",
    "        for end in range(start + 1, len(s) + 1):\n",
    "            substring = s[start:end]\n",
    "            if substring in wordSet:\n",
    "                path.append(substring)\n",
    "                result =  backtrack(end, path)\n",
    "                if result is not None:\n",
    "                    return result\n",
    "                path.pop()\n",
    "        memo[start] = \"failed\"\n",
    "        return None"
   ]
  },
  {
   "cell_type": "markdown",
   "id": "3f40867e",
   "metadata": {},
   "source": [
    "#### **Generate Parenthesis**"
   ]
  },
  {
   "cell_type": "code",
   "execution_count": 19,
   "id": "7c9b8d5a",
   "metadata": {},
   "outputs": [],
   "source": [
    "def generateParenthesis(n):\n",
    "    res = []\n",
    "    def backtrack(path, no_open, no_close):\n",
    "        if len(path) == 2*n:\n",
    "            res.append(path)\n",
    "        if no_open < n:\n",
    "            backtrack(path + \"(\", no_open + 1, no_close)\n",
    "        if no_close < no_open:\n",
    "            backtrack(path + \")\", no_open, no_close + 1)\n",
    "    backtrack(\"\", 0, 0)\n",
    "    return res"
   ]
  },
  {
   "cell_type": "code",
   "execution_count": null,
   "id": "e80fb506",
   "metadata": {},
   "outputs": [],
   "source": []
  }
 ],
 "metadata": {
  "kernelspec": {
   "display_name": ".venv",
   "language": "python",
   "name": "python3"
  },
  "language_info": {
   "codemirror_mode": {
    "name": "ipython",
    "version": 3
   },
   "file_extension": ".py",
   "mimetype": "text/x-python",
   "name": "python",
   "nbconvert_exporter": "python",
   "pygments_lexer": "ipython3",
   "version": "3.13.3"
  }
 },
 "nbformat": 4,
 "nbformat_minor": 5
}
