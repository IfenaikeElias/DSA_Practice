{
 "cells": [
  {
   "cell_type": "markdown",
   "id": "e423a584",
   "metadata": {},
   "source": [
    "#### **Print name using recursion N times**"
   ]
  },
  {
   "cell_type": "code",
   "execution_count": 7,
   "id": "3d378a36",
   "metadata": {},
   "outputs": [
    {
     "name": "stdout",
     "output_type": "stream",
     "text": [
      "Elias_1\n",
      "Elias_2\n",
      "Elias_3\n",
      "Elias_4\n",
      "Elias_5\n"
     ]
    }
   ],
   "source": [
    "def print_name(i, n):\n",
    "    if i > n:\n",
    "        return\n",
    "    print(f\"Elias_{i}\")\n",
    "    print_name(i + 1, n)\n",
    "\n",
    "print_name(1, 5) "
   ]
  },
  {
   "cell_type": "code",
   "execution_count": null,
   "id": "bca1ce94",
   "metadata": {},
   "outputs": [
    {
     "name": "stdout",
     "output_type": "stream",
     "text": [
      "Elias_5\n",
      "Elias_4\n",
      "Elias_3\n",
      "Elias_2\n",
      "Elias_1\n"
     ]
    }
   ],
   "source": [
    "# this is to demontrate that the computer uses a call stack for tracking function calls and completions and it uses a LIFO order for excecutions. \n",
    "# this is a very useful concept in backtracking and recursion.\n",
    "\n",
    "def print_name(i, n):\n",
    "    if i > n:\n",
    "        return\n",
    "    print_name(i + 1, n)\n",
    "    print(f\"Elias_{i}\")\n",
    "\n",
    "\n",
    "print_name(1, 5) "
   ]
  },
  {
   "cell_type": "markdown",
   "id": "98f1819f",
   "metadata": {},
   "source": [
    "#### **Print 1 - N**"
   ]
  },
  {
   "cell_type": "code",
   "execution_count": 13,
   "id": "7c78684d",
   "metadata": {},
   "outputs": [
    {
     "name": "stdout",
     "output_type": "stream",
     "text": [
      "1\n",
      "2\n",
      "3\n",
      "4\n",
      "5\n"
     ]
    }
   ],
   "source": [
    "def print1_N(i, n):\n",
    "    if i > n:\n",
    "        return \n",
    "    print(i)\n",
    "    print1_N(i + 1, n)\n",
    "\n",
    "print1_N(1, 5)\n"
   ]
  },
  {
   "cell_type": "markdown",
   "id": "656cefe2",
   "metadata": {},
   "source": [
    "#### **Print N - 1**"
   ]
  },
  {
   "cell_type": "code",
   "execution_count": 15,
   "id": "fdfd0a53",
   "metadata": {},
   "outputs": [
    {
     "name": "stdout",
     "output_type": "stream",
     "text": [
      "5\n",
      "4\n",
      "3\n",
      "2\n",
      "1\n"
     ]
    }
   ],
   "source": [
    "def printN_1(i, n):\n",
    "    if i > n:\n",
    "        return \n",
    "    printN_1(i + 1, n)\n",
    "    print(i)\n",
    "\n",
    "printN_1(1, 5)"
   ]
  },
  {
   "cell_type": "code",
   "execution_count": 16,
   "id": "3b78bf30",
   "metadata": {},
   "outputs": [
    {
     "name": "stdout",
     "output_type": "stream",
     "text": [
      "5\n",
      "4\n",
      "3\n",
      "2\n",
      "1\n"
     ]
    }
   ],
   "source": [
    "def printN_1(i, n):\n",
    "    if i < 1:\n",
    "        return\n",
    "    print(i)\n",
    "    printN_1(i - 1, n)\n",
    "\n",
    "printN_1(5, 5)"
   ]
  },
  {
   "cell_type": "markdown",
   "id": "6c4959c4",
   "metadata": {},
   "source": [
    "### **Parameterized recursion and function-based recursion**\n",
    "\n"
   ]
  },
  {
   "cell_type": "markdown",
   "id": "05d4a53d",
   "metadata": {},
   "source": [
    "#### **Summation from 1 to n**"
   ]
  },
  {
   "cell_type": "code",
   "execution_count": 22,
   "id": "b575c48b",
   "metadata": {},
   "outputs": [
    {
     "name": "stdout",
     "output_type": "stream",
     "text": [
      "15\n"
     ]
    }
   ],
   "source": [
    "# parameter based approach\n",
    "def sum_1_N(i, sum_):\n",
    "    if i < 1:\n",
    "        print(sum_)\n",
    "        return\n",
    "    sum_1_N(i-1, sum_ + i)\n",
    "sum_1_N(5, 0)"
   ]
  },
  {
   "cell_type": "code",
   "execution_count": 23,
   "id": "40c9745e",
   "metadata": {},
   "outputs": [
    {
     "data": {
      "text/plain": [
       "15"
      ]
     },
     "execution_count": 23,
     "metadata": {},
     "output_type": "execute_result"
    }
   ],
   "source": [
    "# function based approach\n",
    "\n",
    "def sum_to_N(n):\n",
    "    if n == 0:\n",
    "        return 0\n",
    "    return n + sum_to_N(n - 1)\n",
    "\n",
    "sum_to_N(5)"
   ]
  },
  {
   "cell_type": "markdown",
   "id": "32fa7f01",
   "metadata": {},
   "source": [
    "#### **Factorial of N**"
   ]
  },
  {
   "cell_type": "code",
   "execution_count": 2,
   "id": "9f24a76c",
   "metadata": {},
   "outputs": [
    {
     "name": "stdout",
     "output_type": "stream",
     "text": [
      "120\n"
     ]
    }
   ],
   "source": [
    "# parameter based approach\n",
    "\n",
    "def factorial(i, res):\n",
    "    if i < 1:\n",
    "        print(res)\n",
    "        return\n",
    "    if i == 0:\n",
    "        return 1\n",
    "    factorial(i - 1, res * i)\n",
    "\n",
    "factorial(5, 1)\n"
   ]
  },
  {
   "cell_type": "code",
   "execution_count": null,
   "id": "77d7aa1c",
   "metadata": {},
   "outputs": [
    {
     "data": {
      "text/plain": [
       "120"
      ]
     },
     "execution_count": 25,
     "metadata": {},
     "output_type": "execute_result"
    }
   ],
   "source": [
    "# function based approach\n",
    "\n",
    "def factorial(n):\n",
    "    if n == 0:\n",
    "        return 1\n",
    "    return n * factorial(n - 1)\n",
    "\n",
    "factorial(5)"
   ]
  },
  {
   "cell_type": "markdown",
   "id": "05e7fd5e",
   "metadata": {},
   "source": [
    "### **checking palidrome recursively**"
   ]
  },
  {
   "cell_type": "code",
   "execution_count": 3,
   "id": "66afe5b7",
   "metadata": {},
   "outputs": [
    {
     "data": {
      "text/plain": [
       "False"
      ]
     },
     "execution_count": 3,
     "metadata": {},
     "output_type": "execute_result"
    }
   ],
   "source": [
    "def is_pali(s):\n",
    "    n = len(s)\n",
    "    def checker(i):\n",
    "        if i == n//2:\n",
    "            return True\n",
    "        if s[i] != s[n - 1 - i]:\n",
    "            return False\n",
    "        return checker(i+1)\n",
    "    return checker(0)\n",
    "\n",
    "is_pali(\"car\")"
   ]
  },
  {
   "cell_type": "markdown",
   "id": "c7901fc2",
   "metadata": {},
   "source": [
    "#### **Fibonacci number**"
   ]
  },
  {
   "cell_type": "code",
   "execution_count": 5,
   "id": "863a53b5",
   "metadata": {},
   "outputs": [
    {
     "data": {
      "text/plain": [
       "3"
      ]
     },
     "execution_count": 5,
     "metadata": {},
     "output_type": "execute_result"
    }
   ],
   "source": [
    "def fib(n):\n",
    "    if n <= 1:\n",
    "        return n\n",
    "    return fib(n - 1) + fib(n - 2)\n",
    "\n",
    "fib(4) # TC is 2**n because every recursion call is call * 2 function so n recursive call is (2 * 2 * 2 * ... * 2) n times."
   ]
  },
  {
   "cell_type": "markdown",
   "id": "ff6e0414",
   "metadata": {},
   "source": [
    "#### **Print all subsequences**\n",
    "\n",
    "This is a contigous or non-contiguos sequence from an array where order is maintained\n",
    "a subsequence is basically a powerset of a set (or array). "
   ]
  },
  {
   "cell_type": "code",
   "execution_count": 13,
   "id": "f45ba988",
   "metadata": {},
   "outputs": [
    {
     "data": {
      "text/plain": [
       "[[1, 2, 3, 4],\n",
       " [1, 2, 3],\n",
       " [1, 2, 4],\n",
       " [1, 2],\n",
       " [1, 3, 4],\n",
       " [1, 3],\n",
       " [1, 4],\n",
       " [1],\n",
       " [2, 3, 4],\n",
       " [2, 3],\n",
       " [2, 4],\n",
       " [2],\n",
       " [3, 4],\n",
       " [3],\n",
       " [4],\n",
       " []]"
      ]
     },
     "execution_count": 13,
     "metadata": {},
     "output_type": "execute_result"
    }
   ],
   "source": [
    "def get_all_subsequence(arr):\n",
    "    res= []\n",
    "    n= len(arr)\n",
    "    curr= []\n",
    "    def backtrack(idx):\n",
    "        # base case\n",
    "        if idx >= n:\n",
    "            res.append(curr.copy())\n",
    "            return\n",
    "        # include\n",
    "        curr.append(arr[idx])\n",
    "        backtrack(idx + 1)\n",
    "        \n",
    "        # remove\n",
    "        curr.pop()\n",
    "        \n",
    "        # exclude\n",
    "        backtrack(idx + 1)\n",
    "\n",
    "    backtrack(0)\n",
    "    return res\n",
    "\n",
    "get_all_subsequence([1, 2, 3, 4])\n",
    "\n",
    "        "
   ]
  },
  {
   "cell_type": "code",
   "execution_count": null,
   "id": "6e91167b",
   "metadata": {},
   "outputs": [],
   "source": []
  },
  {
   "cell_type": "code",
   "execution_count": null,
   "id": "3fa39d7f",
   "metadata": {},
   "outputs": [],
   "source": []
  }
 ],
 "metadata": {
  "kernelspec": {
   "display_name": ".venv",
   "language": "python",
   "name": "python3"
  },
  "language_info": {
   "codemirror_mode": {
    "name": "ipython",
    "version": 3
   },
   "file_extension": ".py",
   "mimetype": "text/x-python",
   "name": "python",
   "nbconvert_exporter": "python",
   "pygments_lexer": "ipython3",
   "version": "3.13.3"
  }
 },
 "nbformat": 4,
 "nbformat_minor": 5
}
