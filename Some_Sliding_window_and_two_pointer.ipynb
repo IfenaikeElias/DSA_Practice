{
 "cells": [
  {
   "cell_type": "markdown",
   "id": "5430e0ab",
   "metadata": {},
   "source": [
    "### **Sliding window**\n",
    "\n",
    "they are typically 4 sliding window pattern:\n"
   ]
  },
  {
   "cell_type": "markdown",
   "id": "8a9e9efd",
   "metadata": {},
   "source": [
    "1. Constant window\n",
    "\n",
    "we can move a constant window by triming off the last element and adding one more element.\n",
    "\n",
    "we can do this by using two pointers l, r and keep moving the constant window till r passes the boundary. "
   ]
  },
  {
   "cell_type": "markdown",
   "id": "f6460b6d",
   "metadata": {},
   "source": [
    "2. Longest subarray or substring (most common pattern)\n",
    "\n",
    "**Brute force template**: generate all the subarrays and check for the condition\n",
    "\n",
    "**Better template**: they are two concepts for windows in this case:\n",
    "\n",
    "1. Expanding \n",
    "2. shrinking\n",
    "\n",
    "at any moment the length of the window is r - l + 1.\n",
    "\n",
    "we can Expand and Shrink while we manage a condition. \n",
    "\n",
    "with both shrinking and Expanding we end up with a O(2N) TC solution.\n",
    "\n",
    "\n"
   ]
  },
  {
   "cell_type": "markdown",
   "id": "ea32b68d",
   "metadata": {},
   "source": [
    "3. Number of Subarrays where (condition)"
   ]
  },
  {
   "cell_type": "markdown",
   "id": "95f27fed",
   "metadata": {},
   "source": [
    "4. Find the shortest / minimum window (condition)"
   ]
  },
  {
   "cell_type": "markdown",
   "id": "88164098",
   "metadata": {},
   "source": [
    "#### **1. Maximum points you can obtain from cards**\n",
    "\n",
    "given an array where each element gives the points of i-th card. we have to pick k cards from the front or from the back consequtively.\n"
   ]
  },
  {
   "cell_type": "code",
   "execution_count": 15,
   "id": "957f852e",
   "metadata": {},
   "outputs": [
    {
     "data": {
      "text/plain": [
       "16"
      ]
     },
     "execution_count": 15,
     "metadata": {},
     "output_type": "execute_result"
    }
   ],
   "source": [
    "def MaxCardPoint(arr, k):\n",
    "    left_sum , right_sum = 0, 0\n",
    "    n =  len(arr)\n",
    "    max_sum = 0\n",
    "    \n",
    "    for i in range(k):\n",
    "        left_sum += arr[i]\n",
    "        max_sum = left_sum\n",
    "        \n",
    "    right_index = n - 1\n",
    "    for i in range(k - 1, 0, -1):\n",
    "        left_sum -= arr[i]\n",
    "        right_sum += arr[right_index]\n",
    "        max_sum = max(max_sum, left_sum + right_sum)\n",
    "        right_index -= 1\n",
    "        \n",
    "    return max_sum\n",
    "MaxCardPoint([6, 2, 3, 4, 7, 2, 1, 7, 1], 4)"
   ]
  },
  {
   "cell_type": "code",
   "execution_count": 16,
   "id": "c89b074e",
   "metadata": {},
   "outputs": [
    {
     "data": {
      "text/plain": [
       "16"
      ]
     },
     "execution_count": 16,
     "metadata": {},
     "output_type": "execute_result"
    }
   ],
   "source": [
    "MaxCardPoint([6, 2, 3, 4, 7, 2, 1, 7, 1], 4)"
   ]
  },
  {
   "cell_type": "markdown",
   "id": "de12bfbf",
   "metadata": {},
   "source": [
    "#### **2. Longest Substring without repetiting characters**"
   ]
  },
  {
   "cell_type": "code",
   "execution_count": null,
   "id": "050069c8",
   "metadata": {},
   "outputs": [
    {
     "data": {
      "text/plain": [
       "7"
      ]
     },
     "execution_count": 17,
     "metadata": {},
     "output_type": "execute_result"
    }
   ],
   "source": [
    "def longestSubwrc(s):\n",
    "    right, left = 0, 0\n",
    "    n = len(s)\n",
    "    max_len = 0\n",
    "    hm = {}\n",
    "    \n",
    "    while right < n:\n",
    "        if hm.get(s[right]) is not None:\n",
    "            if hm[s[right]] >= left:\n",
    "                left = hm[s[right]] + 1\n",
    "    \n",
    "        max_len = max(max_len, right - left + 1)\n",
    "        \n",
    "        hm[s[right]] = right\n",
    "        right += 1\n",
    "            \n",
    "    return max_len\n",
    "\n",
    "\n",
    "longestSubwrc(\"abchdauibcijkm\")"
   ]
  },
  {
   "cell_type": "markdown",
   "id": "2b85c3a6",
   "metadata": {},
   "source": [
    "#### **3. Max Consecutive ones after flippling at most k 0's**\n",
    "\n",
    "we can think of this as the longest subarry with at most k zeros.\n",
    "\n",
    "[1,1,1,1,0,0,1,0,1,1,1,0,0,0,1,0] , k = 3"
   ]
  },
  {
   "cell_type": "code",
   "execution_count": 18,
   "id": "88b15880",
   "metadata": {},
   "outputs": [
    {
     "data": {
      "text/plain": [
       "9"
      ]
     },
     "execution_count": 18,
     "metadata": {},
     "output_type": "execute_result"
    }
   ],
   "source": [
    "def MaxConsOnesAfterFlipnKZeros(arr, k):\n",
    "    n = len(arr)\n",
    "    left, right = 0, 0 \n",
    "    max_len = 0\n",
    "    zero_count = 0\n",
    "\n",
    "    while right < n:\n",
    "        if arr[right] == 0:\n",
    "            zero_count += 1\n",
    "        while zero_count > k:\n",
    "            if arr[left] == 0:\n",
    "                zero_count -= 1\n",
    "            left += 1\n",
    "        max_len =  max(max_len, right - left + 1)\n",
    "        right += 1\n",
    "    return max_len\n",
    "\n",
    "MaxConsOnesAfterFlipnKZeros([1,1,1,1,0,0,0,1,0,1,1,1,0,0,1,1,0] ,3)\n"
   ]
  },
  {
   "cell_type": "markdown",
   "id": "adf66ba8",
   "metadata": {},
   "source": [
    "```go\n",
    "// Go solution.\n",
    "func MaxConsOnesAfterFlipnKZeros(nums []int, k int) int {\n",
    "    left := 0\n",
    "    max_len := 0\n",
    "    zero_counts := 0\n",
    "\n",
    "    for right := range nums {\n",
    "        if nums[right] == 0 {\n",
    "            zero_count ++\n",
    "        }\n",
    "        for zero > k {\n",
    "            if nums[left] == 0 {\n",
    "                zero_count --\n",
    "            }\n",
    "            left ++\n",
    "        }\n",
    "\n",
    "        max_len := max(max_len, rigth - left + 1)\n",
    "    }\n",
    "    return max_len\n",
    "}\n",
    "\n",
    "func max(a, b int) int {\n",
    "    if a > b {\n",
    "        return a\n",
    "    }\n",
    "    return b\n",
    "}\n",
    "```"
   ]
  },
  {
   "cell_type": "markdown",
   "id": "533f90d3",
   "metadata": {},
   "source": [
    "#### **4. Fruit into basket**\n",
    "\n",
    "given an array of fruits where every unique element represent fruit type, you are provided with two basket what is the maximum fruit you can pick provided that each basket takes a unique fruit type. Once you see a new third fruit we stop picking\n",
    "[3, 3, 3, 1, 2, 1, 1, 2, 3, 3, 4]\n",
    "\n",
    "here we can pick [3, 3, 3, 1] but not [3, 3, 3, 1, 1, 1, 3, 3, 3] becaue no getting to the second on 1 there's a two\n",
    "\n",
    "so in short we are looking for max length subarray with atmost 2 unique numbers\n",
    "\n",
    "\n",
    "i can has the numbers (fruits) has I transverse the array and then when I hit more than 3 fruits i would move the left pointer forward in the array while decreasing the count of that element, once the count hits"
   ]
  },
  {
   "cell_type": "code",
   "execution_count": 19,
   "id": "db3aef8f",
   "metadata": {},
   "outputs": [
    {
     "data": {
      "text/plain": [
       "7"
      ]
     },
     "execution_count": 19,
     "metadata": {},
     "output_type": "execute_result"
    }
   ],
   "source": [
    "from collections import defaultdict\n",
    "\n",
    "def FruitInBasket(arr):\n",
    "    left, right = 0, 0\n",
    "    n = len(arr)\n",
    "    max_len = 0\n",
    "    basket = defaultdict(int)\n",
    "    \n",
    "    while right < n:\n",
    "        basket[arr[right]] = basket.get(arr[right], 0) + 1\n",
    "        while len(basket) > 2:\n",
    "            basket[arr[left]] -= 1\n",
    "            if basket[arr[left]] == 0:\n",
    "                del basket[arr[left]]\n",
    "            left += 1\n",
    "        max_len = max(max_len, right - left + 1)\n",
    "        \n",
    "        right += 1\n",
    "    return max_len \n",
    "            \n",
    "        \n",
    "        \n",
    "\n",
    "FruitInBasket([3, 3, 0, 3, 1, 2, 1, 1, 1, 1, 2, 3, 3, 4])"
   ]
  },
  {
   "cell_type": "markdown",
   "id": "68dfb733",
   "metadata": {},
   "source": [
    "```go\n",
    "// Go solution\n",
    "\n",
    "func FruitInBasket(arr){\n",
    "    left := 0\n",
    "    max_len := 0\n",
    "    basket := make(map[int] int)\n",
    "\n",
    "    for right := range arr {\n",
    "        basket[arr[right]] ++\n",
    "\n",
    "        for len(basket) > 2 {\n",
    "            basket[arr[left]] --\n",
    "            if basket[arr[left]] == 0 {\n",
    "                delete(basket, arr[left])\n",
    "            }\n",
    "            left ++\n",
    "        }\n",
    "        max_len = max(max_len, right - left + 1)\n",
    "    }\n",
    "    return max_len\n",
    "}\n",
    "\n",
    "func max(a, b int) int {\n",
    "    if a > b {\n",
    "        return a\n",
    "    }\n",
    "    return b\n",
    "}\n",
    "```"
   ]
  },
  {
   "cell_type": "markdown",
   "id": "bf0ae0e2",
   "metadata": {},
   "source": [
    "there's an O(1) SC solution check striver playlist"
   ]
  },
  {
   "cell_type": "markdown",
   "id": "7f7e26e7",
   "metadata": {},
   "source": [
    "#### **5. Longest Substring with at most k distinct characters**"
   ]
  },
  {
   "cell_type": "code",
   "execution_count": 20,
   "id": "1bd45a7c",
   "metadata": {},
   "outputs": [
    {
     "data": {
      "text/plain": [
       "8"
      ]
     },
     "execution_count": 20,
     "metadata": {},
     "output_type": "execute_result"
    }
   ],
   "source": [
    "def LongestSubstringwithkdistinct(String, k):\n",
    "    left, right = 0, 0\n",
    "    max_len = 0\n",
    "    hm = {}\n",
    "    while right < len(String):\n",
    "        hm[String[right]] = hm.get(String[right], 0) + 1\n",
    "        while len(hm) > k:\n",
    "            hm[String[left]] -= 1\n",
    "            if hm[String[left]] == 0:\n",
    "                del hm[String[left]]\n",
    "            left += 1\n",
    "        max_len =  max(max_len, right - left + 1)\n",
    "        right += 1\n",
    "        \n",
    "    return max_len\n",
    "\n",
    "LongestSubstringwithkdistinct(\"abbggmbcakkkhahj\",4)"
   ]
  },
  {
   "cell_type": "markdown",
   "id": "13815a17",
   "metadata": {},
   "source": [
    "####  **6. Total number of substring with all 3 characters.**"
   ]
  },
  {
   "cell_type": "code",
   "execution_count": 21,
   "id": "b0ce9b5e",
   "metadata": {},
   "outputs": [],
   "source": [
    "def LongestSubstringwithall3chr(String):\n",
    "    count = 0\n",
    "    for i in range(len(String)):\n",
    "        hm = [0]*3\n",
    "        for j in range(i , len(String)):\n",
    "            hm[ord(String[j]) - ord(\"a\")] = 1\n",
    "            if (hm[0] + hm[1] + hm[2]) == 3:\n",
    "                count += 1\n",
    "    return count\n",
    "   "
   ]
  },
  {
   "cell_type": "code",
   "execution_count": 22,
   "id": "7791c749",
   "metadata": {},
   "outputs": [
    {
     "data": {
      "text/plain": [
       "9"
      ]
     },
     "execution_count": 22,
     "metadata": {},
     "output_type": "execute_result"
    }
   ],
   "source": [
    "LongestSubstringwithall3chr(\"bbacba\")"
   ]
  },
  {
   "cell_type": "markdown",
   "id": "050ae42f",
   "metadata": {},
   "source": [
    "optimized"
   ]
  },
  {
   "cell_type": "code",
   "execution_count": 23,
   "id": "e3743f05",
   "metadata": {},
   "outputs": [
    {
     "data": {
      "text/plain": [
       "9"
      ]
     },
     "execution_count": 23,
     "metadata": {},
     "output_type": "execute_result"
    }
   ],
   "source": [
    "def LongestSubstringwithall3chr(String):\n",
    "    hm = [-1]*3\n",
    "    count = 0\n",
    "    for i in range(len(String)):\n",
    "        hm[ord(String[i]) - ord(\"a\")] = i\n",
    "        if -1 not in hm:\n",
    "            count += (1 + min(hm))\n",
    "    return count\n",
    "LongestSubstringwithall3chr(\"bbacba\")"
   ]
  },
  {
   "cell_type": "markdown",
   "id": "de3cc431",
   "metadata": {},
   "source": [
    "#### **7. Longest repeating character with replacement**\n",
    "\n"
   ]
  },
  {
   "cell_type": "code",
   "execution_count": null,
   "id": "e81b14ba",
   "metadata": {},
   "outputs": [],
   "source": []
  },
  {
   "cell_type": "markdown",
   "id": "5fdb1070",
   "metadata": {},
   "source": [
    "#### **8. Binary Subarray with Sum**\n",
    "Given an arrays of binary numbers (1, 0), compute the total number of subarrays whose sum is equal to a given number.\n",
    "\n",
    "lol: it's the same thing as count subarray with sum k."
   ]
  },
  {
   "cell_type": "code",
   "execution_count": 24,
   "id": "abe721cb",
   "metadata": {},
   "outputs": [
    {
     "data": {
      "text/plain": [
       "4"
      ]
     },
     "execution_count": 24,
     "metadata": {},
     "output_type": "execute_result"
    }
   ],
   "source": [
    "def countsubarrays(arr, k):\n",
    "    l, r = 0, 0\n",
    "    n = len(arr)\n",
    "    curr_sum = arr[0]\n",
    "    count = 0\n",
    "    while r <= n:\n",
    "        while curr_sum > k and l <= r:\n",
    "            curr_sum -= arr[l]\n",
    "            l += 1\n",
    "        if curr_sum == k:\n",
    "            count += 1\n",
    "        r += 1       \n",
    "        if r < n:\n",
    "            curr_sum += arr[r]     \n",
    "    return count \n",
    "\n",
    "countsubarrays([1, 0, 1, 0, 1], 2)\n"
   ]
  },
  {
   "cell_type": "markdown",
   "id": "d65058f8",
   "metadata": {},
   "source": [
    "another method: using set theory K = Sum(X <= K) - Sum(X <= K - 1)"
   ]
  },
  {
   "cell_type": "code",
   "execution_count": 25,
   "id": "22a1ae45",
   "metadata": {},
   "outputs": [
    {
     "data": {
      "text/plain": [
       "4"
      ]
     },
     "execution_count": 25,
     "metadata": {},
     "output_type": "execute_result"
    }
   ],
   "source": [
    "def subarraywithsumkcount(arr, k):\n",
    "    def countsumlessorequaltoksubarray(arr, K):\n",
    "        n, r, l, = len(arr), 0, 0\n",
    "        count, sum_ = 0, 0\n",
    "        while r < n:\n",
    "            sum_ += arr[r]\n",
    "            \n",
    "            while sum_ > K:\n",
    "                sum_ -=  arr[l]\n",
    "                l += 1\n",
    "                \n",
    "            count += (r - l + 1)\n",
    "            r  += 1\n",
    "        return count\n",
    "    return countsumlessorequaltoksubarray(arr, k) - countsumlessorequaltoksubarray(arr, k - 1)\n",
    "\n",
    "subarraywithsumkcount([1, 0, 1, 0, 1], 2)\n"
   ]
  },
  {
   "cell_type": "markdown",
   "id": "d283af66",
   "metadata": {},
   "source": [
    "#### **9. Count the number of Nice Subarray**\n",
    "\n",
    "A subarray is nice if it contains k odd numbers. count the number of nice subarrays in an array, given the array and k.\n",
    "\n",
    "one way to do this is to convert the odd numbers to 1 and even to 0 and it becomes the last problem we solved. then the sum of the nice array transformation will give k."
   ]
  },
  {
   "cell_type": "code",
   "execution_count": 1,
   "id": "7b7fc5ac",
   "metadata": {},
   "outputs": [],
   "source": [
    "def NumNiceSubArray(arr, k):\n",
    "    def countsumlessorequaltoksubarray(arr, K):\n",
    "        n, r, l, = len(arr), 0, 0\n",
    "        count, sum_ = 0, 0\n",
    "        while r < n:\n",
    "            sum_ += arr[r] % 2 # gives one\n",
    "            \n",
    "            while sum_ > K:\n",
    "                sum_ -=  arr[l] % 2 # gives 0\n",
    "                l += 1\n",
    "                \n",
    "            count += (r - l + 1)\n",
    "            r  += 1\n",
    "        return count\n",
    "    return countsumlessorequaltoksubarray(arr, k) - countsumlessorequaltoksubarray(arr, k - 1)\n"
   ]
  },
  {
   "cell_type": "markdown",
   "id": "34a34116",
   "metadata": {},
   "source": [
    "#### **11. Subarray with k different integers**"
   ]
  },
  {
   "cell_type": "code",
   "execution_count": 27,
   "id": "35f731fe",
   "metadata": {},
   "outputs": [
    {
     "data": {
      "text/plain": [
       "4"
      ]
     },
     "execution_count": 27,
     "metadata": {},
     "output_type": "execute_result"
    }
   ],
   "source": [
    "def no_of_subarray_with_k_diff_int(arr, k):\n",
    "    def count_subarray_with_most_k(arr, k):\n",
    "        n = len(arr)\n",
    "        r, l, res = 0, 0, 0\n",
    "        hm = {}\n",
    "        while r < n:\n",
    "            hm[arr[r]] = hm.get(arr[r], 0) + 1\n",
    "            while len(hm) > k:\n",
    "                hm[arr[l]] -= 1\n",
    "                if hm[arr[l]] == 0:\n",
    "                    del hm[arr[l]]\n",
    "                l += 1\n",
    "            res += (r - l + 1)\n",
    "            r += 1\n",
    "        return res \n",
    "    return count_subarray_with_most_k(arr, k) - count_subarray_with_most_k(arr, k - 1)\n",
    "\n",
    "no_of_subarray_with_k_diff_int([1, 2, 1, 1, 3, 4], 3)\n"
   ]
  },
  {
   "cell_type": "markdown",
   "id": "b43e949f",
   "metadata": {},
   "source": [
    "#### **12. Minimum window Substring:**\n",
    "given strings S and T return the minimum length substring in string S which as all the characters of T in it.\n",
    "\n",
    "we can use a combination of hashing and sliding window.\n",
    "\n",
    "for s = \"ddaabbca\" , t = \"abc\"\n",
    "the minimum window substring would be 3 -> \"bca\" from s.\n",
    "\n",
    "if s = \"ddaabbc\" , t = \"abc\"\n",
    "the minimum window substring will be 4 -> \"abbc\" \n",
    "\n",
    "if s = \"ddaabbc\" , t = \"abbc\"\n",
    "the minimum window is 4-> \"abbc\" from s. \n",
    "\n"
   ]
  },
  {
   "cell_type": "code",
   "execution_count": null,
   "id": "3f729657",
   "metadata": {},
   "outputs": [],
   "source": [
    "def minimumwindowsubstring(s, t):\n",
    "    n = len(s)\n",
    "    r, l = 0, 0\n",
    "    hm = {}\n",
    "    \n",
    "\n",
    "    "
   ]
  },
  {
   "cell_type": "code",
   "execution_count": null,
   "id": "efba7964",
   "metadata": {},
   "outputs": [],
   "source": []
  },
  {
   "cell_type": "code",
   "execution_count": null,
   "id": "fd1dd6ef",
   "metadata": {},
   "outputs": [],
   "source": []
  }
 ],
 "metadata": {
  "kernelspec": {
   "display_name": ".venv",
   "language": "python",
   "name": "python3"
  },
  "language_info": {
   "codemirror_mode": {
    "name": "ipython",
    "version": 3
   },
   "file_extension": ".py",
   "mimetype": "text/x-python",
   "name": "python",
   "nbconvert_exporter": "python",
   "pygments_lexer": "ipython3",
   "version": "3.13.3"
  }
 },
 "nbformat": 4,
 "nbformat_minor": 5
}
