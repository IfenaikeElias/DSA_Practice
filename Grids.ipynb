{
 "cells": [
  {
   "cell_type": "markdown",
   "id": "4a97aa8f",
   "metadata": {},
   "source": [
    "#### **Grids/ 2D Arrays**"
   ]
  },
  {
   "cell_type": "markdown",
   "id": "18ce05cd",
   "metadata": {},
   "source": [
    "#### **1. Unique Paths**\n",
    "\n",
    "find the number of paths moving form the top left corner to the bottom right corner of a grid.\n",
    "\n",
    "We can use a depth fors search and memoisation, memoisation is done in order becase some paths are valid but we can stil follow them to get to our destination so instead of recomputing them we can just check if the path has been computed before and continue from there,"
   ]
  },
  {
   "cell_type": "code",
   "execution_count": 4,
   "id": "091ae172",
   "metadata": {},
   "outputs": [],
   "source": [
    "# we are given the number of rows and columns\n",
    "def UniquePaths(m, n):\n",
    "    # memoisation dictionary\n",
    "    memo = {}\n",
    "    # we are always going to be stopping at a tile to the destination and assume we have reach it\n",
    "    # this is because of we want to reuse that path and when doing that we don't want to cross over\n",
    "    # the destination\n",
    "\n",
    "    memo[(m - 1, n - 1)] = 1\n",
    "    # call dfs to go from top left to bottom right, compute all the distances as we go along and store the intermediate result\n",
    "\n",
    "    dfs(m, n, 0, 0)\n",
    "    \n",
    "    def dfs(m, n, x, y):\n",
    "        # if we have been on this tile we don't have to continue the dfs\n",
    "        if (x, y) in memo:\n",
    "            return memo[(x, y)]\n",
    "        # check if we aren't going out of bounds\n",
    "        if (0 <= x < m) and (0 <= y < n):\n",
    "            memo[(x, y)] = dfs(m, n, x + 1, y) + dfs(m, n, x, y + 1)\n",
    "\n",
    "            return memo[(x, y)]\n",
    "        # if we go out of bounds... invalid path\n",
    "        return 0\n",
    "\n",
    "    return memo[(0, 0)] # number of unique paths starting from 0, 0\n",
    "    "
   ]
  },
  {
   "cell_type": "code",
   "execution_count": null,
   "id": "d891bba8",
   "metadata": {},
   "outputs": [],
   "source": [
    "def unique_paths(m,n):\n",
    "    memo = {} # to store each computed parts, as they may contribute toa different part. we stop exactly before the goal\n",
    "              # so we can pass through that part again.\n",
    "    def dfs(x, y):\n",
    "        if (x, y) in memo:\n",
    "            return memo[(x, y)]\n",
    "        if x >= n or y >= m:\n",
    "            return 0\n",
    "        if x == n - 1 and y == m - 1:\n",
    "            return 1\n",
    "        memo[(x,y)] = dfs(x + 1, y) + dfs(x, y + 1)\n",
    "        \n",
    "        return memo[(x, y)]\n",
    "    \n",
    "    return dfs(0, 0)\n",
    "\n",
    "        "
   ]
  },
  {
   "cell_type": "code",
   "execution_count": null,
   "id": "4311b8b9",
   "metadata": {},
   "outputs": [],
   "source": [
    "def uniquePathsII(ObstacleGrid):\n",
    "    memo = {}\n",
    "    m = len(ObstacleGrid[0])\n",
    "    n = len(ObstacleGrid)\n",
    "\n",
    "    def dfs(x, y):\n",
    "        if (x, y) in memo:\n",
    "            return memo[(x, y)]\n",
    "        \n",
    "        if x >= m  or y >= n:\n",
    "            return 0\n",
    "        if ObstacleGrid[y][x] == 1:\n",
    "            return 0\n",
    "        if x == m - 1 and y == n - 1:\n",
    "            return 1\n",
    "        \n",
    "        memo[(x, y)] = dfs(x + 1, y) + dfs(x, y + 1)\n",
    "        return memo[(x, y)]\n",
    "    return dfs(0, 0)\n"
   ]
  },
  {
   "cell_type": "markdown",
   "id": "17df4c4f",
   "metadata": {},
   "source": []
  },
  {
   "cell_type": "code",
   "execution_count": null,
   "id": "93359b5a",
   "metadata": {},
   "outputs": [],
   "source": []
  }
 ],
 "metadata": {
  "kernelspec": {
   "display_name": ".venv",
   "language": "python",
   "name": "python3"
  },
  "language_info": {
   "codemirror_mode": {
    "name": "ipython",
    "version": 3
   },
   "file_extension": ".py",
   "mimetype": "text/x-python",
   "name": "python",
   "nbconvert_exporter": "python",
   "pygments_lexer": "ipython3",
   "version": "3.13.3"
  }
 },
 "nbformat": 4,
 "nbformat_minor": 5
}
