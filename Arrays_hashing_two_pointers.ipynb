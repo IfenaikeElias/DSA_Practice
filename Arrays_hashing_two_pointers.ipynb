{
 "cells": [
  {
   "cell_type": "markdown",
   "id": "b39dd5d4",
   "metadata": {},
   "source": [
    "#### **1. Find the Largest Element of an Array**"
   ]
  },
  {
   "cell_type": "markdown",
   "id": "06c60e71",
   "metadata": {},
   "source": [
    "### **Arrays**\n",
    "\n",
    "Arrangement of items (could be strings, integers, or any object) in contigious blocks of memory."
   ]
  },
  {
   "cell_type": "markdown",
   "id": "cfc597ed",
   "metadata": {},
   "source": [
    "Brute Force"
   ]
  },
  {
   "cell_type": "code",
   "execution_count": 1,
   "id": "a3a1d0e2",
   "metadata": {},
   "outputs": [
    {
     "data": {
      "text/plain": [
       "4"
      ]
     },
     "execution_count": 1,
     "metadata": {},
     "output_type": "execute_result"
    }
   ],
   "source": [
    "arr1 = [1, 2, 3, 4]\n",
    "def largest(arr):\n",
    "    arr.sort()\n",
    "    \n",
    "    return arr[-1]\n",
    "\n",
    "largest(arr1)"
   ]
  },
  {
   "cell_type": "markdown",
   "id": "69930f10",
   "metadata": {},
   "source": [
    "Better"
   ]
  },
  {
   "cell_type": "code",
   "execution_count": 2,
   "id": "720d27fc",
   "metadata": {},
   "outputs": [
    {
     "data": {
      "text/plain": [
       "7"
      ]
     },
     "execution_count": 2,
     "metadata": {},
     "output_type": "execute_result"
    }
   ],
   "source": [
    "def largest(arr):\n",
    "    largest = arr[0]\n",
    "\n",
    "    for i in range(len(arr)):\n",
    "        if arr[i] > largest:\n",
    "            largest =  arr[i]\n",
    "            \n",
    "    return largest\n",
    "\n",
    "arr1 = [1, 2, 3, 5, 4, 7, 4]\n",
    "largest(arr1)\n"
   ]
  },
  {
   "cell_type": "markdown",
   "id": "acb9f296",
   "metadata": {},
   "source": [
    "Second Largest Element in array without sorting"
   ]
  },
  {
   "cell_type": "markdown",
   "id": "3102d356",
   "metadata": {},
   "source": [
    "Brute:\n",
    "\n",
    "Sort then start looping from the back and check the first element that is not eqaul to the last element (the second largest)"
   ]
  },
  {
   "cell_type": "code",
   "execution_count": 6,
   "id": "6cb3e238",
   "metadata": {},
   "outputs": [],
   "source": [
    "def second_largest(arr):\n",
    "    arr.sort()\n",
    "\n",
    "    if len(arr) < 2:\n",
    "        return None\n",
    "    \n",
    "    larg = arr[-1]\n",
    "    \n",
    "    for i in range(len(arr) - 1, -1, -1):\n",
    "        if arr[i] != larg:\n",
    "            return arr[i]\n"
   ]
  },
  {
   "cell_type": "code",
   "execution_count": 7,
   "id": "30b1c1c8",
   "metadata": {},
   "outputs": [
    {
     "name": "stdout",
     "output_type": "stream",
     "text": [
      "All test cases passed!\n"
     ]
    }
   ],
   "source": [
    "arr1 = [8, 1, 2, 3, 5, 4, 7, 7, 4]  \n",
    "arr2 = []  \n",
    "arr3 = [10, 10, 10, 10]  \n",
    "\n",
    "# Running assertions\n",
    "assert second_largest(arr1) == 7, f\"Test failed for arr1\"\n",
    "assert second_largest(arr2) == None, f\"Test failed for arr2\"\n",
    "assert second_largest(arr3) == None, f\"Test failed for arr3\"\n",
    "\n",
    "print(\"All test cases passed!\")\n"
   ]
  },
  {
   "cell_type": "markdown",
   "id": "1c808d4b",
   "metadata": {},
   "source": [
    "Better: track largest and second largest, by setting second largest to the previous value of largest and if there is a value less than largest but greater than second second largest set it to second largest."
   ]
  },
  {
   "cell_type": "code",
   "execution_count": 8,
   "id": "cb42b559",
   "metadata": {},
   "outputs": [],
   "source": [
    "def second_largest(arr):\n",
    "    larg =  float(\"-inf\")\n",
    "    second_larg = float(\"-inf\")\n",
    "\n",
    "    for each in arr:\n",
    "        if each > larg:\n",
    "            larg, second_larg = each, larg\n",
    "        elif each > second_larg and each != larg:\n",
    "            second_larg = each\n",
    "        \n",
    "    if second_larg == float(\"-inf\"):\n",
    "        return None\n",
    "    else:\n",
    "        return second_larg"
   ]
  },
  {
   "cell_type": "code",
   "execution_count": 9,
   "id": "617d6d3c",
   "metadata": {},
   "outputs": [
    {
     "name": "stdout",
     "output_type": "stream",
     "text": [
      "All test cases passed!\n"
     ]
    }
   ],
   "source": [
    "arr1 = [1, 2, 3, 5, 4, 7, 7, 4]  \n",
    "arr2 = []  \n",
    "arr3 = [10, 10, 10, 10]  \n",
    "\n",
    "# Running assertions\n",
    "assert second_largest(arr1) == 5, f\"Test failed for arr1\"\n",
    "assert second_largest(arr2) == None, f\"Test failed for arr2\"\n",
    "assert second_largest(arr3) == None, f\"Test failed for arr3\"\n",
    "\n",
    "print(\"All test cases passed!\")\n"
   ]
  },
  {
   "cell_type": "markdown",
   "id": "ad2f35b8",
   "metadata": {},
   "source": [
    "### **3. Second Smallest**"
   ]
  },
  {
   "cell_type": "code",
   "execution_count": 10,
   "id": "9f5d99f0",
   "metadata": {},
   "outputs": [],
   "source": [
    "def second_smallest(arr):\n",
    "    small =  float(\"inf\")\n",
    "    second_small = float(\"inf\")\n",
    "\n",
    "    for each in arr:\n",
    "        if each < small:\n",
    "            small, second_small= each, small\n",
    "        elif each < second_small and each != small:\n",
    "            second_small = each\n",
    "        \n",
    "    if second_small == float(\"inf\"):\n",
    "        return None\n",
    "    else:\n",
    "        return second_small\n",
    "    \n"
   ]
  },
  {
   "cell_type": "code",
   "execution_count": 11,
   "id": "451685e3",
   "metadata": {},
   "outputs": [
    {
     "name": "stdout",
     "output_type": "stream",
     "text": [
      "All test cases passed!\n"
     ]
    }
   ],
   "source": [
    "arr1 = [1, 2, 3, 5, 4, 7, 7, 4]  \n",
    "arr2 = []  \n",
    "arr3 = [10, 10, 10, 10]  \n",
    "\n",
    "# Running assertions\n",
    "assert second_smallest(arr1) == 2, f\"Test failed for arr1\"\n",
    "assert second_smallest(arr2) == None, f\"Test failed for arr2\"\n",
    "assert second_smallest(arr3) == None, f\"Test failed for arr3\"\n",
    "\n",
    "print(\"All test cases passed!\")\n"
   ]
  },
  {
   "cell_type": "markdown",
   "id": "84bb4819",
   "metadata": {},
   "source": [
    "### **4. Check if array is sorted**"
   ]
  },
  {
   "cell_type": "code",
   "execution_count": 12,
   "id": "3fd85240",
   "metadata": {},
   "outputs": [],
   "source": [
    "def sorted_array(arr):\n",
    "    for i in range(1, len(arr)):\n",
    "        if arr[i] < arr[i - 1]:\n",
    "            return False\n",
    "        \n",
    "    return True"
   ]
  },
  {
   "cell_type": "code",
   "execution_count": 13,
   "id": "d65045a9",
   "metadata": {},
   "outputs": [
    {
     "name": "stdout",
     "output_type": "stream",
     "text": [
      "All test cases passed!\n"
     ]
    }
   ],
   "source": [
    "arr1 = [1, 2, 3, 5, 4, 7, 7, 4]  \n",
    "arr2 = []  \n",
    "arr3 = [10, 10, 10, 10]  \n",
    "arr4 = [1,2,3]\n",
    "\n",
    "# Running assertions\n",
    "assert sorted_array(arr1) == False, f\"Test failed for arr1\"\n",
    "assert sorted_array(arr2) == True, f\"Test failed for arr2\"\n",
    "assert sorted_array(arr3) == True, f\"Test failed for arr3\"\n",
    "assert sorted_array(arr4) == True, f\"Test failed for arr3\"\n",
    "\n",
    "\n",
    "print(\"All test cases passed!\")\n"
   ]
  },
  {
   "cell_type": "markdown",
   "id": "dc8ca97a",
   "metadata": {},
   "source": [
    "### **5. Remove duplicates in-place from sorted array**\n",
    "\n",
    "modify an array in-place by replacing duplicates with any character like \"_\" and return turn the len of the modified array (don't count the empty spaces representing previous duplicate)"
   ]
  },
  {
   "cell_type": "code",
   "execution_count": 17,
   "id": "8a6bd5a2",
   "metadata": {},
   "outputs": [
    {
     "data": {
      "text/plain": [
       "4"
      ]
     },
     "execution_count": 17,
     "metadata": {},
     "output_type": "execute_result"
    }
   ],
   "source": [
    "def RemoveDuplicates(arr):\n",
    "    arr.sort()\n",
    "    f, s = 0, 0\n",
    "    \n",
    "    while f < len(arr):\n",
    "        if arr[f] != arr[s]:\n",
    "           s +=  1\n",
    "           arr[f], arr[s] =  arr[s], arr[f]\n",
    "        f +=  1 \n",
    "        \n",
    "    return s + 1\n",
    "\n",
    "RemoveDuplicates([1, 2, 2, 3, 3, 3 , 4])"
   ]
  },
  {
   "cell_type": "code",
   "execution_count": 5,
   "id": "e1fa009f",
   "metadata": {},
   "outputs": [
    {
     "name": "stdout",
     "output_type": "stream",
     "text": [
      "All test cases passed!\n"
     ]
    }
   ],
   "source": [
    "arr1 = [1, 2, 3, 4, 4, 5, 7, 7]   \n",
    "arr2 = [10, 10, 10, 10]  \n",
    "arr3 = [1,2,3]\n",
    "\n",
    "# Running assertions\n",
    "assert RemoveDuplicates(arr1) == 6, f\"Test failed for arr1\"\n",
    "assert RemoveDuplicates(arr2) == 1, f\"Test failed for arr2\"\n",
    "assert RemoveDuplicates(arr3) == 3, f\"Test failed for arr3\"\n",
    "\n",
    "\n",
    "print(\"All test cases passed!\")\n"
   ]
  },
  {
   "cell_type": "markdown",
   "id": "48d42024",
   "metadata": {},
   "source": [
    "### **6.  Left rotate an array by one place**"
   ]
  },
  {
   "cell_type": "markdown",
   "id": "4e28bb77",
   "metadata": {},
   "source": [
    "Optimal solution"
   ]
  },
  {
   "cell_type": "code",
   "execution_count": null,
   "id": "d4c7eada",
   "metadata": {},
   "outputs": [
    {
     "data": {
      "text/plain": [
       "[3, 1, 4, 2]"
      ]
     },
     "execution_count": 150,
     "metadata": {},
     "output_type": "execute_result"
    }
   ],
   "source": [
    "def left_rotate(arr):\n",
    "    temp = arr[0]\n",
    "\n",
    "    for i in range(1, len(arr)):\n",
    "        arr[i - 1] = arr[i]\n",
    "\n",
    "    arr[len(arr) - 1] = temp\n",
    "    \n",
    "    return arr\n",
    "\n",
    "left_rotate([2, 3, 1, 4])"
   ]
  },
  {
   "cell_type": "markdown",
   "id": "59441d2a",
   "metadata": {},
   "source": [
    "### **7. Left rotate an array by d places**"
   ]
  },
  {
   "cell_type": "code",
   "execution_count": null,
   "id": "f21008dd",
   "metadata": {},
   "outputs": [
    {
     "data": {
      "text/plain": [
       "[4, 5, 6, 1, 1, 2, 3]"
      ]
     },
     "execution_count": 14,
     "metadata": {},
     "output_type": "execute_result"
    }
   ],
   "source": [
    "def left_rotate(arr, k):\n",
    "    n = len(arr)\n",
    "    k %= n\n",
    "    \n",
    "    temp = [0]*k\n",
    "     \n",
    "    for i in range(k):\n",
    "        temp[i] = arr[i]\n",
    "    \n",
    "    for i in range(k, n):\n",
    "        arr[i - k] = arr[i]\n",
    "    \n",
    "    j= 0\n",
    "    for i in range(n - k, n):\n",
    "        arr[i] = temp[j]\n",
    "        j += 1\n",
    "    \n",
    "    return arr\n",
    "    \n",
    "left_rotate([1, 2, 3, 4, 5, 6, 1], 3)\n",
    "\n",
    "\n"
   ]
  },
  {
   "cell_type": "code",
   "execution_count": 13,
   "id": "a6f0ef53",
   "metadata": {},
   "outputs": [
    {
     "data": {
      "text/plain": [
       "[5, 6, 8, 1, 2, 3, 4]"
      ]
     },
     "execution_count": 13,
     "metadata": {},
     "output_type": "execute_result"
    }
   ],
   "source": [
    "#  [1, 2, 3, 4, 5, 6, 1] , 3 ---> [4, 5, 6, 1, 2, 3]\n",
    "\n",
    "def left_rotate(arr, k):\n",
    "    n = len(arr)\n",
    "    # avoid redundant rotations by finding  k [mod(len(arr))]\n",
    "    k = k%n\n",
    "\n",
    "    def reverse(start, end):\n",
    "        # use two pointer to reverse array\n",
    "        while start < end:\n",
    "            arr[start], arr[end] = arr[end], arr[start]\n",
    "            start += 1\n",
    "            end -= 1\n",
    "\n",
    "    reverse(0, n - 1)\n",
    "    reverse(0, k - 1)\n",
    "    reverse(k, n - 1)\n",
    "    \n",
    "    return arr\n",
    "\n",
    "left_rotate([1, 2, 3, 4, 5, 6, 8], 3)"
   ]
  },
  {
   "cell_type": "markdown",
   "id": "72c343ee",
   "metadata": {},
   "source": [
    "Better"
   ]
  },
  {
   "cell_type": "code",
   "execution_count": 149,
   "id": "ebe0d078",
   "metadata": {},
   "outputs": [
    {
     "data": {
      "text/plain": [
       "[3, 1, 4, 2]"
      ]
     },
     "execution_count": 149,
     "metadata": {},
     "output_type": "execute_result"
    }
   ],
   "source": [
    "def left_rotate_d(arr, d):\n",
    "    n = len(arr)\n",
    "    d = n%d\n",
    "    temp = [0]*d\n",
    "    \n",
    "    # keep temporary\n",
    "    for i in range(d):\n",
    "        temp[i] = arr[i]\n",
    "    \n",
    "    # shift the rest\n",
    "    for i in range(d, n):\n",
    "        arr[i - d] = arr[i]\n",
    "    \n",
    "    # put temporary back\n",
    "    for i in range(n -  d, n):\n",
    "        arr[i] = temp[i - (n-d)]\n",
    "\n",
    "    return arr\n",
    "\n",
    "# O(d) + O(n - d) + O(d) = O(n + d)\n",
    "    \n",
    "\n",
    "left_rotate_d([2, 3, 1, 4], 3)\n",
    "\n",
    "\n",
    "\n"
   ]
  },
  {
   "cell_type": "code",
   "execution_count": 21,
   "id": "29875030",
   "metadata": {},
   "outputs": [
    {
     "data": {
      "text/plain": [
       "[3, 4, 5, 1, 2, 7, 6]"
      ]
     },
     "execution_count": 21,
     "metadata": {},
     "output_type": "execute_result"
    }
   ],
   "source": [
    "def rotate(arr, k):\n",
    "    n = len(arr)\n",
    "    k %= n  # Normalize k\n",
    "    \n",
    "    def reverse(start, end):\n",
    "        while start < end:\n",
    "            arr[start], arr[end] = arr[end], arr[start]\n",
    "            start += 1\n",
    "            end -= 1\n",
    "    \n",
    "    reverse(0, n - 1)\n",
    "    reverse(0, n - k)\n",
    "    reverse(k, n - 1)\n",
    "\n",
    "    return arr\n",
    "\n",
    "arr = [1, 2, 3, 4, 5, 6, 7]\n",
    "rotate(arr, 3)\n"
   ]
  },
  {
   "cell_type": "markdown",
   "id": "6e462212",
   "metadata": {},
   "source": [
    "Optimal"
   ]
  },
  {
   "cell_type": "code",
   "execution_count": null,
   "id": "fb666f07",
   "metadata": {},
   "outputs": [],
   "source": []
  },
  {
   "cell_type": "markdown",
   "id": "55d96e10",
   "metadata": {},
   "source": [
    "### **8. Move all zeros to the end of the array**"
   ]
  },
  {
   "cell_type": "markdown",
   "id": "e894859f",
   "metadata": {},
   "source": [
    "Brute"
   ]
  },
  {
   "cell_type": "code",
   "execution_count": null,
   "id": "1bc8827f",
   "metadata": {},
   "outputs": [
    {
     "data": {
      "text/plain": [
       "[1, 1, 8, 2, 1, 1, 0, 0, 0]"
      ]
     },
     "execution_count": 147,
     "metadata": {},
     "output_type": "execute_result"
    }
   ],
   "source": [
    "def move_zeros(arr):\n",
    "    temp = []\n",
    "    n = len(arr)\n",
    "\n",
    "    for each in arr:\n",
    "        if each != 0:\n",
    "            temp.append(each)\n",
    "    # O(n)\n",
    "\n",
    "    s =  len(temp)\n",
    "    for i in range(s):\n",
    "        arr[i] = temp[i]\n",
    "    # O(s)\n",
    "    \n",
    "    for i in range(s, n):\n",
    "        arr[i] = 0\n",
    "    # O(n - s)\n",
    "\n",
    "    return arr\n",
    "    # O(2n) time, O(s) space. s is len(temp) \n",
    "\n",
    "move_zeros([1, 1, 0, 0, 8, 2, 0, 1, 1])"
   ]
  },
  {
   "cell_type": "markdown",
   "id": "a6424849",
   "metadata": {},
   "source": [
    "Optimal\n",
    "\n",
    "Two pointer array."
   ]
  },
  {
   "cell_type": "code",
   "execution_count": 2,
   "id": "ac7df63d",
   "metadata": {},
   "outputs": [
    {
     "name": "stdout",
     "output_type": "stream",
     "text": [
      "[1, 1, 8, 2, 1, 1, 0, 0, 0]\n"
     ]
    }
   ],
   "source": [
    "# Using while loop\n",
    "\n",
    "def move_zeros(arr):\n",
    "    slow = 0\n",
    "    fast = 0\n",
    "\n",
    "    while fast < len(arr):\n",
    "        if arr[fast] != 0:\n",
    "            arr[slow], arr[fast] = arr[fast], arr[slow]\n",
    "            slow += 1\n",
    "        fast += 1\n",
    "        \n",
    "    return arr\n",
    "\n",
    "# Test the function\n",
    "print(move_zeros([1, 1, 0, 0, 8, 2, 0, 1, 1]))  # Output: [1, 1, 8, 2, 1, 1, 0, 0, 0]\n"
   ]
  },
  {
   "cell_type": "markdown",
   "id": "71ec05e7",
   "metadata": {},
   "source": [
    "### **9. Linear Search**\n",
    "\n",
    "Find the occourence of a number in an array,"
   ]
  },
  {
   "cell_type": "code",
   "execution_count": 145,
   "id": "4046005e",
   "metadata": {},
   "outputs": [
    {
     "name": "stdout",
     "output_type": "stream",
     "text": [
      "4\n"
     ]
    }
   ],
   "source": [
    "def LinearSearch(arr, num):\n",
    "    for i in range(len(arr)):\n",
    "        if arr[i] ==  num:\n",
    "            return i\n",
    "        \n",
    "    return -1\n",
    "\n",
    "print(LinearSearch([1, 1, 0, 0, 8, 2, 0, 1, 1], 8))  # [1, 1, 8, 2, 1, 1, 0, 0, 0]\n",
    "\n",
    "\n",
    " "
   ]
  },
  {
   "cell_type": "markdown",
   "id": "3cf63223",
   "metadata": {},
   "source": [
    "### **10. Union and Intersection of two sorted arrays**"
   ]
  },
  {
   "cell_type": "code",
   "execution_count": null,
   "id": "518cf421",
   "metadata": {},
   "outputs": [],
   "source": []
  },
  {
   "cell_type": "markdown",
   "id": "97e410c8",
   "metadata": {},
   "source": [
    "Brute force"
   ]
  },
  {
   "cell_type": "markdown",
   "id": "0bbd1a8f",
   "metadata": {},
   "source": [
    "Converting two array into set"
   ]
  },
  {
   "cell_type": "code",
   "execution_count": 144,
   "id": "996861b9",
   "metadata": {},
   "outputs": [],
   "source": [
    "def Union(arr1, arr2):\n",
    "    set1 = set(arr1)\n",
    "    set2 = set(arr2)\n",
    "    \n",
    "    return list(set1 | set2)"
   ]
  },
  {
   "cell_type": "code",
   "execution_count": 5,
   "id": "0e2109fb",
   "metadata": {},
   "outputs": [
    {
     "name": "stdout",
     "output_type": "stream",
     "text": [
      "[1, 2, 3, 4, 5, 6]\n"
     ]
    }
   ],
   "source": [
    "print(Union([1,2,3,3,4], [2,3,4,5,6]))"
   ]
  },
  {
   "cell_type": "code",
   "execution_count": 16,
   "id": "a74b9145",
   "metadata": {},
   "outputs": [
    {
     "name": "stdout",
     "output_type": "stream",
     "text": [
      "[1, 2, 3, 4, 5, 6]\n"
     ]
    }
   ],
   "source": [
    "def Union(arr1, arr2):\n",
    "    n1 =  len(arr1)\n",
    "    n2 = len(arr2)\n",
    "    p1 , p2 = 0, 0\n",
    "    res = []\n",
    "    \n",
    "    while p1 < n1 and p2 < n2:\n",
    "        if arr1[p1] <= arr2[p2]:\n",
    "            if not res or res[-1] != arr1[p1]:\n",
    "                res.append(arr1[p1])\n",
    "            p1 += 1\n",
    "                \n",
    "        else:\n",
    "            if not res or res[-1] != arr2[p2]:\n",
    "                res.append(arr2[p2])\n",
    "            p2 += 1\n",
    "            \n",
    "    while p1 < n1:\n",
    "        if not res or res[-1] != arr1[p1]:\n",
    "            res.append(arr1[p1])\n",
    "        p1 +=  1\n",
    "        \n",
    "    while p2 <  n2:\n",
    "        if not res or res[-1] != arr2[p2]:\n",
    "            res.append(arr2[p2])\n",
    "        p2 +=  1\n",
    "        \n",
    "    return res\n",
    "        \n",
    "        \n",
    "print(Union([1,3,3,4], [2,3,4,5,6]))\n",
    "\n",
    "                    \n",
    "    \n",
    "    "
   ]
  },
  {
   "cell_type": "markdown",
   "id": "48b52c99",
   "metadata": {},
   "source": [
    "Using one set"
   ]
  },
  {
   "cell_type": "code",
   "execution_count": 143,
   "id": "4a5ef505",
   "metadata": {},
   "outputs": [
    {
     "name": "stdout",
     "output_type": "stream",
     "text": [
      "[1, 2, 3, 4, 5, 6]\n"
     ]
    }
   ],
   "source": [
    "def Union(arr1, arr2):\n",
    "    set_res =  set()\n",
    "\n",
    "    for each in arr1:\n",
    "        set_res.add(each)\n",
    "    for each in arr2:\n",
    "        set_res.add(each)\n",
    "        \n",
    "    return list(set_res)\n",
    "\n",
    "print(Union([1,3,3,4], [2,3,4,5,6]))"
   ]
  },
  {
   "cell_type": "code",
   "execution_count": null,
   "id": "b65e85e7",
   "metadata": {},
   "outputs": [],
   "source": [
    "\n",
    "def Union(arr1, arr2):\n",
    "    n1 , n2 = len(arr1), len(arr2)\n",
    "    fp, sp = 0, 0\n",
    "    res = []\n",
    "\n",
    "    if not arr1: return arr2\n",
    "    if not arr2: return arr1\n",
    "    \n",
    "    while fp < n1 and sp < n2:\n",
    "        if arr1[fp] <= arr2[sp]:\n",
    "            if not res or res[-1] != arr1[fp]:\n",
    "                res.append(arr1[fp])\n",
    "            fp += 1\n",
    "        else:\n",
    "            if not res or res[-1] !=  arr2[sp]:\n",
    "                res.append(arr2[sp])\n",
    "            sp += 1\n",
    "    \n",
    "    while fp < n1:\n",
    "        if not res or res[-1] != arr1[fp]:\n",
    "            res.append(arr1[fp])\n",
    "        fp += 1\n",
    "    \n",
    "    while sp < n2:\n",
    "        if not res or res[-1] != arr2[sp]:\n",
    "            res.append(arr2[sp])\n",
    "        sp += 1\n",
    "    \n",
    "    return res\n"
   ]
  },
  {
   "cell_type": "code",
   "execution_count": 11,
   "id": "6745bf36",
   "metadata": {},
   "outputs": [
    {
     "name": "stdout",
     "output_type": "stream",
     "text": [
      "[1, 2, 3, 4, 5, 6]\n"
     ]
    }
   ],
   "source": [
    "def Union(arr1, arr2):\n",
    "    p1, p2 = 0, 0\n",
    "    n1, n2 = len(arr1), len(arr2)\n",
    "    res = []\n",
    "\n",
    "    while p1 < n1 and p2 < n2:\n",
    "        if arr1[p1] <= arr2[p2]:\n",
    "            if not res or res[-1] != arr1[p1]:\n",
    "                res.append(arr1[p1])\n",
    "            p1 += 1\n",
    "        else:\n",
    "            if not res or res[-1] != arr2[p2]:\n",
    "                res.append(arr2[p2])\n",
    "            p2 += 1\n",
    "\n",
    "    while (p1 < n1):\n",
    "        if not res or res[-1] != arr1[p1]:\n",
    "            res.append(arr1[p1])\n",
    "        p1 += 1\n",
    "\n",
    "    while (p2 < n2):\n",
    "        if not res or res[-1] != arr2[p2]:\n",
    "            res.append(arr2[p2])\n",
    "        p2 += 1\n",
    "\n",
    "    return res\n",
    "\n",
    "print(Union([1,3,3,4], [2,3,4,5,6]))\n"
   ]
  },
  {
   "cell_type": "markdown",
   "id": "bcc6953f",
   "metadata": {},
   "source": [
    "Optimal: Two pointer"
   ]
  },
  {
   "cell_type": "code",
   "execution_count": null,
   "id": "0b6daa77",
   "metadata": {},
   "outputs": [
    {
     "name": "stdout",
     "output_type": "stream",
     "text": [
      "[1, 2, 3, 4, 5, 6]\n"
     ]
    }
   ],
   "source": [
    "def Union(arr1, arr2):\n",
    "    fp = 0\n",
    "    sp = 0\n",
    "    n1 = len(arr1)\n",
    "    n2 = len(arr2) \n",
    "    res = []\n",
    "\n",
    "    while (fp <  n1) and (sp < n2):\n",
    "        if arr1[fp] <= arr2[sp]: \n",
    "            if not res or res[-1] != arr1[fp]:\n",
    "                res.append(arr1[fp])\n",
    "            fp += 1\n",
    "\n",
    "        else:\n",
    "            if not res or res[-1] != arr2[sp]:\n",
    "                res.append(arr2[sp])\n",
    "            sp += 1\n",
    "\n",
    "\n",
    "    while (sp <  n2):\n",
    "        if not res or res[-1] != arr2[sp]:\n",
    "                res.append(arr2[sp])\n",
    "        sp += 1\n",
    "\n",
    "    while (fp <  n1):\n",
    "        if not res or res[-1] != arr1[fp]:\n",
    "                res.append(arr1[fp])\n",
    "        fp += 1\n",
    "\n",
    "    return res\n",
    "\n",
    "\n",
    "print(Union([1,3,3,4], [2,3,4,5,6]))"
   ]
  },
  {
   "cell_type": "markdown",
   "id": "3e4aa095",
   "metadata": {},
   "source": [
    "Intersection"
   ]
  },
  {
   "cell_type": "code",
   "execution_count": 15,
   "id": "3067b689",
   "metadata": {},
   "outputs": [
    {
     "name": "stdout",
     "output_type": "stream",
     "text": [
      "[3, 4]\n"
     ]
    }
   ],
   "source": [
    "def Intersection(arr1, arr2):\n",
    "    set1 = set(arr1)\n",
    "    set2 = set(arr2)\n",
    "    return list(set1 & set2)\n",
    "\n",
    "print(Intersection([1,3,3,4], [2,3,4,5,6]))\n"
   ]
  },
  {
   "cell_type": "code",
   "execution_count": 20,
   "id": "d0e71de5",
   "metadata": {},
   "outputs": [
    {
     "name": "stdout",
     "output_type": "stream",
     "text": [
      "[1, 2, 4]\n"
     ]
    }
   ],
   "source": [
    "def Intersection(arr1, arr2):\n",
    "    f, s =0, 0\n",
    "    n1 , n2 = len(arr1), len(arr2)\n",
    "    res  = []\n",
    "    while f < n1 and s < n2:\n",
    "        if arr1[f] < arr2[s]:\n",
    "            f += 1\n",
    "        elif arr1[f] ==  arr2[s]:\n",
    "            res.append(arr1[f])\n",
    "            f += 1\n",
    "            s += 1\n",
    "        else:\n",
    "            s += 1\n",
    "            \n",
    "    return res\n",
    "\n",
    "print(Intersection(sorted([1, 2, 3, 4, 9]),sorted([0, 1, 2, 4, 7])))"
   ]
  },
  {
   "cell_type": "markdown",
   "id": "20d765ce",
   "metadata": {},
   "source": [
    "Optimal: "
   ]
  },
  {
   "cell_type": "code",
   "execution_count": null,
   "id": "d830d5a2",
   "metadata": {},
   "outputs": [
    {
     "name": "stdout",
     "output_type": "stream",
     "text": [
      "[1, 2, 4]\n"
     ]
    }
   ],
   "source": [
    "def Intersection(arr1, arr2):\n",
    "    n1 = len(arr1)\n",
    "    n2 = len(arr2)\n",
    "    fp = 0\n",
    "    sp = 0\n",
    "    res = []\n",
    "\n",
    "    while (fp < n1) and (sp < n2):\n",
    "        if arr1[fp] < arr2[sp]:\n",
    "            fp += 1\n",
    "        elif arr1[fp] == arr2[sp]:\n",
    "            res.append(arr1[fp])\n",
    "            sp += 1 \n",
    "            fp += 1\n",
    "        else:\n",
    "            sp += 1\n",
    "            \n",
    "    return res\n",
    "\n",
    "# worst case TC = O(n1 + n2) # worse case\n",
    "# space complexity O(n)\n",
    "            \n",
    "print(Intersection(sorted([1, 2, 3, 4, 9]),sorted([0, 1, 2, 4, 7])))"
   ]
  },
  {
   "cell_type": "markdown",
   "id": "4c425b58",
   "metadata": {},
   "source": [
    "### **11.  Finding missing number in an array**\n",
    "\n"
   ]
  },
  {
   "cell_type": "markdown",
   "id": "e308134e",
   "metadata": {},
   "source": [
    "using hashing approach:"
   ]
  },
  {
   "cell_type": "code",
   "execution_count": 3,
   "id": "19222cde",
   "metadata": {},
   "outputs": [
    {
     "data": {
      "text/plain": [
       "3"
      ]
     },
     "execution_count": 3,
     "metadata": {},
     "output_type": "execute_result"
    }
   ],
   "source": [
    "def Missing(arr, n):\n",
    "\n",
    "    for i in range(1, n+1):\n",
    "        if i not in arr:\n",
    "            return i\n",
    "    \n",
    "    \n",
    "\n",
    "Missing([1,2,4], 4)"
   ]
  },
  {
   "cell_type": "markdown",
   "id": "ed6d813f",
   "metadata": {},
   "source": [
    "Using Sum:\n",
    "\n",
    "to find missing number Subtract sum of array from sum of first n natural numbers."
   ]
  },
  {
   "cell_type": "code",
   "execution_count": 1,
   "id": "a7170392",
   "metadata": {},
   "outputs": [
    {
     "data": {
      "text/plain": [
       "3"
      ]
     },
     "execution_count": 1,
     "metadata": {},
     "output_type": "execute_result"
    }
   ],
   "source": [
    "def Missing(arr, n):\n",
    "    sum1 = n * (n + 1)// 2 # sum of n natural numbers\n",
    "    sum2 = 0\n",
    "\n",
    "    for i in range(n - 1):\n",
    "        sum2 +=  arr[i]\n",
    "        \n",
    "    return sum1 - sum2\n",
    "\n",
    "Missing([1,2,4], 4)"
   ]
  },
  {
   "cell_type": "markdown",
   "id": "729c6846",
   "metadata": {},
   "source": [
    "Using XOR"
   ]
  },
  {
   "cell_type": "code",
   "execution_count": null,
   "id": "9b5f3931",
   "metadata": {},
   "outputs": [
    {
     "data": {
      "text/plain": [
       "3"
      ]
     },
     "execution_count": 2,
     "metadata": {},
     "output_type": "execute_result"
    }
   ],
   "source": [
    "def Missing(arr, n):\n",
    "\n",
    "    XOR1 = 0\n",
    "    XOR2 = 0\n",
    "    N = n - 1\n",
    "    \n",
    "    for i in range(N):\n",
    "        XOR1 ^= arr[i]\n",
    "        XOR2 ^= (i+1)\n",
    "\n",
    "    return XOR1 ^ (XOR2 ^ n)\n",
    "\n",
    "Missing([1,2,4], 4)"
   ]
  },
  {
   "cell_type": "markdown",
   "id": "e0acd206",
   "metadata": {},
   "source": [
    "### **12. Maximum Consecutive 1's**\n"
   ]
  },
  {
   "cell_type": "code",
   "execution_count": 3,
   "id": "0df59fd3",
   "metadata": {},
   "outputs": [
    {
     "data": {
      "text/plain": [
       "4"
      ]
     },
     "execution_count": 3,
     "metadata": {},
     "output_type": "execute_result"
    }
   ],
   "source": [
    "def maxones(arr):\n",
    "    count = 0\n",
    "    max_ = 0\n",
    "\n",
    "    for each in arr:\n",
    "        if each == 1:\n",
    "            count += 1\n",
    "            max_ =  max(count, max_)\n",
    "        else:\n",
    "            count = 0\n",
    "            \n",
    "    return max_\n",
    "maxones([1,1,0,0,1,1,1,1,0,1,0])"
   ]
  },
  {
   "cell_type": "markdown",
   "id": "d50e0f83",
   "metadata": {},
   "source": [
    "### **13. Find the number that appears once, while the rest appear twice**"
   ]
  },
  {
   "cell_type": "markdown",
   "id": "33f188bc",
   "metadata": {},
   "source": [
    "Using hash map:"
   ]
  },
  {
   "cell_type": "code",
   "execution_count": 5,
   "id": "3a01e98f",
   "metadata": {},
   "outputs": [
    {
     "data": {
      "text/plain": [
       "3"
      ]
     },
     "execution_count": 5,
     "metadata": {},
     "output_type": "execute_result"
    }
   ],
   "source": [
    "from collections import Counter\n",
    "def AppearsOnce(arr):\n",
    "    hm = Counter(arr)\n",
    "\n",
    "    for k, v in hm.items():\n",
    "        if v == 1:\n",
    "            return k\n",
    "\n",
    "AppearsOnce([1,1,2,2,3,8,8])\n"
   ]
  },
  {
   "cell_type": "markdown",
   "id": "e9ee208e",
   "metadata": {},
   "source": [
    "Using XOR:"
   ]
  },
  {
   "cell_type": "code",
   "execution_count": 6,
   "id": "5974cb38",
   "metadata": {},
   "outputs": [
    {
     "data": {
      "text/plain": [
       "3"
      ]
     },
     "execution_count": 6,
     "metadata": {},
     "output_type": "execute_result"
    }
   ],
   "source": [
    "def AppersOnce(arr):\n",
    "    XOR = 0\n",
    "\n",
    "    for each in arr:\n",
    "        XOR ^= each\n",
    "        \n",
    "    return XOR\n",
    "\n",
    "AppersOnce([1,1,2,2,3,8,8])"
   ]
  },
  {
   "cell_type": "markdown",
   "id": "99ab23a7",
   "metadata": {},
   "source": [
    "#### A **Subarray** is a contigious part of an array"
   ]
  },
  {
   "cell_type": "code",
   "execution_count": 24,
   "id": "659a3b78",
   "metadata": {},
   "outputs": [
    {
     "name": "stdout",
     "output_type": "stream",
     "text": [
      "All test cases passed!\n"
     ]
    }
   ],
   "source": [
    "def LongestSubArray(arr, k):\n",
    "    hm = {}\n",
    "    sum_ = 0\n",
    "    n = len(arr)\n",
    "    lent = 0 \n",
    "    \n",
    "    for i in range(n):\n",
    "        sum_ += arr[i]\n",
    "        if hm.get(sum_) is None:\n",
    "            hm[sum_] = i\n",
    "        rem = sum_ - k\n",
    "        if hm.get(rem) is not None:\n",
    "            lent = max(i - hm[rem], lent)\n",
    "        if sum_ == k:\n",
    "            lent = max(lent, i + 1)\n",
    "        \n",
    "    return lent\n",
    "            \n",
    "\n",
    "            \n",
    "assert LongestSubArray([2, 0, 3, 1], 4) == 3, f\"Test failed for arr1\"\n",
    "assert LongestSubArray([2, 0, 0, 3, 1], 4) == 4 , f\"Test failed for arr2\"\n",
    "assert LongestSubArray([2, 0, 3, 1], 5) == 3 , f\"Test failed for arr3\"\n",
    "\n",
    "print(\"All test cases passed!\")"
   ]
  },
  {
   "cell_type": "markdown",
   "id": "d94e9c75",
   "metadata": {},
   "source": [
    "### **14. Largest Subarray with Sum K**"
   ]
  },
  {
   "cell_type": "markdown",
   "id": "c4be39b1",
   "metadata": {},
   "source": [
    "Brute force"
   ]
  },
  {
   "cell_type": "code",
   "execution_count": 13,
   "id": "601348f3",
   "metadata": {},
   "outputs": [
    {
     "name": "stdout",
     "output_type": "stream",
     "text": [
      "All test cases passed!\n"
     ]
    }
   ],
   "source": [
    "def LongestSubArray(arr, k):\n",
    "    lent = 0\n",
    "\n",
    "    for i in range(len(arr)):\n",
    "        s = 0\n",
    "\n",
    "        for j in range(i, len(arr)):\n",
    "            s += arr[j]\n",
    "\n",
    "            if s == k:\n",
    "                lent = max(lent, j - i + 1)\n",
    "                \n",
    "    return lent\n",
    "    \n",
    "\n",
    "\n",
    "assert LongestSubArray([2, 0, 3, 1], 4) == 3, f\"Test failed for arr1\"\n",
    "assert LongestSubArray([2, 0, 0, 3, 1], 4) == 4 , f\"Test failed for arr2\"\n",
    "assert LongestSubArray([2, 0, 3, 1], 5) == 3 , f\"Test failed for arr3\"\n",
    "\n",
    "print(\"All test cases passed!\")\n"
   ]
  },
  {
   "cell_type": "markdown",
   "id": "71d93634",
   "metadata": {},
   "source": [
    "Better:\n",
    "\n",
    "using hashing and prefix sum"
   ]
  },
  {
   "cell_type": "code",
   "execution_count": null,
   "id": "80a0d0df",
   "metadata": {},
   "outputs": [
    {
     "name": "stdout",
     "output_type": "stream",
     "text": [
      "All test cases passed!\n"
     ]
    }
   ],
   "source": [
    "def LongestSubArray(arr, k):\n",
    "    hm = {}\n",
    "    max_len = 0\n",
    "    sum = 0\n",
    "\n",
    "    for i in range(len(arr)):\n",
    "        sum += arr[i]\n",
    "        if hm.get(sum) is None:\n",
    "            hm[sum] = i\n",
    "        if sum == k:\n",
    "            max_len = max(max_len, i + 1)\n",
    "        rem = sum - k\n",
    "        if hm.get(rem) is not None:\n",
    "            max_len = max(i - hm[rem], max_len)\n",
    "            \n",
    "    return max_len\n",
    "\n",
    "\n",
    "assert LongestSubArray([2, 0, 3, 1], 4) == 3, f\"Test failed for arr1\"\n",
    "assert LongestSubArray([2, 0, 0, 3, 1], 4) == 4 , f\"Test failed for arr2\"\n",
    "assert LongestSubArray([2, 0, 3, 1], 5) == 3 , f\"Test failed for arr3\"\n",
    "\n",
    "print(\"All test cases passed!\")\n",
    "\n"
   ]
  },
  {
   "cell_type": "code",
   "execution_count": null,
   "id": "3b4e7239",
   "metadata": {},
   "outputs": [],
   "source": [
    "\"SLiding window (catterpillar template)\"\n",
    "\n",
    "def catterpillar(arr):\n",
    "    n = len(arr)\n",
    "    r, l = 0, 0\n",
    "    # more optimization variables\n",
    "    \n",
    "    while r < n:\n",
    "        while \"some condti0, 3, 1, 2on\" and l <= r:\n",
    "            #...some logic using l\n",
    "            l -=  1\n",
    "    r += 1\n",
    "        "
   ]
  },
  {
   "cell_type": "markdown",
   "id": "25c40da0",
   "metadata": {},
   "source": [
    "Optimal: Two pointer/ Caterpillar approach."
   ]
  },
  {
   "cell_type": "code",
   "execution_count": 2,
   "id": "ab06f1d9",
   "metadata": {},
   "outputs": [
    {
     "name": "stdout",
     "output_type": "stream",
     "text": [
      "All test cases passed!\n"
     ]
    }
   ],
   "source": [
    "def LongestSubArray(arr, k):\n",
    "    l, r = 0, 0\n",
    "    max_len = 0\n",
    "    cur_sum =  arr[0]\n",
    "    n = len(arr)\n",
    "\n",
    "    while r < n:\n",
    "        while cur_sum > k and l <= r:\n",
    "            cur_sum -= arr[l]\n",
    "            l += 1\n",
    "        if cur_sum == k:\n",
    "            max_len = max(max_len, r - l + 1)\n",
    "        \n",
    "        r += 1\n",
    "        if r < n:\n",
    "            cur_sum += arr[r]\n",
    "\n",
    "    return max_len\n",
    "# TC -> O(2N) max not O(n^2) because r is transversing once and l will also transvere a max of once say worst case. O(n^2) \n",
    "# would be for ever movement of r, l transverses the entire array.\n",
    "\n",
    "assert LongestSubArray([2, 0, 3, 1], 4) == 3, f\"Test failed for arr1\"\n",
    "assert LongestSubArray([2, 0, 0, 3, 1], 4) == 4 , f\"Test failed for arr2\"\n",
    "assert LongestSubArray([2, 0, 3, 1], 5) == 3 , f\"Test failed for arr3\"\n",
    "\n",
    "print(\"All test cases passed!\")\n",
    "\n"
   ]
  },
  {
   "cell_type": "markdown",
   "id": "3445d938",
   "metadata": {},
   "source": [
    "### **15. Number of subarray with sum k**"
   ]
  },
  {
   "cell_type": "code",
   "execution_count": null,
   "id": "94660f2f",
   "metadata": {},
   "outputs": [
    {
     "data": {
      "text/plain": [
       "4"
      ]
     },
     "execution_count": 25,
     "metadata": {},
     "output_type": "execute_result"
    }
   ],
   "source": [
    "def Sumk(arr, k):\n",
    "    l, r = 0, 0\n",
    "    cur_sum = arr[0]\n",
    "    res = 0\n",
    "    n = len(arr)\n",
    "\n",
    "    while r < n:\n",
    "        while cur_sum > k and l <= r:\n",
    "            cur_sum -= arr[l]\n",
    "            l += 1\n",
    "        if cur_sum == k:\n",
    "            res += 1\n",
    "        r += 1\n",
    "        if r < n:\n",
    "            cur_sum += arr[r]\n",
    "            \n",
    "    return res\n",
    "\n",
    "Sumk([1, 0, 0, 2, 0, 3, 0, 8], 3)\n"
   ]
  },
  {
   "cell_type": "markdown",
   "id": "30aa9966",
   "metadata": {},
   "source": [
    "### **16. Two sum (I)** "
   ]
  },
  {
   "cell_type": "markdown",
   "id": "d3e205b3",
   "metadata": {},
   "source": [
    "Brute Force:"
   ]
  },
  {
   "cell_type": "code",
   "execution_count": 50,
   "id": "f1203e27",
   "metadata": {},
   "outputs": [
    {
     "data": {
      "text/plain": [
       "(3, 2)"
      ]
     },
     "execution_count": 50,
     "metadata": {},
     "output_type": "execute_result"
    }
   ],
   "source": [
    "def TwoSum(arr, k):\n",
    "    for i in range(len(arr)):\n",
    "        for j in range(i + 1):\n",
    "            if (arr[i] + arr[j] == k):\n",
    "                return i , j\n",
    "            \n",
    "TwoSum([1, 2, 5, 3, 8], 8)"
   ]
  },
  {
   "cell_type": "markdown",
   "id": "1845ab7b",
   "metadata": {},
   "source": [
    "Better: using hashing"
   ]
  },
  {
   "cell_type": "code",
   "execution_count": 37,
   "id": "3141f8e9",
   "metadata": {},
   "outputs": [
    {
     "data": {
      "text/plain": [
       "[2, 3]"
      ]
     },
     "execution_count": 37,
     "metadata": {},
     "output_type": "execute_result"
    }
   ],
   "source": [
    "from collections import defaultdict\n",
    "\n",
    "def TwoSum(arr, k):\n",
    "    hm = defaultdict(int)\n",
    "\n",
    "    for idx, val in enumerate(arr):\n",
    "        compliment = k - val\n",
    "        \n",
    "        if hm.get(compliment) is not None:\n",
    "            return [hm[compliment], idx]\n",
    "        \n",
    "        hm[val] = idx\n",
    "\n",
    "TwoSum([1, 2, 5, 3, 8], 8)"
   ]
  },
  {
   "cell_type": "markdown",
   "id": "768e9606",
   "metadata": {},
   "source": [
    "Optimal: using two pointer"
   ]
  },
  {
   "cell_type": "code",
   "execution_count": 38,
   "id": "1a31d399",
   "metadata": {},
   "outputs": [
    {
     "data": {
      "text/plain": [
       "(2, 3)"
      ]
     },
     "execution_count": 38,
     "metadata": {},
     "output_type": "execute_result"
    }
   ],
   "source": [
    "def TwoSum(arr, k):\n",
    "    arr.sort()\n",
    "    l,  r = 0, len(arr) - 1\n",
    "    \n",
    "    while l < r:\n",
    "        cur_sum = arr[l] + arr[r]\n",
    "        if cur_sum == k:\n",
    "            return l, r\n",
    "        elif cur_sum < k:\n",
    "            l += 1\n",
    "        else:\n",
    "            r -= 1\n",
    "\n",
    "TwoSum([1, 2, 5, 3, 8], 8)\n"
   ]
  },
  {
   "cell_type": "markdown",
   "id": "55b1f9c1",
   "metadata": {},
   "source": [
    "### **17. Sort Colours or  0, 1 and 2s.**"
   ]
  },
  {
   "cell_type": "markdown",
   "id": "15989119",
   "metadata": {},
   "source": [
    "Brute force: Using any sorting algorithm"
   ]
  },
  {
   "cell_type": "code",
   "execution_count": null,
   "id": "5dd04a69",
   "metadata": {},
   "outputs": [],
   "source": [
    "def SortColours(arr):\n",
    "    # implemet something , maybe mergesort\n",
    "    pass"
   ]
  },
  {
   "cell_type": "markdown",
   "id": "984d3959",
   "metadata": {},
   "source": [
    "Better:"
   ]
  },
  {
   "cell_type": "code",
   "execution_count": 54,
   "id": "91101e9d",
   "metadata": {},
   "outputs": [
    {
     "data": {
      "text/plain": [
       "[0, 0, 0, 1, 1, 1, 2, 2]"
      ]
     },
     "execution_count": 54,
     "metadata": {},
     "output_type": "execute_result"
    }
   ],
   "source": [
    "def SortColours(arr):\n",
    "    z, o, t = 0, 0, 0 # keep count of zeros, ones and two\n",
    "\n",
    "    for each in arr:\n",
    "        if each == 0:\n",
    "            z += 1\n",
    "        elif each ==  1:\n",
    "            o += 1\n",
    "        else:\n",
    "            t += 1\n",
    "\n",
    "    for i in range(z):\n",
    "        arr[i] = 0\n",
    "    for i in range(z, z + o):\n",
    "        arr[i] = 1\n",
    "    for i in range(z + o, len(arr)):\n",
    "        arr[i] = 2\n",
    "    return arr\n",
    "\n",
    "SortColours([0, 1, 1, 0, 2 , 2, 1, 0])\n"
   ]
  },
  {
   "cell_type": "markdown",
   "id": "7b1ec012",
   "metadata": {},
   "source": [
    "Optimal (Darnish Flag algorithm (DNF) / Three pointer method):\n",
    "we will use three pointers, low, middle and high\n",
    "everything from index 0 to low - 1 should be 0, from low to mid - 1 should be 1 and from high + 1 should 2\n",
    "from mid to high should be unsorted (0s, 1s, and 2s). \n",
    "our goal is to sort the unsorted aread (mid to high - 1)."
   ]
  },
  {
   "cell_type": "code",
   "execution_count": 30,
   "id": "e8785b9f",
   "metadata": {},
   "outputs": [
    {
     "data": {
      "text/plain": [
       "[0, 0, 0, 1, 1, 1, 2, 2]"
      ]
     },
     "execution_count": 30,
     "metadata": {},
     "output_type": "execute_result"
    }
   ],
   "source": [
    "def SortColours(arr):\n",
    "    # DNF\n",
    "    l, m, h = 0, 0, len(arr) - 1\n",
    "\n",
    "    while m <= h:\n",
    "        if arr[m] == 0:\n",
    "            arr[l], arr[m] = arr[m], arr[l]\n",
    "            l += 1\n",
    "            m += 1\n",
    "        elif arr[m] == 1:\n",
    "            m += 1\n",
    "        else:\n",
    "            arr[m],  arr[h] = arr[h], arr[m]\n",
    "            h -= 1\n",
    "            \n",
    "        \n",
    "    return arr\n",
    "# TC -> O(N) and SC -> O(1)\n",
    "\n",
    "\n",
    "SortColours([0, 1, 1, 0, 2 , 2, 1, 0])\n"
   ]
  },
  {
   "cell_type": "markdown",
   "id": "11cb814a",
   "metadata": {},
   "source": [
    "### **18. Find Majority Element(The Majority element will occur more than N/2 where N is the size of the arr)**"
   ]
  },
  {
   "cell_type": "markdown",
   "id": "78e93ca2",
   "metadata": {},
   "source": [
    "Better: hashing"
   ]
  },
  {
   "cell_type": "code",
   "execution_count": 132,
   "id": "666e3c17",
   "metadata": {},
   "outputs": [
    {
     "data": {
      "text/plain": [
       "2"
      ]
     },
     "execution_count": 132,
     "metadata": {},
     "output_type": "execute_result"
    }
   ],
   "source": [
    "def CountMajority(arr):\n",
    "    hm = {}\n",
    "\n",
    "    for each in arr:\n",
    "        hm[each] = hm.get(each, 0) + 1\n",
    "        \n",
    "    for k, v in hm.items():\n",
    "        if v > len(arr)/2:\n",
    "            return k\n",
    "# TC -> O(N), SC -> O(N)\n",
    "        \n",
    "CountMajority([1, 2, 2, 3, 2])\n"
   ]
  },
  {
   "cell_type": "markdown",
   "id": "a1f2034f",
   "metadata": {},
   "source": [
    "Optimal: Moore's voting algorithm\n",
    "\n",
    "we will set count  for the first element and increment when ever see the elemet again while transvering the array, but if we see elements that are not that element we decrease the count. Once count it's zero, this means as far as we know the element we are currently counting is not our majority element for now because if it was it would not be cancelled out by other element since it's suppose to use up more than half of our array or have a count > N/2. so once count hits 0, we leave that element and pick the next element in our transversal (not the second element o, the next element in our transversal) and repeat the process the last man standing with a count > 0 when we hit the end of the array in our transversal should be the majority element.\n",
    "\n",
    "it's like we have a room of ninja (red, black, blue , white, ... etc) each coloured ninja have a group (so we can have n number of red ninjas, m number of blue ninjas, x number of white ninja and so on). every ninja that meet will kill it other. at the end of the day the group/colour left wins the battle.... so ninjas of different colours keep cancelling out each other until the majority colour is left which is going to be the ninjas with most population (we may now check if the count of that group of ninja originally was > half of the total ninjas population in that battle)"
   ]
  },
  {
   "cell_type": "code",
   "execution_count": null,
   "id": "5710361f",
   "metadata": {},
   "outputs": [],
   "source": [
    "def CountMajority(arr):\n",
    "    count = 0\n",
    "    cur_el = 0\n",
    "    n = len(arr)\n",
    "    \n",
    "    for i in range(n):\n",
    "        if count == 0:\n",
    "            count = 1\n",
    "            cur_el = arr[i]\n",
    "        elif arr[i] == cur_el:\n",
    "            count += 1\n",
    "        else:\n",
    "            count -= 1\n",
    "    # verify if cur_el is majority\n",
    "    count = 0\n",
    "    for i in range(n):\n",
    "        if arr[i] == cur_el:\n",
    "            count += 1\n",
    "    if count > n/2:\n",
    "        return cur_el\n",
    "    else:\n",
    "        return -1\n",
    "            \n",
    "            \n",
    "        "
   ]
  },
  {
   "cell_type": "code",
   "execution_count": 40,
   "id": "86555a27",
   "metadata": {},
   "outputs": [
    {
     "data": {
      "text/plain": [
       "2"
      ]
     },
     "execution_count": 40,
     "metadata": {},
     "output_type": "execute_result"
    }
   ],
   "source": [
    "def CountMajority(arr):\n",
    "    count = 0\n",
    "    el = 0\n",
    "\n",
    "    for i in range(len(arr)):\n",
    "        if count == 0:\n",
    "            count = 1\n",
    "            el = arr[i]\n",
    "        elif arr[i] ==  el:\n",
    "            count += 1\n",
    "        else:\n",
    "            count -= 1\n",
    "\n",
    "    # to confirm that element count > n/2\n",
    "    count1 = 0\n",
    "    for each in arr:\n",
    "        if each == el:\n",
    "            count1 += 1\n",
    "\n",
    "    if count1 > len(arr)/2:\n",
    "        return el\n",
    "    else:\n",
    "        return -1\n",
    "\n",
    "#TC -> O(N) and SC -> O(1)\n",
    "\n",
    "CountMajority([1, 2, 2, 3, 2])\n",
    "     \n"
   ]
  },
  {
   "cell_type": "markdown",
   "id": "0dad8527",
   "metadata": {},
   "source": [
    "### **19. Maximum Subarray Sum. we are to find max subarray sum**"
   ]
  },
  {
   "cell_type": "markdown",
   "id": "5fcf8822",
   "metadata": {},
   "source": [
    "Brute force: try out all subarray and find their sum and return the max sum."
   ]
  },
  {
   "cell_type": "code",
   "execution_count": 41,
   "id": "c49094a7",
   "metadata": {},
   "outputs": [
    {
     "data": {
      "text/plain": [
       "9"
      ]
     },
     "execution_count": 41,
     "metadata": {},
     "output_type": "execute_result"
    }
   ],
   "source": [
    "def MaxSubSum(arr):\n",
    "    n = len(arr)\n",
    "    max_sum = float(\"-inf\")\n",
    "\n",
    "    for i in range(n):\n",
    "        _sum = arr[i]\n",
    "        \n",
    "        for j in range(i + 1, n):\n",
    "            _sum += arr[j]\n",
    "            max_sum =  max(max_sum, _sum)\n",
    "\n",
    "    return max_sum\n",
    "\n",
    "\n",
    "MaxSubSum([1, -1, 2, 3, 4, - 2, -5])"
   ]
  },
  {
   "cell_type": "markdown",
   "id": "4ec5080e",
   "metadata": {},
   "source": [
    "Optimal: Kadane's Algorithm"
   ]
  },
  {
   "cell_type": "code",
   "execution_count": 42,
   "id": "26eb5637",
   "metadata": {},
   "outputs": [
    {
     "data": {
      "text/plain": [
       "-1"
      ]
     },
     "execution_count": 42,
     "metadata": {},
     "output_type": "execute_result"
    }
   ],
   "source": [
    "def MaxSubSum(arr):\n",
    "    _sum, max_sum = 0, float(\"-inf\")\n",
    "\n",
    "    for each in arr:\n",
    "        _sum += each\n",
    "        max_sum = max(_sum, max_sum)\n",
    "        \n",
    "        if _sum < 0:\n",
    "            _sum = 0\n",
    "            \n",
    "    if max_sum == float(\"-inf\"):\n",
    "        return None\n",
    "    else:\n",
    "        return max_sum\n",
    "    \n",
    "MaxSubSum([-1])        "
   ]
  },
  {
   "cell_type": "markdown",
   "id": "dc2e0953",
   "metadata": {},
   "source": [
    "### **19. Maximum Subarray Sum (II). we are to find the subarray with the maximum sum**"
   ]
  },
  {
   "cell_type": "markdown",
   "id": "ba94f741",
   "metadata": {},
   "source": [
    "Optimal: Modify kadane's algorithm"
   ]
  },
  {
   "cell_type": "code",
   "execution_count": null,
   "id": "74e4aed4",
   "metadata": {},
   "outputs": [
    {
     "data": {
      "text/plain": [
       "[2, 3, 4]"
      ]
     },
     "execution_count": 43,
     "metadata": {},
     "output_type": "execute_result"
    }
   ],
   "source": [
    "def MaxSubSum(arr):\n",
    "    curr_sum, max_sum = 0, float(\"-inf\")\n",
    "    start, end = -1, -1\n",
    "    temp_start = 0\n",
    "    for i in range(len(arr)):\n",
    "        curr_sum += arr[i]\n",
    "        if curr_sum > max_sum:\n",
    "            max_sum = curr_sum\n",
    "            start = temp_start\n",
    "            end = i\n",
    "        if curr_sum < 0:\n",
    "            curr_sum = 0\n",
    "            temp_start = i + 1\n",
    "            \n",
    "    if max_sum == float(\"-inf\"):\n",
    "        return []\n",
    "    else:\n",
    "        return arr[start: end + 1]\n",
    "    \n",
    "MaxSubSum([1, -1, 2, 3, 4, - 2, -5])        "
   ]
  },
  {
   "cell_type": "markdown",
   "id": "317bb248",
   "metadata": {},
   "source": [
    "### **20. Rearrange array by sign**\n",
    "you will be given an array with equal number of positive and negative element, rearange in alterninating form. you don't need to border about increasing or decreasing, just arrange by signs and order the were arranged in the original array.\n",
    "\n",
    "[3, 1, -2, -5, 2, -4] ----> [3, -2, 1, -5, 4, -4]"
   ]
  },
  {
   "cell_type": "markdown",
   "id": "7462905d",
   "metadata": {},
   "source": [
    "Brute force:\n",
    "\n",
    "put all positive in array and all negative in another array while maintaining the order. then put all positives at odd indexes and negatives at even indexes"
   ]
  },
  {
   "cell_type": "code",
   "execution_count": 44,
   "id": "8fafbb78",
   "metadata": {},
   "outputs": [
    {
     "data": {
      "text/plain": [
       "[3, -2, 1, -5, 2, -4]"
      ]
     },
     "execution_count": 44,
     "metadata": {},
     "output_type": "execute_result"
    }
   ],
   "source": [
    "def RearrangeBySign(arr):\n",
    "    pos = []\n",
    "    neg = []\n",
    "\n",
    "    for each in arr:\n",
    "        if each >= 0:\n",
    "            pos.append(each)\n",
    "        else:\n",
    "            neg.append(each)\n",
    "    \n",
    "    for i in range(len(arr)//2):\n",
    "        arr[i*2] = pos[i]\n",
    "        arr[i*2 + 1] = neg[i]\n",
    "        \n",
    "    return arr\n",
    "\n",
    "RearrangeBySign([3, 1, -2, -5, 2, -4])\n",
    "            \n",
    "# [3, 1, -2, -5, 2, -4] ----> [3, -2, 1, -5, 2, -4]\n"
   ]
  },
  {
   "cell_type": "markdown",
   "id": "26b950f0",
   "metadata": {},
   "source": [
    "Better: "
   ]
  },
  {
   "cell_type": "code",
   "execution_count": 45,
   "id": "0075af57",
   "metadata": {},
   "outputs": [
    {
     "data": {
      "text/plain": [
       "[3, -2, 1, -5, 2, -4]"
      ]
     },
     "execution_count": 45,
     "metadata": {},
     "output_type": "execute_result"
    }
   ],
   "source": [
    "def RearrangeBySign(arr):\n",
    "    pos_idx, neg_idx = 0, 1\n",
    "    ans = [0]*len(arr)\n",
    "    \n",
    "    for i in range(len(arr)):\n",
    "        if arr[i] < 0:\n",
    "            ans[neg_idx] = arr[i]\n",
    "            neg_idx += 2\n",
    "        else:\n",
    "            ans[pos_idx] = arr[i]\n",
    "            pos_idx += 2\n",
    "\n",
    "    return ans\n",
    "\n",
    "RearrangeBySign([3, 1, -2, -5, 2, -4])\n",
    "            \n",
    "# [3, 1, -2, -5, 2, -4] ----> [3, -2, 1, -5, 2, -4]\n"
   ]
  },
  {
   "cell_type": "markdown",
   "id": "4cb1b28b",
   "metadata": {},
   "source": [
    "### **21. Rearrange array by sign (II)**\n",
    "you will be given an array with equal or unequal number of positive and negative element, rearange in alterninating form. you don't need to border about increasing or decreasing, just arrange by signs and order the were arranged in the original array, if they are remaining elements put them at the end of the array without altering their order.\n",
    "\n",
    "[3, 1, -2, -5, 2, 3, -4, 1] ----> [3, -2, 1, -5, 2, -4, 3, 1]"
   ]
  },
  {
   "cell_type": "markdown",
   "id": "f0689465",
   "metadata": {},
   "source": [
    "Optimal: "
   ]
  },
  {
   "cell_type": "code",
   "execution_count": 9,
   "id": "cbfc240d",
   "metadata": {},
   "outputs": [
    {
     "data": {
      "text/plain": [
       "[3, -2, 1, -5, 2, -4, 3, 1]"
      ]
     },
     "execution_count": 9,
     "metadata": {},
     "output_type": "execute_result"
    }
   ],
   "source": [
    "def RearrangeBySign(arr):\n",
    "    pos = []\n",
    "    neg = []\n",
    "    n = len(arr)\n",
    "    \n",
    "    for each in arr:\n",
    "        if each >= 0:\n",
    "            pos.append(each)\n",
    "        else:\n",
    "            neg.append(each)\n",
    "\n",
    "    if len(pos) > len(neg):\n",
    "        for i in range(len(neg)):\n",
    "            arr[i*2] = pos[i]\n",
    "            arr[i*2 + 1] = neg[i]\n",
    "\n",
    "        idx = len(neg)*2\n",
    "        for i in range(len(neg), len(pos)):\n",
    "            arr[idx] = pos[i]\n",
    "            idx += 1\n",
    "\n",
    "    else: \n",
    "        for i in range(len(pos)):\n",
    "            arr[i*2] = pos[i]\n",
    "            arr[i*2 + 1] = neg[i]\n",
    "\n",
    "        idx = len(pos)*2\n",
    "        for i in range(len(pos), len(neg)):\n",
    "            arr[idx] = neg[i]\n",
    "            idx += 1\n",
    "\n",
    "    return arr\n",
    "\n",
    "RearrangeBySign([3, 1, -2, -5, 2, 3, -4, 1] )\n",
    "\n",
    "    "
   ]
  },
  {
   "cell_type": "markdown",
   "id": "888a3762",
   "metadata": {},
   "source": [
    "### **22. Best Time to buy and sell stock**\n",
    "\n",
    "Given an array of stock price (1-index array where element at index n represent stock price at day n). Find the best time to buy and sell the stock (i.e maximum profit).\n",
    "\n",
    "[7, 1, 5, 3, 6, 4] ---> buy at 1 , sell at 6"
   ]
  },
  {
   "cell_type": "markdown",
   "id": "49622e99",
   "metadata": {},
   "source": [
    "Optimal:  we will always try to buy stock on when the price is minimum (since we are trying to maximize profit). so every sell day we look at the prefix and get the minimum of the prefix elements, this minimum may be the best time to buy at that day. so we'll transverse the array while doing this and update the max profit "
   ]
  },
  {
   "cell_type": "code",
   "execution_count": 11,
   "id": "c784f129",
   "metadata": {},
   "outputs": [
    {
     "data": {
      "text/plain": [
       "5"
      ]
     },
     "execution_count": 11,
     "metadata": {},
     "output_type": "execute_result"
    }
   ],
   "source": [
    "def MaximumProft(price):\n",
    "    minimum = price[0]\n",
    "    max_profit = 0\n",
    "    \n",
    "    for i in range(1, len(price)):\n",
    "        profit = price[i] - minimum\n",
    "        max_profit = max(max_profit, profit)\n",
    "        minimum = min(minimum, price[i])\n",
    "\n",
    "    return max_profit\n",
    "\n",
    "MaximumProft([7, 1, 5, 3, 6, 4])"
   ]
  },
  {
   "cell_type": "markdown",
   "id": "358cff07",
   "metadata": {},
   "source": [
    "### **23. Next Permutation**"
   ]
  },
  {
   "cell_type": "markdown",
   "id": "3d8911ca",
   "metadata": {},
   "source": [
    "Better:"
   ]
  },
  {
   "cell_type": "code",
   "execution_count": null,
   "id": "7de55541",
   "metadata": {},
   "outputs": [
    {
     "data": {
      "text/plain": [
       "[1, 2, 3]"
      ]
     },
     "execution_count": 108,
     "metadata": {},
     "output_type": "execute_result"
    }
   ],
   "source": [
    "# def NextPermutation(arr):\n",
    "#     n = len(arr)\n",
    "#     idx = -1\n",
    "#     for i in range(n-2, 0, -1):\n",
    "#         if arr[i] < arr[i+1]:\n",
    "#             idx = i\n",
    "#     if idx == -1:\n",
    "#         return arr[::-1]\n",
    "     \n",
    "#     for i in range(n-1, idx +1, -1):\n",
    "#         if arr[i] > arr[idx]:\n",
    "#             arr[i], arr[idx] = arr[idx], arr[i]\n",
    "#             break\n",
    "    \n",
    "#     temp  = arr[idx+1:]\n",
    "#     j = 0\n",
    "#     for i in range(n - 1, idx+1, -1):\n",
    "#         arr[i] = temp[j]\n",
    "#         j += 1\n",
    "    \n",
    "#     return arr\n",
    "\n",
    "# NextPermutation([1, 2, 3])"
   ]
  },
  {
   "cell_type": "markdown",
   "id": "6c60b2ce",
   "metadata": {},
   "source": [
    "### **24. Leaders in an array**\n",
    "\n",
    "every element is a leader if it is greater than the rest of the elements after it. return a list of leaders\n",
    "\n",
    "[10, 22, 12, 3, 0, 6] ---> [22, 12, 6]\n",
    "\n",
    "we can notice that the last element would always be a leader"
   ]
  },
  {
   "cell_type": "markdown",
   "id": "91d8b2a0",
   "metadata": {},
   "source": [
    "Brute: transverse the array  and for each element do a linear search for an element greater, if it exist that our element is not a leader.\n",
    "\n"
   ]
  },
  {
   "cell_type": "code",
   "execution_count": 46,
   "id": "08ae4eaa",
   "metadata": {},
   "outputs": [
    {
     "data": {
      "text/plain": [
       "[22, 12, 6]"
      ]
     },
     "execution_count": 46,
     "metadata": {},
     "output_type": "execute_result"
    }
   ],
   "source": [
    "def Leaders(arr):\n",
    "    n = len(arr)\n",
    "    res = []\n",
    "    \n",
    "    for i in range(n):\n",
    "        Leader = True\n",
    "        \n",
    "        for j in range(i+1, n):\n",
    "            if arr[i] < arr[j]:\n",
    "                Leader = False\n",
    "\n",
    "        if Leader == True:\n",
    "            res.append(arr[i])\n",
    "    return res\n",
    "\n",
    "Leaders([10, 22, 12, 3, 0, 6])"
   ]
  },
  {
   "cell_type": "markdown",
   "id": "8ab8ad2b",
   "metadata": {},
   "source": [
    "Better: "
   ]
  },
  {
   "cell_type": "code",
   "execution_count": 47,
   "id": "ccce6fcd",
   "metadata": {},
   "outputs": [
    {
     "data": {
      "text/plain": [
       "[22, 12, 6]"
      ]
     },
     "execution_count": 47,
     "metadata": {},
     "output_type": "execute_result"
    }
   ],
   "source": [
    "def Leaders(arr):\n",
    "    n = len(arr)\n",
    "    max_val = float(\"-inf\")\n",
    "    res = []\n",
    "\n",
    "    for i in range(n - 1):\n",
    "        rest = arr[i + 1:]\n",
    "        max_val = max(rest)\n",
    "        \n",
    "        if arr[i] > max_val:\n",
    "            res.append(arr[i])\n",
    "\n",
    "    res.append(arr[-1])\n",
    "\n",
    "    return res\n",
    "\n",
    "Leaders([10, 22, 12, 3, 0, 6])\n",
    "    "
   ]
  },
  {
   "cell_type": "markdown",
   "id": "cb672c18",
   "metadata": {},
   "source": [
    "Optimal:"
   ]
  },
  {
   "cell_type": "code",
   "execution_count": null,
   "id": "954ece24",
   "metadata": {},
   "outputs": [],
   "source": [
    "def Leaders(arr):\n",
    "    n = len(arr)\n",
    "    max_right = float(\"-inf\")\n",
    "    res = []\n",
    "\n",
    "    for i in range(n - 1, -1, -1):\n",
    "        if arr[i] > max_right:\n",
    "            res.append(arr[i])\n",
    "            max_right = arr[i]\n",
    "    \n",
    "    return res[::-1]\n"
   ]
  },
  {
   "cell_type": "markdown",
   "id": "0f69b34d",
   "metadata": {},
   "source": [
    "### **25. Longest Consecutive Subsequence**\n",
    "\n",
    "recall: subsequence doesn't mean contigious !!!"
   ]
  },
  {
   "cell_type": "markdown",
   "id": "0097237a",
   "metadata": {},
   "source": [
    "Optimal  1:"
   ]
  },
  {
   "cell_type": "code",
   "execution_count": 48,
   "id": "a0be5be7",
   "metadata": {},
   "outputs": [
    {
     "data": {
      "text/plain": [
       "10"
      ]
     },
     "execution_count": 48,
     "metadata": {},
     "output_type": "execute_result"
    }
   ],
   "source": [
    "def LongestConseq(arr):\n",
    "    arr.sort()\n",
    "    seq_count = 0\n",
    "    last_smallest =  float(\"-inf\")\n",
    "    longest = 1\n",
    "\n",
    "    for i in range(len(arr)):\n",
    "        if arr[i] - 1 ==  last_smallest :\n",
    "            seq_count +=  1\n",
    "            last_smallest = arr[i]\n",
    "\n",
    "        elif arr[i] != last_smallest:\n",
    "            seq_count = 1\n",
    "            last_smallest = arr[i]\n",
    "\n",
    "        longest = max(longest, seq_count)\n",
    "    return longest\n",
    "\n",
    "\n",
    "LongestConseq([1, 1, 2, 2, 3, 4, 5, 6, 7, 1, 2, 5, 6, 7, 8, 9, 10])"
   ]
  },
  {
   "cell_type": "code",
   "execution_count": 49,
   "id": "f6a106fe",
   "metadata": {},
   "outputs": [
    {
     "data": {
      "text/plain": [
       "10"
      ]
     },
     "execution_count": 49,
     "metadata": {},
     "output_type": "execute_result"
    }
   ],
   "source": [
    "def LongestConSeq(arr):\n",
    "    arr.sort()\n",
    "    n = len(arr)\n",
    "    longest = 0\n",
    "    recent_small = float(\"-inf\") \n",
    "    seq_count = 0\n",
    "\n",
    "    for i in range(n):\n",
    "        if arr[i] - 1 == recent_small:\n",
    "            recent_small =  arr[i]\n",
    "            seq_count += 1\n",
    "\n",
    "        elif arr[i] != recent_small:\n",
    "            recent_small =  arr[i]\n",
    "            seq_count = 1\n",
    "\n",
    "        longest = max(longest, seq_count)\n",
    "    \n",
    "    return longest\n",
    "\n",
    "LongestConSeq([1, 1, 2, 2, 3, 4, 5, 6, 7, 1, 2, 5, 6, 7, 8, 9, 10])"
   ]
  },
  {
   "cell_type": "markdown",
   "id": "f273497c",
   "metadata": {},
   "source": [
    "### **26. Set Matrix Zeros**\n",
    "\n",
    "given and n x m binary matrix, at any position you find a zero replace the elemts in the same row and column  with a zero. \n",
    "\n",
    "Note: do this for only initial zero not zero's that you added during replacement"
   ]
  },
  {
   "cell_type": "markdown",
   "id": "aff428f6",
   "metadata": {},
   "source": [
    "Brute force:\n",
    "\n",
    "Note if you tranverse the array and do what we are told to do which is every where we see zero we change the elements in the column and row to zero blindly we will end up do thesame for new zeros which came about during replacement and we might end up with an array entirely filled with zeros.\n",
    "\n",
    "So we can iterate through the entire array and when we see zeros, we change every elment in the rows and column of that zero to -1 provided the element is not also a zero. after doing this for all zeros we can finally replace all -1's with zeros."
   ]
  },
  {
   "cell_type": "code",
   "execution_count": 50,
   "id": "f73c1724",
   "metadata": {},
   "outputs": [
    {
     "data": {
      "text/plain": [
       "[[0, 0, 0], [1, 0, 0], [0, 0, 0], [0, 0, 0]]"
      ]
     },
     "execution_count": 50,
     "metadata": {},
     "output_type": "execute_result"
    }
   ],
   "source": [
    "def SetMatrixZero(arr):\n",
    "    n_r = len(arr)\n",
    "    n_c = len(arr[0])\n",
    "    \n",
    "\n",
    "    def MarkRow(row):\n",
    "        for cols in range(n_c):\n",
    "            if arr[row][cols] != 0:\n",
    "                arr[row][cols] = -1\n",
    "\n",
    "    def MarkColumn(col):\n",
    "        for rows in range(n_r):\n",
    "            if arr[rows][col] != 0:\n",
    "                arr[rows][col] = -1\n",
    "\n",
    "        \n",
    "    for row in range(n_r):\n",
    "        for col in range(n_c):\n",
    "            if arr[row][col] == 0:\n",
    "                MarkRow(row)\n",
    "                MarkColumn(col)\n",
    "    \n",
    "    for row in range(n_r):\n",
    "        for col in range(n_c):\n",
    "            if arr[row][col] ==  -1:\n",
    "                arr[row][col] = 0\n",
    "\n",
    "    return arr\n",
    "\n",
    "\n",
    "arr =  [[1, 0, 1],\n",
    "        [1, 1, 1],\n",
    "        [1, 1, 0],\n",
    "        [1, 0, 1]]\n",
    "\n",
    "SetMatrixZero(arr)"
   ]
  },
  {
   "cell_type": "markdown",
   "id": "9aa185be",
   "metadata": {},
   "source": [
    "Better:\n",
    "\n",
    "we can create two arrays; col_tracker and row_tracker to keep track of any col and row that has atleast one occurence of a zero, then that way we will be able to know all rows and cols to do our replacements. \n",
    "\n",
    "the arrays row_tracker and col_tracker will be arrays of Falses with length of number of rows and  cols respectively in our array. any time we see a cell containing zero we mark it's row and column to True in the respective tracker.\n",
    "\n",
    "we can know iterate through this trackers and fill up our zeros."
   ]
  },
  {
   "cell_type": "code",
   "execution_count": 51,
   "id": "41b09312",
   "metadata": {},
   "outputs": [
    {
     "data": {
      "text/plain": [
       "[[0, 0, 0], [1, 0, 0], [0, 0, 0], [0, 0, 0]]"
      ]
     },
     "execution_count": 51,
     "metadata": {},
     "output_type": "execute_result"
    }
   ],
   "source": [
    "def SetMatrixZero(arr):\n",
    "    n_r = len(arr)\n",
    "    n_c = len(arr[0])\n",
    "    r_tracker = [False]*n_r\n",
    "    c_tracker = [False]*n_c\n",
    "    for row in range(n_r):\n",
    "        for col in range(n_c):\n",
    "            if arr[row][col] == 0:\n",
    "                r_tracker[row] = True\n",
    "                c_tracker[col] = True\n",
    "\n",
    "    \n",
    "    for rows in range(n_r):\n",
    "        for cols in range(n_c):\n",
    "            if r_tracker[rows] or c_tracker[cols]:\n",
    "                arr[rows][cols] = 0\n",
    "\n",
    "    return arr\n",
    "\n",
    "\n",
    "arr =  [[1, 0, 1],\n",
    "        [1, 1, 1],\n",
    "        [1, 1, 0],\n",
    "        [1, 0, 1]]\n",
    "\n",
    "SetMatrixZero(arr)\n",
    "        "
   ]
  },
  {
   "cell_type": "markdown",
   "id": "9d070a34",
   "metadata": {},
   "source": [
    "Optimal:\n",
    "\n",
    "we know that the minimum time complexity to transverse a matrix O(n^2) so will focus on optimizing the space complexity to get at best O(1)"
   ]
  },
  {
   "cell_type": "code",
   "execution_count": null,
   "id": "34430f50",
   "metadata": {},
   "outputs": [],
   "source": [
    "# we are back!!!\n",
    "def SetMatrixZeros(mat):\n",
    "    no_rows = len(mat)\n",
    "    no_cols = len(mat[0])\n",
    "\n",
    "    first_row_has_zero = any(mat[0][col] == 0 for col in range(no_cols))\n",
    "    first_col_has_zero = any(mat[row][0] == 0 for row in range(no_rows))\n",
    "\n",
    "    for row in range(1, no_rows):\n",
    "        for col in range(1, no_cols):\n",
    "            if mat[row][col] == 0:\n",
    "                mat[row][0] = 0\n",
    "                mat[0][col] = 0\n",
    "    \n",
    "    for row in range(1, no_rows):\n",
    "        for col in range(1, no_cols):\n",
    "            if mat[0][col] == 0 or mat[row][0] == 0:\n",
    "                mat[row][col] = 0\n",
    "\n",
    "    if first_row_has_zero:\n",
    "        for col in range(no_cols):\n",
    "            mat[0][col] = 0\n",
    "    \n",
    "    if first_col_has_zero:\n",
    "        for row in range(no_rows):\n",
    "            mat[row][0] = 0\n",
    "\n",
    "    return mat\n",
    "\n",
    "\n"
   ]
  },
  {
   "cell_type": "markdown",
   "id": "5abb77e3",
   "metadata": {},
   "source": [
    "### **27. Transverse the upper diagonal of a matrix**"
   ]
  },
  {
   "cell_type": "code",
   "execution_count": 58,
   "id": "0903b7f3",
   "metadata": {},
   "outputs": [
    {
     "name": "stdout",
     "output_type": "stream",
     "text": [
      "2\n",
      "3\n",
      "6\n"
     ]
    }
   ],
   "source": [
    "def TransverUpperDiagonal(arr):\n",
    "    n = len(arr)\n",
    "\n",
    "    for i in range(n - 1):\n",
    "        for j in range(i + 1, n):\n",
    "            print(arr[i][j])\n",
    "\n",
    "arr = [ [1, 2, 3],\n",
    "        [4, 5, 6],\n",
    "        [7, 8, 9] ]\n",
    "\n",
    "TransverUpperDiagonal(arr)"
   ]
  },
  {
   "cell_type": "markdown",
   "id": "f7ed55c1",
   "metadata": {},
   "source": [
    "### **28. Transpose a n x n matrix**\n",
    "\n",
    "since the Trace of the matrix remains constants, we are swapping the upper and lower diagonal.... we can do this while transversing the upper diagonal"
   ]
  },
  {
   "cell_type": "markdown",
   "id": "9525093f",
   "metadata": {},
   "source": [
    "Brute force:"
   ]
  },
  {
   "cell_type": "code",
   "execution_count": 65,
   "id": "2e757939",
   "metadata": {},
   "outputs": [
    {
     "data": {
      "text/plain": [
       "[[1, 4, 7], [2, 5, 8], [3, 6, 9]]"
      ]
     },
     "execution_count": 65,
     "metadata": {},
     "output_type": "execute_result"
    }
   ],
   "source": [
    "def Transpose(arr):\n",
    "\n",
    "    ans = [[0 for _ in range(len(arr))] for _ in range(len(arr))]\n",
    "\n",
    "    for i in range(len(arr)):\n",
    "        for j in range(len(arr)):\n",
    "            ans[j][i] = arr[i][j]\n",
    "            ans[i][j] = arr[j][i]\n",
    "\n",
    "    return ans\n",
    "\n",
    "arr = [ [1, 2, 3],\n",
    "        [4, 5, 6],\n",
    "        [7, 8, 9] ]\n",
    "\n",
    "Transpose(arr)"
   ]
  },
  {
   "cell_type": "code",
   "execution_count": 66,
   "id": "6d7ef2b8",
   "metadata": {},
   "outputs": [
    {
     "data": {
      "text/plain": [
       "[[1, 4, 7], [2, 5, 8], [3, 6, 9]]"
      ]
     },
     "execution_count": 66,
     "metadata": {},
     "output_type": "execute_result"
    }
   ],
   "source": [
    "def Transpose(arr):\n",
    "    n = len(arr)\n",
    "\n",
    "    for i in range(n - 1):\n",
    "        for j in range(i + 1, n):\n",
    "            arr[i][j], arr[j][i] = arr[j][i], arr[i][j]\n",
    "\n",
    "    return arr\n",
    "\n",
    "\n",
    "\n",
    "arr = [ [1, 2, 3],\n",
    "        [4, 5, 6],\n",
    "        [7, 8, 9] ]\n",
    "\n",
    "Transpose(arr)"
   ]
  },
  {
   "cell_type": "markdown",
   "id": "078ba949",
   "metadata": {},
   "source": [
    "### **29. Rotate Matrix by 90 degrees**"
   ]
  },
  {
   "cell_type": "markdown",
   "id": "9f6fdd7e",
   "metadata": {},
   "source": [
    "Brute force:"
   ]
  },
  {
   "cell_type": "code",
   "execution_count": null,
   "id": "bf75a165",
   "metadata": {},
   "outputs": [
    {
     "data": {
      "text/plain": [
       "[[7, 4, 1], [8, 5, 2], [9, 6, 3]]"
      ]
     },
     "execution_count": 67,
     "metadata": {},
     "output_type": "execute_result"
    }
   ],
   "source": [
    "def RotateBy90(arr):\n",
    "\n",
    "    ans = [[0 for _ in range(len(arr))] for _ in range(len(arr))]\n",
    "\n",
    "    for i in range(len(arr)):\n",
    "        for j in range(len(arr)):\n",
    "            # this is established by drawing the input and expected out put and observing\n",
    "            ans[j][len(arr) - 1 - i] = arr[i][j]\n",
    "\n",
    "    return ans\n",
    "\n",
    "arr = [ [1, 2, 3],\n",
    "        [4, 5, 6],\n",
    "        [7, 8, 9] ]\n",
    "\n",
    "RotateBy90(arr)\n"
   ]
  },
  {
   "cell_type": "markdown",
   "id": "d93ad003",
   "metadata": {},
   "source": [
    "Optimal: we can observe that if we transpose the matrix and reverse every row we get the rotated by 90 version."
   ]
  },
  {
   "cell_type": "code",
   "execution_count": null,
   "id": "09a24b4c",
   "metadata": {},
   "outputs": [
    {
     "data": {
      "text/plain": [
       "[[7, 4, 1], [8, 5, 2], [9, 6, 3]]"
      ]
     },
     "execution_count": 68,
     "metadata": {},
     "output_type": "execute_result"
    }
   ],
   "source": [
    "def RotateBy90(arr):\n",
    "    n = len(arr)\n",
    "\n",
    "    for i in range(n - 1):\n",
    "        for j in range(i + 1, n):\n",
    "            arr[i][j], arr[j][i] = arr[j][i], arr[i][j]\n",
    "\n",
    "    def reverse():\n",
    "        start, end = 0, len(arr) - 1\n",
    "        while start < end:\n",
    "            each[start], each[end] = each[end], each[start]\n",
    "            start += 1\n",
    "            end -= 1\n",
    "\n",
    "    for each in arr:\n",
    "        reverse()\n",
    "    \n",
    "    return arr\n",
    "\n",
    "\n",
    "arr = [ [1, 2, 3],\n",
    "        [4, 5, 6],\n",
    "        [7, 8, 9] ]\n",
    "\n",
    "RotateBy90(arr)\n",
    "        "
   ]
  },
  {
   "cell_type": "markdown",
   "id": "56ae8221",
   "metadata": {},
   "source": [
    "### **30. Spiral Matrix.**"
   ]
  },
  {
   "cell_type": "code",
   "execution_count": 2,
   "id": "7338a8d1",
   "metadata": {},
   "outputs": [
    {
     "name": "stdout",
     "output_type": "stream",
     "text": [
      "[1, 2, 3, 4, 5, 6, 7, 8, 9]\n",
      "[[1, 2, 3], [8, 9, 4], [7, 6, 5]]\n"
     ]
    }
   ],
   "source": [
    "def spiral_transversal(matrix):\n",
    "    if not matrix or not matrix[0]:\n",
    "        return []\n",
    "    \n",
    "    res = []\n",
    "    top, bottom = 0, len(matrix) - 1\n",
    "    left, right = 0, len(matrix[0]) - 1\n",
    "    \n",
    "    while top <= bottom and left <= right:\n",
    "        # Traverse right along top row\n",
    "        for col in range(left, right + 1):\n",
    "            res.append(matrix[top][col])\n",
    "        top += 1\n",
    "        \n",
    "        # Traverse down along right column\n",
    "        for row in range(top, bottom + 1):\n",
    "            res.append(matrix[row][right])\n",
    "        right -= 1\n",
    "        \n",
    "        # Traverse left along bottom row (if still valid)\n",
    "        if top <= bottom:\n",
    "            for col in range(right, left - 1, -1):\n",
    "                res.append(matrix[bottom][col])\n",
    "            bottom -= 1\n",
    "        \n",
    "        # Traverse up along left column (if still valid)\n",
    "        if left <= right:\n",
    "            for row in range(bottom, top - 1, -1):\n",
    "                res.append(matrix[row][left])\n",
    "            left += 1\n",
    "    \n",
    "    return res\n",
    "\n",
    "\n",
    "# Test\n",
    "matrix = [\n",
    "    [1, 2, 3],\n",
    "    [8, 9, 4],\n",
    "    [7, 6, 5]\n",
    "]\n",
    "\n",
    "print(spiral_transversal(matrix))  # [1, 2, 3, 6, 9, 8, 7, 4, 5]\n",
    "print(matrix)  # Original matrix unchanged"
   ]
  },
  {
   "cell_type": "markdown",
   "id": "c57dbb57",
   "metadata": {},
   "source": [
    "### **31. Spiral Matrix II**"
   ]
  },
  {
   "cell_type": "code",
   "execution_count": 17,
   "id": "2122797d",
   "metadata": {},
   "outputs": [
    {
     "data": {
      "text/plain": [
       "[[1, 2, 3, 4, 5, 6, 7, 8, 9],\n",
       " [32, 33, 34, 35, 36, 37, 38, 39, 10],\n",
       " [31, 56, 57, 58, 59, 60, 61, 40, 11],\n",
       " [30, 55, 72, 73, 74, 75, 62, 41, 12],\n",
       " [29, 54, 71, 80, 81, 76, 63, 42, 13],\n",
       " [28, 53, 70, 79, 78, 77, 64, 43, 14],\n",
       " [27, 52, 69, 68, 67, 66, 65, 44, 15],\n",
       " [26, 51, 50, 49, 48, 47, 46, 45, 16],\n",
       " [25, 24, 23, 22, 21, 20, 19, 18, 17]]"
      ]
     },
     "execution_count": 17,
     "metadata": {},
     "output_type": "execute_result"
    }
   ],
   "source": [
    "def fill_matrix(n):\n",
    "    top, bottom = 0 , n-1\n",
    "    left, right = 0, n-1\n",
    "    i = 1\n",
    "    res = [[0]*n for _ in range(n)]\n",
    "\n",
    "    while left <= right and top <= bottom:\n",
    "        for col in range(left, right + 1):\n",
    "            res[top][col] = i\n",
    "            i += 1\n",
    "        top += 1\n",
    "\n",
    "        for row in range(top, bottom + 1):\n",
    "            res[row][right] = i\n",
    "            i += 1\n",
    "        right -= 1\n",
    "\n",
    "        for col in range(right, left - 1, -1):\n",
    "            res[bottom][col] = i\n",
    "            i += 1\n",
    "        bottom -= 1\n",
    "\n",
    "        for row in range(bottom, top - 1, -1):\n",
    "            res[row][left] = i\n",
    "            i += 1\n",
    "        left += 1\n",
    "\n",
    "    return res\n",
    "\n",
    "        \n",
    "fill_matrix(9)\n",
    "\n"
   ]
  },
  {
   "cell_type": "markdown",
   "id": "e5f97179",
   "metadata": {},
   "source": [
    "### **32. Spiral Matrix III (Maximize total MEX)**"
   ]
  },
  {
   "cell_type": "code",
   "execution_count": null,
   "id": "4290a2dd",
   "metadata": {},
   "outputs": [],
   "source": []
  },
  {
   "cell_type": "markdown",
   "id": "494ea65a",
   "metadata": {},
   "source": [
    "### **33. Pascal Triangle**"
   ]
  },
  {
   "cell_type": "code",
   "execution_count": null,
   "id": "5286fd9b",
   "metadata": {},
   "outputs": [],
   "source": [
    "def pascal_triangle(n):\n",
    "    if n == 0:\n",
    "        return []\n",
    "    triangle = [[1]] # store my rows of the PT\n",
    "\n",
    "    for i in range(1, n):\n",
    "        prev_row = triangle[-1]\n",
    "        new_row = [1]\n",
    "        for j in range(1, i):\n",
    "            new_row.append(prev_row[j - 1] + prev_row[j])\n",
    "        \n",
    "        new_row.append(1)\n",
    "        triangle.append(new_row)\n",
    "    return triangle\n",
    "\n"
   ]
  },
  {
   "cell_type": "code",
   "execution_count": null,
   "id": "92855ae0",
   "metadata": {},
   "outputs": [
    {
     "name": "stdout",
     "output_type": "stream",
     "text": [
      "[[1], [1, 1], [1, 2, 1], [1, 3, 3, 1]]\n"
     ]
    }
   ],
   "source": [
    "def Pascal_triangle(n):\n",
    "    if n == 0:\n",
    "        return []\n",
    "    \n",
    "    triangle = [[1]] # to store rows of PT\n",
    "    \n",
    "    for i in range(1, n): \n",
    "        prev_row = triangle[-1]\n",
    "        new_row = [1]\n",
    "        \n",
    "        for j in range(1, i):\n",
    "            new_row.append(prev_row[j - 1] + prev_row[j])\n",
    "        \n",
    "        new_row.append(1)\n",
    "        triangle.append(new_row)\n",
    "    \n",
    "    return triangle\n",
    "\n",
    "print(Pascal_triangle(4))\n",
    "# [[1], [1, 1], [1, 2, 1], [1, 3, 3, 1]] ✓ 4 rows"
   ]
  },
  {
   "cell_type": "markdown",
   "id": "e47e0ee4",
   "metadata": {},
   "source": [
    "given the nth row of the pascal triangle print the row:\n"
   ]
  },
  {
   "cell_type": "code",
   "execution_count": null,
   "id": "962e9c05",
   "metadata": {},
   "outputs": [
    {
     "name": "stdout",
     "output_type": "stream",
     "text": [
      "[1, 4, 6, 4, 1]\n"
     ]
    }
   ],
   "source": [
    "# O-th indexed\n",
    "def Pascal_triangle_nth_row(n):\n",
    "    if n == 0:\n",
    "        return [1]\n",
    "    res = [1]*(n + 1)\n",
    "    # position 0 already holds a 1 (constant) so i should start at 2 \n",
    "    for i in range(1, n + 1):\n",
    "        for j in range(i - 1, 0, -1):\n",
    "            res[j] = res[j] + res[j - 1]\n",
    "    return res \n",
    "\n",
    "print(Pascal_triangle_nth_row(4))  # [1, 4, 6, 4, 1]\n",
    "\n",
    "# 1-th indexed\n",
    "def Pascal_triangle_nth_row(n):\n",
    "    if n == 1:\n",
    "        return [1]\n",
    "    \n",
    "    res = [1] * n\n",
    "    \n",
    "    for i in range(1, n):\n",
    "        for j in range(i - 1, 0, -1):\n",
    "            res[j] = res[j] + res[j - 1]\n",
    "    \n",
    "    return res\n"
   ]
  },
  {
   "cell_type": "markdown",
   "id": "06d486b8",
   "metadata": {},
   "source": [
    "### **33.  ThreeSum**"
   ]
  },
  {
   "cell_type": "code",
   "execution_count": 5,
   "id": "458723c5",
   "metadata": {},
   "outputs": [],
   "source": [
    "def threeSum(nums):\n",
    "    nums.sort()\n",
    "\n",
    "    res = []\n",
    "    for i , a in enumerate(nums):\n",
    "        if a > 0:\n",
    "            break\n",
    "\n",
    "        if i > 0 and a == nums[i - 1]:\n",
    "            continue\n",
    "\n",
    "        l = i + 1\n",
    "        r = len(nums) - 1\n",
    "        while l < r:\n",
    "            three_sum = a  + nums[l] + nums[r]\n",
    "            if three_sum > 0:\n",
    "                r -= 1\n",
    "            elif three_sum < 0:\n",
    "                l += 1\n",
    "            else:\n",
    "                res.append([a, nums[l], nums[r]])\n",
    "                l += 1\n",
    "                r -= 1\n",
    "\n",
    "                while (nums[l] == nums[l - 1] and l < r):\n",
    "                    l += 1\n",
    "\n",
    "    return res"
   ]
  },
  {
   "cell_type": "code",
   "execution_count": 6,
   "id": "179d45e1",
   "metadata": {},
   "outputs": [
    {
     "data": {
      "text/plain": [
       "[[-1, -1, 2], [-1, 0, 1]]"
      ]
     },
     "execution_count": 6,
     "metadata": {},
     "output_type": "execute_result"
    }
   ],
   "source": [
    "threeSum([-1,0,1,2,-1,-4])"
   ]
  },
  {
   "cell_type": "markdown",
   "id": "fd1a1cfb",
   "metadata": {},
   "source": [
    "### **34. Majority element (n > 3)**"
   ]
  },
  {
   "cell_type": "markdown",
   "id": "04341a90",
   "metadata": {},
   "source": [
    "Observation for elements to appear morethan n/3 where n is the length of the array. At maximum we can have two elements appearing more than n/3."
   ]
  },
  {
   "cell_type": "markdown",
   "id": "b62bc615",
   "metadata": {},
   "source": [
    "Brute force: Pick all elements appearing more than n/3 times"
   ]
  },
  {
   "cell_type": "code",
   "execution_count": 7,
   "id": "d7f9e970",
   "metadata": {},
   "outputs": [],
   "source": [
    "from collections import Counter\n",
    "\n",
    "def MajorityELement(arr):\n",
    "    res = []\n",
    "    n = len(arr)\n",
    "    hm =  Counter(arr)\n",
    "    \n",
    "    for each in hm:\n",
    "        if hm[each] > n//3:\n",
    "            res.append(each)\n",
    "            \n",
    "    return res\n",
    "        \n"
   ]
  },
  {
   "cell_type": "code",
   "execution_count": 8,
   "id": "9f2f1dc6",
   "metadata": {},
   "outputs": [
    {
     "data": {
      "text/plain": [
       "[2, 3]"
      ]
     },
     "execution_count": 8,
     "metadata": {},
     "output_type": "execute_result"
    }
   ],
   "source": [
    "MajorityELement([1, 2, 3, 3, 3, 2, 2])"
   ]
  },
  {
   "cell_type": "markdown",
   "id": "57f5a119",
   "metadata": {},
   "source": [
    "Better:"
   ]
  },
  {
   "cell_type": "code",
   "execution_count": 9,
   "id": "0a517e49",
   "metadata": {},
   "outputs": [
    {
     "data": {
      "text/plain": [
       "[1, 3]"
      ]
     },
     "execution_count": 9,
     "metadata": {},
     "output_type": "execute_result"
    }
   ],
   "source": [
    "def MajorityELement(arr):\n",
    "    curr_el  = float(\"-inf\")\n",
    "    curr_el2 = float(\"-inf\")\n",
    "    n = len(arr)\n",
    "    res = []\n",
    "    count_1, count_2 = 0, 0\n",
    "    \n",
    "    for i in range(n):\n",
    "        if count_1 == 0 and curr_el2 != arr[i]:\n",
    "            count_1 = 1\n",
    "            curr_el = arr[i]\n",
    "            \n",
    "        elif count_2 == 0 and curr_el != arr[i]:\n",
    "            count_2 = 1\n",
    "            curr_el2 = arr[i]\n",
    "            \n",
    "        elif curr_el == arr[i]:\n",
    "            count_1 += 1\n",
    "            \n",
    "        elif curr_el2 == arr[i]:\n",
    "            count_2 += 1\n",
    "            \n",
    "        else:\n",
    "            count_1 -= 1\n",
    "            count_2 -= 1\n",
    "    \n",
    "                       \n",
    "    count1 = 0\n",
    "    count2 = 0\n",
    "    \n",
    "    for each in arr:\n",
    "        if each == curr_el:\n",
    "            count1 += 1\n",
    "            \n",
    "    for each in arr:\n",
    "        if each == curr_el2:\n",
    "            count2 += 1\n",
    "            \n",
    "    if count1 > n//3:\n",
    "        res.append(curr_el)\n",
    "        \n",
    "    if count2 > n//3:\n",
    "        res.append(curr_el2)\n",
    "        \n",
    "    return sorted(res)     \n",
    "    \n",
    "MajorityELement([2, 2, 1, 3, 1, 1, 3, 1, 1, 3, 3])\n",
    "    \n",
    "            "
   ]
  },
  {
   "cell_type": "markdown",
   "id": "b1902202",
   "metadata": {},
   "source": [
    "### **35. Subarray with XOR K**"
   ]
  },
  {
   "cell_type": "markdown",
   "id": "72e0a40e",
   "metadata": {},
   "source": [
    "Brute:"
   ]
  },
  {
   "cell_type": "code",
   "execution_count": null,
   "id": "1e18eed9",
   "metadata": {},
   "outputs": [],
   "source": [
    "def SubXORK(arr, k):\n",
    "    n = len(arr)\n",
    "    max_len = 0\n",
    "    for i in range(n):\n",
    "        XOR = arr[i]\n",
    "        for j in range(i + 1, n):\n",
    "            XOR ^= arr[j]\n",
    "        if XOR == k:\n",
    "            max_len = max(max_len, j - 1 + 1)\n",
    "    return max_len"
   ]
  },
  {
   "cell_type": "markdown",
   "id": "835bf04b",
   "metadata": {},
   "source": [
    "Optimal: "
   ]
  },
  {
   "cell_type": "code",
   "execution_count": 2,
   "id": "cc6445f1",
   "metadata": {},
   "outputs": [],
   "source": [
    "# come back to this shit    "
   ]
  },
  {
   "cell_type": "markdown",
   "id": "7e4f0924",
   "metadata": {},
   "source": [
    "### **36. Merged Overlapping Intervals**"
   ]
  },
  {
   "cell_type": "markdown",
   "id": "415e296a",
   "metadata": {},
   "source": [
    "Optimal: Giving stack vibe"
   ]
  },
  {
   "cell_type": "code",
   "execution_count": 12,
   "id": "61941ac8",
   "metadata": {},
   "outputs": [],
   "source": [
    "def MergeInterval(arr):\n",
    "    res = []\n",
    "    n = len(arr)\n",
    "    arr.sort()\n",
    "    for i in range(n):\n",
    "        if not res or arr[i][0] > res[-1][1]:\n",
    "            res.append(arr[i])\n",
    "        else:\n",
    "            res[-1][1] =  max(res[-1][1], arr[i][1])\n",
    "    return res"
   ]
  },
  {
   "cell_type": "code",
   "execution_count": 13,
   "id": "a1ae4e18",
   "metadata": {},
   "outputs": [
    {
     "data": {
      "text/plain": [
       "[[1, 4], [7, 10]]"
      ]
     },
     "execution_count": 13,
     "metadata": {},
     "output_type": "execute_result"
    }
   ],
   "source": [
    "MergeInterval([[1,2], [2, 4], [7, 9], [8, 10]])"
   ]
  },
  {
   "cell_type": "markdown",
   "id": "35c97b18",
   "metadata": {},
   "source": [
    "### **37. Merge Two Sorted arrays without extra space.**\n",
    "\n",
    "This is similar to Union of two set"
   ]
  },
  {
   "cell_type": "markdown",
   "id": "0794391a",
   "metadata": {},
   "source": [
    "Using extra space:"
   ]
  },
  {
   "cell_type": "code",
   "execution_count": 1,
   "id": "d3bc7841",
   "metadata": {},
   "outputs": [
    {
     "data": {
      "text/plain": [
       "[1, 2, 2, 3, 4, 0, 0, 0, 4, 9]"
      ]
     },
     "execution_count": 1,
     "metadata": {},
     "output_type": "execute_result"
    }
   ],
   "source": [
    "def Merged(arr1, arr2):\n",
    "    p1 , p2 = 0, 0\n",
    "    n1, n2 =  len(arr1), len(arr2)\n",
    "    res = []\n",
    "    while p1 < n1 and p2 < n2:\n",
    "        if arr1[p1] <= arr2[p2]:\n",
    "            res.append(arr1[p1])\n",
    "            p1 += 1\n",
    "        else:\n",
    "            res.append(arr2[p2])\n",
    "            p2 += 1 \n",
    "    \n",
    "    while p2 < n2:\n",
    "        res.append(arr2[p2])\n",
    "        p2 += 1\n",
    "        \n",
    "    while p1 < n1:\n",
    "        res.append(arr1[p1])\n",
    "        p1 += 1\n",
    "        \n",
    "    return res \n",
    "        \n",
    "            \n",
    "Merged([1, 2, 3, 4, 0, 0, 0], [2, 4, 9])"
   ]
  },
  {
   "cell_type": "markdown",
   "id": "c7c3510c",
   "metadata": {},
   "source": [
    "Without extra space means in-place \n",
    "\n",
    "Optimal: \n",
    "Two pointer"
   ]
  },
  {
   "cell_type": "code",
   "execution_count": 2,
   "id": "e2a3bda5",
   "metadata": {},
   "outputs": [
    {
     "data": {
      "text/plain": [
       "[[0, 0, 0, 1, 2, 3, 4], [2, 4, 9]]"
      ]
     },
     "execution_count": 2,
     "metadata": {},
     "output_type": "execute_result"
    }
   ],
   "source": [
    "def Merged(arr1, arr2):\n",
    "    n, m = len(arr1), len(arr2)\n",
    "    fp, sp = n - 1, 0\n",
    "    while fp >= 0 and sp < m:\n",
    "        if arr1[fp] > arr2[sp]:\n",
    "            arr1[fp] , arr2[sp] = arr2[sp], arr1[fp]\n",
    "            fp -= 1\n",
    "            sp += 1\n",
    "        else:\n",
    "            break\n",
    "        \n",
    "    return [sorted(arr1), sorted(arr2)] # not neccesary but return to just show \n",
    "\n",
    "Merged([1, 2, 3, 4, 0, 0, 0], [2, 4, 9])\n",
    "\n",
    "# TC = O(min(m, n)) + O(nlogn) (for sorted) + O(mlogm) (for sorted)\n",
    "# SC = O(1)\n"
   ]
  },
  {
   "cell_type": "markdown",
   "id": "efb6d187",
   "metadata": {},
   "source": [
    "### **38. Repeating and missing elements**"
   ]
  },
  {
   "cell_type": "markdown",
   "id": "b08c7316",
   "metadata": {},
   "source": [
    "Better:\n",
    "\n",
    "Using a hash array"
   ]
  },
  {
   "cell_type": "code",
   "execution_count": 33,
   "id": "fa21ab2f",
   "metadata": {},
   "outputs": [
    {
     "data": {
      "text/plain": [
       "[1, 4]"
      ]
     },
     "execution_count": 33,
     "metadata": {},
     "output_type": "execute_result"
    }
   ],
   "source": [
    "def Missing_and_Repeating(arr, n):\n",
    "    hash_arr = [0]*n\n",
    "    res = []\n",
    "    for i in range(n):\n",
    "        hash_arr[arr[i] - 1] += 1 \n",
    "    \n",
    "    for i in range(n):\n",
    "        if hash_arr[i] == 2:\n",
    "            repeating_num = arr[i]\n",
    "            res.append(repeating_num)\n",
    "        if hash_arr[i] == 0:\n",
    "            missing_num = i + 1\n",
    "            res.append(missing_num)\n",
    "    \n",
    "    return res\n",
    "        \n",
    "Missing_and_Repeating([1,1,2,3], 4)"
   ]
  },
  {
   "cell_type": "markdown",
   "id": "c6a86f6b",
   "metadata": {},
   "source": [
    "Optimal:"
   ]
  },
  {
   "cell_type": "code",
   "execution_count": null,
   "id": "037c94ca",
   "metadata": {},
   "outputs": [],
   "source": [
    "def Missing_and_Repeating(arr, n):\n",
    "    res = []\n",
    "    s_n = n(n + 1)/2\n",
    "    s_n_2 =  n(n + 1)(2*n + 1) / 6\n",
    "    sum_arr = 0\n",
    "    sum_arr_2 = 0\n",
    "    for i in range(n):\n",
    "        sum_arr += arr[i]\n",
    "        sum_arr_2 += arr[i] * arr[i]\n",
    "        \n",
    "    val1 = s_n + sum_arr\n",
    "    val2 = (s_n_2  - sum_arr_2)/ val1\n",
    "    \n",
    "    missing = val1 + val2 / 2\n",
    "    rep = s_n\n",
    "    \n",
    "    \n",
    "    "
   ]
  },
  {
   "cell_type": "markdown",
   "id": "165380d4",
   "metadata": {},
   "source": [
    "#### **40. Merge Interval (But in-place)**\n",
    "\n",
    "we'll two pointers...."
   ]
  },
  {
   "cell_type": "code",
   "execution_count": null,
   "id": "30faab92",
   "metadata": {},
   "outputs": [],
   "source": [
    "def merge(intervals):\n",
    "    intervals.sort()\n",
    "\n",
    "    j = 0\n",
    "    for i in range(1, len(intervals)):\n",
    "        if intervals[i][0] <= intervals[j][1]:\n",
    "            intervals[j][1] =  max(intervals[j][1], intervals[i][1])\n",
    "        else:\n",
    "            j += 1\n",
    "            intervals[j] = intervals[i]\n",
    "    return intervals[:j + 1]\n",
    "\n",
    "# [[1, 2], [3, 4], [5, 7], [6, 11]]"
   ]
  },
  {
   "cell_type": "code",
   "execution_count": 7,
   "id": "1c6dd6e2",
   "metadata": {},
   "outputs": [],
   "source": [
    "def merge(intervals):\n",
    "    intervals.sort()\n",
    "\n",
    "    j = 0\n",
    "    for i in range(1, len(intervals)):\n",
    "        if intervals[i][0] <= intervals[j][1]:\n",
    "            intervals[j][1] = max(intervals[j][1], intervals[i][1])\n",
    "        else:\n",
    "            j += 1\n",
    "            intervals[j] = intervals[i]\n",
    "    return intervals[:j + 1]\n"
   ]
  },
  {
   "cell_type": "markdown",
   "id": "cab29c1a",
   "metadata": {},
   "source": [
    "#### **41. Product of array except itself**"
   ]
  },
  {
   "cell_type": "code",
   "execution_count": 2,
   "id": "f8715177",
   "metadata": {},
   "outputs": [
    {
     "name": "stdout",
     "output_type": "stream",
     "text": [
      "[1, 2, 6, 24, 120]\n"
     ]
    },
    {
     "data": {
      "text/plain": [
       "[360, 240, 180, 144, 120]"
      ]
     },
     "execution_count": 2,
     "metadata": {},
     "output_type": "execute_result"
    }
   ],
   "source": [
    "def productExceptSelf(nums):\n",
    "    n = len(nums)\n",
    "    ans = [1]*n\n",
    "    prefix_prod = 1\n",
    "    for i in range(n):\n",
    "        ans[i] = prefix_prod\n",
    "        prefix_prod *= nums[i]\n",
    "    print(ans)\n",
    "\n",
    "    suffix_prod = 1\n",
    "    for j in range(n - 1, -1, -1):\n",
    "        ans[j] *= suffix_prod\n",
    "        suffix_prod *= nums[j]\n",
    "    \n",
    "    return ans\n",
    "\n",
    "productExceptSelf([2, 3, 4, 5, 6])"
   ]
  },
  {
   "cell_type": "code",
   "execution_count": null,
   "id": "60cabff0",
   "metadata": {},
   "outputs": [],
   "source": [
    "def productExceptSelf(self, nums):\n",
    "    n = len(nums)\n",
    "    ans =[1]*n\n",
    "    prefix = 1\n",
    "    for i in range(n):\n",
    "        ans[i] = prefix\n",
    "        prefix *=nums[i]\n",
    "    suffix = 1\n",
    "    for j in range(n-1,-1,-1):\n",
    "        ans[j] *=suffix\n",
    "        suffix *=nums[j]\n",
    "    return ans"
   ]
  },
  {
   "cell_type": "markdown",
   "id": "8417adf9",
   "metadata": {},
   "source": [
    "#### **41. 4 sum**\n",
    "\n"
   ]
  },
  {
   "cell_type": "code",
   "execution_count": 1,
   "id": "2260f0c3",
   "metadata": {},
   "outputs": [],
   "source": [
    "def Foursum(nums, target):\n",
    "    res = []\n",
    "    quad = []\n",
    "    nums.sort()\n",
    "\n",
    "    def kSum(start, k, target):\n",
    "        if k != 2:\n",
    "            for i in range(start, len(nums) - k + 1):\n",
    "                if i > start and nums[i] ==  nums[i - 1]:\n",
    "                    continue\n",
    "                quad.append(nums[i])\n",
    "                kSum(i + 1, k - 1, target - nums[i])\n",
    "                quad.pop()\n",
    "            \n",
    "        l, r = start, len(nums) - 1\n",
    "        while l < r:\n",
    "            if nums[l] + nums[r] < target:\n",
    "                l += 1\n",
    "            elif nums[l] + nums[r] > target:\n",
    "                r -= 1\n",
    "            else:\n",
    "                res.append(quad + [nums[l], nums[r]])\n",
    "                l += 1\n",
    "                while l < r and nums[l] ==  nums[l - 1]:\n",
    "                    l += 1\n",
    "\n",
    "    kSum(0, 4, target)\n",
    "    return res \n",
    "\n"
   ]
  },
  {
   "cell_type": "markdown",
   "id": "88589a98",
   "metadata": {},
   "source": [
    "#### **4Sum II**"
   ]
  },
  {
   "cell_type": "code",
   "execution_count": null,
   "id": "2dab3351",
   "metadata": {},
   "outputs": [],
   "source": [
    "def fourSumCount(nums1, nums2, nums3, nums4):\n",
    "        hm = {}\n",
    "\n",
    "        for i in nums1:\n",
    "            for j in nums2:\n",
    "                addendum = i + j\n",
    "                hm[addendum] = hm.get(addendum, 0) + 1\n",
    "        \n",
    "        res = 0\n",
    "\n",
    "        for x in nums3:\n",
    "            for y in nums4:\n",
    "                complement = - (x + y)\n",
    "                if complement in hm:\n",
    "                    res += hm[complement]\n",
    "        \n",
    "        return res"
   ]
  },
  {
   "cell_type": "markdown",
   "id": "b98a0091",
   "metadata": {},
   "source": [
    "#### **43. Valid Triangle**"
   ]
  },
  {
   "cell_type": "code",
   "execution_count": 4,
   "id": "e1342ffb",
   "metadata": {},
   "outputs": [],
   "source": [
    "def triangleNumber(nums):\n",
    "    res = 0\n",
    "\n",
    "    for i in range(len(nums)):\n",
    "        l, r = 0 , i - 1\n",
    "        while l < r:\n",
    "            if nums[l] + nums[r] > nums[i]:\n",
    "                res += r  - l\n",
    "                r -= 1\n",
    "            else:\n",
    "                l += 1\n",
    "    \n",
    "    return res\n"
   ]
  },
  {
   "cell_type": "markdown",
   "id": "08395057",
   "metadata": {},
   "source": [
    "#### **44. Valid Sudoku**"
   ]
  },
  {
   "cell_type": "code",
   "execution_count": 1,
   "id": "75010b51",
   "metadata": {},
   "outputs": [],
   "source": [
    "from collections import defaultdict\n",
    "def ValidSudoku(board):\n",
    "    cols = defaultdict(set)\n",
    "    rows = defaultdict(set)\n",
    "    squares = defaultdict(set)\n",
    "\n",
    "    for r in range(9):\n",
    "        for c in range(9):\n",
    "            if board[r][c] == \".\":\n",
    "                continue\n",
    "            elif (board[r][c] in cols[c] or \n",
    "                  board[r][c] in rows[r] or \n",
    "                  board[r][c] in squares[(r//3, c//3)]):\n",
    "                return False\n",
    "            \n",
    "            cols[r].add(board[r][c])\n",
    "            rows[c].add(board[r][c])\n",
    "            squares[(r//3, c//3).add(board[r][c])]\n",
    "    return True"
   ]
  },
  {
   "cell_type": "markdown",
   "id": "1b89999c",
   "metadata": {},
   "source": [
    "#### **45. Group Anagrams**"
   ]
  },
  {
   "cell_type": "code",
   "execution_count": 1,
   "id": "03488cd6",
   "metadata": {},
   "outputs": [],
   "source": [
    "def groupAnagrams(strs):\n",
    "    hm = defaultdict(list)\n",
    "    for each in strs:\n",
    "        freq = [0]*26\n",
    "        for char in each:\n",
    "            freq[ord(char) - ord(\"a\")] += 1\n",
    "\n",
    "        hasher = tuple(freq)\n",
    "        hm[hasher].append(each)\n",
    "    return [strings for strings in hm.values()]"
   ]
  },
  {
   "cell_type": "code",
   "execution_count": 2,
   "id": "7789ef60",
   "metadata": {},
   "outputs": [],
   "source": [
    "def groupAnagrams(strs):\n",
    "    hm = defaultdict(list)\n",
    "    for each in strs:\n",
    "        hasher = \"\".join(sorted(each))\n",
    "        hm[hasher].append(each)\n",
    "    return [each for each in hm.values()]"
   ]
  },
  {
   "cell_type": "markdown",
   "id": "98c13b1d",
   "metadata": {},
   "source": [
    "#### **47. First non-repeating Character in a String**"
   ]
  },
  {
   "cell_type": "code",
   "execution_count": 1,
   "id": "4531715d",
   "metadata": {},
   "outputs": [],
   "source": [
    "def firstNonReapeating(s):\n",
    "    freq = [0]*26\n",
    "\n",
    "    for each in s:\n",
    "        freq[ord(each) - ord(\"a\")] += 1\n",
    "\n",
    "    for each in s:\n",
    "        if freq[ord[each] - ord(\"a\")] == 1:\n",
    "            return each\n",
    "    \n",
    "    return -1"
   ]
  },
  {
   "cell_type": "markdown",
   "id": "700d1825",
   "metadata": {},
   "source": []
  }
 ],
 "metadata": {
  "kernelspec": {
   "display_name": ".venv",
   "language": "python",
   "name": "python3"
  },
  "language_info": {
   "codemirror_mode": {
    "name": "ipython",
    "version": 3
   },
   "file_extension": ".py",
   "mimetype": "text/x-python",
   "name": "python",
   "nbconvert_exporter": "python",
   "pygments_lexer": "ipython3",
   "version": "3.13.3"
  }
 },
 "nbformat": 4,
 "nbformat_minor": 5
}
