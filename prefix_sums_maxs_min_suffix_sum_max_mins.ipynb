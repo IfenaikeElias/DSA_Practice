{
 "cells": [
  {
   "cell_type": "markdown",
   "id": "ec2313b5",
   "metadata": {},
   "source": [
    "#### **1. Prefix max**\n",
    "The prefix max (also called the running maximum) of an array A is another array P where:\n",
    "P[i]=max(A[0],A[1],…,A[i])\n",
    "\n",
    "That means P[i] is the maximum value among all elements from the start up to and including position i.\n",
    "\n",
    "In explaination:\n",
    "\n",
    "A = [3, 1, 4, 2, 5]\n",
    "\n",
    "Prefix max computation:\n",
    "\n",
    "P[0] = max(3)             = 3\n",
    "P[1] = max(3, 1)          = 3\n",
    "P[2] = max(3, 1, 4)       = 4\n",
    "P[3] = max(3, 1, 4, 2)    = 4\n",
    "P[4] = max(3, 1, 4, 2, 5) = 5\n",
    "\n",
    "Result:\n",
    "\n",
    "P = [3, 3, 4, 4, 5]\n",
    "\n",
    "we notice that every max will keep running until a new max occurs (think of it like military regime)... that's why it's called running max\n",
    "\n",
    "this can be done more efficiently, as\n",
    "\n",
    "p = [] empty array\n",
    "\n",
    "smallest_possible_number = current_max = -inf\n",
    "\n",
    "current_max = max(current_max, A[0])\n",
    "\n",
    "p.append(current_max), \n",
    "\n",
    "this is the same as p[0] = max(3) == max(current_max, 3)\n",
    "\n",
    "3 is latest max so it's starts it tenure...\n",
    "\n",
    "current_max = max(current_max, A[1]) -> to check and ensure tenure keeps running or changes, in simpler terms, update current_max\n",
    "\n",
    "p.append(current_max),\n",
    "\n",
    "this is the same as p[1] = max(3, 1) == max(current_max, 1)\n",
    "\n",
    "current_max = max(current_max, A[2]) -> to check and ensure tenure keeps running or changes, in simpler terms, update current_max\n",
    "\n",
    "we'll notice 3 tenure is offer at this point and 4 takes over. \n",
    "\n",
    "p.append(current_max), \n",
    "\n",
    "this is the same as p[2] = max(3, 1, 4) == max(current_max, 4)\n",
    "\n",
    "we keep going untill all prefix max is gotten"
   ]
  },
  {
   "cell_type": "code",
   "execution_count": 2,
   "id": "9743a26d",
   "metadata": {},
   "outputs": [
    {
     "data": {
      "text/plain": [
       "[3, 3, 4, 4, 4, 5]"
      ]
     },
     "execution_count": 2,
     "metadata": {},
     "output_type": "execute_result"
    }
   ],
   "source": [
    "def prefix_max(arr):\n",
    "    \"\"\"\n",
    "    I'll start iterating over the array and updating the max of each element and the previous max\n",
    "    while storing it at the position of the element\n",
    "    -inf [12, 3, 7, 11, 3, 13 4, 5]\n",
    "    \"\"\"\n",
    "    n = len(arr)\n",
    "    res = []\n",
    "    curr_max = float(\"-inf\")\n",
    "    for i in range(n):\n",
    "        curr_max = max(curr_max, arr[i])\n",
    "        res.append(curr_max)\n",
    "    return res\n",
    "\n",
    "prefix_max([3, 1, 4, 2, 2, 5])"
   ]
  },
  {
   "cell_type": "markdown",
   "id": "d8fe398c",
   "metadata": {},
   "source": [
    "#### **Suffix Max**"
   ]
  },
  {
   "cell_type": "code",
   "execution_count": 5,
   "id": "a92cc425",
   "metadata": {},
   "outputs": [
    {
     "data": {
      "text/plain": [
       "deque([8, 7, 7, 7, 5, 5, 5])"
      ]
     },
     "execution_count": 5,
     "metadata": {},
     "output_type": "execute_result"
    }
   ],
   "source": [
    "from collections import deque\n",
    "def suffix_max(arr):\n",
    "    deq = deque()\n",
    "    n =len(arr)\n",
    "    curr_max = float(\"-inf\")\n",
    "    for i in range(n - 1, -1, -1):\n",
    "        curr_max = max(curr_max, arr[i])\n",
    "        deq.appendleft(curr_max)\n",
    "    return deq\n",
    "suffix_max([8, 3, 1, 7, 2, 2, 5])"
   ]
  },
  {
   "cell_type": "markdown",
   "id": "e235a0b2",
   "metadata": {},
   "source": [
    "#### **Prefix sum**"
   ]
  },
  {
   "cell_type": "code",
   "execution_count": 7,
   "id": "51081375",
   "metadata": {},
   "outputs": [
    {
     "data": {
      "text/plain": [
       "[8, 11, 12, 19, 21, 23, 28]"
      ]
     },
     "execution_count": 7,
     "metadata": {},
     "output_type": "execute_result"
    }
   ],
   "source": [
    "def prefix_sum(arr):\n",
    "    n = len(arr)\n",
    "    res = [arr[0]]*n\n",
    "    for i in range(1, n):\n",
    "        res[i] = arr[i] + res[i - 1]\n",
    "    return res\n",
    "\n",
    "prefix_sum([8, 3, 1, 7, 2, 2, 5])"
   ]
  },
  {
   "cell_type": "markdown",
   "id": "c7c8a27e",
   "metadata": {},
   "source": [
    "#### **Suffix sum**"
   ]
  },
  {
   "cell_type": "code",
   "execution_count": 13,
   "id": "2b859e5b",
   "metadata": {},
   "outputs": [
    {
     "data": {
      "text/plain": [
       "deque([28, 20, 17, 16, 9, 7, 5])"
      ]
     },
     "execution_count": 13,
     "metadata": {},
     "output_type": "execute_result"
    }
   ],
   "source": [
    "def suffix_sum(arr):\n",
    "    n = len(arr)\n",
    "    res = deque()\n",
    "    curr_sum = 0\n",
    "    for i in range(n - 1, -1, -1):\n",
    "        curr_sum = arr[i] + curr_sum\n",
    "        res.appendleft(curr_sum)\n",
    "    return res\n",
    "suffix_sum([8, 3, 1, 7, 2, 2, 5])"
   ]
  },
  {
   "cell_type": "markdown",
   "id": "a8398ef0",
   "metadata": {},
   "source": []
  }
 ],
 "metadata": {
  "kernelspec": {
   "display_name": ".venv",
   "language": "python",
   "name": "python3"
  },
  "language_info": {
   "codemirror_mode": {
    "name": "ipython",
    "version": 3
   },
   "file_extension": ".py",
   "mimetype": "text/x-python",
   "name": "python",
   "nbconvert_exporter": "python",
   "pygments_lexer": "ipython3",
   "version": "3.13.3"
  }
 },
 "nbformat": 4,
 "nbformat_minor": 5
}
