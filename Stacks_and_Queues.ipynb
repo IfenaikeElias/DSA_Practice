{
 "cells": [
  {
   "cell_type": "markdown",
   "id": "85711e13",
   "metadata": {},
   "source": [
    "#### **1. Balanced Parathesis**"
   ]
  },
  {
   "cell_type": "code",
   "execution_count": 20,
   "id": "30e81f02",
   "metadata": {},
   "outputs": [],
   "source": [
    "def Balanced_Par(s):\n",
    "    maps = {\"{\":\"}\", \"(\":\")\", \"[\":\"]\"}\n",
    "    stack  = []\n",
    "    n = len(s)\n",
    "    for each in s:\n",
    "        if not stack or each in maps:\n",
    "            stack.append(each)\n",
    "            print(stack)\n",
    "        elif stack and maps.get(stack[-1]) == each:\n",
    "            stack.pop()\n",
    "            print(stack)\n",
    "    return not stack\n"
   ]
  },
  {
   "cell_type": "code",
   "execution_count": null,
   "id": "27e64986",
   "metadata": {},
   "outputs": [
    {
     "name": "stdout",
     "output_type": "stream",
     "text": [
      "['}']\n",
      "['}', '{']\n",
      "['}']\n",
      "['}', '(']\n",
      "['}']\n"
     ]
    },
    {
     "data": {
      "text/plain": [
       "False"
      ]
     },
     "execution_count": 19,
     "metadata": {},
     "output_type": "execute_result"
    }
   ],
   "source": [
    "Balanced_Par(\"}{}()\")"
   ]
  },
  {
   "cell_type": "code",
   "execution_count": 21,
   "id": "214f69e1",
   "metadata": {},
   "outputs": [
    {
     "name": "stdout",
     "output_type": "stream",
     "text": [
      "['{']\n",
      "['{', '(']\n",
      "['{', '(', '[']\n",
      "['{', '(', '[', '(']\n",
      "['{', '(', '[']\n",
      "['{', '(', '[', '{']\n",
      "['{', '(', '[']\n",
      "['{', '(']\n",
      "['{']\n",
      "[]\n"
     ]
    },
    {
     "data": {
      "text/plain": [
       "True"
      ]
     },
     "execution_count": 21,
     "metadata": {},
     "output_type": "execute_result"
    }
   ],
   "source": [
    "Balanced_Par(\"{([(){}])}\")"
   ]
  },
  {
   "cell_type": "markdown",
   "id": "f8857b3d",
   "metadata": {},
   "source": [
    "### **2. Implement a Min stack**\n",
    "Design a stack that allows you to do the pop operation, the top operation, the push operation and the size operation and the get min operation"
   ]
  },
  {
   "cell_type": "code",
   "execution_count": 82,
   "id": "ea86c894",
   "metadata": {},
   "outputs": [],
   "source": [
    "class Minstack:\n",
    "    def __init__(self):\n",
    "        self._stack = []\n",
    "    def is_empty(self):\n",
    "        return not self._stack\n",
    "    def top(self):\n",
    "        if self.is_empty():\n",
    "            return None\n",
    "        else:\n",
    "            return self._stack[-1]\n",
    "    \n",
    "    def push(self, x):\n",
    "        if self.is_empty():\n",
    "            self._stack.append((x, x))\n",
    "        else:\n",
    "            curr= self.top()\n",
    "            self._stack.append((x, min(curr[1], x)))\n",
    "    def pop(self):\n",
    "        res = self._stack.pop()\n",
    "        return res[1]\n",
    "    def size(self):\n",
    "        return len(self._stack)\n",
    "    def get_min(self):\n",
    "        curr= self.top()\n",
    "        return curr[1]\n",
    "    "
   ]
  },
  {
   "cell_type": "code",
   "execution_count": 83,
   "id": "d481f0ee",
   "metadata": {},
   "outputs": [],
   "source": [
    "new_stk = Minstack()"
   ]
  },
  {
   "cell_type": "code",
   "execution_count": 93,
   "id": "50933cb9",
   "metadata": {},
   "outputs": [
    {
     "data": {
      "text/plain": [
       "False"
      ]
     },
     "execution_count": 93,
     "metadata": {},
     "output_type": "execute_result"
    }
   ],
   "source": [
    "new_stk.is_empty()"
   ]
  },
  {
   "cell_type": "code",
   "execution_count": 85,
   "id": "570b960e",
   "metadata": {},
   "outputs": [],
   "source": [
    "new_stk.push(12)\n",
    "new_stk.push(14)\n",
    "new_stk.push(11)"
   ]
  },
  {
   "cell_type": "code",
   "execution_count": 98,
   "id": "60d2c4f6",
   "metadata": {},
   "outputs": [
    {
     "data": {
      "text/plain": [
       "1"
      ]
     },
     "execution_count": 98,
     "metadata": {},
     "output_type": "execute_result"
    }
   ],
   "source": [
    "new_stk.size()"
   ]
  },
  {
   "cell_type": "code",
   "execution_count": 97,
   "id": "681baf3c",
   "metadata": {},
   "outputs": [
    {
     "data": {
      "text/plain": [
       "12"
      ]
     },
     "execution_count": 97,
     "metadata": {},
     "output_type": "execute_result"
    }
   ],
   "source": [
    "new_stk.get_min()"
   ]
  },
  {
   "cell_type": "code",
   "execution_count": 96,
   "id": "9a5ca42b",
   "metadata": {},
   "outputs": [
    {
     "data": {
      "text/plain": [
       "12"
      ]
     },
     "execution_count": 96,
     "metadata": {},
     "output_type": "execute_result"
    }
   ],
   "source": [
    "new_stk.pop()"
   ]
  },
  {
   "cell_type": "markdown",
   "id": "5b512513",
   "metadata": {},
   "source": [
    "### **Monotonic Stack**"
   ]
  },
  {
   "cell_type": "markdown",
   "id": "40a6bdef",
   "metadata": {},
   "source": [
    "This is a special type of stack in which the elements in the stack are stored in ascending or descending other. We usually use to solve problem that require us to find the next greater or next smaller element in an array.\n",
    "For next greater element we use a **Monotonic Decreasing Stack** and for next smaller element we use a **Monotonic increasing Stack**"
   ]
  },
  {
   "cell_type": "markdown",
   "id": "76afb2ed",
   "metadata": {},
   "source": [
    "In majority monotonic stack problems our stack usually stores the indexes of the elements in the input array that have not yet found their next greater or next smaller element."
   ]
  },
  {
   "cell_type": "markdown",
   "id": "55f76098",
   "metadata": {},
   "source": [
    "### **3. Next Greater Element I**\n",
    "Given an array of integers, find the next greater element for each element in an array. The next greater element of an element x is the element to the right of x that is greater than x. If there are no such element then the next greater is -1."
   ]
  },
  {
   "cell_type": "markdown",
   "id": "a04e44fc",
   "metadata": {},
   "source": [
    "Input: [2, 1, 3, 2, 4, 3]\n",
    "output: [3, 3, 4, 4, -1, -1]"
   ]
  },
  {
   "cell_type": "code",
   "execution_count": 109,
   "id": "a98350b6",
   "metadata": {},
   "outputs": [],
   "source": [
    "def NextGreater(arr):\n",
    "    n = len(arr)\n",
    "    stack = []\n",
    "    res = [-1]*n\n",
    "    for idx in range(n):\n",
    "        while stack and arr[idx] > arr[stack[-1]]:\n",
    "            new_idx = stack.pop()\n",
    "            res[new_idx] = arr[idx]\n",
    "        stack.append(idx)\n",
    "    return res"
   ]
  },
  {
   "cell_type": "code",
   "execution_count": 110,
   "id": "7787bef8",
   "metadata": {},
   "outputs": [
    {
     "data": {
      "text/plain": [
       "[3, 3, 4, 4, -1, -1]"
      ]
     },
     "execution_count": 110,
     "metadata": {},
     "output_type": "execute_result"
    }
   ],
   "source": [
    "NextGreater([2, 1, 3, 2, 4, 3])"
   ]
  },
  {
   "cell_type": "markdown",
   "id": "2b521d08",
   "metadata": {},
   "source": [
    "**Note:** popping all elements that are smaller than num[idx] ensures the stack stays monotonically decreasing.\n"
   ]
  },
  {
   "cell_type": "markdown",
   "id": "d2e91b77",
   "metadata": {},
   "source": [
    "We can rewrite this as:"
   ]
  },
  {
   "cell_type": "code",
   "execution_count": 111,
   "id": "6c25d935",
   "metadata": {},
   "outputs": [
    {
     "data": {
      "text/plain": [
       "[3, 3, 4, 4, -1, -1]"
      ]
     },
     "execution_count": 111,
     "metadata": {},
     "output_type": "execute_result"
    }
   ],
   "source": [
    "def NextGreater(arr):\n",
    "    stack = []\n",
    "    res = [-1]*len(arr)\n",
    "    for idx, val in enumerate(arr):\n",
    "        while stack and val > arr[stack[-1]]:\n",
    "            new_idx = stack.pop()\n",
    "            res[new_idx] = val\n",
    "        stack.append(idx)\n",
    "    return res\n",
    "NextGreater([2, 1, 3, 2, 4, 3])"
   ]
  },
  {
   "cell_type": "markdown",
   "id": "db698c7f",
   "metadata": {},
   "source": [
    "### **4. Next Smaller Element**"
   ]
  },
  {
   "cell_type": "code",
   "execution_count": 112,
   "id": "91f0e5ff",
   "metadata": {},
   "outputs": [
    {
     "data": {
      "text/plain": [
       "[1, -1, 2, -1, 3, -1]"
      ]
     },
     "execution_count": 112,
     "metadata": {},
     "output_type": "execute_result"
    }
   ],
   "source": [
    "def NextGreater(arr):\n",
    "    stack = []\n",
    "    res = [-1]*len(arr)\n",
    "    for idx, val in enumerate(arr):\n",
    "        while stack and val < arr[stack[-1]]:\n",
    "            new_idx = stack.pop()\n",
    "            res[new_idx] = val\n",
    "        stack.append(idx)\n",
    "    return res\n",
    "NextGreater([2, 1, 3, 2, 4, 3])"
   ]
  },
  {
   "cell_type": "markdown",
   "id": "59c4899f",
   "metadata": {},
   "source": [
    "solve **Daily Temperature**, **Buildings with an Ocean view**, **Largest Rectangle in Histogram**"
   ]
  },
  {
   "cell_type": "markdown",
   "id": "facd4ee3",
   "metadata": {},
   "source": []
  }
 ],
 "metadata": {
  "kernelspec": {
   "display_name": ".venv",
   "language": "python",
   "name": "python3"
  },
  "language_info": {
   "codemirror_mode": {
    "name": "ipython",
    "version": 3
   },
   "file_extension": ".py",
   "mimetype": "text/x-python",
   "name": "python",
   "nbconvert_exporter": "python",
   "pygments_lexer": "ipython3",
   "version": "3.13.3"
  }
 },
 "nbformat": 4,
 "nbformat_minor": 5
}
