{
 "cells": [
  {
   "cell_type": "markdown",
   "id": "db85b233",
   "metadata": {},
   "source": [
    "#### **Adjacency list representation of graphs**\n",
    "\n",
    "Some times we might be given a grid problem and it could infered from the grid problem that it is a graph but in some other cases we might be given a problem such that connected componenents are explicitly stated, in such case we might want to crete our own representation of the graph and we can easily do this by building a adjacency list. \n",
    "\n",
    "An adjaceny list is a dictionary or hashmap holding every node in a graph as key and value is a list of every other node it is connected to.\n",
    "\n",
    "[(3, 2), (1, 2), (2, 4)] in this case 3 and 2 are connected same instance as 1 and 2 and 2 and 4, and if we draw this out we might find some other interconnections."
   ]
  },
  {
   "cell_type": "markdown",
   "id": "5ed00436",
   "metadata": {},
   "source": [
    "#### **From Edge list to Adjacency list**"
   ]
  },
  {
   "cell_type": "code",
   "execution_count": 5,
   "id": "3dd325c8",
   "metadata": {},
   "outputs": [
    {
     "name": "stdout",
     "output_type": "stream",
     "text": [
      "defaultdict(<class 'list'>, {0: [1, 2], 1: [0, 2], 2: [0, 1, 3], 3: [2]})\n"
     ]
    }
   ],
   "source": [
    "from collections import defaultdict\n",
    "adj_list = defaultdict(list)\n",
    "edges = [(0, 1), (0, 2), (1, 2), (2, 3)]\n",
    "for u, v in edges:\n",
    "    adj_list[u].append(v)\n",
    "    adj_list[v].append(u) # skip this part if the graph is directed....\n",
    "print(adj_list)    "
   ]
  },
  {
   "cell_type": "markdown",
   "id": "f1f31227",
   "metadata": {},
   "source": [
    "we might also be given an edge list containing both connected nodes and weights. To represent this as a adj_list, we simply do:"
   ]
  },
  {
   "cell_type": "code",
   "execution_count": 7,
   "id": "abe291d7",
   "metadata": {},
   "outputs": [
    {
     "name": "stdout",
     "output_type": "stream",
     "text": [
      "defaultdict(<class 'list'>, {0: [(1, 3), (2, 2)], 1: [(0, 3), (2, 1)], 2: [(0, 2), (1, 1), (3, 1)], 3: [(2, 1)]})\n"
     ]
    }
   ],
   "source": [
    "from collections import defaultdict\n",
    "adj_list = defaultdict(list)\n",
    "edges = [(0, 1, 3), (0, 2, 2), (1, 2, 1), (2, 3, 1)] # node A, node B, weight\n",
    "for u, v, w in edges:\n",
    "    adj_list[u].append((v, w))\n",
    "    adj_list[v].append((u, w)) # skip this part if the graph is directed....\n",
    "print(adj_list)    "
   ]
  },
  {
   "cell_type": "markdown",
   "id": "ba69264e",
   "metadata": {},
   "source": [
    "#### **From Adjacency Matrix to Adjacency list**\n",
    "\n",
    "An Adjacency Matrix is a way to represent a graph using a 2D matrix. if a graph has n nodes it can represented using a n x n grid, Adj_Mat[i][j] is equal to one if node i and node j are connected and 0 otherwise, if i == j we are basically considering a single node and its always 0.\n",
    "\n",
    "Weighted graphs might also be represented by adjacency Matrix, Adj_mat[i][j] == weights (no 0s or 1s), in this case. "
   ]
  },
  {
   "cell_type": "code",
   "execution_count": 12,
   "id": "b4406d9c",
   "metadata": {},
   "outputs": [
    {
     "name": "stdout",
     "output_type": "stream",
     "text": [
      "defaultdict(<class 'list'>, {0: [1, 2], 1: [0, 2], 2: [0, 1, 3], 3: [2]})\n"
     ]
    }
   ],
   "source": [
    "# convert a Adjacency matrix to Adjacency list\n",
    "adj_mat = [\n",
    "    [0, 1, 1, 0],\n",
    "    [1, 0, 1, 0],\n",
    "    [1, 1, 0, 1],\n",
    "    [0, 0, 1, 0]\n",
    "]\n",
    "\n",
    "adj_list = defaultdict(list)\n",
    "no_cols, no_rows = len(adj_mat[0]), len(adj_mat)\n",
    "for i in range(no_rows):\n",
    "    for j in range(no_cols):\n",
    "        if adj_mat[i][j]:\n",
    "            adj_list[i].append(j) # for undirected unweighted\n",
    "print(adj_list)"
   ]
  },
  {
   "cell_type": "code",
   "execution_count": 8,
   "id": "f6ef5638",
   "metadata": {},
   "outputs": [
    {
     "name": "stdout",
     "output_type": "stream",
     "text": [
      "defaultdict(<class 'list'>, {0: [(0, 0), (1, 3), (2, 2), (3, 0)], 1: [(0, 3), (1, 0), (2, 1), (3, 0)], 2: [(0, 2), (1, 1), (2, 0), (3, 1)], 3: [(0, 0), (1, 0), (2, 1), (3, 0)]})\n"
     ]
    }
   ],
   "source": [
    "# convert a Adjacency matrix to Adjacency list\n",
    "adj_mat = [\n",
    "    [0, 3, 2, 0],\n",
    "    [3, 0, 1, 0],\n",
    "    [2, 1, 0, 1],\n",
    "    [0, 0, 1, 0]\n",
    "]\n",
    "\n",
    "adj_list = defaultdict(list)\n",
    "no_cols, no_rows = len(adj_mat[0]), len(adj_mat)\n",
    "for i in range(no_rows):\n",
    "    for j in range(no_cols):\n",
    "        adj_list[i].append((j, adj_mat[i][j])) # for weighted, for non weighted only add j\n",
    "print(adj_list)"
   ]
  },
  {
   "cell_type": "markdown",
   "id": "ce57b345",
   "metadata": {},
   "source": [
    "#### **Adj list class representation**\n",
    "\n",
    "In some questions the Adj list might have a class. this looks like this:"
   ]
  },
  {
   "cell_type": "code",
   "execution_count": 10,
   "id": "27c64405",
   "metadata": {},
   "outputs": [],
   "source": [
    "class Node:\n",
    "    def __init__(self, val):\n",
    "        self.val = val\n",
    "        self.neighbours = []\n",
    "\n",
    "# so to access a nodes neighbour we simply just call Node_instance.neighbours"
   ]
  },
  {
   "cell_type": "markdown",
   "id": "ecfbf8c5",
   "metadata": {},
   "source": [
    "#### **BFS and DFS on adj_list representation of a graph**"
   ]
  },
  {
   "cell_type": "markdown",
   "id": "72c1161d",
   "metadata": {},
   "source": [
    "**DFS:** basically start at a node and explore it neighboors recursively....\n",
    "\n",
    "**BFS:** basically visit all neighbours of a node before going to the next..."
   ]
  },
  {
   "cell_type": "code",
   "execution_count": 24,
   "id": "8ca93c48",
   "metadata": {},
   "outputs": [
    {
     "name": "stdout",
     "output_type": "stream",
     "text": [
      "1 \n",
      "0 \n",
      "2 \n",
      "0 \n",
      "1 \n",
      "3 \n",
      "2 \n",
      "2 \n",
      "\n",
      "\n",
      "\n",
      "0 \n",
      "1 \n",
      "2 \n",
      "3 \n"
     ]
    }
   ],
   "source": [
    "from collections import defaultdict\n",
    "adj_list = defaultdict(list)\n",
    "edges = [(0, 1), (0, 2), (1, 2), (2, 3)]\n",
    "for u, v in edges:\n",
    "    adj_list[u].append(v)\n",
    "    adj_list[v].append(u)\n",
    "\n",
    "visited = set()\n",
    "def dfs(node):\n",
    "    visited.add(node)\n",
    "    for neighbours in adj_list[node]:\n",
    "        print(f\"{neighbours} \")\n",
    "        if neighbours not in visited:\n",
    "            dfs(neighbours)\n",
    "dfs(0)\n",
    "\n",
    "print(\"\\n\\n\")\n",
    "\n",
    "\n",
    "from collections import deque\n",
    "def bfs(start):\n",
    "    visited = set()\n",
    "    queue = deque([start])\n",
    "    visited.add(start)\n",
    "    while queue:\n",
    "        node = queue.popleft()\n",
    "        print(f\"{node} \")\n",
    "\n",
    "        for neighbour in adj_list[node]:\n",
    "            if neighbour not in visited:\n",
    "                \n",
    "                visited.add(neighbour)\n",
    "                queue.append(neighbour)\n",
    "            \n",
    "bfs(0)"
   ]
  },
  {
   "cell_type": "markdown",
   "id": "7463212f",
   "metadata": {},
   "source": []
  }
 ],
 "metadata": {
  "kernelspec": {
   "display_name": ".venv",
   "language": "python",
   "name": "python3"
  },
  "language_info": {
   "codemirror_mode": {
    "name": "ipython",
    "version": 3
   },
   "file_extension": ".py",
   "mimetype": "text/x-python",
   "name": "python",
   "nbconvert_exporter": "python",
   "pygments_lexer": "ipython3",
   "version": "3.13.3"
  }
 },
 "nbformat": 4,
 "nbformat_minor": 5
}
