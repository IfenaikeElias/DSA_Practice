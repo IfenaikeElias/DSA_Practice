{
 "cells": [
  {
   "cell_type": "markdown",
   "id": "60a522c7",
   "metadata": {},
   "source": [
    "### **Binary Search**"
   ]
  },
  {
   "cell_type": "markdown",
   "id": "2ee893a6",
   "metadata": {},
   "source": [
    "Binary Search is a searching algorithm. we can use binary search where the search space is sorted. \n",
    "in binary search we keep two pointers low and high and we slipt the search space into have with a pointer middle. we can use the comaparison bewtween this middle and element and our target element to trim down our search space by moving high backwards to one element before mid. until mid is on our search element. Hence low and high is used to monitor search space and the mid pointer is used to determine how we cut down our search space. TO cut down our search space we say low = mid + 1 to search right or high = mid - 1 to search left.\n"
   ]
  },
  {
   "cell_type": "markdown",
   "id": "c27220e6",
   "metadata": {},
   "source": [
    "#### **Iterative Approach**"
   ]
  },
  {
   "cell_type": "code",
   "execution_count": 6,
   "id": "ca5bf386",
   "metadata": {},
   "outputs": [
    {
     "data": {
      "text/plain": [
       "1"
      ]
     },
     "execution_count": 6,
     "metadata": {},
     "output_type": "execute_result"
    }
   ],
   "source": [
    "def BinarySearch(arr, el):\n",
    "    high, low = len(arr), 0\n",
    "    while low <= high:\n",
    "        mid = (low + high)//2\n",
    "        if arr[mid] == el:\n",
    "            return mid\n",
    "        elif el > arr[mid]:\n",
    "            low = mid + 1\n",
    "        else:\n",
    "            high = mid - 1\n",
    "    return -1\n",
    "\n",
    "BinarySearch([1, 2, 3, 5, 6, 8], 2)\n"
   ]
  },
  {
   "cell_type": "code",
   "execution_count": 7,
   "id": "cad0154d",
   "metadata": {},
   "outputs": [],
   "source": [
    "def Binary(arr, low, high, el):\n",
    "    if low > high:\n",
    "        return -1\n",
    "    mid = (low + high)//2\n",
    "    if arr[mid] == el:\n",
    "        return mid\n",
    "    elif el > arr[mid]:\n",
    "        return BinarySearch(arr, mid + 1, high, el)\n",
    "    else:\n",
    "        return BinarySearch(arr, low, mid - 1, el)\n",
    "    "
   ]
  },
  {
   "cell_type": "markdown",
   "id": "387e5baa",
   "metadata": {},
   "source": [
    "#### **Recursive Approach**"
   ]
  },
  {
   "cell_type": "code",
   "execution_count": 8,
   "id": "5843dcfe",
   "metadata": {},
   "outputs": [
    {
     "data": {
      "text/plain": [
       "3"
      ]
     },
     "execution_count": 8,
     "metadata": {},
     "output_type": "execute_result"
    }
   ],
   "source": [
    "def BinarySearch(arr,low,high, el):\n",
    "    if low > high :\n",
    "        return -1\n",
    "    mid = (low + high)// 2\n",
    "    if arr[mid] == el:\n",
    "        return mid\n",
    "    elif el > arr[mid]:\n",
    "        return BinarySearch(arr, mid + 1, high, el)\n",
    "    else:\n",
    "        return BinarySearch(arr, low, mid - 1, el)\n",
    "    \n",
    "def search(arr, target):\n",
    "    n = len(arr)\n",
    "    return BinarySearch(arr, 0, n - 1, target)\n",
    "\n",
    "search([1,2,3,4,9], 4)"
   ]
  },
  {
   "cell_type": "markdown",
   "id": "19e11ef3",
   "metadata": {},
   "source": [
    "TC : O(log_2 (n)) and SC: O(1) "
   ]
  },
  {
   "cell_type": "markdown",
   "id": "5ffceb45",
   "metadata": {},
   "source": [
    "#### **Overflow case**\n",
    "\n",
    "say we have a very large search sapce we might end up in an overflow case if we are using c++ \n",
    "to avoid this we use long long type or we use mid = low + (high - low)/2 which estimate to the same formular used previously."
   ]
  },
  {
   "cell_type": "markdown",
   "id": "d3ab8c66",
   "metadata": {},
   "source": [
    "#### **Upperbound and lowerbound**\n",
    "\n",
    "\n",
    "Lower bound of x refers to the smallesr index (or number depending on the nature of our question) such that arr[index] >= x\n",
    "\n",
    "say we have arr = [2, 3, 8, 12, 19], if x = 8, the lower bound will be 2 because 8 >= 8\n",
    "\n",
    "say we have x = 11, the lower bound will be 4 because because 12 >= 11\n",
    "\n",
    "if x = 20, or any number greater than the max of arr, and the max occurs only once the lower bound hypothetically will be the len(arr) - 1, which is index of last element, else it will be the first occurrence of the max.\n",
    "\n",
    "say we have arr = [2, 3, 8, 12, 19, 19, 19] and x = 19 our lower bound = 4 because among the indexes 4, 5, 6 it's the smallest.\n",
    "\n",
    "we can find this lower bound using a linear search approach which is O(n), but we can device a more better approach for this using binary search.\n",
    "\n"
   ]
  },
  {
   "cell_type": "code",
   "execution_count": null,
   "id": "93ee1175",
   "metadata": {},
   "outputs": [],
   "source": [
    "def LowerBound(arr, x):\n",
    "    n = len(arr)\n",
    "    low, high = 0, n - 1\n",
    "    ans = n - 1 #incase there no answer I'll return the hypothetical answer\n",
    "    while low <= high:\n",
    "        mid = low + (high - low)//2\n",
    "        # if lower bound condition is satisfieed\n",
    "        if arr[mid] >= x:\n",
    "            # lower bound condition is satifies but it might not be the lowest bound...lol.. so we trim to get a better search range\n",
    "            # although it has the probability of being my answer\n",
    "            ans =  mid\n",
    "            high =  mid - 1 # we eliminate the right since the smaller will always exist on the left, reserve the left since we are looking for a smaller value.\n",
    "        else:\n",
    "            low = mid + 1 # else if our lower bound condition is not satisfies search right\n",
    "    return ans"
   ]
  },
  {
   "cell_type": "code",
   "execution_count": 13,
   "id": "6a32293b",
   "metadata": {},
   "outputs": [
    {
     "data": {
      "text/plain": [
       "4"
      ]
     },
     "execution_count": 13,
     "metadata": {},
     "output_type": "execute_result"
    }
   ],
   "source": [
    "LowerBound([2, 3, 8, 12, 19, 19, 19], 19)"
   ]
  },
  {
   "cell_type": "markdown",
   "id": "0669e1a3",
   "metadata": {},
   "source": [
    "Upper bound of x refers to the smallest index (or number depending on our problem) such that arr[index] > x\n",
    "\n",
    "say we have arr = [2, 3, 8, 12, 19], if x = 8, the Upper bound will be 4 because 12 >= 8\n",
    "\n",
    "say we have x = 11, the upper bound will be 4 because because 12 > 11\n",
    "\n",
    "if x = 20, or any number greater than the max of arr, and the max occurs only once the upper bound hypothetically will be the len(arr), which is index of last element.\n",
    "\n",
    "say we have arr = [2, 3, 8, 12, 19, 19, 19, 20] and x = 19 our Upper bound = 7.\n"
   ]
  },
  {
   "cell_type": "code",
   "execution_count": 15,
   "id": "ec34f2bf",
   "metadata": {},
   "outputs": [
    {
     "data": {
      "text/plain": [
       "7"
      ]
     },
     "execution_count": 15,
     "metadata": {},
     "output_type": "execute_result"
    }
   ],
   "source": [
    "def UpperBound(arr, x):\n",
    "    n = len(arr)\n",
    "    low , high = 0, n - 1\n",
    "    ans = n #\n",
    "    while low <= high:\n",
    "        mid = (low + high) // 2\n",
    "        # if our lower bound condition is satisfied\n",
    "        if arr[mid] > x:\n",
    "            ans = mid\n",
    "            # since we are looking for the smallest index such that arr[index] >= x\n",
    "            # we search the left\n",
    "            high = mid - 1\n",
    "        else:\n",
    "            low = mid + 1\n",
    "    return ans\n",
    "\n",
    "UpperBound([2, 3, 8, 12, 19, 19, 19], 19)"
   ]
  },
  {
   "cell_type": "markdown",
   "id": "394a2f25",
   "metadata": {},
   "source": [
    "#### **3. Search insert Position.**"
   ]
  },
  {
   "cell_type": "markdown",
   "id": "5ed6b349",
   "metadata": {},
   "source": [
    "This is simply: search for x in an array arr of distinct values, if x is in arr return it's index. If not return the index in which it will be inserted such that the array retains it's order."
   ]
  },
  {
   "cell_type": "markdown",
   "id": "b746feaa",
   "metadata": {},
   "source": [
    "Solution: I can do this by simply finding the lower bound of x in the array."
   ]
  },
  {
   "cell_type": "code",
   "execution_count": 17,
   "id": "4431c7c4",
   "metadata": {},
   "outputs": [],
   "source": [
    "def Search_insert_position(arr, x):\n",
    "    n = len(arr)\n",
    "    low, high = 0, len(arr) - 1\n",
    "    ans = n - 1\n",
    "    while low <= high:\n",
    "        mid = low + (high - low)//2\n",
    "        if arr[mid] >= x:\n",
    "            ans = mid\n",
    "            high = mid - 1\n",
    "        else:\n",
    "            low = mid + 1\n",
    "    return ans\n",
    "\n"
   ]
  },
  {
   "cell_type": "code",
   "execution_count": 18,
   "id": "f60b2c7b",
   "metadata": {},
   "outputs": [
    {
     "data": {
      "text/plain": [
       "3"
      ]
     },
     "execution_count": 18,
     "metadata": {},
     "output_type": "execute_result"
    }
   ],
   "source": [
    "Search_insert_position([1, 2, 3, 6, 7], 5)"
   ]
  },
  {
   "cell_type": "markdown",
   "id": "5dc23a07",
   "metadata": {},
   "source": [
    "#### **4. Floor and Ceil in sorted array**\n",
    "\n",
    "basically the floor of a number in an array is the largest element <= the number.\n",
    "The ceil is the smallest element >= the number. If anyone does not exist return -1 for it."
   ]
  },
  {
   "cell_type": "code",
   "execution_count": 21,
   "id": "739313b7",
   "metadata": {},
   "outputs": [
    {
     "data": {
      "text/plain": [
       "(5, 19)"
      ]
     },
     "execution_count": 21,
     "metadata": {},
     "output_type": "execute_result"
    }
   ],
   "source": [
    "def floor_and_ceil(arr, x):\n",
    "    n = len(arr)\n",
    "    def floor(arr, x):\n",
    "        high, low = n - 1, 0\n",
    "        ans = -1\n",
    "        \n",
    "        while low <= high:\n",
    "            mid =  low + (high - low)//2\n",
    "            if arr[mid] <= x:\n",
    "                ans = arr[mid]\n",
    "                low = mid + 1\n",
    "            else:\n",
    "                high = mid - 1\n",
    "        return ans\n",
    "    \n",
    "    def ceil(arr, x):\n",
    "        high, low = n - 1, 0\n",
    "        ans = -1\n",
    "        while low <= high:\n",
    "            mid = low + (high - low)//2\n",
    "            if arr[mid] >= x:\n",
    "                ans = arr[mid]\n",
    "                high = mid - 1\n",
    "            else:\n",
    "                low = mid + 1\n",
    "        return ans\n",
    "    \n",
    "    return floor(arr, x), ceil(arr, x)\n",
    "\n",
    "floor_and_ceil([1, 2, 4, 5, 19, 20, 29], 7)\n"
   ]
  },
  {
   "cell_type": "markdown",
   "id": "b7fb695a",
   "metadata": {},
   "source": [
    "#### **5. First and Last occurence of a number in an Array and it's count**"
   ]
  },
  {
   "cell_type": "markdown",
   "id": "c3b95c00",
   "metadata": {},
   "source": [
    "Method 1: Using linear search."
   ]
  },
  {
   "cell_type": "code",
   "execution_count": null,
   "id": "28b03d11",
   "metadata": {},
   "outputs": [
    {
     "data": {
      "text/plain": [
       "(2, 4)"
      ]
     },
     "execution_count": 1,
     "metadata": {},
     "output_type": "execute_result"
    }
   ],
   "source": [
    "# I can store the first and last as -1 and when i see my first occurence I set first and last to that index. Then when I find. the first occurence and I store it in both first\n",
    "# and last, then as long as first is not -1 if I see the element again i keep updating last.\n",
    "\n",
    "#TC is O(N)\n",
    "def first_last_count(arr, el):\n",
    "    n = len(arr)\n",
    "    first, last = -1, -1\n",
    "    for i in range(n):\n",
    "        if arr[i] == el:\n",
    "            if first == -1:\n",
    "                first = i\n",
    "            last = i\n",
    "    return first, last\n",
    "\n",
    "first_last_count([1, 2, 4, 4, 4, 8], 4)"
   ]
  },
  {
   "cell_type": "markdown",
   "id": "e6a97d2f",
   "metadata": {},
   "source": [
    "Method 2 (Optimal): Using lower and Upper bounds concepts"
   ]
  },
  {
   "cell_type": "code",
   "execution_count": null,
   "id": "3bfa7d80",
   "metadata": {},
   "outputs": [
    {
     "data": {
      "text/plain": [
       "(2, 4)"
      ]
     },
     "execution_count": 2,
     "metadata": {},
     "output_type": "execute_result"
    }
   ],
   "source": [
    "# TC is O(log_2 (N) or simply log N) better than O(N)\n",
    "def first_last_count(arr, x):\n",
    "    n = len(arr)\n",
    "    def LowerBound(arr, x):\n",
    "        low, high, = 0, n - 1\n",
    "        ans = n - 1\n",
    "        while low <= high:\n",
    "            mid = low + (high - low)//2\n",
    "            if arr[mid] >= x:\n",
    "                ans = mid\n",
    "                high = mid - 1\n",
    "            else:\n",
    "                low = mid + 1\n",
    "        return ans\n",
    "    \n",
    "    def UpperBound(arr, x):\n",
    "        low, high = 0, n - 1\n",
    "        ans = n \n",
    "        while low <= high:\n",
    "            mid = low + (high - low)//2\n",
    "            if arr[mid] > x:\n",
    "                ans = mid\n",
    "                high = mid - 1\n",
    "            else:\n",
    "                low = mid + 1\n",
    "        return ans \n",
    "    \n",
    "    lb = LowerBound(arr, x)\n",
    "    ub = UpperBound(arr, x)\n",
    "    return (-1, -1) if (lb == n) or (arr[lb] != x) else (lb, ub - 1)\n",
    "    \n",
    "first_last_count([1, 2, 4, 4, 4, 8], 4)"
   ]
  },
  {
   "cell_type": "markdown",
   "id": "6fa2c42a",
   "metadata": {},
   "source": [
    "Method 3: Using plane binary search."
   ]
  },
  {
   "cell_type": "markdown",
   "id": "d7d23f0e",
   "metadata": {},
   "source": [
    "**Notice:** Besides our introduction to BS all the BS algorithms we have been writing for lower and uper bound doesn't return first occurenec but it continues to trim to get a better occurence. this is a very common form of binary search. The original binary search returns the element immediately it sees it.\n",
    "\n",
    "for this problem since our foal is clearly to find a better version of our element we will adjust this algorithm abit,"
   ]
  },
  {
   "cell_type": "code",
   "execution_count": 3,
   "id": "e42fd8aa",
   "metadata": {},
   "outputs": [
    {
     "data": {
      "text/plain": [
       "(2, 4)"
      ]
     },
     "execution_count": 3,
     "metadata": {},
     "output_type": "execute_result"
    }
   ],
   "source": [
    "# we will write two different binary searches, one to find the first occurence and the other to find the last occurence\n",
    "# to find first occurence we will search left and for last we'll search right.\n",
    "\n",
    "def first_last_count(arr, x):\n",
    "    n = len(arr)\n",
    "    def first(arr, x):\n",
    "        low, high = 0, len(arr) - 1\n",
    "        ans  = -1\n",
    "        while low <= high:\n",
    "            mid = low + (high - low)//2\n",
    "            if arr[mid] == x:\n",
    "                ans = mid\n",
    "                high = mid - 1\n",
    "            elif arr[mid] > x:\n",
    "                high = mid - 1\n",
    "            else:\n",
    "                low = mid + 1\n",
    "        return ans\n",
    "    \n",
    "    def last(arr, x):\n",
    "        low, high = 0, len(arr) - 1\n",
    "        ans = -1\n",
    "        while low <= high:\n",
    "            mid = low  +  (high - low)//2\n",
    "            if arr[mid] == x:\n",
    "                ans = mid\n",
    "                low = mid + 1\n",
    "            elif arr[mid] < x:\n",
    "                low = mid + 1\n",
    "            else:\n",
    "                high = mid - 1\n",
    "        return ans\n",
    "\n",
    "    return first(arr, x), last(arr, x)\n",
    "\n",
    "first_last_count([1, 2, 4, 4, 4, 8], 4)"
   ]
  },
  {
   "cell_type": "code",
   "execution_count": 4,
   "id": "7dfb7bac",
   "metadata": {},
   "outputs": [
    {
     "data": {
      "text/plain": [
       "(2, 4)"
      ]
     },
     "execution_count": 4,
     "metadata": {},
     "output_type": "execute_result"
    }
   ],
   "source": [
    "# we can optimise this by making sure if first occurence is not found we just stop and return -1, -1\n",
    "\n",
    "def first_last_count(arr, x):\n",
    "    n = len(arr)\n",
    "    def first(arr, x):\n",
    "        low, high = 0, len(arr) - 1\n",
    "        ans  = -1\n",
    "        while low <= high:\n",
    "            mid = low + (high - low)//2\n",
    "            if arr[mid] == x:\n",
    "                ans = mid\n",
    "                high = mid - 1\n",
    "            elif arr[mid] > x:\n",
    "                high = mid - 1\n",
    "            else:\n",
    "                low = mid + 1\n",
    "        return ans\n",
    "    \n",
    "    def last(arr, x):\n",
    "        low, high = 0, len(arr) - 1\n",
    "        ans = -1\n",
    "        while low <= high:\n",
    "            mid = low  +  (high - low)//2\n",
    "            if arr[mid] == x:\n",
    "                ans = mid\n",
    "                low = mid + 1\n",
    "            elif arr[mid] < x:\n",
    "                low = mid + 1\n",
    "            else:\n",
    "                high = mid - 1\n",
    "        return ans\n",
    "\n",
    "    f_occ = first(arr, x)\n",
    "    if f_occ == -1:\n",
    "        return (-1, -1) \n",
    "    l_occ = last(arr, x)\n",
    "    return f_occ, l_occ\n",
    "\n",
    "first_last_count([1, 2, 4, 4, 4, 8], 4)"
   ]
  },
  {
   "cell_type": "markdown",
   "id": "32ea911d",
   "metadata": {},
   "source": [
    "#### **6. Search in rotated sorted array**\n",
    "\n",
    "given a rotated sorted array like [7, 8, 9, 1, 2, 3, 4, 5, 6] find the index of the target element. The array has only unique eliments (no duplicate)."
   ]
  },
  {
   "cell_type": "code",
   "execution_count": null,
   "id": "4f61acf7",
   "metadata": {},
   "outputs": [],
   "source": [
    "# method 1: Linear search O(N)"
   ]
  },
  {
   "cell_type": "code",
   "execution_count": null,
   "id": "8e04684f",
   "metadata": {},
   "outputs": [
    {
     "data": {
      "text/plain": [
       "3"
      ]
     },
     "execution_count": 1,
     "metadata": {},
     "output_type": "execute_result"
    }
   ],
   "source": [
    "# Method 2: Binary search\n",
    "\"\"\" Since in this case the array is not sorted, because it was rotated. I would be tempted to sort it but that's nlogn\n",
    "    in this case i need to find the shifted portion of the array. by comparing low with mid or mid with high depending \n",
    "    on what way the array was rotated\n",
    "\"\"\"\n",
    "\n",
    "# [1, 2, 3, 4, 5]\n",
    "# this are the three classes of scenarios we can get upon rotating the array.\n",
    "# 1. rotated but both sides are larger than the center: [7, 8, 9, 1, 2, 3, 4, 5, 6] side heavy.\n",
    "# 2. rotated but both sides are smaller than center: [3, 4, 5, 6, 7, 8, 0, 1, 2] center heavy.\n",
    "# 3. rotated till it appears unrotated or not rotated in the first place: [1, 2, 3, 4, 5, 6, 7, 8, 9] not rotated.\n",
    "def search_rotated(arr, x):\n",
    "    n = len(arr)\n",
    "    low, high = 0, n - 1  \n",
    "    while low <= high:\n",
    "        mid = low + (high - low)//2\n",
    "        if arr[mid] == x:\n",
    "            return mid\n",
    "        # case where array appears unrotated after rotation or it's center heavy\n",
    "        # for the first case we could just do a normal binary search but it won't work for both cases\n",
    "        # because we will have to check which halve our target belongs to to besure where to cut\n",
    "        # handling it this way solves heavy center case and consequently solves the first case even though\n",
    "        # it's just an extra unneccesary cstep for the first case. \n",
    "        if arr[low] <= arr[mid]:\n",
    "            # check what half our target is in  \n",
    "            if arr[low] <= x <= arr[mid]: # in first halve\n",
    "                high =  mid - 1\n",
    "            else:\n",
    "                # in second haalf\n",
    "                low = mid  + 1\n",
    "        # case where array is side heavy\n",
    "        else:\n",
    "            # check where our target is\n",
    "            if arr[mid] <= x <= arr[high]: # in second halve ?\n",
    "                low = mid + 1\n",
    "            else:\n",
    "                # in first halve\n",
    "                high = mid - 1\n",
    "    return mid            \n",
    "   \n",
    "search_rotated([7, 8, 9, 1, 2, 3, 4, 5, 6], 1)"
   ]
  },
  {
   "cell_type": "markdown",
   "id": "a8596d28",
   "metadata": {},
   "source": [
    "#### **7. Search in rotated sorted array containing duplicates**"
   ]
  },
  {
   "cell_type": "code",
   "execution_count": 3,
   "id": "f38028fc",
   "metadata": {},
   "outputs": [
    {
     "data": {
      "text/plain": [
       "3"
      ]
     },
     "execution_count": 3,
     "metadata": {},
     "output_type": "execute_result"
    }
   ],
   "source": [
    "# same has the last question but this time the array can have duplicates.\n",
    "# In this case i'll previous algorithm should work.\n",
    "# but there is a problem what about when we have the same elements at the center and two sides ?\n",
    "# like [4, 1, 2, 3, 4, 4, 4, 4, 4] ?? in this case the arr[low] = arr[mid] = arr[high] and we would not be able to find the halve to search within\n",
    "# to avoid this we woulf have to keep trimimg low and high until th are not more equal this subsequently reduces our search soace and is effective\n",
    "# or healthy for our binary search.\n",
    "\n",
    "def search_rotated_II(arr, x):\n",
    "    n = len(arr)\n",
    "    low, high = 0, n - 1\n",
    "\n",
    "    while low <= high:\n",
    "        mid = low + (high - low)//2\n",
    "        if arr[mid] == x:\n",
    "            return mid\n",
    "        while arr[low] == arr[mid] == arr[high]:\n",
    "            low += 1\n",
    "            high -= 1\n",
    "        if arr[low] >= arr[mid]:\n",
    "            if arr[low] <= x <= arr[mid]:\n",
    "                high = mid - 1\n",
    "            else:\n",
    "                low = mid  + 1\n",
    "        else:\n",
    "            if arr[mid] <= x <= arr[high]:\n",
    "                low  = mid  + 1\n",
    "            else:\n",
    "                high = mid - 1\n",
    "    return mid\n",
    "\n",
    "search_rotated_II([4, 1, 2, 3, 4, 4, 4, 4, 4], 3) "
   ]
  },
  {
   "cell_type": "markdown",
   "id": "297c369f",
   "metadata": {},
   "source": [
    "#### **8. Minimum in rotated sorted array**\n"
   ]
  },
  {
   "cell_type": "markdown",
   "id": "59cbbda1",
   "metadata": {},
   "source": [
    "Method 1: use a linear search approach (same as the `min` function). This is O(N)"
   ]
  },
  {
   "cell_type": "markdown",
   "id": "93e61449",
   "metadata": {},
   "source": [
    "Method 2: Use binary search O(log N)"
   ]
  },
  {
   "cell_type": "code",
   "execution_count": null,
   "id": "b78b11af",
   "metadata": {},
   "outputs": [
    {
     "data": {
      "text/plain": [
       "0"
      ]
     },
     "execution_count": 3,
     "metadata": {},
     "output_type": "execute_result"
    }
   ],
   "source": [
    "def find_min(arr):\n",
    "    n = len(arr)\n",
    "    low, high = 0, n - 1\n",
    "    res = float(\"inf\")\n",
    "    while low <= high:\n",
    "        mid = low + (high - low)//2\n",
    "        ## note that lowest number fror rotated array would always occur in the sorted half\n",
    "        # if search space is already sorted just pick low:\n",
    "        if (arr[low] <= arr[high]):\n",
    "            res = low\n",
    "            break\n",
    "        # perform binary search\n",
    "        if arr[low] <= arr[mid]: # right half is sorted, we will pick the low as minimum and proceed to optimize our search space\n",
    "            res = min(arr[low], res) \n",
    "            low = mid + 1\n",
    "        else:\n",
    "            # if low is greater than mid [6 7 0 1 2 3 4 5] the smaller number is in unsorted half, so we will pick the middle element and proceed to optimie search space\n",
    "            res = min(arr[mid], res)\n",
    "            high = mid - 1\n",
    "    return res\n",
    "\n",
    "find_min([4, 5, 6, 7, 0, 1, 2])"
   ]
  },
  {
   "cell_type": "markdown",
   "id": "ae9dcb0e",
   "metadata": {},
   "source": [
    "#### **9. Find out how many times has an array been rotated**\n"
   ]
  },
  {
   "cell_type": "markdown",
   "id": "f905261c",
   "metadata": {},
   "source": [
    "we can simply find the minimum in the rotated array, the index of the minimum is the number of times the array as been sorted"
   ]
  },
  {
   "cell_type": "code",
   "execution_count": 5,
   "id": "e7236c75",
   "metadata": {},
   "outputs": [
    {
     "data": {
      "text/plain": [
       "4"
      ]
     },
     "execution_count": 5,
     "metadata": {},
     "output_type": "execute_result"
    }
   ],
   "source": [
    "def how_many_times(arr):\n",
    "    n = len(arr)\n",
    "    low, high = 0, n - 1\n",
    "    idx = -1 \n",
    "    res = float(\"inf\")\n",
    "    while low <= high:\n",
    "        mid = low + (high - low)//2\n",
    "        if arr[low] <= arr[high]:\n",
    "            if arr[low] < res:\n",
    "                idx = low\n",
    "            break\n",
    "        if arr[low] <= arr[mid]:\n",
    "            if  arr[low] < res:\n",
    "                idx = low\n",
    "            low = mid + 1\n",
    "        else:\n",
    "            if arr[mid] <= res:\n",
    "                idx = mid\n",
    "            high = mid - 1\n",
    "\n",
    "    return idx\n",
    "\n",
    "\n",
    "how_many_times([4, 5, 6, 7, 0, 1, 2])"
   ]
  },
  {
   "cell_type": "markdown",
   "id": "7e87bbcb",
   "metadata": {},
   "source": [
    "#### **10. Find Single element in sorted Array**\n",
    "\n",
    "All elemnts would appear in a couple and only one is single, return the single element."
   ]
  },
  {
   "cell_type": "markdown",
   "id": "ba4e6bac",
   "metadata": {},
   "source": [
    "Method 1: Using a linear search and observation \n",
    "\n",
    "say we have an array: [1, 1, 2, 2, 3, 3, 4, 5, 5, 6, 6]\n",
    "\n",
    "since the arrays are given in a sorted order, we observe that has we transverse the array and every element should be thesame as the next element or the previous element, except from the first and last element since they do not have next and last. For the first element we would only consider the next element and for the last element we would only consider the previous element. any element that doesn't satify any of this condition is the single element."
   ]
  },
  {
   "cell_type": "code",
   "execution_count": 8,
   "id": "eaefee41",
   "metadata": {},
   "outputs": [
    {
     "data": {
      "text/plain": [
       "4"
      ]
     },
     "execution_count": 8,
     "metadata": {},
     "output_type": "execute_result"
    }
   ],
   "source": [
    "def Find_single(arr):\n",
    "    n = len(arr)\n",
    "    single = -1\n",
    "    for i in range(n):\n",
    "        if i == 0:\n",
    "            if arr[i] != arr[i + 1]:\n",
    "                single = i\n",
    "                break\n",
    "            else:\n",
    "                continue\n",
    "        elif i == n - 1:\n",
    "            if arr[i] != arr[i - 1]:\n",
    "                single = i\n",
    "                break\n",
    "            else:\n",
    "                continue\n",
    "        else:\n",
    "            if not (arr[i] == arr[i + 1] or arr[i] == arr[i - 1]):\n",
    "                single = i\n",
    "    return arr[single] # i'm not serious... I was processing index instead of simply returning the element...i'll leave this here to remind me how dumb I am and that I used to suck at DSA\n",
    "\n",
    "\n",
    "Find_single([1, 1, 2, 2, 3, 3, 4, 5, 5, 6, 6])"
   ]
  },
  {
   "cell_type": "markdown",
   "id": "a339fe65",
   "metadata": {},
   "source": [
    "Method 2: Binary search!! (optimal)\n",
    "\n",
    "Remember that has long as we need to search for something (say an elements, max or min or some computed stuff) in a sorted array, binary search is always an optimal way to do it (provides log N solution). But how do we know how to binary search in this cases ?\n",
    "\n",
    "we can ask this three questions:\n",
    "\n",
    "1. How do I know I have found the element I am searching for ?  (has an answer)\n",
    "2. How do I know I am on the right half or left half of the array in my BS ? (has two answers for each search space)\n",
    "3. How we elimate the half where our element is not.\n",
    "\n",
    "In our case we are looking for a sinlge element (elements that occur only once while the other occur in pairs).\n",
    "Answer to question is simple, as shown in our linear search approach:\n",
    "1. At the start of an array if the second element is not equal to our first element it is the single element.\n",
    "2. At the end if the last element is not equal to second to the last we are at the single element.\n",
    "3. In case of element at the middle, if its not equal to the element before and after it, its the single element.\n",
    "\n",
    "for second question:\n",
    "take an example: [0, 0, 1, 2, 2, 3, 3, 4, 4, 5, 5, 6, 6]\n",
    "[1, 1, 2, 2, 3, 3, 4, 4, 5, 6, 6] 4\n",
    "we notice that all element before our single element (left half) in in pairs of (even index, odd index) but after our single element (right half) this changes to pairs of (odd index, even index). So basically, except for our last and first index (where previous or next index do not exist), if we stand at any odd index and the previous index (which obviously is even) is the same element we are in the left but if we are at any even index and the previous index (which is odd) is thesame we on the right hand side.\n",
    "\n",
    "for third question: \n",
    "basically we want to eleminate any situation that is not gearing towards or goal (identifying the single element).\n",
    "we know that transversing from left to right (even, odd) same pair means left and (odd, even) same pair means right.\n",
    "if we are on a odd and it defies our assumption it means we've gone past the single element and we'll cut off right half else it's ahead of and we cut of left part...  "
   ]
  },
  {
   "cell_type": "code",
   "execution_count": 12,
   "id": "4ba27fdf",
   "metadata": {},
   "outputs": [
    {
     "data": {
      "text/plain": [
       "1"
      ]
     },
     "execution_count": 12,
     "metadata": {},
     "output_type": "execute_result"
    }
   ],
   "source": [
    "def Find_single(arr):\n",
    "    n = len(arr)\n",
    "    low, high = 1, n - 2\n",
    "    if n == 1:\n",
    "        return arr[0]\n",
    "    if arr[n - 1] != arr[n - 2]:\n",
    "        return arr[n - 1]\n",
    "    while low <= high:\n",
    "        mid = low + (high - low)//2\n",
    "        if (arr[mid] != arr[mid - 1] and arr[mid] != arr[mid + 1]):\n",
    "            return arr[mid]\n",
    "\n",
    "        if (mid % 2 == 1 and (arr[mid] == arr[mid - 1])) or (\n",
    "            mid % 2 == 0 and (arr[mid] == arr[mid + 1])):\n",
    "            low =  mid + 1\n",
    "        else:\n",
    "            high =  mid - 1\n",
    "    return -1        \n",
    "\n",
    "Find_single([0, 0, 1, 2, 2, 3, 3, 4, 4, 5, 5, 6, 6])"
   ]
  },
  {
   "cell_type": "code",
   "execution_count": 13,
   "id": "5dcbb35d",
   "metadata": {},
   "outputs": [
    {
     "data": {
      "text/plain": [
       "5"
      ]
     },
     "execution_count": 13,
     "metadata": {},
     "output_type": "execute_result"
    }
   ],
   "source": [
    "Find_single([1, 1, 2, 2, 3, 3, 4, 4, 5, 6, 6])"
   ]
  },
  {
   "cell_type": "markdown",
   "id": "1967268c",
   "metadata": {},
   "source": [
    "#### **11. Find Peak element**\n",
    "\n",
    "we are to find the peak value in an array, an array can have multiple peaks like in the case [1, 2, 3, 5, 1, 3, 5, 6, 7, 2]  we have two peaks 5 and 7 here. we can asumme -inf to be at both side, so cases like [1, 2, 3, 4, 5] 5 wil be the peak since we can still consider the array as -inf , 1, 2, 3, 4, 5, -inf\n",
    "\n",
    "\n"
   ]
  },
  {
   "cell_type": "markdown",
   "id": "a427570e",
   "metadata": {},
   "source": [
    "we can start by considering when have a strictly or monotically increasing array like [1, 2, 3, 4, 5, 6, 7, 8, 9]\n",
    "\n",
    "\n",
    "we don't need to use binary search in this case we can simply just check the first and last element. \n",
    "\n",
    "if the last element is greater than first.... there is a chance last element is my peak element else the there is a chance it's the first... we can confirm any two by comparing them to their immediate element arr[0] > arr[1] or arr[n - 1] > arr[n - 2]\n",
    "\n",
    "\n",
    "if those are neither peak we can proceed to using binary search algorithm \n",
    "\n",
    "[1, 2, 4, 3, 5, 6, 7, 8, 9, 1]\n",
    "1. How do I know I have found the element I am searching for ?  (has an answer)\n",
    "    To know if we have gotten a potential answer: a peak will only ocurr where arr[mid - 1] < arr[mid] > arr[mid + 1]\n",
    "    we keep track of it and update till we get max value\n",
    "2. How do I know I am on the right half or left half of the array in my BS ? (has two answers for each search space)\n",
    "    now this depends on the question: They are two variations where we can return any peak and the second is where we are to return the max peak.\n",
    "    for now, we will consider when we can return any peak:\n",
    "        in this case when we see that the array is stricly increasing we just terminate the left half meaning we are yet to find the peak and if the array is decreasing we terminate the right meaning we have gone past the peak.\n",
    "    in case 2, we can't use binary search, because it require a sorted array or a monotonic array... so ...we would have to use linear search (max function)\n",
    "\n"
   ]
  },
  {
   "cell_type": "code",
   "execution_count": null,
   "id": "a7e18380",
   "metadata": {},
   "outputs": [],
   "source": [
    "def findPeakElement(nums):\n",
    "        n = len(nums)         \n",
    "        if n == 1:\n",
    "            return 0\n",
    "        if nums[0] < nums[n - 1]:\n",
    "            if nums[n - 1] > nums[n - 2]:\n",
    "                return n - 1\n",
    "        else:\n",
    "            if nums[0] > nums[1]:\n",
    "                return 0\n",
    "        low, high = 1, n - 2\n",
    "        while low <= high:\n",
    "            mid = low + (high - low)//2\n",
    "            if nums[mid - 1] < nums[mid] > nums[mid + 1]:\n",
    "                return mid\n",
    "            elif nums[mid] > nums[mid - 1]:\n",
    "                low  = mid + 1\n",
    "            else:\n",
    "                high = mid - 1\n",
    "\n",
    "        return -1"
   ]
  },
  {
   "cell_type": "markdown",
   "id": "ef6ae82a",
   "metadata": {},
   "source": [
    "#### **12. Find the square root of a given integer**\n",
    "\n",
    "we would be tempted to use the square root method.... but we are required to show some effort...\n",
    "\n",
    "we might do linear search and loop from 1 to the element checking for which value square gives the number and when we get it we break. but that's O(n) we can also use binary search which gives us a O(logN) which is better."
   ]
  },
  {
   "cell_type": "code",
   "execution_count": 4,
   "id": "0106832b",
   "metadata": {},
   "outputs": [
    {
     "data": {
      "text/plain": [
       "7"
      ]
     },
     "execution_count": 4,
     "metadata": {},
     "output_type": "execute_result"
    }
   ],
   "source": [
    "def square_root(num):\n",
    "    low, high = 0, num\n",
    "    ans = 1\n",
    "    while low <= high:\n",
    "        mid = low  + (high - low)//2\n",
    "        if mid**2 <= num:\n",
    "            ans = mid\n",
    "            low = mid + 1\n",
    "        else:\n",
    "            high = mid - 1\n",
    "    return ans\n",
    "\n",
    "square_root(49)\n",
    "        "
   ]
  },
  {
   "cell_type": "markdown",
   "id": "f6306959",
   "metadata": {},
   "source": [
    "Note: This will work for non perfect squares but return the number whose square is the floor value of the square root of our non perfet square.\n",
    "\n",
    "if the problem statement moves from floor to ceil just change mid**2 <= num to mid**2 >= num and move high instead."
   ]
  },
  {
   "cell_type": "code",
   "execution_count": 6,
   "id": "dd778840",
   "metadata": {},
   "outputs": [
    {
     "data": {
      "text/plain": [
       "5"
      ]
     },
     "execution_count": 6,
     "metadata": {},
     "output_type": "execute_result"
    }
   ],
   "source": [
    "square_root(28)"
   ]
  },
  {
   "cell_type": "markdown",
   "id": "3bdd81b8",
   "metadata": {},
   "source": [
    "#### **13. Find the Nth root of a number**\n",
    "\n",
    "we are only allowed to compute for a number that has a non decimal answer, in this case return -1\n",
    "\n"
   ]
  },
  {
   "cell_type": "code",
   "execution_count": null,
   "id": "afc6f4c9",
   "metadata": {},
   "outputs": [],
   "source": [
    "# we will come back\n",
    "\n"
   ]
  },
  {
   "cell_type": "markdown",
   "id": "66675f93",
   "metadata": {},
   "source": [
    "#### **14. Koko Eating bananas**"
   ]
  },
  {
   "cell_type": "code",
   "execution_count": 25,
   "id": "bdc9ce9b",
   "metadata": {},
   "outputs": [
    {
     "data": {
      "text/plain": [
       "3"
      ]
     },
     "execution_count": 25,
     "metadata": {},
     "output_type": "execute_result"
    }
   ],
   "source": [
    "# I observe that the maximum banana eating rate is max of the array since anything at max and beyond will give all\n",
    "# 1 hour to eat every pile of banana \n",
    "# brute force will be me to iterate from smallest rate to highest rate nad compute the best minimum rate that would result\n",
    "# in all banana piles being eaten in k hours\n",
    "\n",
    "\n",
    "# method 1: O(max(bunches)*len(bunches))\n",
    "def kokoEatingBananas(bunches, k):\n",
    "    res = float(\"inf\")\n",
    "    for rates in range(1, max(bunches) + 1):\n",
    "            time_taken_to_eat = 0\n",
    "            for bunch in bunches:\n",
    "                time_taken_to_eat += -(-bunch//rates) # we can compute ceil division as (a + b - 1)//b or -(-a//b) or math.ceil(a/b )\n",
    "            if time_taken_to_eat <= k:\n",
    "                res = min(res, rates)\n",
    "    return res\n",
    "    \n",
    "kokoEatingBananas([3, 6, 7, 4], 8)"
   ]
  },
  {
   "cell_type": "code",
   "execution_count": 26,
   "id": "3e950a62",
   "metadata": {},
   "outputs": [
    {
     "data": {
      "text/plain": [
       "4"
      ]
     },
     "execution_count": 26,
     "metadata": {},
     "output_type": "execute_result"
    }
   ],
   "source": [
    "kokoEatingBananas([3, 6, 7, 11], 8)"
   ]
  },
  {
   "cell_type": "code",
   "execution_count": null,
   "id": "50229080",
   "metadata": {},
   "outputs": [
    {
     "data": {
      "text/plain": [
       "3"
      ]
     },
     "execution_count": 27,
     "metadata": {},
     "output_type": "execute_result"
    }
   ],
   "source": [
    "# Method 2: since we are performing a linear search over a sorted range we can optimize using a binary search.\n",
    "# we will perform binary search on this interval of our rates and get the minimum rate that satisfies our condition of eating bananas in k hours\n",
    "# if mid false on a valid answer  we can elimainate the right since we are looking for a minimum value\n",
    "# else we eliminate the left meaning we haven't seen a valid answer and lower values will give greater hours.\n",
    "\n",
    "def kokoEatingBananas(bunches, k):\n",
    "    ans = float(\"inf\") # could be anything since we are just updating not comparing\n",
    "    def caneatall(rate):\n",
    "        time = 0\n",
    "        for bunch in bunches:\n",
    "            time += -(-bunch // rate)\n",
    "        return time <= k\n",
    "        \n",
    "     # back to BS\n",
    "    low, high = 1, max(bunches)\n",
    "    while low <= high:\n",
    "        mid = low + (high - low)//2\n",
    "        if caneatall(mid):\n",
    "            ans = mid\n",
    "            high = mid - 1\n",
    "        else:\n",
    "            low = mid + 1\n",
    "    return ans\n",
    "\n",
    "kokoEatingBananas([3, 6, 7, 4], 8) # expected: 3"
   ]
  },
  {
   "cell_type": "markdown",
   "id": "8e7d6142",
   "metadata": {},
   "source": [
    "#### **15. Minimum number of days it make M bouquets**\n",
    "\n",
    "we are given an array of flowers where arr[i] represenets the number of days required for flower at position i to bloom.\n",
    "adjacent flowers can be picked to make a bouquet. given k which is no. of bouquets and number of adjacent flowers required to form a bouquets we would find the minimum no of days to make m bouquets."
   ]
  },
  {
   "cell_type": "code",
   "execution_count": 2,
   "id": "43400810",
   "metadata": {},
   "outputs": [
    {
     "data": {
      "text/plain": [
       "12"
      ]
     },
     "execution_count": 2,
     "metadata": {},
     "output_type": "execute_result"
    }
   ],
   "source": [
    "\"\"\"\n",
    "    [7, 7, 7, 7, 13, 11, 12, 7]\n",
    "\n",
    "    if I pick anything below array minimum it'll take a longer time for every flower to bloom like since the \n",
    "    lowest requirement for a flower to bloom according to our array is 7, why should i pick 6 or 5, if i pick 5 that means the 7 days\n",
    "    flowers (smallest case) will take 2 days to bloom, but if i take 7 or above the lowest case would just take a single day to bloom.\n",
    "    \n",
    "    \n",
    "    let's assume i pick 11 days, and we are given m = 3 (required adjacent flowers to make bouquet) and k = 2 required no of bouquets\n",
    "    [7, 7, 7] will bloom in span of 11 days, we can not have any other 3 adjacent pair that will all bloom within 11 days [13, 11, 12] will not since on 1 will \n",
    "    bloom in 11 days similar to [11, 12, 7] so we can't have 2 bouquets and 11 is not a valid answer.\n",
    "\n",
    "    if we pick seven we will only be able to make one bouquet same applies to 8, 9 and 10\n",
    "    say we pick 13 days:\n",
    "    we have ([7, 7, 7] and [7, 13, 11]) or ([7, 7, 7] and [11, 12, 7]) or ([7, 7, 7] and [13, 12, 12])... so 13 is valid but is it the minimum\n",
    "    no of days ? can we do better? yes.\n",
    "    \n",
    "    if we \n",
    "    pick 12, we have ([7, 7, 7] and [11, 12, 7)] only so 12 is valid.\n",
    "\n",
    "    if we pick 14 we can make 2 or more bouquets but still 13 is smaller.... and if we fo beyond 13 we can make 2 bouquets (required) or more\n",
    "    but they are higher so it's better to stop at 13.\n",
    "\n",
    "    12 is valid and it's smaller than the other valid answers (13)\n",
    "\n",
    "    so our answer is 12. \n",
    "\n",
    "    we have noticed that our answer is going to between min(flowers) and max(flowers)\n",
    "    first instict is to do a linear search from min(flowers) to max(flowers) and check the minimum answer to make m bouquets (k flowers per bouquet)\n",
    "\n",
    "    this is O(n) but we can optimize this linear search on answer space using binary search! \n",
    "\n",
    "    sudo code for linear seach\n",
    "    \"\"\"\n",
    "from typing import List\n",
    "def min_day_to_make_bouq(flowers: List, m: int, k: int) -> int: \n",
    "    # k is no of bouquets to make\n",
    "    # m is number of flowers in a bouquets -> a bouquet is form by taking k adjacent flowers (in context of question)\n",
    "    ans = float(\"inf\")\n",
    "    n = len(flowers)\n",
    "    ### stupid me, not every sliding window requires a two pointer especially when we are counting sometime we just need to loop through increment count\n",
    "    ### and reset count to zero to start recounting if our check fails before within the previous window. \n",
    "    def can_make_bouq(x):\n",
    "        count = 0\n",
    "        no_of_bouq = 0\n",
    "        for flower in flowers:\n",
    "            if flower <= x:\n",
    "                count += 1\n",
    "                if count == m:\n",
    "                    no_of_bouq += 1\n",
    "                    count = 0\n",
    "            else:\n",
    "                count = 0\n",
    "            if no_of_bouq >= k:\n",
    "                return True\n",
    "        return False\n",
    "\n",
    "    for x in range(min(flowers), max(flowers) + 1):\n",
    "        if can_make_bouq(x):\n",
    "            ans = min(x, ans)\n",
    "    return ans if ans != float(\"inf\") else -1\n",
    "\n",
    "        \n",
    "min_day_to_make_bouq([7, 7, 7, 7, 13, 11, 12, 7], 3, 2)\n"
   ]
  },
  {
   "cell_type": "code",
   "execution_count": null,
   "id": "3c13319c",
   "metadata": {},
   "outputs": [
    {
     "data": {
      "text/plain": [
       "12"
      ]
     },
     "execution_count": 4,
     "metadata": {},
     "output_type": "execute_result"
    }
   ],
   "source": [
    "# optimised: binary search \n",
    "\n",
    "def min_day_to_make_bouq(flowers: List, m: int, k: int) -> int: \n",
    "    # k is no of bouquets to make\n",
    "    # m is number of flowers in a bouquets -> a bouquet is form by taking k adjacent flowers (in context of question)\n",
    "    ans = float(\"inf\")\n",
    "    n = len(flowers)\n",
    "    ### stupid me, not every sliding window requires a two pointer especially when we are counting sometime we just need to loop through increment count\n",
    "    ### and reset count to zero to start recounting if our check fails before within the previous window. \n",
    "    def can_make_bouq(x):\n",
    "        count = 0\n",
    "        no_of_bouq = 0\n",
    "        for flower in flowers:\n",
    "            if flower <= x:\n",
    "                count += 1\n",
    "                if count == m:\n",
    "                    no_of_bouq += 1\n",
    "                    count = 0\n",
    "            else:\n",
    "                count = 0\n",
    "            if no_of_bouq >= k:\n",
    "                return True\n",
    "        return False\n",
    "\n",
    "    low, high = min(flowers), max(flowers)\n",
    "    while low <= high:\n",
    "        mid = low + (high - low)//2\n",
    "        if can_make_bouq(mid):\n",
    "            ans = mid\n",
    "            high = mid - 1\n",
    "        else:\n",
    "            low = mid + 1\n",
    "    return ans\n",
    "        \n",
    "min_day_to_make_bouq([7, 7, 7, 7, 13, 11, 12, 7], 3, 2)"
   ]
  },
  {
   "cell_type": "markdown",
   "id": "bc83eef0",
   "metadata": {},
   "source": [
    "#### **16. Find out the smallest divisor using a threshold value**\n",
    "\n",
    "we pick a number (the smallest one) such that when we calculate the ciel division of element in our given array with that number and sum it up the sum should be less than or equal to that threshold"
   ]
  },
  {
   "cell_type": "code",
   "execution_count": 3,
   "id": "323fccfa",
   "metadata": {},
   "outputs": [
    {
     "data": {
      "text/plain": [
       "5"
      ]
     },
     "execution_count": 3,
     "metadata": {},
     "output_type": "execute_result"
    }
   ],
   "source": [
    "def smallest_div_thresh(nums, thresh):\n",
    "    def isValid(x):\n",
    "        res = 0\n",
    "        for num in nums:\n",
    "            res += -(-num // x)\n",
    "        return res <= thresh\n",
    "\n",
    "    low, high = 1, max(nums)\n",
    "    ans = float(\"inf\")\n",
    "    while low <= high:\n",
    "        mid = low + (high - low)//2\n",
    "        if isValid(mid):\n",
    "            ans = mid\n",
    "            high = mid - 1\n",
    "        else:\n",
    "            low = mid + 1\n",
    "    return ans\n",
    "\n",
    "smallest_div_thresh([1,2,5,9], 6)"
   ]
  },
  {
   "cell_type": "markdown",
   "id": "fa9dfca1",
   "metadata": {},
   "source": [
    "#### **Capacity to ship within D days**\n",
    "\n",
    "we are looking for least capicity required to ship products within D days. \n",
    "we are given an array of products where arr[i] represents the weight of product i, \n",
    "what is the least weight of product to load in the ship such that we can ship in 5 days.\n",
    "\n",
    "\n",
    "say we have [1, 2, 3, 4, 5, 6, 7, 8, 9, 10]. the total weight is definitely 55, so i assume a capacity of 100 i can ship the whole weight in 1 day, but 100 seems to big, I need the minimum capacity to ship within 5 days....\n",
    "\n",
    "if i use a ship of capacity 10, i can put 1, 2, 3, 4 (sums to 10) and ship in 1 day... then next day i can only put 5 not 5 and 6... on second day i hence ship 5, 3rd 6, 4th 7, 5th 8,... i can't go futher since 5 days is completed. \n",
    "\n",
    "\n",
    "what i noticed is that my minimum answer will be between 10 and 55, which is max and sum\n",
    "\n",
    "so we can perform a linear search between max and sum and check for the least valid capacity that will enable us to ship within D days.\n",
    "\n",
    "An optimial approach will be a binary search on the answer space [max, sum]\n"
   ]
  },
  {
   "cell_type": "code",
   "execution_count": 6,
   "id": "53d43c01",
   "metadata": {},
   "outputs": [
    {
     "data": {
      "text/plain": [
       "15"
      ]
     },
     "execution_count": 6,
     "metadata": {},
     "output_type": "execute_result"
    }
   ],
   "source": [
    "def capacity_to_ship(products, D):\n",
    "    def isValid(capacity):\n",
    "        total_cap = 0\n",
    "        days = 1 # this is important because a we might have a sinlge product equal to or less than our capacity\n",
    "        for product in products:\n",
    "            total_cap += product\n",
    "            if total_cap > capacity:\n",
    "                days += 1\n",
    "                total_cap = product\n",
    "        return days <= D\n",
    "     \n",
    "    ans = float(\"inf\")\n",
    "    low, high = min(products), sum(products)\n",
    "    while low <= high:\n",
    "        mid = low + (high - low)//2\n",
    "        if isValid(mid):\n",
    "            ans = mid\n",
    "            high = mid - 1\n",
    "        else: \n",
    "            low = mid + 1\n",
    "    return ans\n",
    "\n",
    "\n",
    "capacity_to_ship([1, 2, 3, 4, 5, 6, 7, 8, 9, 10], 5)"
   ]
  },
  {
   "cell_type": "markdown",
   "id": "966c1c89",
   "metadata": {},
   "source": [
    "#### **17. Find the Kth missing number.**\n",
    "the array is sorted and increasing.."
   ]
  },
  {
   "cell_type": "code",
   "execution_count": 13,
   "id": "24ccac4c",
   "metadata": {},
   "outputs": [
    {
     "data": {
      "text/plain": [
       "7"
      ]
     },
     "execution_count": 13,
     "metadata": {},
     "output_type": "execute_result"
    }
   ],
   "source": [
    "def kthMissingNumber(nums, k):\n",
    "    n = len(nums)\n",
    "    for i in range(n):\n",
    "        if nums[i] <= k:\n",
    "            k += 1\n",
    "        else:\n",
    "            break\n",
    "    return k\n",
    "\n",
    "kthMissingNumber([2, 5, 6, 9], 4)\n",
    "\n",
    "# O(n)"
   ]
  },
  {
   "cell_type": "code",
   "execution_count": null,
   "id": "894b2859",
   "metadata": {},
   "outputs": [],
   "source": []
  }
 ],
 "metadata": {
  "kernelspec": {
   "display_name": ".venv",
   "language": "python",
   "name": "python3"
  },
  "language_info": {
   "codemirror_mode": {
    "name": "ipython",
    "version": 3
   },
   "file_extension": ".py",
   "mimetype": "text/x-python",
   "name": "python",
   "nbconvert_exporter": "python",
   "pygments_lexer": "ipython3",
   "version": "3.13.3"
  }
 },
 "nbformat": 4,
 "nbformat_minor": 5
}
