{
 "cells": [
  {
   "cell_type": "markdown",
   "id": "60a522c7",
   "metadata": {},
   "source": [
    "### **Binary Search**"
   ]
  },
  {
   "cell_type": "markdown",
   "id": "2ee893a6",
   "metadata": {},
   "source": [
    "Binary Search is a searching algorithm. we can use binary search where the search space is sorted. \n",
    "in binary search we keep two pointers low and high and we slipt the search space into have with a pointer middle. we can use the comaparison bewtween this middle and element and our target element to trim down our search space by moving high backwards to one element before mid. until mid is on our search element. Hence low and high is used to monitor search space and the mid pointer is used to determine how we cut down our search space. TO cut down our search space we say low = mid + 1 to search right or high = mid - 1 to search left.\n"
   ]
  },
  {
   "cell_type": "markdown",
   "id": "c27220e6",
   "metadata": {},
   "source": [
    "#### **Iterative Approach**"
   ]
  },
  {
   "cell_type": "code",
   "execution_count": 6,
   "id": "ca5bf386",
   "metadata": {},
   "outputs": [
    {
     "data": {
      "text/plain": [
       "1"
      ]
     },
     "execution_count": 6,
     "metadata": {},
     "output_type": "execute_result"
    }
   ],
   "source": [
    "def BinarySearch(arr, el):\n",
    "    high, low = len(arr), 0\n",
    "    while low <= high:\n",
    "        mid = (low + high)//2\n",
    "        if arr[mid] == el:\n",
    "            return mid\n",
    "        elif el > arr[mid]:\n",
    "            low = mid + 1\n",
    "        else:\n",
    "            high = mid - 1\n",
    "    return -1\n",
    "\n",
    "BinarySearch([1, 2, 3, 5, 6, 8], 2)\n"
   ]
  },
  {
   "cell_type": "code",
   "execution_count": 7,
   "id": "cad0154d",
   "metadata": {},
   "outputs": [],
   "source": [
    "def Binary(arr, low, high, el):\n",
    "    if low > high:\n",
    "        return -1\n",
    "    mid = (low + high)//2\n",
    "    if arr[mid] == el:\n",
    "        return mid\n",
    "    elif el > arr[mid]:\n",
    "        return BinarySearch(arr, mid + 1, high, el)\n",
    "    else:\n",
    "        return BinarySearch(arr, low, mid - 1, el)\n",
    "    "
   ]
  },
  {
   "cell_type": "markdown",
   "id": "387e5baa",
   "metadata": {},
   "source": [
    "#### **Recursive Approach**"
   ]
  },
  {
   "cell_type": "code",
   "execution_count": 8,
   "id": "5843dcfe",
   "metadata": {},
   "outputs": [
    {
     "data": {
      "text/plain": [
       "3"
      ]
     },
     "execution_count": 8,
     "metadata": {},
     "output_type": "execute_result"
    }
   ],
   "source": [
    "def BinarySearch(arr,low,high, el):\n",
    "    if low > high :\n",
    "        return -1\n",
    "    mid = (low + high)// 2\n",
    "    if arr[mid] == el:\n",
    "        return mid\n",
    "    elif el > arr[mid]:\n",
    "        return BinarySearch(arr, mid + 1, high, el)\n",
    "    else:\n",
    "        return BinarySearch(arr, low, mid - 1, el)\n",
    "    \n",
    "def search(arr, target):\n",
    "    n = len(arr)\n",
    "    return BinarySearch(arr, 0, n - 1, target)\n",
    "\n",
    "search([1,2,3,4,9], 4)"
   ]
  },
  {
   "cell_type": "markdown",
   "id": "19e11ef3",
   "metadata": {},
   "source": [
    "TC : O(log_2 (n)) and SC: O(1) "
   ]
  },
  {
   "cell_type": "markdown",
   "id": "5ffceb45",
   "metadata": {},
   "source": [
    "#### **Overflow case**\n",
    "\n",
    "say we have a very large search sapce we might end up in an overflow case if we are using c++ \n",
    "to avoid this we use long long type or we use mid = low + (high - low)/2 which estimate to the same formular used previously."
   ]
  },
  {
   "cell_type": "markdown",
   "id": "d3ab8c66",
   "metadata": {},
   "source": [
    "#### **Upperbound and lowerbound**\n",
    "\n",
    "\n",
    "Lower bound of x refers to the smallesr index (or number depending on the nature of our question) such that arr[index] >= x\n",
    "\n",
    "say we have arr = [2, 3, 8, 12, 19], if x = 8, the lower bound will be 2 because 8 >= 8\n",
    "\n",
    "say we have x = 11, the lower bound will be 4 because because 12 >= 11\n",
    "\n",
    "if x = 20, or any number greater than the max of arr, and the max occurs only once the lower bound hypothetically will be the len(arr) - 1, which is index of last element, else it will be the first occurrence of the max.\n",
    "\n",
    "say we have arr = [2, 3, 8, 12, 19, 19, 19] and x = 19 our lower bound = 4 because among the indexes 4, 5, 6 it's the smallest.\n",
    "\n",
    "we can find this lower bound using a linear search approach which is O(n), but we can device a more better approach for this using binary search.\n",
    "\n"
   ]
  },
  {
   "cell_type": "code",
   "execution_count": null,
   "id": "93ee1175",
   "metadata": {},
   "outputs": [],
   "source": [
    "def LowerBound(arr, x):\n",
    "    n = len(arr)\n",
    "    low, high = 0, n - 1\n",
    "    ans = n - 1 #incase there no answer I'll return the hypothetical answer\n",
    "    while low <= high:\n",
    "        mid = low + (high - low)//2\n",
    "        # if lower bound condition is satisfieed\n",
    "        if arr[mid] >= x:\n",
    "            # lower bound condition is satifies but it might not be the lowest bound...lol.. so we trim to get a better search range\n",
    "            # although it has the probability of being my answer\n",
    "            ans =  mid\n",
    "            high =  mid - 1 # we eliminate the right since the smaller will always exist on the left, reserve the left since we are looking for a smaller value.\n",
    "        else:\n",
    "            low = mid + 1 # else if our lower bound condition is not satisfies search right\n",
    "    return ans"
   ]
  },
  {
   "cell_type": "code",
   "execution_count": 13,
   "id": "6a32293b",
   "metadata": {},
   "outputs": [
    {
     "data": {
      "text/plain": [
       "4"
      ]
     },
     "execution_count": 13,
     "metadata": {},
     "output_type": "execute_result"
    }
   ],
   "source": [
    "LowerBound([2, 3, 8, 12, 19, 19, 19], 19)"
   ]
  },
  {
   "cell_type": "markdown",
   "id": "0669e1a3",
   "metadata": {},
   "source": [
    "Upper bound of x refers to the smallest index (or number depending on our problem) such that arr[index] > x\n",
    "\n",
    "say we have arr = [2, 3, 8, 12, 19], if x = 8, the Upper bound will be 4 because 12 >= 8\n",
    "\n",
    "say we have x = 11, the upper bound will be 4 because because 12 > 11\n",
    "\n",
    "if x = 20, or any number greater than the max of arr, and the max occurs only once the upper bound hypothetically will be the len(arr), which is index of last element.\n",
    "\n",
    "say we have arr = [2, 3, 8, 12, 19, 19, 19, 20] and x = 19 our Upper bound = 7.\n"
   ]
  },
  {
   "cell_type": "code",
   "execution_count": 15,
   "id": "ec34f2bf",
   "metadata": {},
   "outputs": [
    {
     "data": {
      "text/plain": [
       "7"
      ]
     },
     "execution_count": 15,
     "metadata": {},
     "output_type": "execute_result"
    }
   ],
   "source": [
    "def UpperBound(arr, x):\n",
    "    n = len(arr)\n",
    "    low , high = 0, n - 1\n",
    "    ans = n #\n",
    "    while low <= high:\n",
    "        mid = (low + high) // 2\n",
    "        # if our lower bound condition is satisfied\n",
    "        if arr[mid] > x:\n",
    "            ans = mid\n",
    "            # since we are looking for the smallest index such that arr[index] >= x\n",
    "            # we search the left\n",
    "            high = mid - 1\n",
    "        else:\n",
    "            low = mid + 1\n",
    "    return ans\n",
    "\n",
    "UpperBound([2, 3, 8, 12, 19, 19, 19], 19)"
   ]
  },
  {
   "cell_type": "markdown",
   "id": "394a2f25",
   "metadata": {},
   "source": [
    "#### **3. Search insert Position.**"
   ]
  },
  {
   "cell_type": "markdown",
   "id": "5ed6b349",
   "metadata": {},
   "source": [
    "This is simply: search for x in an array arr of distinct values, if x is in arr return it's index. If not return the index in which it will be inserted such that the array retains it's order."
   ]
  },
  {
   "cell_type": "markdown",
   "id": "b746feaa",
   "metadata": {},
   "source": [
    "Solution: I can do this by simply finding the lower bound of x in the array."
   ]
  },
  {
   "cell_type": "code",
   "execution_count": 17,
   "id": "4431c7c4",
   "metadata": {},
   "outputs": [],
   "source": [
    "def Search_insert_position(arr, x):\n",
    "    n = len(arr)\n",
    "    low, high = 0, len(arr) - 1\n",
    "    ans = n - 1\n",
    "    while low <= high:\n",
    "        mid = low + (high - low)//2\n",
    "        if arr[mid] >= x:\n",
    "            ans = mid\n",
    "            high = mid - 1\n",
    "        else:\n",
    "            low = mid + 1\n",
    "    return ans\n",
    "\n"
   ]
  },
  {
   "cell_type": "code",
   "execution_count": 18,
   "id": "f60b2c7b",
   "metadata": {},
   "outputs": [
    {
     "data": {
      "text/plain": [
       "3"
      ]
     },
     "execution_count": 18,
     "metadata": {},
     "output_type": "execute_result"
    }
   ],
   "source": [
    "Search_insert_position([1, 2, 3, 6, 7], 5)"
   ]
  },
  {
   "cell_type": "markdown",
   "id": "5dc23a07",
   "metadata": {},
   "source": [
    "#### **Floor and Ceil in sorted array**\n",
    "\n",
    "basically the floor of a number in an array is the largest element <= the number.\n",
    "The ceil is the smallest element >= the number. If anyone does not exist return -1 for it."
   ]
  },
  {
   "cell_type": "code",
   "execution_count": 21,
   "id": "739313b7",
   "metadata": {},
   "outputs": [
    {
     "data": {
      "text/plain": [
       "(5, 19)"
      ]
     },
     "execution_count": 21,
     "metadata": {},
     "output_type": "execute_result"
    }
   ],
   "source": [
    "def floor_and_ceil(arr, x):\n",
    "    n = len(arr)\n",
    "    def floor(arr, x):\n",
    "        high, low = n - 1, 0\n",
    "        ans = -1\n",
    "        \n",
    "        while low <= high:\n",
    "            mid =  low + (high - low)//2\n",
    "            if arr[mid] <= x:\n",
    "                ans = arr[mid]\n",
    "                low = mid + 1\n",
    "            else:\n",
    "                high = mid - 1\n",
    "        return ans\n",
    "    \n",
    "    def ceil(arr, x):\n",
    "        high, low = n - 1, 0\n",
    "        ans = -1\n",
    "        while low <= high:\n",
    "            mid = low + (high - low)//2\n",
    "            if arr[mid] >= x:\n",
    "                ans = arr[mid]\n",
    "                high = mid - 1\n",
    "            else:\n",
    "                low = mid + 1\n",
    "        return ans\n",
    "    \n",
    "    return floor(arr, x), ceil(arr, x)\n",
    "\n",
    "floor_and_ceil([1, 2, 4, 5, 19, 20, 29], 7)\n"
   ]
  },
  {
   "cell_type": "markdown",
   "id": "b7fb695a",
   "metadata": {},
   "source": [
    "#### **5. First and Last occurence of a number in an Array and it's count**"
   ]
  },
  {
   "cell_type": "code",
   "execution_count": 27,
   "id": "3bfa7d80",
   "metadata": {},
   "outputs": [
    {
     "data": {
      "text/plain": [
       "(2, 4)"
      ]
     },
     "execution_count": 27,
     "metadata": {},
     "output_type": "execute_result"
    }
   ],
   "source": [
    "def first_last_count(arr, x):\n",
    "    n = len(arr)\n",
    "    def LoweBound(arr, x):\n",
    "        low, high, = 0, n - 1\n",
    "        ans = n\n",
    "        while low <= high:\n",
    "            mid = low + (high - low)//2\n",
    "            if arr[mid] >= x:\n",
    "                ans = mid\n",
    "                high = mid - 1\n",
    "            else:\n",
    "                low = mid + 1\n",
    "        return ans\n",
    "    \n",
    "    def UpperBound(arr, x):\n",
    "        low, high = 0, n - 1\n",
    "        ans = n \n",
    "        while low <= high:\n",
    "            mid = low + (high - low)//2\n",
    "            if arr[mid] > x:\n",
    "                ans = mid\n",
    "                high = mid - 1\n",
    "            else:\n",
    "                low = mid + 1\n",
    "        return ans \n",
    "    \n",
    "    lb = LowerBound(arr, x)\n",
    "    ub = UpperBound(arr, x)\n",
    "    return (-1, -1) if (lb == n) or (arr[lb] != x) else (lb, ub - 1)\n",
    "    \n",
    "first_last_count([1, 2, 4, 4, 4, 8], 4)"
   ]
  },
  {
   "cell_type": "code",
   "execution_count": null,
   "id": "e42fd8aa",
   "metadata": {},
   "outputs": [],
   "source": []
  }
 ],
 "metadata": {
  "kernelspec": {
   "display_name": ".venv",
   "language": "python",
   "name": "python3"
  },
  "language_info": {
   "codemirror_mode": {
    "name": "ipython",
    "version": 3
   },
   "file_extension": ".py",
   "mimetype": "text/x-python",
   "name": "python",
   "nbconvert_exporter": "python",
   "pygments_lexer": "ipython3",
   "version": "3.13.3"
  }
 },
 "nbformat": 4,
 "nbformat_minor": 5
}
