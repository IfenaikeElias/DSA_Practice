{
 "cells": [
  {
   "cell_type": "markdown",
   "id": "60a522c7",
   "metadata": {},
   "source": [
    "### **Binary Search**"
   ]
  },
  {
   "cell_type": "markdown",
   "id": "2ee893a6",
   "metadata": {},
   "source": [
    "Binary Search is a searching algorithm. we can use binary search where the search space is sorted. \n",
    "in binary search we keep two pointers low and high and we slipt the search space into have with a pointer middle. we can use the comaparison bewtween this middle and element and our target elenmnt ti trim down our search space by moving high backwards to one element before mid. until mid is on our search element.\n"
   ]
  },
  {
   "cell_type": "markdown",
   "id": "c27220e6",
   "metadata": {},
   "source": [
    "#### **Iterative Approach**"
   ]
  },
  {
   "cell_type": "code",
   "execution_count": 3,
   "id": "708fb929",
   "metadata": {},
   "outputs": [],
   "source": [
    "def BinarySearch(arr, el):\n",
    "    n = len(arr)\n",
    "    low, high = 0, n - 1\n",
    "    while low <= high :\n",
    "        mid = (low + high)//2\n",
    "        if arr[mid] == el:\n",
    "            return mid\n",
    "        elif el > arr[mid]:\n",
    "            low = mid + 1\n",
    "        else:\n",
    "            high = mid - 1\n",
    "    return -1\n",
    "        "
   ]
  },
  {
   "cell_type": "code",
   "execution_count": 4,
   "id": "94b744b0",
   "metadata": {},
   "outputs": [
    {
     "data": {
      "text/plain": [
       "3"
      ]
     },
     "execution_count": 4,
     "metadata": {},
     "output_type": "execute_result"
    }
   ],
   "source": [
    "BinarySearch([1,2,3,4,9], 4)"
   ]
  },
  {
   "cell_type": "markdown",
   "id": "387e5baa",
   "metadata": {},
   "source": [
    "#### **Recursive Approach**"
   ]
  },
  {
   "cell_type": "code",
   "execution_count": 6,
   "id": "5843dcfe",
   "metadata": {},
   "outputs": [
    {
     "data": {
      "text/plain": [
       "3"
      ]
     },
     "execution_count": 6,
     "metadata": {},
     "output_type": "execute_result"
    }
   ],
   "source": [
    "def BinarySearch(arr,low,high, el):\n",
    "    if low > high :\n",
    "        return -1\n",
    "    mid = (low + high)// 2\n",
    "    if arr[mid] == el:\n",
    "        return mid\n",
    "    elif el > arr[mid]:\n",
    "        return BinarySearch(arr, mid + 1, high, el)\n",
    "    else:\n",
    "        return BinarySearch(arr, low, mid - 1, el)\n",
    "    \n",
    "def search(arr, target):\n",
    "    n = len(arr)\n",
    "    return BinarySearch(arr, 0, n - 1, target)\n",
    "\n",
    "search([1,2,3,4,9], 4)"
   ]
  },
  {
   "cell_type": "markdown",
   "id": "19e11ef3",
   "metadata": {},
   "source": [
    "TC : O(log_2 (n)) and SC: O(1) "
   ]
  },
  {
   "cell_type": "markdown",
   "id": "5ffceb45",
   "metadata": {},
   "source": [
    "#### **Overflow case**\n",
    "\n",
    "say we have a very large search sapce we might end up in an overflow case if we are using c++ \n",
    "to avoid this we use long long type or we use mid = low + (high - low)/2 which estimate to the same formular used previously."
   ]
  },
  {
   "cell_type": "markdown",
   "id": "d3ab8c66",
   "metadata": {},
   "source": [
    "#### Search Insertion: Implementing upper and lowerbound\n",
    "\n",
    "\n",
    "Lower bound of x refers to the smallesr index such that arr[index] >= x\n",
    "\n",
    "say we have arr = [2, 3, 8, 12, 19], if x = 8, the lower bound will be 2 because 8 >= 8\n",
    "\n",
    "say we have x = 11, the lower bound will be 4 because because 12 >= 11\n",
    "\n",
    "if x = 20, or any number greater than the max of arr, and the max occurs only once the lower bound hypothetically will be the len(arr) - 1, which is index of last element.\n",
    "\n",
    "say we have arr = [2, 3, 8, 12, 19, 19, 19] and x = 19 our lower bound = 4 because among the indexes 4, 5, 6 it's the smallest.\n",
    "\n",
    "we can find this lower bound using a linear search approach which is O(n), but we can device a more better approach for this using binary search.\n",
    "\n"
   ]
  },
  {
   "cell_type": "code",
   "execution_count": 10,
   "id": "6a32293b",
   "metadata": {},
   "outputs": [
    {
     "data": {
      "text/plain": [
       "2"
      ]
     },
     "execution_count": 10,
     "metadata": {},
     "output_type": "execute_result"
    }
   ],
   "source": [
    "def LowerBound(arr, x):\n",
    "    n = len(arr)\n",
    "    low , high = 0, n - 1\n",
    "    ans = n - 1\n",
    "    while low <= high:\n",
    "        mid = (low + high) // 2\n",
    "        # if our lower bound condition is satisfied\n",
    "        if arr[mid] >= x:\n",
    "            ans = mid\n",
    "            # since we are looking for the smallest index such that arr[index] >= x\n",
    "            # we search the left\n",
    "            high = mid - 1\n",
    "        else:\n",
    "            low = mid + 1\n",
    "    return ans\n",
    "\n",
    "LowerBound([2, 3, 8, 12, 19], 8)"
   ]
  },
  {
   "cell_type": "markdown",
   "id": "0669e1a3",
   "metadata": {},
   "source": [
    "Lower bound of x refers to the smallesr index such that arr[index] > x\n",
    "\n",
    "say we have arr = [2, 3, 8, 12, 19], if x = 8, the Upper bound will be 4 because 12 >= 8\n",
    "\n",
    "say we have x = 11, the upper bound will be 4 because because 12 > 11\n",
    "\n",
    "if x = 20, or any number greater than the max of arr, and the max occurs only once the upper bound hypothetically will be the len(arr), which is index of last element.\n",
    "\n",
    "say we have arr = [2, 3, 8, 12, 19, 19, 19, 20] and x = 19 our Upper bound = 7.\n"
   ]
  },
  {
   "cell_type": "code",
   "execution_count": null,
   "id": "ec34f2bf",
   "metadata": {},
   "outputs": [
    {
     "data": {
      "text/plain": [
       "7"
      ]
     },
     "execution_count": 14,
     "metadata": {},
     "output_type": "execute_result"
    }
   ],
   "source": [
    "def UpperBound(arr, x):\n",
    "    n = len(arr)\n",
    "    low , high = 0, n - 1\n",
    "    ans = n\n",
    "    while low <= high:\n",
    "        mid = (low + high) // 2\n",
    "        # if our lower bound condition is satisfied\n",
    "        if arr[mid] > x:\n",
    "            ans = mid\n",
    "            # since we are looking for the smallest index such that arr[index] >= x\n",
    "            # we search the left\n",
    "            high = mid - 1\n",
    "        else:\n",
    "            low = mid + 1\n",
    "\n",
    "UpperBound([2, 3, 8, 12, 19, 19, 19, 20], 19)"
   ]
  },
  {
   "cell_type": "markdown",
   "id": "394a2f25",
   "metadata": {},
   "source": [
    "#### **3. Search insert Position.**"
   ]
  },
  {
   "cell_type": "markdown",
   "id": "5ed6b349",
   "metadata": {},
   "source": [
    "search for x in arr, if x in the array return it's index. If not return the index in which it will be inserted such that the array retains it's order."
   ]
  },
  {
   "cell_type": "code",
   "execution_count": null,
   "id": "4431c7c4",
   "metadata": {},
   "outputs": [
    {
     "data": {
      "text/plain": [
       "[1, 2, 3, 7, 9]"
      ]
     },
     "execution_count": 19,
     "metadata": {},
     "output_type": "execute_result"
    }
   ],
   "source": []
  },
  {
   "cell_type": "code",
   "execution_count": null,
   "id": "f60b2c7b",
   "metadata": {},
   "outputs": [],
   "source": []
  }
 ],
 "metadata": {
  "kernelspec": {
   "display_name": ".venv",
   "language": "python",
   "name": "python3"
  },
  "language_info": {
   "codemirror_mode": {
    "name": "ipython",
    "version": 3
   },
   "file_extension": ".py",
   "mimetype": "text/x-python",
   "name": "python",
   "nbconvert_exporter": "python",
   "pygments_lexer": "ipython3",
   "version": "3.13.3"
  }
 },
 "nbformat": 4,
 "nbformat_minor": 5
}
