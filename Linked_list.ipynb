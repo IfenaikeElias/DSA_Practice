{
 "cells": [
  {
   "cell_type": "markdown",
   "id": "e3e7e76e",
   "metadata": {},
   "source": [
    "A linked list is a data structure consisting of sequence of a nodes, where each node contains a value and reference to the next node in the sequence.\n",
    "\n"
   ]
  },
  {
   "cell_type": "markdown",
   "id": "26b0c6ed",
   "metadata": {},
   "source": []
  },
  {
   "cell_type": "code",
   "execution_count": 7,
   "id": "e3e75c07",
   "metadata": {},
   "outputs": [
    {
     "name": "stdout",
     "output_type": "stream",
     "text": [
      "{'val': 2, 'next': <__main__.ListNode object at 0x7f400a528910>} {'val': 3, 'next': <__main__.ListNode object at 0x7f400a5291d0>} {'val': 4, 'next': None}\n"
     ]
    }
   ],
   "source": [
    "class ListNode:\n",
    "    def __init__(self, val=0, next=None):\n",
    "        self.val = val\n",
    "        self.next = next\n",
    "\n",
    "linkedlist = ListNode(2)\n",
    "linkedlist.next = ListNode(3)\n",
    "linkedlist.next.next = ListNode(4)\n",
    "\n",
    "print(linkedlist.__dict__, linkedlist.next.__dict__, linkedlist.next.next.__dict__)"
   ]
  },
  {
   "cell_type": "markdown",
   "id": "c6a47f17",
   "metadata": {},
   "source": [
    "This forms something like this:\n",
    "\n",
    "2-->3-->4-->None"
   ]
  },
  {
   "cell_type": "code",
   "execution_count": 8,
   "id": "54227993",
   "metadata": {},
   "outputs": [],
   "source": [
    "class ListNode:\n",
    "    def __init__(self, val=0, next=None):\n",
    "        self.val = val\n",
    "        self.next = next\n",
    "\n",
    "    def __str__(self):\n",
    "        return str(self.val)"
   ]
  },
  {
   "cell_type": "code",
   "execution_count": 10,
   "id": "be984613",
   "metadata": {},
   "outputs": [
    {
     "name": "stdout",
     "output_type": "stream",
     "text": [
      "1\n",
      "4\n",
      "3\n",
      "5\n"
     ]
    }
   ],
   "source": [
    "Head = ListNode(1)\n",
    "\n",
    "A = ListNode(4)\n",
    "B = ListNode(3)\n",
    "C = ListNode(5)\n",
    "\n",
    "Head.next = A\n",
    "A.next = B\n",
    "B.next = C\n",
    "\n",
    "# to Transverse and print the list (O(N) visiting all the node)\n",
    "\n",
    "curr = Head\n",
    "while curr: # untill we hit null\n",
    "    print(curr)\n",
    "    curr = curr.next\n"
   ]
  },
  {
   "cell_type": "code",
   "execution_count": 15,
   "id": "9bcea8ca",
   "metadata": {},
   "outputs": [
    {
     "name": "stdout",
     "output_type": "stream",
     "text": [
      "1-> 4-> 3-> 5\n",
      "1\n"
     ]
    }
   ],
   "source": [
    "# display a linkedlist\n",
    "\n",
    "def display(head):\n",
    "    curr = head\n",
    "    elements = []\n",
    "    while curr:\n",
    "        elements.append(str(curr.val))\n",
    "        curr = curr.next\n",
    "    return \"-> \".join(elements)\n",
    "\n",
    "print(display(Head))\n",
    "print(Head)\n"
   ]
  },
  {
   "cell_type": "code",
   "execution_count": 12,
   "id": "308d1104",
   "metadata": {},
   "outputs": [
    {
     "name": "stdout",
     "output_type": "stream",
     "text": [
      "False\n",
      "True\n"
     ]
    }
   ],
   "source": [
    "# search for a node\n",
    "\n",
    "def search(head, val):\n",
    "    curr = head\n",
    "    while curr:\n",
    "        if val == curr.val:\n",
    "            return True\n",
    "        curr = curr.next\n",
    "    return False\n",
    "\n",
    "print(search(Head, 2))\n",
    "print(search (Head, 5))"
   ]
  },
  {
   "cell_type": "code",
   "execution_count": null,
   "id": "7f07e19a",
   "metadata": {},
   "outputs": [],
   "source": [
    "# find length of a linkedlist\n",
    "def findLength(head):\n",
    "    curr = head\n",
    "    length = 0\n",
    "    while curr:\n",
    "        length += 1\n",
    "        curr = curr.next\n",
    "        \n",
    "    return length"
   ]
  },
  {
   "cell_type": "markdown",
   "id": "c93a0b55",
   "metadata": {},
   "source": [
    "DoublyLinked List"
   ]
  },
  {
   "cell_type": "code",
   "execution_count": 16,
   "id": "79258b54",
   "metadata": {},
   "outputs": [],
   "source": [
    "class DoublyNode:\n",
    "    def __init__(self, val, next=None, prev=None):\n",
    "        self.val = val\n",
    "        self.next = next\n",
    "        self.prev = prev\n",
    "\n",
    "    def __str__(self):\n",
    "        return str(self.val)\n",
    "\n",
    "    "
   ]
  },
  {
   "cell_type": "code",
   "execution_count": 20,
   "id": "e7cbbe53",
   "metadata": {},
   "outputs": [
    {
     "name": "stdout",
     "output_type": "stream",
     "text": [
      "1\n",
      "1\n"
     ]
    }
   ],
   "source": [
    "# For doublylinked list we would require to know what our head and tail is. In a doubly linked list the head points to None in the opposite direction\n",
    "# the tail also points to None.\n",
    "\n",
    "head = tail = DoublyNode(1)\n",
    "print(head)\n",
    "print(tail)"
   ]
  },
  {
   "cell_type": "code",
   "execution_count": 21,
   "id": "ddd5fe68",
   "metadata": {},
   "outputs": [
    {
     "data": {
      "text/plain": [
       "'1'"
      ]
     },
     "execution_count": 21,
     "metadata": {},
     "output_type": "execute_result"
    }
   ],
   "source": [
    "def display(head):\n",
    "    curr = head\n",
    "    elements = []\n",
    "    while curr:\n",
    "        elements.append(str(curr.val))\n",
    "        curr = curr.next\n",
    "    \n",
    "    return \"<->\".join(elements)\n",
    "\n",
    "display(head)\n"
   ]
  },
  {
   "cell_type": "code",
   "execution_count": null,
   "id": "42936ba1",
   "metadata": {},
   "outputs": [],
   "source": []
  }
 ],
 "metadata": {
  "kernelspec": {
   "display_name": ".venv",
   "language": "python",
   "name": "python3"
  },
  "language_info": {
   "codemirror_mode": {
    "name": "ipython",
    "version": 3
   },
   "file_extension": ".py",
   "mimetype": "text/x-python",
   "name": "python",
   "nbconvert_exporter": "python",
   "pygments_lexer": "ipython3",
   "version": "3.13.3"
  }
 },
 "nbformat": 4,
 "nbformat_minor": 5
}
