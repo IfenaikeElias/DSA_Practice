{
 "cells": [
  {
   "cell_type": "markdown",
   "id": "e3e7e76e",
   "metadata": {},
   "source": [
    "A linked list is a data structure consisting of sequence of a nodes, where each node contains a value and reference to the next node in the sequence.\n",
    "\n"
   ]
  },
  {
   "cell_type": "markdown",
   "id": "26b0c6ed",
   "metadata": {},
   "source": []
  },
  {
   "cell_type": "code",
   "execution_count": 7,
   "id": "e3e75c07",
   "metadata": {},
   "outputs": [
    {
     "name": "stdout",
     "output_type": "stream",
     "text": [
      "{'val': 2, 'next': <__main__.ListNode object at 0x7f400a528910>} {'val': 3, 'next': <__main__.ListNode object at 0x7f400a5291d0>} {'val': 4, 'next': None}\n"
     ]
    }
   ],
   "source": [
    "class ListNode:\n",
    "    def __init__(self, val=0, next=None):\n",
    "        self.val = val\n",
    "        self.next = next\n",
    "\n",
    "linkedlist = ListNode(2)\n",
    "linkedlist.next = ListNode(3)\n",
    "linkedlist.next.next = ListNode(4)\n",
    "\n",
    "print(linkedlist.__dict__, linkedlist.next.__dict__, linkedlist.next.next.__dict__)"
   ]
  },
  {
   "cell_type": "markdown",
   "id": "c6a47f17",
   "metadata": {},
   "source": [
    "This forms something like this:\n",
    "\n",
    "2-->3-->4-->None"
   ]
  },
  {
   "cell_type": "code",
   "execution_count": 34,
   "id": "54227993",
   "metadata": {},
   "outputs": [],
   "source": [
    "class ListNode:\n",
    "    def __init__(self, val=0, next=None):\n",
    "        self.val = val\n",
    "        self.next = next\n",
    "\n",
    "    def __str__(self):\n",
    "        return str(self.val)"
   ]
  },
  {
   "cell_type": "code",
   "execution_count": 35,
   "id": "2f954672",
   "metadata": {},
   "outputs": [],
   "source": [
    "head = ListNode(2)\n",
    "node1 = ListNode(3)\n",
    "head.next = node1\n",
    "node2 = ListNode(4)\n",
    "node1.next = node2\n",
    "node3  = ListNode(5)\n",
    "node2.next = node3"
   ]
  },
  {
   "cell_type": "code",
   "execution_count": null,
   "id": "ea023350",
   "metadata": {},
   "outputs": [
    {
     "name": "stdout",
     "output_type": "stream",
     "text": [
      "before deleting 4: \n",
      "Displaying linkedlist 2->3->4->5\n",
      "The length of linkedlist before deleting 4 is 4\n",
      "Is 4 present ? : True\n",
      "\n",
      "\n",
      "deleting 4...\n",
      "\n",
      "after deleting 4: \n",
      "Displaying linkedlist 2->3->5\n",
      "The length of linkedlist after deleting 4 is 3\n",
      "Is 4 present ? : False\n",
      "\n",
      "\n",
      "reversing linkedlist....\n",
      "reversed linkedlist: 5->3->2\n"
     ]
    }
   ],
   "source": [
    "def display(head):\n",
    "    curr = head\n",
    "    elements = []\n",
    "    while curr:\n",
    "        elements.append(str(curr.val))\n",
    "        curr = curr.next\n",
    "    return \"->\".join(elements)\n",
    "\n",
    "def findLength(head):\n",
    "    curr = head\n",
    "    length = 0\n",
    "    while curr:\n",
    "        length += 1\n",
    "        curr = curr.next\n",
    "    return length\n",
    "\n",
    "def search(head, val):\n",
    "    curr  = head\n",
    "    while curr:\n",
    "        if curr.val == val:\n",
    "            return True\n",
    "        curr = curr.next\n",
    "    return False\n",
    "\n",
    "def deleteNode(head, target):\n",
    "    dummy = ListNode(0)\n",
    "    dummy.next = head\n",
    "    curr = head\n",
    "    prev = dummy\n",
    "\n",
    "    while curr:\n",
    "        if curr.val == target:\n",
    "            # skip it by pointing the prev to the element after it\n",
    "            prev.next = curr.next\n",
    "            break  \n",
    "        prev = curr\n",
    "        curr = curr.next\n",
    "\n",
    "    return dummy.next   \n",
    "\n",
    "def reverse(head):\n",
    "    prev = None\n",
    "    curr = head\n",
    "\n",
    "    while curr:\n",
    "        next_ = curr.next\n",
    "        curr.next = prev\n",
    "        prev = curr\n",
    "        curr = next_\n",
    "    return prev # new head\n",
    "\n",
    "\n",
    "print(\"before deleting 4: \")\n",
    "print(f\"Displaying linkedlist {display(head)}\")\n",
    "print(f\"The length of linkedlist before deleting 4 is {findLength(head)}\")\n",
    "print(f\"Is 4 present ? : {search(head, 4)}\\n\\n\")\n",
    "\n",
    "\n",
    "\n",
    "print(\"deleting 4...\\n\")\n",
    "\n",
    "head = deleteNode(head, 4)\n",
    "print(\"after deleting 4: \")\n",
    "print(f\"Displaying linkedlist {display(head)}\")\n",
    "print(f\"The length of linkedlist after deleting 4 is {findLength(head)}\")\n",
    "print(f\"Is 4 present ? : {search(head, 4)}\\n\\n\")\n",
    "\n",
    "print(f\"reversing linkedlist....\")\n",
    "head = reverse(head)\n",
    "print(f\"reversed linkedlist: {display(head)}\")\n"
   ]
  },
  {
   "cell_type": "markdown",
   "id": "cb95b316",
   "metadata": {},
   "source": [
    "#### **Fast and slow pointer.**\n"
   ]
  },
  {
   "cell_type": "markdown",
   "id": "37ff98de",
   "metadata": {},
   "source": [
    "using two pointers, one faster than the other (could mean one moving at x2 or x3 ..etc speed of the other or one starts before the other... like fast goes to the kth node then we start moving slow , meaning that fast is k nodes ahead) is very useful in solving linkedlist based problems. \n",
    "\n",
    "some of these include...\n",
    "\n",
    "Finding the middle of a linkedlist: beacause if a the two pointers start at the head and fast moves x2 faster than slow, then when fast gets to the end of the linkedlist, we expect slow to be at the middle.\n",
    "\n",
    "\n",
    "Detecting a cycle in a linkedlist: In a cyclic linkedlist if the fast pointer  moved x2 faster than the slow pointer at somepoint, the fast pointer end ups catching up with the slow pointer and we have detected that a cylce occurs, this is valid for cyclic linklist , if fast hits None, hence the list was not cyclic in the first place.\n",
    "\n",
    "Finding the start of a cycle in a cyclic linkedlist:  After detecting the cycle in the cyclic linked list (slow == fast), we set slow to head... to start from the beginning list and we start of a new loop, we can start moving both at the same speed (a step at a time) they'll meet at the start of the cycle and we'll break out, that position is the point the cycle start.\n",
    "\n",
    "Find Cycle length: when we detect cyle, slow == fast, we set count = 1 and we stop moving fast and move slow in steps of 1 until it meet fast at where we stopped moving it, and we would increase our sount every step. our count will finally be the length of the cycle.\n",
    "\n",
    "palindrome check: we can fins the center of the linkedlist using fast and slow pointers and then we would the other halve by using slow as the head in our reverse function, we can then create a pointer at the beginning and compare each element with each element of the reversed list, at any point where they are not equal our palindrome check return False... if we successfully finish without a False we return True \n",
    "\n",
    "Find the kth element from the end of the linked list: we can move fast pointer to k steps ahead and then introduce slow pointer move them at the same speed, once fast gets to the end we return the element at slow... this is the kth element from the end."
   ]
  },
  {
   "cell_type": "markdown",
   "id": "daf20925",
   "metadata": {},
   "source": [
    "We could aslo use fast and slow pointer to find the intersection point in a Y shaped linkedlist. \n",
    "\n",
    "List A:  1 → 2 → 3\n",
    "\n",
    "                  ↘\n",
    "\n",
    "                       7 → 8 → 9\n",
    "\n",
    "                     ↗\n",
    "\n",
    "List B:      4 → 5 → 6\n"
   ]
  },
  {
   "cell_type": "code",
   "execution_count": null,
   "id": "c2837a17",
   "metadata": {},
   "outputs": [],
   "source": [
    "# implementing a fast and slow pointer\n",
    "# a.k.a floyd's cycle detection algorithm.\n",
    "def fast_slow(head):\n",
    "    fast = slow = head\n",
    "\n",
    "    while fast and fast.next:\n",
    "        slow = slow.next\n",
    "        fast = fast.next.next\n",
    "        if slow == fast:\n",
    "            return slow\n",
    "        \n",
    "    return None # no cycle\n",
    "\n",
    "\n",
    "\n",
    "        \n"
   ]
  },
  {
   "cell_type": "code",
   "execution_count": null,
   "id": "1a5d965c",
   "metadata": {},
   "outputs": [],
   "source": []
  },
  {
   "cell_type": "markdown",
   "id": "c93a0b55",
   "metadata": {},
   "source": [
    "DoublyLinked List"
   ]
  },
  {
   "cell_type": "code",
   "execution_count": 38,
   "id": "79258b54",
   "metadata": {},
   "outputs": [],
   "source": [
    "class DoublyNode:\n",
    "    def __init__(self, val, next=None, prev=None):\n",
    "        self.val = val\n",
    "        self.next = next\n",
    "        self.prev = prev\n",
    "\n",
    "    def __str__(self):\n",
    "        return str(self.val)\n",
    "\n",
    "    "
   ]
  },
  {
   "cell_type": "code",
   "execution_count": 39,
   "id": "e7cbbe53",
   "metadata": {},
   "outputs": [
    {
     "name": "stdout",
     "output_type": "stream",
     "text": [
      "1\n",
      "1\n"
     ]
    }
   ],
   "source": [
    "# For doublylinked list we would require to know what our head and tail is. In a doubly linked list the head points to None in the opposite direction\n",
    "# the tail also points to None.\n",
    "\n",
    "head = tail = DoublyNode(1)\n",
    "print(head)\n",
    "print(tail)"
   ]
  },
  {
   "cell_type": "code",
   "execution_count": 40,
   "id": "ddd5fe68",
   "metadata": {},
   "outputs": [],
   "source": [
    "def display(head):\n",
    "    curr = head\n",
    "    elements = []\n",
    "    while curr:\n",
    "        elements.append(str(curr.val))\n",
    "        curr = curr.next\n",
    "    \n",
    "    return \"<->\".join(elements)\n",
    "\n",
    "def display_reverse(tail):\n",
    "    curr = tail\n",
    "    elements = []\n",
    "    while curr:\n",
    "        elements.append(str(curr.val))\n",
    "        curr = curr.prev\n",
    "    return \"<->\".join(elements)\n"
   ]
  },
  {
   "cell_type": "code",
   "execution_count": 41,
   "id": "42936ba1",
   "metadata": {},
   "outputs": [
    {
     "name": "stdout",
     "output_type": "stream",
     "text": [
      "1<->2<->3\n",
      "3<->2<->1\n"
     ]
    }
   ],
   "source": [
    "# Create a small doubly linked list: 1 <-> 2 <-> 3\n",
    "node1 = DoublyNode(1)\n",
    "node2 = DoublyNode(2)\n",
    "node3 = DoublyNode(3)\n",
    "\n",
    "node1.next = node2\n",
    "node2.prev = node1\n",
    "node2.next = node3\n",
    "node3.prev = node2\n",
    "\n",
    "print(display(node1))        # 1<->2<->3\n",
    "print(display_reverse(node3)) # 3<->2<->1"
   ]
  },
  {
   "cell_type": "code",
   "execution_count": null,
   "id": "30c91546",
   "metadata": {},
   "outputs": [],
   "source": []
  },
  {
   "cell_type": "code",
   "execution_count": null,
   "id": "5cd44316",
   "metadata": {},
   "outputs": [],
   "source": []
  },
  {
   "cell_type": "code",
   "execution_count": null,
   "id": "c525538a",
   "metadata": {},
   "outputs": [],
   "source": []
  }
 ],
 "metadata": {
  "kernelspec": {
   "display_name": ".venv",
   "language": "python",
   "name": "python3"
  },
  "language_info": {
   "codemirror_mode": {
    "name": "ipython",
    "version": 3
   },
   "file_extension": ".py",
   "mimetype": "text/x-python",
   "name": "python",
   "nbconvert_exporter": "python",
   "pygments_lexer": "ipython3",
   "version": "3.13.3"
  }
 },
 "nbformat": 4,
 "nbformat_minor": 5
}
