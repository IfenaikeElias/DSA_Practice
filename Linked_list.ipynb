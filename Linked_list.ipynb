{
 "cells": [
  {
   "cell_type": "markdown",
   "id": "e3e7e76e",
   "metadata": {},
   "source": [
    "A linked list is a data structure consisting of sequence of a nodes, where each node contains a value and reference to the next node in the sequence.\n",
    "\n"
   ]
  },
  {
   "cell_type": "markdown",
   "id": "26b0c6ed",
   "metadata": {},
   "source": []
  },
  {
   "cell_type": "code",
   "execution_count": 7,
   "id": "e3e75c07",
   "metadata": {},
   "outputs": [
    {
     "name": "stdout",
     "output_type": "stream",
     "text": [
      "{'val': 2, 'next': <__main__.ListNode object at 0x7f400a528910>} {'val': 3, 'next': <__main__.ListNode object at 0x7f400a5291d0>} {'val': 4, 'next': None}\n"
     ]
    }
   ],
   "source": [
    "class ListNode:\n",
    "    def __init__(self, val=0, next=None):\n",
    "        self.val = val\n",
    "        self.next = next\n",
    "\n",
    "linkedlist = ListNode(2)\n",
    "linkedlist.next = ListNode(3)\n",
    "linkedlist.next.next = ListNode(4)\n",
    "\n",
    "print(linkedlist.__dict__, linkedlist.next.__dict__, linkedlist.next.next.__dict__)"
   ]
  },
  {
   "cell_type": "markdown",
   "id": "c6a47f17",
   "metadata": {},
   "source": [
    "This forms something like this:\n",
    "\n",
    "2-->3-->4-->None"
   ]
  },
  {
   "cell_type": "code",
   "execution_count": 21,
   "id": "54227993",
   "metadata": {},
   "outputs": [],
   "source": [
    "class ListNode:\n",
    "    def __init__(self, val=0, next=None):\n",
    "        self.val = val\n",
    "        self.next = next\n",
    "\n",
    "    def __str__(self):\n",
    "        return str(self.val)"
   ]
  },
  {
   "cell_type": "code",
   "execution_count": 25,
   "id": "2f954672",
   "metadata": {},
   "outputs": [],
   "source": [
    "head = ListNode(2)\n",
    "node1 = ListNode(3)\n",
    "head.next = node1\n",
    "node2 = ListNode(4)\n",
    "node1.next = node2\n",
    "node3  = ListNode(5)\n",
    "node2.next = node3"
   ]
  },
  {
   "cell_type": "code",
   "execution_count": 26,
   "id": "ea023350",
   "metadata": {},
   "outputs": [
    {
     "name": "stdout",
     "output_type": "stream",
     "text": [
      "before deleting 4: \n",
      "\n",
      "Displaying linkedlist 2->3->4->5\n",
      "The length of linkedlist before deleting 4 is 4\n",
      "Is 4 present ? : True\n",
      "\n",
      "\n",
      "deleting 4...\n",
      "\n",
      "after deleting 4: \n",
      "\n",
      "Displaying linkedlist 2->3->5\n",
      "The length of linkedlist after deleting 4 is 3\n",
      "Is 4 present ? : False\n"
     ]
    }
   ],
   "source": [
    "def display(head):\n",
    "    curr = head\n",
    "    elements = []\n",
    "    while curr:\n",
    "        elements.append(str(curr.val))\n",
    "        curr = curr.next\n",
    "    return \"->\".join(elements)\n",
    "\n",
    "def findLength(head):\n",
    "    curr = head\n",
    "    length = 0\n",
    "    while curr:\n",
    "        length += 1\n",
    "        curr = curr.next\n",
    "    return length\n",
    "\n",
    "def search(head, val):\n",
    "    curr  = head\n",
    "    while curr:\n",
    "        if curr.val == val:\n",
    "            return True\n",
    "        curr = curr.next\n",
    "    return False\n",
    "\n",
    "def deleteNode(head, target):\n",
    "    dummy = ListNode(0)\n",
    "    dummy.next = head\n",
    "    curr = head\n",
    "    prev = dummy\n",
    "\n",
    "    while curr:\n",
    "        if curr.val == target:\n",
    "            # skip it by pointing the prev to the element after it\n",
    "            prev.next = curr.next\n",
    "            break  \n",
    "        prev = curr\n",
    "        curr = curr.next\n",
    "\n",
    "    return dummy.next        \n",
    "\n",
    "\n",
    "print(\"before deleting 4: \\n\")\n",
    "print(f\"Displaying linkedlist {display(head)}\")\n",
    "print(f\"The length of linkedlist before deleting 4 is {findLength(head)}\")\n",
    "print(f\"Is 4 present ? : {search(head, 4)}\\n\\n\")\n",
    "\n",
    "\n",
    "\n",
    "print(\"deleting 4...\\n\")\n",
    "\n",
    "head = deleteNode(head, 4)\n",
    "print(\"after deleting 4: \\n\")\n",
    "print(f\"Displaying linkedlist {display(head)}\")\n",
    "print(f\"The length of linkedlist after deleting 4 is {findLength(head)}\")\n",
    "print(f\"Is 4 present ? : {search(head, 4)}\")\n"
   ]
  },
  {
   "cell_type": "markdown",
   "id": "c93a0b55",
   "metadata": {},
   "source": [
    "DoublyLinked List"
   ]
  },
  {
   "cell_type": "code",
   "execution_count": 24,
   "id": "79258b54",
   "metadata": {},
   "outputs": [],
   "source": [
    "class DoublyNode:\n",
    "    def __init__(self, val, next=None, prev=None):\n",
    "        self.val = val\n",
    "        self.next = next\n",
    "        self.prev = prev\n",
    "\n",
    "    def __str__(self):\n",
    "        return str(self.val)\n",
    "\n",
    "    "
   ]
  },
  {
   "cell_type": "code",
   "execution_count": 20,
   "id": "e7cbbe53",
   "metadata": {},
   "outputs": [
    {
     "name": "stdout",
     "output_type": "stream",
     "text": [
      "1\n",
      "1\n"
     ]
    }
   ],
   "source": [
    "# For doublylinked list we would require to know what our head and tail is. In a doubly linked list the head points to None in the opposite direction\n",
    "# the tail also points to None.\n",
    "\n",
    "head = tail = DoublyNode(1)\n",
    "print(head)\n",
    "print(tail)"
   ]
  },
  {
   "cell_type": "code",
   "execution_count": 26,
   "id": "ddd5fe68",
   "metadata": {},
   "outputs": [],
   "source": [
    "def display(head):\n",
    "    curr = head\n",
    "    elements = []\n",
    "    while curr:\n",
    "        elements.append(str(curr.val))\n",
    "        curr = curr.next\n",
    "    \n",
    "    return \"<->\".join(elements)\n",
    "\n",
    "def display_reverse(tail):\n",
    "    curr = tail\n",
    "    elements = []\n",
    "    while curr:\n",
    "        elements.append(str(curr.val))\n",
    "        curr = curr.prev\n",
    "    return \"<->\".join(elements)\n"
   ]
  },
  {
   "cell_type": "code",
   "execution_count": 27,
   "id": "42936ba1",
   "metadata": {},
   "outputs": [
    {
     "name": "stdout",
     "output_type": "stream",
     "text": [
      "1<->2<->3\n",
      "3<->2<->1\n"
     ]
    }
   ],
   "source": [
    "# Create a small doubly linked list: 1 <-> 2 <-> 3\n",
    "node1 = DoublyNode(1)\n",
    "node2 = DoublyNode(2)\n",
    "node3 = DoublyNode(3)\n",
    "\n",
    "node1.next = node2\n",
    "node2.prev = node1\n",
    "node2.next = node3\n",
    "node3.prev = node2\n",
    "\n",
    "print(display(node1))        # 1<->2<->3\n",
    "print(display_reverse(node3)) # 3<->2<->1\n"
   ]
  },
  {
   "cell_type": "code",
   "execution_count": null,
   "id": "30c91546",
   "metadata": {},
   "outputs": [],
   "source": []
  }
 ],
 "metadata": {
  "kernelspec": {
   "display_name": ".venv",
   "language": "python",
   "name": "python3"
  },
  "language_info": {
   "codemirror_mode": {
    "name": "ipython",
    "version": 3
   },
   "file_extension": ".py",
   "mimetype": "text/x-python",
   "name": "python",
   "nbconvert_exporter": "python",
   "pygments_lexer": "ipython3",
   "version": "3.13.3"
  }
 },
 "nbformat": 4,
 "nbformat_minor": 5
}
