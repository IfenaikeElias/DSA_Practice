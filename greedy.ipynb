{
 "cells": [
  {
   "cell_type": "markdown",
   "id": "3a2915d9",
   "metadata": {},
   "source": [
    "### **1. Assign cookies**\n",
    "\n",
    "given an array of children and and an array of cookies what is the maximum number of cookies you can assign to the children. "
   ]
  },
  {
   "cell_type": "code",
   "execution_count": 2,
   "id": "2b33ce52",
   "metadata": {},
   "outputs": [
    {
     "data": {
      "text/plain": [
       "3"
      ]
     },
     "execution_count": 2,
     "metadata": {},
     "output_type": "execute_result"
    }
   ],
   "source": [
    "def assign_cookies(kids, cookies):\n",
    "    kids.sort()\n",
    "    cookies.sort()\n",
    "\n",
    "    f, s = 0, 0\n",
    "    while s < len(cookies) and f < len(kids):\n",
    "        if cookies[s] >= kids[f]:\n",
    "            f += 1\n",
    "        s += 1\n",
    "\n",
    "    return f\n",
    "\n",
    "assign_cookies([1, 3, 3, 4, 5], [1, 1, 2, 2, 3, 4])\n",
    "    "
   ]
  },
  {
   "cell_type": "code",
   "execution_count": 3,
   "id": "b0831f36",
   "metadata": {},
   "outputs": [
    {
     "data": {
      "text/plain": [
       "3"
      ]
     },
     "execution_count": 3,
     "metadata": {},
     "output_type": "execute_result"
    }
   ],
   "source": [
    "assign_cookies([2, 3, 4], [1, 2, 2, 3, 5])\n"
   ]
  },
  {
   "cell_type": "markdown",
   "metadata": {},
   "source": [
    "### **2. Lemonade change**\n",
    "\n",
    "the denomination in the market are $5, $10 and $20\n",
    "\n",
    "we start with $0, we want to check will we be able to sell N customer lemonade, If a customer comes up with an amount and buys lemonade we would hav to give him his/her change from the total money we have from sale. Every lemonade costs $5."
   ]
  },
  {
   "cell_type": "code",
   "execution_count": 6,
   "id": "d38149e2",
   "metadata": {},
   "outputs": [
    {
     "data": {
      "text/plain": [
       "True"
      ]
     },
     "execution_count": 6,
     "metadata": {},
     "output_type": "execute_result"
    }
   ],
   "source": [
    "# we need a variable to keep track of 10\n",
    "# to keep track of 20\n",
    "# to keep track of 5\n",
    "\n",
    "#if a customer comes with a 10, i'll increment 10 variable and give up a 5 (i.e var_5 -1)\n",
    "#if a customer comes with a 20 i'll increment 20 variable and give up a 10 and a 5, if i can't the i'll try to give up 3 5's\n",
    "\n",
    "def lemonade_change(customers):\n",
    "    five, ten, = 0, 0 # note we don't need to use 20 here becuase it can't be used as a change.\n",
    "\n",
    "    for each in customers:\n",
    "        if each == 5:\n",
    "            five += 1\n",
    "        elif each == 10:\n",
    "            if five:\n",
    "                five -= 1\n",
    "                ten += 1\n",
    "            else:\n",
    "                return False\n",
    "        else:\n",
    "            if five and ten:\n",
    "                ten -= 1\n",
    "                five -= 1\n",
    "            elif five >= 3:\n",
    "                five -= 3\n",
    "            else:\n",
    "                return False\n",
    "    return True\n",
    "            \n",
    "lemonade_change([5, 5, 5, 10, 20])\n"
   ]
  },
  {
   "cell_type": "markdown",
   "id": "054cf146",
   "metadata": {},
   "source": [
    "### shortest job first problem or CPU Scheduling.\n",
    "\n",
    "we will be given n process in an array, and every i-th process our excution time is known (process[i])\n",
    "our task is to compute the average wwaiting time for all the process using the Shortest job first algorithm.\n",
    "\n",
    "what is the SJF algorithm ?\n",
    "This is a scheduling policy that excecutes job with the the smallest scheduling time first.\n",
    "\n",
    "Each job as to wait for the one before to excecute hence piling up waiting time for other jobs."
   ]
  },
  {
   "cell_type": "code",
   "execution_count": null,
   "id": "b4d4a3f7",
   "metadata": {},
   "outputs": [
    {
     "data": {
      "text/plain": [
       "4"
      ]
     },
     "execution_count": 1,
     "metadata": {},
     "output_type": "execute_result"
    }
   ],
   "source": [
    "# to solve this we excecute the jobs with the smallest times first this will help reduce the waiting\n",
    "# time of later jobs (meaning we will sort first).\n",
    "\n",
    "def SJF(jobs):\n",
    "    jobs.sort()\n",
    "    wait_time = 0\n",
    "    tot_exc_time = 0\n",
    "    # total excecution time will help us keep track of waiting time as the time taking for the previous\n",
    "    # jobs to excecute is th time taking for our current job to \n",
    "    # example: jobs (sorted) = [1, 2, 3, 4, 7] ....processing time\n",
    "    # as we transverse the jobs:\n",
    "    # at job_1 (1) tot_processing time = 1, tot_waiting_time  = 0\n",
    "    # at job_2  (2) tot_processing_time =1 + 2, tot_waiting time = 0 + 1\n",
    "    # at job_3 (3) tot_processing_time = 1 + 2 + 3, total waiting time = 0 + 1 + (1 + 2)\n",
    "    # at job_4 (4) tot_processing time = 1 + 2 + 3 + 4, tot_waiting_time = 0 + 1 + (1 + 2) + (1 + 2 + 3)\n",
    "    # etc...\n",
    "    for i in range(len(jobs)):\n",
    "        wait_time += tot_exc_time\n",
    "        tot_exc_time += jobs[i]\n",
    "\n",
    "\n",
    "    return wait_time//len(jobs)\n",
    "\n",
    "SJF([1, 2, 3, 4, 7])"
   ]
  },
  {
   "cell_type": "markdown",
   "id": "06d792eb",
   "metadata": {},
   "source": [
    "### **Jump game I**\n",
    "\n",
    "You are given an array nums, where each element represents the maximum number of steps you can jump forward from that position.\n",
    "\n",
    "Return True if you can reach the last index, starting from the first index. Otherwise, return False."
   ]
  },
  {
   "cell_type": "code",
   "execution_count": 9,
   "id": "d43f0239",
   "metadata": {},
   "outputs": [
    {
     "data": {
      "text/plain": [
       "True"
      ]
     },
     "execution_count": 9,
     "metadata": {},
     "output_type": "execute_result"
    }
   ],
   "source": [
    "# Intuition at each point i want to know how far they can take me, because i might have the opportunity to skip\n",
    "# that point but then if i do i might not go as far as when i don't skip that point - This is why we are checking\n",
    "# how far we can go for each point.\n",
    "# and my goal is to find a local optimal and since the end goal is to cross the end of the array, i would go\n",
    "# to a point that takes me as far as possible instead of skipping it even if that means i wouldn't use my max_jump from\n",
    "# previous jump.\n",
    "# to know if i can't go futher. if i get to a point (index) while transversing and non of my previous index has been\n",
    "# able to take me ther. This mean i already lost because am at a point I should never be able to get to.\n",
    "\n",
    "def jump_game_I(arr):\n",
    "    max_idx = 0\n",
    "    jump_idx = 0\n",
    "\n",
    "    for idx, val in enumerate(arr):\n",
    "        if idx > max_idx:\n",
    "            return False\n",
    "        jump_idx = idx + val\n",
    "        max_idx = max(jump_idx, max_idx)\n",
    "\n",
    "    return True\n",
    "\n",
    "jump_game_I([1, 2, 4, 1, 1, 0, 2, 5])\n"
   ]
  },
  {
   "cell_type": "code",
   "execution_count": 10,
   "id": "fa947462",
   "metadata": {},
   "outputs": [
    {
     "data": {
      "text/plain": [
       "False"
      ]
     },
     "execution_count": 10,
     "metadata": {},
     "output_type": "execute_result"
    }
   ],
   "source": [
    "jump_game_I([1, 2, 3, 1, 1, 0, 2, 5])"
   ]
  },
  {
   "cell_type": "markdown",
   "id": "85a746ee",
   "metadata": {},
   "source": [
    "#### **Gas Station**\n",
    "\n"
   ]
  },
  {
   "cell_type": "code",
   "execution_count": 1,
   "id": "6c9782c5",
   "metadata": {},
   "outputs": [],
   "source": [
    "def gas_station(gas, cost):\n",
    "    if sum(gas) < sum(cost):\n",
    "        return -1\n",
    "    gas_left = 0\n",
    "    start_pos = 0\n",
    "\n",
    "    for i in range(len(gas)):\n",
    "        gas_left += gas[i] - cost[i]\n",
    "\n",
    "        if gas_left < 0:\n",
    "            gas_left = 0\n",
    "            start_pos = i + 1\n",
    "    return start_pos"
   ]
  },
  {
   "cell_type": "markdown",
   "id": "c1bc7a03",
   "metadata": {},
   "source": [
    "#### **Avoid flood fill**"
   ]
  },
  {
   "cell_type": "code",
   "execution_count": 1,
   "id": "65edebe6",
   "metadata": {},
   "outputs": [],
   "source": [
    "def avoidFlood(self, rains):\n",
    "    # greedy approach\n",
    "    \"\"\"\n",
    "    0 means a sunny day, anf rain[i] (as long as its > 0) means rain falls and fills up the rain[i] lake if rain[i] occurs multiple times the that lake (rain[i]) gets flooded.\n",
    "    According to the question when we have a sunny day we must choose one lake and dry it, but to effectively do this we must know up front which lake is is mostlikely to get flooded soon.... so we can dry it now, that way we avoid overflooding.\n",
    "    (*) if we eventually end up with over flooded lakes we return []\n",
    "    (*) if we end up with full lake return a list replacing them with -1 and if we use any sunny day to dry a lake. replace the sunny day 0 with rain[i] the day we used the lake to dry and return the resulting array.  \n",
    "    (*) we need to keep track of sunny days beacause we have the ability to use any sunny day to dry up a lake so it doesn't flood.\n",
    "\n",
    "    as we transverse we save sunny day\n",
    "    when we see that a lake is about to flood we look back at all the sunny days we have saved up, we one that happened before the lake got flooded but after the rainy day [so rain[i]_first_occurrence, ..., sunny_day, ...., rain[i]_second_occurence] ... a good way to do this is to use the earliest sunny day possible, this keeps our more recent sunny days available for future flood about to happen. \n",
    "we need to know the last day / time a lake got filled so when we see another rain on that lake we just look up if that lake was already filled before acting. \n",
    "we need a sorted list or priority queue to hold the sunny days, this is so we can peek the earliest sunny day to use to address the current flood.\n",
    "    \"\"\"\n",
    "    ans = [1]*len(rains)\n",
    "    sunny_days = SortedList()\n",
    "    full_lakes = {} # lake -> day # keep trake of full lake\n",
    "\n",
    "    for day, rain in enumerate(rains):\n",
    "        if rain == 0:\n",
    "            sunny_days.add(day)\n",
    "            continue\n",
    "\n",
    "    # ..... handle rainny days......\n",
    "        if rain in full_lakes:\n",
    "            # if lakes has already been full, get the day rain filled this lake, because its about to get flooded and we are about to check if we have avaliable sunny day to avoid this\n",
    "            last_rain_day = full_lakes[rain]\n",
    "            # find date of first sunny day before our lakes tried to get flood\n",
    "            # we will perform a binary seach to find the first sunny day after first rain. \n",
    "            first_sunny_day_after_last_rain = sunny_days.bisect_right(last_rain_day)\n",
    "            # bisect_right finds upper bound... so if the upperbound is of our last rain day in our sunny_days list is outside the array, it means they were no sunny days after the last rainny day.\n",
    "            # upper bound is sunny_day > last rain day \n",
    "            if first_sunny_day_after_last_rain == len(sunny_days):\n",
    "                return [] # no available sunny day\n",
    "            # get sunny day to dry lake\n",
    "            dry_day = sunny_days[first_sunny_day_after_last_rain]\n",
    "            ans[dry_day] = rain\n",
    "            # remove the sunny day because we already used it\n",
    "            sunny_days.remove(dry_day)\n",
    "            \n",
    "            # since we prevented flood we need to now update that the lake is full today (as it was dried and refilled)\n",
    "        full_lakes[rain] = day\n",
    "        ans[day] = -1\n",
    "    return ans\n",
    "# TC: O(nlogn), SC: O(n)\n"
   ]
  }
 ],
 "metadata": {
  "kernelspec": {
   "display_name": ".venv",
   "language": "python",
   "name": "python3"
  },
  "language_info": {
   "codemirror_mode": {
    "name": "ipython",
    "version": 3
   },
   "file_extension": ".py",
   "mimetype": "text/x-python",
   "name": "python",
   "nbconvert_exporter": "python",
   "pygments_lexer": "ipython3",
   "version": "3.13.3"
  }
 },
 "nbformat": 4,
 "nbformat_minor": 5
}
