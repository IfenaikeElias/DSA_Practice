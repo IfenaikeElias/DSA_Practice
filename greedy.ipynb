{
 "cells": [
  {
   "cell_type": "markdown",
   "id": "3a2915d9",
   "metadata": {},
   "source": [
    "### **1. Assign cookies**\n",
    "\n",
    "given an array of children and and an array of cookies what is the maximum number of cookies you can assign to the children. "
   ]
  },
  {
   "cell_type": "code",
   "execution_count": 2,
   "id": "2b33ce52",
   "metadata": {},
   "outputs": [
    {
     "data": {
      "text/plain": [
       "3"
      ]
     },
     "execution_count": 2,
     "metadata": {},
     "output_type": "execute_result"
    }
   ],
   "source": [
    "def assign_cookies(kids, cookies):\n",
    "    kids.sort()\n",
    "    cookies.sort()\n",
    "\n",
    "    f, s = 0, 0\n",
    "    while s < len(cookies) and f < len(kids):\n",
    "        if cookies[s] >= kids[f]:\n",
    "            f += 1\n",
    "        s += 1\n",
    "\n",
    "    return f\n",
    "\n",
    "assign_cookies([1, 3, 3, 4, 5], [1, 1, 2, 2, 3, 4])\n",
    "    "
   ]
  },
  {
   "cell_type": "code",
   "execution_count": 3,
   "id": "b0831f36",
   "metadata": {},
   "outputs": [
    {
     "data": {
      "text/plain": [
       "3"
      ]
     },
     "execution_count": 3,
     "metadata": {},
     "output_type": "execute_result"
    }
   ],
   "source": [
    "assign_cookies([2, 3, 4], [1, 2, 2, 3, 5])\n"
   ]
  },
  {
   "cell_type": "markdown",
   "metadata": {},
   "source": [
    "### **2. Lemonade change**\n",
    "\n",
    "the denomination in the market are $5, $10 and $20\n",
    "\n",
    "we start with $0, we want to check will we be able to sell N customer lemonade, If a customer comes up with an amount and buys lemonade we would hav to give him his/her change from the total money we have from sale. Every lemonade costs $5."
   ]
  },
  {
   "cell_type": "code",
   "execution_count": 6,
   "id": "d38149e2",
   "metadata": {},
   "outputs": [
    {
     "data": {
      "text/plain": [
       "True"
      ]
     },
     "execution_count": 6,
     "metadata": {},
     "output_type": "execute_result"
    }
   ],
   "source": [
    "# we need a variable to keep track of 10\n",
    "# to keep track of 20\n",
    "# to keep track of 5\n",
    "\n",
    "#if a customer comes with a 10, i'll increment 10 variable and give up a 5 (i.e var_5 -1)\n",
    "#if a customer comes with a 20 i'll increment 20 variable and give up a 10 and a 5, if i can't the i'll try to give up 3 5's\n",
    "\n",
    "def lemonade_change(customers):\n",
    "    five, ten, = 0, 0 # note we don't need to use 20 here becuase it can't be used as a change.\n",
    "\n",
    "    for each in customers:\n",
    "        if each == 5:\n",
    "            five += 1\n",
    "        elif each == 10:\n",
    "            if five:\n",
    "                five -= 1\n",
    "                ten += 1\n",
    "            else:\n",
    "                return False\n",
    "        else:\n",
    "            if five and ten:\n",
    "                ten -= 1\n",
    "                five -= 1\n",
    "            elif five >= 3:\n",
    "                five -= 3\n",
    "            else:\n",
    "                return False\n",
    "    return True\n",
    "            \n",
    "lemonade_change([5, 5, 5, 10, 20])\n"
   ]
  },
  {
   "cell_type": "markdown",
   "id": "054cf146",
   "metadata": {},
   "source": [
    "### shortest job first problem or CPU Scheduling.\n",
    "\n",
    "we will be given n process in an array, and every i-th process our excution time is known (process[i])\n",
    "our task is to compute the average wwaiting time for all the process using the Shortest job first algorithm.\n",
    "\n",
    "what is the SJF algorithm ?\n",
    "This is a scheduling policy that excecutes job with the the smallest scheduling time first.\n",
    "\n",
    "Each job as to wait for the one before to excecute hence piling up waiting time for other jobs."
   ]
  },
  {
   "cell_type": "code",
   "execution_count": null,
   "id": "b4d4a3f7",
   "metadata": {},
   "outputs": [
    {
     "data": {
      "text/plain": [
       "4"
      ]
     },
     "execution_count": 1,
     "metadata": {},
     "output_type": "execute_result"
    }
   ],
   "source": [
    "# to solve this we excecute the jobs with the smallest times first this will help reduce the waiting\n",
    "# time of later jobs (meaning we will sort first).\n",
    "\n",
    "def SJF(jobs):\n",
    "    jobs.sort()\n",
    "    wait_time = 0\n",
    "    tot_exc_time = 0\n",
    "    # total excecution time will help us keep track of waiting time as the time taking for the previous\n",
    "    # jobs to excecute is th time taking for our current job to \n",
    "    # example: jobs (sorted) = [1, 2, 3, 4, 7] ....processing time\n",
    "    # as we transverse the jobs:\n",
    "    # at job_1 (1) tot_processing time = 1, tot_waiting_time  = 0\n",
    "    # at job_2  (2) tot_processing_time =1 + 2, tot_waiting time = 0 + 1\n",
    "    # at job_3 (3) tot_processing_time = 1 + 2 + 3, total waiting time = 0 + 1 + (1 + 2)\n",
    "    # at job_4 (4) tot_processing time = 1 + 2 + 3 + 4, tot_waiting_time = 0 + 1 + (1 + 2) + (1 + 2 + 3)\n",
    "    # etc...\n",
    "    for i in range(len(jobs)):\n",
    "        wait_time += tot_exc_time\n",
    "        tot_exc_time += jobs[i]\n",
    "\n",
    "\n",
    "    return wait_time//len(jobs)\n",
    "\n",
    "SJF([1, 2, 3, 4, 7])"
   ]
  },
  {
   "cell_type": "markdown",
   "id": "06d792eb",
   "metadata": {},
   "source": [
    "### **Jump game I**\n",
    "\n",
    "You are given an array nums, where each element represents the maximum number of steps you can jump forward from that position.\n",
    "\n",
    "Return True if you can reach the last index, starting from the first index. Otherwise, return False."
   ]
  },
  {
   "cell_type": "code",
   "execution_count": 9,
   "id": "d43f0239",
   "metadata": {},
   "outputs": [
    {
     "data": {
      "text/plain": [
       "True"
      ]
     },
     "execution_count": 9,
     "metadata": {},
     "output_type": "execute_result"
    }
   ],
   "source": [
    "# Intuition at each point i want to know how far they can take me, because i might have the opportunity to skip\n",
    "# that point but then if i do i might not go as far as when i don't skip that point - This is why we are checking\n",
    "# how far we can go for each point.\n",
    "# and my goal is to find a local optimal and since the end goal is to cross the end of the array, i would go\n",
    "# to a point that takes me as far as possible instead of skipping it even if that means i wouldn't use my max_jump from\n",
    "# previous jump.\n",
    "# to know if i can't go futher. if i get to a point (index) while transversing and non of my previous index has been\n",
    "# able to take me ther. This mean i already lost because am at a point I should never be able to get to.\n",
    "\n",
    "def jump_game_I(arr):\n",
    "    max_idx = 0\n",
    "    jump_idx = 0\n",
    "\n",
    "    for idx, val in enumerate(arr):\n",
    "        if idx > max_idx:\n",
    "            return False\n",
    "        jump_idx = idx + val\n",
    "        max_idx = max(jump_idx, max_idx)\n",
    "\n",
    "    return True\n",
    "\n",
    "jump_game_I([1, 2, 4, 1, 1, 0, 2, 5])\n"
   ]
  },
  {
   "cell_type": "code",
   "execution_count": 10,
   "id": "fa947462",
   "metadata": {},
   "outputs": [
    {
     "data": {
      "text/plain": [
       "False"
      ]
     },
     "execution_count": 10,
     "metadata": {},
     "output_type": "execute_result"
    }
   ],
   "source": [
    "jump_game_I([1, 2, 3, 1, 1, 0, 2, 5])"
   ]
  },
  {
   "cell_type": "markdown",
   "id": "85a746ee",
   "metadata": {},
   "source": [
    "#### **Gas Station**\n",
    "\n"
   ]
  },
  {
   "cell_type": "code",
   "execution_count": 1,
   "id": "6c9782c5",
   "metadata": {},
   "outputs": [],
   "source": [
    "def gas_station(gas, cost):\n",
    "    if sum(gas) < sum(cost):\n",
    "        return -1\n",
    "    gas_left = 0\n",
    "    start_pos = 0\n",
    "\n",
    "    for i in range(len(gas)):\n",
    "        gas_left += gas[i] - cost[i]\n",
    "\n",
    "        if gas_left < 0:\n",
    "            gas_left = 0\n",
    "            start_pos = i + 1\n",
    "    return start_pos"
   ]
  },
  {
   "cell_type": "markdown",
   "id": "c1bc7a03",
   "metadata": {},
   "source": []
  },
  {
   "cell_type": "code",
   "execution_count": null,
   "id": "65edebe6",
   "metadata": {},
   "outputs": [],
   "source": []
  }
 ],
 "metadata": {
  "kernelspec": {
   "display_name": ".venv",
   "language": "python",
   "name": "python3"
  },
  "language_info": {
   "codemirror_mode": {
    "name": "ipython",
    "version": 3
   },
   "file_extension": ".py",
   "mimetype": "text/x-python",
   "name": "python",
   "nbconvert_exporter": "python",
   "pygments_lexer": "ipython3",
   "version": "3.13.3"
  }
 },
 "nbformat": 4,
 "nbformat_minor": 5
}
